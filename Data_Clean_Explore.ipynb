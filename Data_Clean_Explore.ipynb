{
 "cells": [
  {
   "cell_type": "markdown",
   "metadata": {},
   "source": [
    "# Google Analytics Customer Revenue Prediction\n",
    "\n",
    "### By Hsuan-Hao Fan\n",
    "\n",
    "I have loaded project on IBM Watson Studio so the object, called `project`, has the following methods:"
   ]
  },
  {
   "cell_type": "code",
   "execution_count": 3,
   "metadata": {},
   "outputs": [
    {
     "data": {
      "text/plain": [
       "['__class__',\n",
       " '__del__',\n",
       " '__delattr__',\n",
       " '__dict__',\n",
       " '__dir__',\n",
       " '__doc__',\n",
       " '__eq__',\n",
       " '__format__',\n",
       " '__ge__',\n",
       " '__getattribute__',\n",
       " '__gt__',\n",
       " '__hash__',\n",
       " '__init__',\n",
       " '__le__',\n",
       " '__lt__',\n",
       " '__module__',\n",
       " '__ne__',\n",
       " '__new__',\n",
       " '__reduce__',\n",
       " '__reduce_ex__',\n",
       " '__repr__',\n",
       " '__setattr__',\n",
       " '__sizeof__',\n",
       " '__str__',\n",
       " '__subclasshook__',\n",
       " '__weakref__',\n",
       " '_access_token',\n",
       " '_check_v2_assets',\n",
       " '_fetch_project_context',\n",
       " '_get_connection_id_by_name',\n",
       " '_get_file_name_from_asset_metadata',\n",
       " '_get_project_controller',\n",
       " '_project_controller',\n",
       " '_project_id',\n",
       " '_segmentHandler',\n",
       " '_spark_context',\n",
       " '_valid_file_name',\n",
       " 'get_assets',\n",
       " 'get_connected_data',\n",
       " 'get_connection',\n",
       " 'get_connections',\n",
       " 'get_description',\n",
       " 'get_file',\n",
       " 'get_file_url',\n",
       " 'get_files',\n",
       " 'get_metadata',\n",
       " 'get_name',\n",
       " 'get_project_bucket_name',\n",
       " 'get_storage_metadata',\n",
       " 'project_context',\n",
       " 'save_data']"
      ]
     },
     "execution_count": 3,
     "metadata": {},
     "output_type": "execute_result"
    }
   ],
   "source": [
    "dir(project)"
   ]
  },
  {
   "cell_type": "code",
   "execution_count": 4,
   "metadata": {},
   "outputs": [],
   "source": [
    "# Import libraries to use\n",
    "\n",
    "# Common imports\n",
    "import numpy as np\n",
    "import os\n",
    "import pandas as pd\n",
    "from sklearn.model_selection import train_test_split\n",
    "#from preprocess import read_data, json_read\n",
    "\n",
    "from datetime import datetime # To access datetime\n",
    "\n",
    "import warnings                # To ignore the warning\n",
    "warnings.filterwarnings(\"ignore\")\n",
    "\n",
    "# To plot pretty figures\n",
    "%matplotlib inline\n",
    "import matplotlib\n",
    "import matplotlib.pyplot as plt\n",
    "import seaborn as sns"
   ]
  },
  {
   "cell_type": "markdown",
   "metadata": {},
   "source": [
    "## Auxiliary Functions"
   ]
  },
  {
   "cell_type": "code",
   "execution_count": 5,
   "metadata": {},
   "outputs": [],
   "source": [
    "import pandas as pd\n",
    "import numpy as np\n",
    "import json\n",
    "import os # it's a operational system library, to set some informations\n",
    "\n",
    "def read_data(file_path, file_name, data_format):\n",
    "    \"\"\"\n",
    "    Parameters:\n",
    "    -----------\n",
    "    file_path: str \n",
    "               where the datafile is\n",
    "    file_name: str\n",
    "               file name of the datafile\n",
    "    data_format: dict\n",
    "                 format of data to import\n",
    "                 \n",
    "    Return\n",
    "    ------\n",
    "    df: dataframe\n",
    "        the df after preprocessing\n",
    "    \"\"\"\n",
    "    # Load the data\n",
    "    df = pd.read_csv(file_path + file_name, dtype = data_format)\n",
    "    \n",
    "    # Printing the shape of dataframes that was imported     \n",
    "    print(\"Loaded file at {}, and dataframe with shape {}\".format(file_path + file_name, df.shape))\n",
    "    \n",
    "    return df\n",
    "\n",
    "\n",
    "def json_read(df, field_name, extract_field, new_field_name):\n",
    "    \"\"\"\n",
    "    Read semi-structured JSON data\n",
    "    \n",
    "    Parameters:\n",
    "    ----------\n",
    "    df: dataframe\n",
    "        the dataframe needed to process\n",
    "    field_name: str\n",
    "                column to read json data\n",
    "    extract_field: str \n",
    "                   info to extract from json data format\n",
    "    new_field_name: str\n",
    "                    add a column for data extract from json data format\n",
    "                    \n",
    "    Return\n",
    "    ------\n",
    "    df: dataframe\n",
    "        the df after extracting data from json data format and adding to a new column, called new_field_name\n",
    "    \"\"\"\n",
    "    df[new_field_name] = pd.DataFrame(df[field_name].apply(json.loads).tolist())[[extract_field]]\n",
    "    return df"
   ]
  },
  {
   "cell_type": "markdown",
   "metadata": {},
   "source": [
    "# 1. Load Data"
   ]
  },
  {
   "cell_type": "markdown",
   "metadata": {},
   "source": [
    "Load training set:"
   ]
  },
  {
   "cell_type": "code",
   "execution_count": 6,
   "metadata": {},
   "outputs": [
    {
     "data": {
      "text/html": [
       "<div>\n",
       "<style scoped>\n",
       "    .dataframe tbody tr th:only-of-type {\n",
       "        vertical-align: middle;\n",
       "    }\n",
       "\n",
       "    .dataframe tbody tr th {\n",
       "        vertical-align: top;\n",
       "    }\n",
       "\n",
       "    .dataframe thead th {\n",
       "        text-align: right;\n",
       "    }\n",
       "</style>\n",
       "<table border=\"1\" class=\"dataframe\">\n",
       "  <thead>\n",
       "    <tr style=\"text-align: right;\">\n",
       "      <th></th>\n",
       "      <th>channelGrouping</th>\n",
       "      <th>date</th>\n",
       "      <th>device</th>\n",
       "      <th>fullVisitorId</th>\n",
       "      <th>geoNetwork</th>\n",
       "      <th>sessionId</th>\n",
       "      <th>socialEngagementType</th>\n",
       "      <th>totals</th>\n",
       "      <th>trafficSource</th>\n",
       "      <th>visitId</th>\n",
       "      <th>visitNumber</th>\n",
       "      <th>visitStartTime</th>\n",
       "    </tr>\n",
       "  </thead>\n",
       "  <tbody>\n",
       "    <tr>\n",
       "      <th>0</th>\n",
       "      <td>Organic Search</td>\n",
       "      <td>20160902</td>\n",
       "      <td>{\"browser\": \"Chrome\", \"browserVersion\": \"not a...</td>\n",
       "      <td>1131660440785968503</td>\n",
       "      <td>{\"continent\": \"Asia\", \"subContinent\": \"Western...</td>\n",
       "      <td>1131660440785968503_1472830385</td>\n",
       "      <td>Not Socially Engaged</td>\n",
       "      <td>{\"visits\": \"1\", \"hits\": \"1\", \"pageviews\": \"1\",...</td>\n",
       "      <td>{\"campaign\": \"(not set)\", \"source\": \"google\", ...</td>\n",
       "      <td>1472830385</td>\n",
       "      <td>1</td>\n",
       "      <td>1472830385</td>\n",
       "    </tr>\n",
       "    <tr>\n",
       "      <th>1</th>\n",
       "      <td>Organic Search</td>\n",
       "      <td>20160902</td>\n",
       "      <td>{\"browser\": \"Firefox\", \"browserVersion\": \"not ...</td>\n",
       "      <td>377306020877927890</td>\n",
       "      <td>{\"continent\": \"Oceania\", \"subContinent\": \"Aust...</td>\n",
       "      <td>377306020877927890_1472880147</td>\n",
       "      <td>Not Socially Engaged</td>\n",
       "      <td>{\"visits\": \"1\", \"hits\": \"1\", \"pageviews\": \"1\",...</td>\n",
       "      <td>{\"campaign\": \"(not set)\", \"source\": \"google\", ...</td>\n",
       "      <td>1472880147</td>\n",
       "      <td>1</td>\n",
       "      <td>1472880147</td>\n",
       "    </tr>\n",
       "    <tr>\n",
       "      <th>2</th>\n",
       "      <td>Organic Search</td>\n",
       "      <td>20160902</td>\n",
       "      <td>{\"browser\": \"Chrome\", \"browserVersion\": \"not a...</td>\n",
       "      <td>3895546263509774583</td>\n",
       "      <td>{\"continent\": \"Europe\", \"subContinent\": \"South...</td>\n",
       "      <td>3895546263509774583_1472865386</td>\n",
       "      <td>Not Socially Engaged</td>\n",
       "      <td>{\"visits\": \"1\", \"hits\": \"1\", \"pageviews\": \"1\",...</td>\n",
       "      <td>{\"campaign\": \"(not set)\", \"source\": \"google\", ...</td>\n",
       "      <td>1472865386</td>\n",
       "      <td>1</td>\n",
       "      <td>1472865386</td>\n",
       "    </tr>\n",
       "    <tr>\n",
       "      <th>3</th>\n",
       "      <td>Organic Search</td>\n",
       "      <td>20160902</td>\n",
       "      <td>{\"browser\": \"UC Browser\", \"browserVersion\": \"n...</td>\n",
       "      <td>4763447161404445595</td>\n",
       "      <td>{\"continent\": \"Asia\", \"subContinent\": \"Southea...</td>\n",
       "      <td>4763447161404445595_1472881213</td>\n",
       "      <td>Not Socially Engaged</td>\n",
       "      <td>{\"visits\": \"1\", \"hits\": \"1\", \"pageviews\": \"1\",...</td>\n",
       "      <td>{\"campaign\": \"(not set)\", \"source\": \"google\", ...</td>\n",
       "      <td>1472881213</td>\n",
       "      <td>1</td>\n",
       "      <td>1472881213</td>\n",
       "    </tr>\n",
       "    <tr>\n",
       "      <th>4</th>\n",
       "      <td>Organic Search</td>\n",
       "      <td>20160902</td>\n",
       "      <td>{\"browser\": \"Chrome\", \"browserVersion\": \"not a...</td>\n",
       "      <td>27294437909732085</td>\n",
       "      <td>{\"continent\": \"Europe\", \"subContinent\": \"North...</td>\n",
       "      <td>27294437909732085_1472822600</td>\n",
       "      <td>Not Socially Engaged</td>\n",
       "      <td>{\"visits\": \"1\", \"hits\": \"1\", \"pageviews\": \"1\",...</td>\n",
       "      <td>{\"campaign\": \"(not set)\", \"source\": \"google\", ...</td>\n",
       "      <td>1472822600</td>\n",
       "      <td>2</td>\n",
       "      <td>1472822600</td>\n",
       "    </tr>\n",
       "  </tbody>\n",
       "</table>\n",
       "</div>"
      ],
      "text/plain": [
       "  channelGrouping      date  \\\n",
       "0  Organic Search  20160902   \n",
       "1  Organic Search  20160902   \n",
       "2  Organic Search  20160902   \n",
       "3  Organic Search  20160902   \n",
       "4  Organic Search  20160902   \n",
       "\n",
       "                                              device        fullVisitorId  \\\n",
       "0  {\"browser\": \"Chrome\", \"browserVersion\": \"not a...  1131660440785968503   \n",
       "1  {\"browser\": \"Firefox\", \"browserVersion\": \"not ...   377306020877927890   \n",
       "2  {\"browser\": \"Chrome\", \"browserVersion\": \"not a...  3895546263509774583   \n",
       "3  {\"browser\": \"UC Browser\", \"browserVersion\": \"n...  4763447161404445595   \n",
       "4  {\"browser\": \"Chrome\", \"browserVersion\": \"not a...    27294437909732085   \n",
       "\n",
       "                                          geoNetwork  \\\n",
       "0  {\"continent\": \"Asia\", \"subContinent\": \"Western...   \n",
       "1  {\"continent\": \"Oceania\", \"subContinent\": \"Aust...   \n",
       "2  {\"continent\": \"Europe\", \"subContinent\": \"South...   \n",
       "3  {\"continent\": \"Asia\", \"subContinent\": \"Southea...   \n",
       "4  {\"continent\": \"Europe\", \"subContinent\": \"North...   \n",
       "\n",
       "                        sessionId  socialEngagementType  \\\n",
       "0  1131660440785968503_1472830385  Not Socially Engaged   \n",
       "1   377306020877927890_1472880147  Not Socially Engaged   \n",
       "2  3895546263509774583_1472865386  Not Socially Engaged   \n",
       "3  4763447161404445595_1472881213  Not Socially Engaged   \n",
       "4    27294437909732085_1472822600  Not Socially Engaged   \n",
       "\n",
       "                                              totals  \\\n",
       "0  {\"visits\": \"1\", \"hits\": \"1\", \"pageviews\": \"1\",...   \n",
       "1  {\"visits\": \"1\", \"hits\": \"1\", \"pageviews\": \"1\",...   \n",
       "2  {\"visits\": \"1\", \"hits\": \"1\", \"pageviews\": \"1\",...   \n",
       "3  {\"visits\": \"1\", \"hits\": \"1\", \"pageviews\": \"1\",...   \n",
       "4  {\"visits\": \"1\", \"hits\": \"1\", \"pageviews\": \"1\",...   \n",
       "\n",
       "                                       trafficSource     visitId  visitNumber  \\\n",
       "0  {\"campaign\": \"(not set)\", \"source\": \"google\", ...  1472830385            1   \n",
       "1  {\"campaign\": \"(not set)\", \"source\": \"google\", ...  1472880147            1   \n",
       "2  {\"campaign\": \"(not set)\", \"source\": \"google\", ...  1472865386            1   \n",
       "3  {\"campaign\": \"(not set)\", \"source\": \"google\", ...  1472881213            1   \n",
       "4  {\"campaign\": \"(not set)\", \"source\": \"google\", ...  1472822600            2   \n",
       "\n",
       "   visitStartTime  \n",
       "0      1472830385  \n",
       "1      1472880147  \n",
       "2      1472865386  \n",
       "3      1472881213  \n",
       "4      1472822600  "
      ]
     },
     "execution_count": 6,
     "metadata": {},
     "output_type": "execute_result"
    }
   ],
   "source": [
    "df_train = pd.read_csv(project.get_file('train.csv'))\n",
    "df_train.head()"
   ]
  },
  {
   "cell_type": "code",
   "execution_count": 7,
   "metadata": {},
   "outputs": [
    {
     "data": {
      "text/plain": [
       "channelGrouping         object\n",
       "date                     int64\n",
       "device                  object\n",
       "fullVisitorId           object\n",
       "geoNetwork              object\n",
       "sessionId               object\n",
       "socialEngagementType    object\n",
       "totals                  object\n",
       "trafficSource           object\n",
       "visitId                  int64\n",
       "visitNumber              int64\n",
       "visitStartTime           int64\n",
       "dtype: object"
      ]
     },
     "execution_count": 7,
     "metadata": {},
     "output_type": "execute_result"
    }
   ],
   "source": [
    "# Check data type in each column\n",
    "df_train.dtypes"
   ]
  },
  {
   "cell_type": "code",
   "execution_count": 8,
   "metadata": {
    "scrolled": true
   },
   "outputs": [
    {
     "data": {
      "text/html": [
       "<div>\n",
       "<style scoped>\n",
       "    .dataframe tbody tr th:only-of-type {\n",
       "        vertical-align: middle;\n",
       "    }\n",
       "\n",
       "    .dataframe tbody tr th {\n",
       "        vertical-align: top;\n",
       "    }\n",
       "\n",
       "    .dataframe thead th {\n",
       "        text-align: right;\n",
       "    }\n",
       "</style>\n",
       "<table border=\"1\" class=\"dataframe\">\n",
       "  <thead>\n",
       "    <tr style=\"text-align: right;\">\n",
       "      <th></th>\n",
       "      <th>date</th>\n",
       "      <th>visitId</th>\n",
       "      <th>visitNumber</th>\n",
       "      <th>visitStartTime</th>\n",
       "    </tr>\n",
       "  </thead>\n",
       "  <tbody>\n",
       "    <tr>\n",
       "      <th>count</th>\n",
       "      <td>9.036530e+05</td>\n",
       "      <td>9.036530e+05</td>\n",
       "      <td>903653.000000</td>\n",
       "      <td>9.036530e+05</td>\n",
       "    </tr>\n",
       "    <tr>\n",
       "      <th>mean</th>\n",
       "      <td>2.016589e+07</td>\n",
       "      <td>1.485007e+09</td>\n",
       "      <td>2.264897</td>\n",
       "      <td>1.485007e+09</td>\n",
       "    </tr>\n",
       "    <tr>\n",
       "      <th>std</th>\n",
       "      <td>4.697698e+03</td>\n",
       "      <td>9.022124e+06</td>\n",
       "      <td>9.283735</td>\n",
       "      <td>9.022124e+06</td>\n",
       "    </tr>\n",
       "    <tr>\n",
       "      <th>min</th>\n",
       "      <td>2.016080e+07</td>\n",
       "      <td>1.470035e+09</td>\n",
       "      <td>1.000000</td>\n",
       "      <td>1.470035e+09</td>\n",
       "    </tr>\n",
       "    <tr>\n",
       "      <th>25%</th>\n",
       "      <td>2.016103e+07</td>\n",
       "      <td>1.477561e+09</td>\n",
       "      <td>1.000000</td>\n",
       "      <td>1.477561e+09</td>\n",
       "    </tr>\n",
       "    <tr>\n",
       "      <th>50%</th>\n",
       "      <td>2.017011e+07</td>\n",
       "      <td>1.483949e+09</td>\n",
       "      <td>1.000000</td>\n",
       "      <td>1.483949e+09</td>\n",
       "    </tr>\n",
       "    <tr>\n",
       "      <th>75%</th>\n",
       "      <td>2.017042e+07</td>\n",
       "      <td>1.492759e+09</td>\n",
       "      <td>1.000000</td>\n",
       "      <td>1.492759e+09</td>\n",
       "    </tr>\n",
       "    <tr>\n",
       "      <th>max</th>\n",
       "      <td>2.017080e+07</td>\n",
       "      <td>1.501657e+09</td>\n",
       "      <td>395.000000</td>\n",
       "      <td>1.501657e+09</td>\n",
       "    </tr>\n",
       "  </tbody>\n",
       "</table>\n",
       "</div>"
      ],
      "text/plain": [
       "               date       visitId    visitNumber  visitStartTime\n",
       "count  9.036530e+05  9.036530e+05  903653.000000    9.036530e+05\n",
       "mean   2.016589e+07  1.485007e+09       2.264897    1.485007e+09\n",
       "std    4.697698e+03  9.022124e+06       9.283735    9.022124e+06\n",
       "min    2.016080e+07  1.470035e+09       1.000000    1.470035e+09\n",
       "25%    2.016103e+07  1.477561e+09       1.000000    1.477561e+09\n",
       "50%    2.017011e+07  1.483949e+09       1.000000    1.483949e+09\n",
       "75%    2.017042e+07  1.492759e+09       1.000000    1.492759e+09\n",
       "max    2.017080e+07  1.501657e+09     395.000000    1.501657e+09"
      ]
     },
     "execution_count": 8,
     "metadata": {},
     "output_type": "execute_result"
    }
   ],
   "source": [
    "df_train.describe()"
   ]
  },
  {
   "cell_type": "code",
   "execution_count": 9,
   "metadata": {},
   "outputs": [
    {
     "data": {
      "text/plain": [
       "Index                     0.000080\n",
       "channelGrouping          60.390927\n",
       "date                      7.229224\n",
       "device                  715.709069\n",
       "fullVisitorId            45.430531\n",
       "geoNetwork              416.747069\n",
       "sessionId                78.508431\n",
       "socialEngagementType     69.581281\n",
       "totals                  113.521380\n",
       "trafficSource           216.702752\n",
       "visitId                   7.229224\n",
       "visitNumber               7.229224\n",
       "visitStartTime            7.229224\n",
       "dtype: float64"
      ]
     },
     "execution_count": 9,
     "metadata": {},
     "output_type": "execute_result"
    }
   ],
   "source": [
    "# Check memory usage in MB\n",
    "df_train.memory_usage(deep=True)* 1e-6"
   ]
  },
  {
   "cell_type": "code",
   "execution_count": 10,
   "metadata": {},
   "outputs": [
    {
     "name": "stdout",
     "output_type": "stream",
     "text": [
      "Memory usage is 1.7455084159999998 Gb\n"
     ]
    }
   ],
   "source": [
    "# Estimate total memory usage\n",
    "usage = df_train.memory_usage(deep=True).sum() * 1e-6\n",
    "print('Memory usage is {} Gb'.format(usage/1000))"
   ]
  },
  {
   "cell_type": "markdown",
   "metadata": {},
   "source": [
    "## Data Fields\n",
    "\n",
    "- **fullVisitorId**- A unique identifier for each user of the Google Merchandise Store.\n",
    "- **channelGrouping** - The channel via which the user came to the Store.\n",
    "- **date** - The date on which the user visited the Store.\n",
    "- **device** - The specifications for the device used to access the Store.\n",
    "- **geoNetwork** - This section contains information about the geography of the user.\n",
    "- **sessionId** - A unique identifier for this visit to the store.\n",
    "- **socialEngagementType** - Engagement type, either \"Socially Engaged\" or \"Not Socially Engaged\".\n",
    "- **totals** - This section contains aggregate values across the session.\n",
    "- **trafficSource** - This section contains information about the Traffic Source from which the session originated.\n",
    "- **visitId** - An identifier for this session. This is part of the value usually stored as the _utmb cookie. This is only unique to the user. For a completely unique ID, you should use a combination of fullVisitorId and visitId.\n",
    "- **visitNumber** - The session number for this user. If this is the first session, then this is set to 1.\n",
    "- **visitStartTime** - The timestamp (expressed as POSIX time).\n",
    "- **hits** - This row and nested fields are populated for any and all types of hits. Provides a record of all page visits. (new in version 2 data set)\n",
    "- **customDimensions** - This section contains any user-level or session-level custom dimensions that are set for a session. This is a repeated field and has an entry for each dimension that is set. (new in version 2 data set)\n"
   ]
  },
  {
   "cell_type": "code",
   "execution_count": 6,
   "metadata": {},
   "outputs": [
    {
     "data": {
      "text/html": [
       "<div>\n",
       "<style scoped>\n",
       "    .dataframe tbody tr th:only-of-type {\n",
       "        vertical-align: middle;\n",
       "    }\n",
       "\n",
       "    .dataframe tbody tr th {\n",
       "        vertical-align: top;\n",
       "    }\n",
       "\n",
       "    .dataframe thead th {\n",
       "        text-align: right;\n",
       "    }\n",
       "</style>\n",
       "<table border=\"1\" class=\"dataframe\">\n",
       "  <thead>\n",
       "    <tr style=\"text-align: right;\">\n",
       "      <th></th>\n",
       "      <th>channelGrouping</th>\n",
       "      <th>date</th>\n",
       "      <th>device</th>\n",
       "      <th>fullVisitorId</th>\n",
       "      <th>geoNetwork</th>\n",
       "      <th>sessionId</th>\n",
       "      <th>socialEngagementType</th>\n",
       "      <th>totals</th>\n",
       "      <th>trafficSource</th>\n",
       "      <th>visitId</th>\n",
       "      <th>visitNumber</th>\n",
       "      <th>visitStartTime</th>\n",
       "    </tr>\n",
       "  </thead>\n",
       "  <tbody>\n",
       "    <tr>\n",
       "      <th>0</th>\n",
       "      <td>Organic Search</td>\n",
       "      <td>20171016</td>\n",
       "      <td>{\"browser\": \"Chrome\", \"browserVersion\": \"not a...</td>\n",
       "      <td>6167871330617112363</td>\n",
       "      <td>{\"continent\": \"Asia\", \"subContinent\": \"Southea...</td>\n",
       "      <td>6167871330617112363_1508151024</td>\n",
       "      <td>Not Socially Engaged</td>\n",
       "      <td>{\"visits\": \"1\", \"hits\": \"4\", \"pageviews\": \"4\"}</td>\n",
       "      <td>{\"campaign\": \"(not set)\", \"source\": \"google\", ...</td>\n",
       "      <td>1508151024</td>\n",
       "      <td>2</td>\n",
       "      <td>1508151024</td>\n",
       "    </tr>\n",
       "    <tr>\n",
       "      <th>1</th>\n",
       "      <td>Organic Search</td>\n",
       "      <td>20171016</td>\n",
       "      <td>{\"browser\": \"Chrome\", \"browserVersion\": \"not a...</td>\n",
       "      <td>643697640977915618</td>\n",
       "      <td>{\"continent\": \"Europe\", \"subContinent\": \"South...</td>\n",
       "      <td>0643697640977915618_1508175522</td>\n",
       "      <td>Not Socially Engaged</td>\n",
       "      <td>{\"visits\": \"1\", \"hits\": \"5\", \"pageviews\": \"5\",...</td>\n",
       "      <td>{\"campaign\": \"(not set)\", \"source\": \"google\", ...</td>\n",
       "      <td>1508175522</td>\n",
       "      <td>1</td>\n",
       "      <td>1508175522</td>\n",
       "    </tr>\n",
       "    <tr>\n",
       "      <th>2</th>\n",
       "      <td>Organic Search</td>\n",
       "      <td>20171016</td>\n",
       "      <td>{\"browser\": \"Chrome\", \"browserVersion\": \"not a...</td>\n",
       "      <td>6059383810968229466</td>\n",
       "      <td>{\"continent\": \"Europe\", \"subContinent\": \"Weste...</td>\n",
       "      <td>6059383810968229466_1508143220</td>\n",
       "      <td>Not Socially Engaged</td>\n",
       "      <td>{\"visits\": \"1\", \"hits\": \"7\", \"pageviews\": \"7\",...</td>\n",
       "      <td>{\"campaign\": \"(not set)\", \"source\": \"google\", ...</td>\n",
       "      <td>1508143220</td>\n",
       "      <td>1</td>\n",
       "      <td>1508143220</td>\n",
       "    </tr>\n",
       "    <tr>\n",
       "      <th>3</th>\n",
       "      <td>Organic Search</td>\n",
       "      <td>20171016</td>\n",
       "      <td>{\"browser\": \"Safari\", \"browserVersion\": \"not a...</td>\n",
       "      <td>2376720078563423631</td>\n",
       "      <td>{\"continent\": \"Americas\", \"subContinent\": \"Nor...</td>\n",
       "      <td>2376720078563423631_1508193530</td>\n",
       "      <td>Not Socially Engaged</td>\n",
       "      <td>{\"visits\": \"1\", \"hits\": \"8\", \"pageviews\": \"4\",...</td>\n",
       "      <td>{\"campaign\": \"(not set)\", \"source\": \"google\", ...</td>\n",
       "      <td>1508193530</td>\n",
       "      <td>1</td>\n",
       "      <td>1508193530</td>\n",
       "    </tr>\n",
       "    <tr>\n",
       "      <th>4</th>\n",
       "      <td>Organic Search</td>\n",
       "      <td>20171016</td>\n",
       "      <td>{\"browser\": \"Safari\", \"browserVersion\": \"not a...</td>\n",
       "      <td>2314544520795440038</td>\n",
       "      <td>{\"continent\": \"Americas\", \"subContinent\": \"Nor...</td>\n",
       "      <td>2314544520795440038_1508217442</td>\n",
       "      <td>Not Socially Engaged</td>\n",
       "      <td>{\"visits\": \"1\", \"hits\": \"9\", \"pageviews\": \"4\",...</td>\n",
       "      <td>{\"campaign\": \"(not set)\", \"source\": \"google\", ...</td>\n",
       "      <td>1508217442</td>\n",
       "      <td>1</td>\n",
       "      <td>1508217442</td>\n",
       "    </tr>\n",
       "  </tbody>\n",
       "</table>\n",
       "</div>"
      ],
      "text/plain": [
       "  channelGrouping      date  \\\n",
       "0  Organic Search  20171016   \n",
       "1  Organic Search  20171016   \n",
       "2  Organic Search  20171016   \n",
       "3  Organic Search  20171016   \n",
       "4  Organic Search  20171016   \n",
       "\n",
       "                                              device        fullVisitorId  \\\n",
       "0  {\"browser\": \"Chrome\", \"browserVersion\": \"not a...  6167871330617112363   \n",
       "1  {\"browser\": \"Chrome\", \"browserVersion\": \"not a...   643697640977915618   \n",
       "2  {\"browser\": \"Chrome\", \"browserVersion\": \"not a...  6059383810968229466   \n",
       "3  {\"browser\": \"Safari\", \"browserVersion\": \"not a...  2376720078563423631   \n",
       "4  {\"browser\": \"Safari\", \"browserVersion\": \"not a...  2314544520795440038   \n",
       "\n",
       "                                          geoNetwork  \\\n",
       "0  {\"continent\": \"Asia\", \"subContinent\": \"Southea...   \n",
       "1  {\"continent\": \"Europe\", \"subContinent\": \"South...   \n",
       "2  {\"continent\": \"Europe\", \"subContinent\": \"Weste...   \n",
       "3  {\"continent\": \"Americas\", \"subContinent\": \"Nor...   \n",
       "4  {\"continent\": \"Americas\", \"subContinent\": \"Nor...   \n",
       "\n",
       "                        sessionId  socialEngagementType  \\\n",
       "0  6167871330617112363_1508151024  Not Socially Engaged   \n",
       "1  0643697640977915618_1508175522  Not Socially Engaged   \n",
       "2  6059383810968229466_1508143220  Not Socially Engaged   \n",
       "3  2376720078563423631_1508193530  Not Socially Engaged   \n",
       "4  2314544520795440038_1508217442  Not Socially Engaged   \n",
       "\n",
       "                                              totals  \\\n",
       "0     {\"visits\": \"1\", \"hits\": \"4\", \"pageviews\": \"4\"}   \n",
       "1  {\"visits\": \"1\", \"hits\": \"5\", \"pageviews\": \"5\",...   \n",
       "2  {\"visits\": \"1\", \"hits\": \"7\", \"pageviews\": \"7\",...   \n",
       "3  {\"visits\": \"1\", \"hits\": \"8\", \"pageviews\": \"4\",...   \n",
       "4  {\"visits\": \"1\", \"hits\": \"9\", \"pageviews\": \"4\",...   \n",
       "\n",
       "                                       trafficSource     visitId  visitNumber  \\\n",
       "0  {\"campaign\": \"(not set)\", \"source\": \"google\", ...  1508151024            2   \n",
       "1  {\"campaign\": \"(not set)\", \"source\": \"google\", ...  1508175522            1   \n",
       "2  {\"campaign\": \"(not set)\", \"source\": \"google\", ...  1508143220            1   \n",
       "3  {\"campaign\": \"(not set)\", \"source\": \"google\", ...  1508193530            1   \n",
       "4  {\"campaign\": \"(not set)\", \"source\": \"google\", ...  1508217442            1   \n",
       "\n",
       "   visitStartTime  \n",
       "0      1508151024  \n",
       "1      1508175522  \n",
       "2      1508143220  \n",
       "3      1508193530  \n",
       "4      1508217442  "
      ]
     },
     "execution_count": 6,
     "metadata": {},
     "output_type": "execute_result"
    }
   ],
   "source": [
    "df_test = pd.read_csv(project.get_file('test.csv'), nrows=100)\n",
    "df_test.head()"
   ]
  },
  {
   "cell_type": "code",
   "execution_count": 7,
   "metadata": {},
   "outputs": [],
   "source": [
    "del df_test"
   ]
  },
  {
   "cell_type": "code",
   "execution_count": 7,
   "metadata": {},
   "outputs": [
    {
     "data": {
      "text/html": [
       "<div>\n",
       "<style scoped>\n",
       "    .dataframe tbody tr th:only-of-type {\n",
       "        vertical-align: middle;\n",
       "    }\n",
       "\n",
       "    .dataframe tbody tr th {\n",
       "        vertical-align: top;\n",
       "    }\n",
       "\n",
       "    .dataframe thead th {\n",
       "        text-align: right;\n",
       "    }\n",
       "</style>\n",
       "<table border=\"1\" class=\"dataframe\">\n",
       "  <thead>\n",
       "    <tr style=\"text-align: right;\">\n",
       "      <th></th>\n",
       "      <th>channelGrouping</th>\n",
       "      <th>date</th>\n",
       "      <th>device</th>\n",
       "      <th>fullVisitorId</th>\n",
       "      <th>geoNetwork</th>\n",
       "      <th>sessionId</th>\n",
       "      <th>socialEngagementType</th>\n",
       "      <th>totals</th>\n",
       "      <th>trafficSource</th>\n",
       "      <th>visitId</th>\n",
       "      <th>visitNumber</th>\n",
       "      <th>visitStartTime</th>\n",
       "    </tr>\n",
       "  </thead>\n",
       "  <tbody>\n",
       "    <tr>\n",
       "      <th>0</th>\n",
       "      <td>Organic Search</td>\n",
       "      <td>20171016</td>\n",
       "      <td>{\"browser\": \"Chrome\", \"browserVersion\": \"not a...</td>\n",
       "      <td>6167871330617112363</td>\n",
       "      <td>{\"continent\": \"Asia\", \"subContinent\": \"Southea...</td>\n",
       "      <td>6167871330617112363_1508151024</td>\n",
       "      <td>Not Socially Engaged</td>\n",
       "      <td>{\"visits\": \"1\", \"hits\": \"4\", \"pageviews\": \"4\"}</td>\n",
       "      <td>{\"campaign\": \"(not set)\", \"source\": \"google\", ...</td>\n",
       "      <td>1508151024</td>\n",
       "      <td>2</td>\n",
       "      <td>1508151024</td>\n",
       "    </tr>\n",
       "    <tr>\n",
       "      <th>1</th>\n",
       "      <td>Organic Search</td>\n",
       "      <td>20171016</td>\n",
       "      <td>{\"browser\": \"Chrome\", \"browserVersion\": \"not a...</td>\n",
       "      <td>0643697640977915618</td>\n",
       "      <td>{\"continent\": \"Europe\", \"subContinent\": \"South...</td>\n",
       "      <td>0643697640977915618_1508175522</td>\n",
       "      <td>Not Socially Engaged</td>\n",
       "      <td>{\"visits\": \"1\", \"hits\": \"5\", \"pageviews\": \"5\",...</td>\n",
       "      <td>{\"campaign\": \"(not set)\", \"source\": \"google\", ...</td>\n",
       "      <td>1508175522</td>\n",
       "      <td>1</td>\n",
       "      <td>1508175522</td>\n",
       "    </tr>\n",
       "    <tr>\n",
       "      <th>2</th>\n",
       "      <td>Organic Search</td>\n",
       "      <td>20171016</td>\n",
       "      <td>{\"browser\": \"Chrome\", \"browserVersion\": \"not a...</td>\n",
       "      <td>6059383810968229466</td>\n",
       "      <td>{\"continent\": \"Europe\", \"subContinent\": \"Weste...</td>\n",
       "      <td>6059383810968229466_1508143220</td>\n",
       "      <td>Not Socially Engaged</td>\n",
       "      <td>{\"visits\": \"1\", \"hits\": \"7\", \"pageviews\": \"7\",...</td>\n",
       "      <td>{\"campaign\": \"(not set)\", \"source\": \"google\", ...</td>\n",
       "      <td>1508143220</td>\n",
       "      <td>1</td>\n",
       "      <td>1508143220</td>\n",
       "    </tr>\n",
       "    <tr>\n",
       "      <th>3</th>\n",
       "      <td>Organic Search</td>\n",
       "      <td>20171016</td>\n",
       "      <td>{\"browser\": \"Safari\", \"browserVersion\": \"not a...</td>\n",
       "      <td>2376720078563423631</td>\n",
       "      <td>{\"continent\": \"Americas\", \"subContinent\": \"Nor...</td>\n",
       "      <td>2376720078563423631_1508193530</td>\n",
       "      <td>Not Socially Engaged</td>\n",
       "      <td>{\"visits\": \"1\", \"hits\": \"8\", \"pageviews\": \"4\",...</td>\n",
       "      <td>{\"campaign\": \"(not set)\", \"source\": \"google\", ...</td>\n",
       "      <td>1508193530</td>\n",
       "      <td>1</td>\n",
       "      <td>1508193530</td>\n",
       "    </tr>\n",
       "    <tr>\n",
       "      <th>4</th>\n",
       "      <td>Organic Search</td>\n",
       "      <td>20171016</td>\n",
       "      <td>{\"browser\": \"Safari\", \"browserVersion\": \"not a...</td>\n",
       "      <td>2314544520795440038</td>\n",
       "      <td>{\"continent\": \"Americas\", \"subContinent\": \"Nor...</td>\n",
       "      <td>2314544520795440038_1508217442</td>\n",
       "      <td>Not Socially Engaged</td>\n",
       "      <td>{\"visits\": \"1\", \"hits\": \"9\", \"pageviews\": \"4\",...</td>\n",
       "      <td>{\"campaign\": \"(not set)\", \"source\": \"google\", ...</td>\n",
       "      <td>1508217442</td>\n",
       "      <td>1</td>\n",
       "      <td>1508217442</td>\n",
       "    </tr>\n",
       "  </tbody>\n",
       "</table>\n",
       "</div>"
      ],
      "text/plain": [
       "  channelGrouping      date  \\\n",
       "0  Organic Search  20171016   \n",
       "1  Organic Search  20171016   \n",
       "2  Organic Search  20171016   \n",
       "3  Organic Search  20171016   \n",
       "4  Organic Search  20171016   \n",
       "\n",
       "                                              device        fullVisitorId  \\\n",
       "0  {\"browser\": \"Chrome\", \"browserVersion\": \"not a...  6167871330617112363   \n",
       "1  {\"browser\": \"Chrome\", \"browserVersion\": \"not a...  0643697640977915618   \n",
       "2  {\"browser\": \"Chrome\", \"browserVersion\": \"not a...  6059383810968229466   \n",
       "3  {\"browser\": \"Safari\", \"browserVersion\": \"not a...  2376720078563423631   \n",
       "4  {\"browser\": \"Safari\", \"browserVersion\": \"not a...  2314544520795440038   \n",
       "\n",
       "                                          geoNetwork  \\\n",
       "0  {\"continent\": \"Asia\", \"subContinent\": \"Southea...   \n",
       "1  {\"continent\": \"Europe\", \"subContinent\": \"South...   \n",
       "2  {\"continent\": \"Europe\", \"subContinent\": \"Weste...   \n",
       "3  {\"continent\": \"Americas\", \"subContinent\": \"Nor...   \n",
       "4  {\"continent\": \"Americas\", \"subContinent\": \"Nor...   \n",
       "\n",
       "                        sessionId  socialEngagementType  \\\n",
       "0  6167871330617112363_1508151024  Not Socially Engaged   \n",
       "1  0643697640977915618_1508175522  Not Socially Engaged   \n",
       "2  6059383810968229466_1508143220  Not Socially Engaged   \n",
       "3  2376720078563423631_1508193530  Not Socially Engaged   \n",
       "4  2314544520795440038_1508217442  Not Socially Engaged   \n",
       "\n",
       "                                              totals  \\\n",
       "0     {\"visits\": \"1\", \"hits\": \"4\", \"pageviews\": \"4\"}   \n",
       "1  {\"visits\": \"1\", \"hits\": \"5\", \"pageviews\": \"5\",...   \n",
       "2  {\"visits\": \"1\", \"hits\": \"7\", \"pageviews\": \"7\",...   \n",
       "3  {\"visits\": \"1\", \"hits\": \"8\", \"pageviews\": \"4\",...   \n",
       "4  {\"visits\": \"1\", \"hits\": \"9\", \"pageviews\": \"4\",...   \n",
       "\n",
       "                                       trafficSource     visitId  visitNumber  \\\n",
       "0  {\"campaign\": \"(not set)\", \"source\": \"google\", ...  1508151024            2   \n",
       "1  {\"campaign\": \"(not set)\", \"source\": \"google\", ...  1508175522            1   \n",
       "2  {\"campaign\": \"(not set)\", \"source\": \"google\", ...  1508143220            1   \n",
       "3  {\"campaign\": \"(not set)\", \"source\": \"google\", ...  1508193530            1   \n",
       "4  {\"campaign\": \"(not set)\", \"source\": \"google\", ...  1508217442            1   \n",
       "\n",
       "   visitStartTime  \n",
       "0      1508151024  \n",
       "1      1508175522  \n",
       "2      1508143220  \n",
       "3      1508193530  \n",
       "4      1508217442  "
      ]
     },
     "execution_count": 7,
     "metadata": {},
     "output_type": "execute_result"
    }
   ],
   "source": [
    "chunksize = 10000\n",
    "for chunk in pd.read_csv(project.get_file('test.csv'), chunksize=chunksize):\n",
    "    df_test_new = chunk\n",
    "    break\n",
    "\n",
    "df_test_new.head()"
   ]
  },
  {
   "cell_type": "code",
   "execution_count": 8,
   "metadata": {},
   "outputs": [],
   "source": [
    "del df_test_new"
   ]
  },
  {
   "cell_type": "markdown",
   "metadata": {},
   "source": [
    "## What am I predicting?\n",
    "\n",
    "The following is the sample submission."
   ]
  },
  {
   "cell_type": "code",
   "execution_count": 14,
   "metadata": {},
   "outputs": [
    {
     "data": {
      "text/html": [
       "<div>\n",
       "<style scoped>\n",
       "    .dataframe tbody tr th:only-of-type {\n",
       "        vertical-align: middle;\n",
       "    }\n",
       "\n",
       "    .dataframe tbody tr th {\n",
       "        vertical-align: top;\n",
       "    }\n",
       "\n",
       "    .dataframe thead th {\n",
       "        text-align: right;\n",
       "    }\n",
       "</style>\n",
       "<table border=\"1\" class=\"dataframe\">\n",
       "  <thead>\n",
       "    <tr style=\"text-align: right;\">\n",
       "      <th></th>\n",
       "      <th>fullVisitorId</th>\n",
       "      <th>PredictedLogRevenue</th>\n",
       "    </tr>\n",
       "  </thead>\n",
       "  <tbody>\n",
       "    <tr>\n",
       "      <th>0</th>\n",
       "      <td>0000000259678714014</td>\n",
       "      <td>0.0</td>\n",
       "    </tr>\n",
       "    <tr>\n",
       "      <th>1</th>\n",
       "      <td>0000049363351866189</td>\n",
       "      <td>0.0</td>\n",
       "    </tr>\n",
       "    <tr>\n",
       "      <th>2</th>\n",
       "      <td>0000053049821714864</td>\n",
       "      <td>0.0</td>\n",
       "    </tr>\n",
       "    <tr>\n",
       "      <th>3</th>\n",
       "      <td>0000059488412965267</td>\n",
       "      <td>0.0</td>\n",
       "    </tr>\n",
       "    <tr>\n",
       "      <th>4</th>\n",
       "      <td>0000085840370633780</td>\n",
       "      <td>0.0</td>\n",
       "    </tr>\n",
       "  </tbody>\n",
       "</table>\n",
       "</div>"
      ],
      "text/plain": [
       "         fullVisitorId  PredictedLogRevenue\n",
       "0  0000000259678714014                  0.0\n",
       "1  0000049363351866189                  0.0\n",
       "2  0000053049821714864                  0.0\n",
       "3  0000059488412965267                  0.0\n",
       "4  0000085840370633780                  0.0"
      ]
     },
     "execution_count": 14,
     "metadata": {},
     "output_type": "execute_result"
    }
   ],
   "source": [
    "df_submit = pd.read_csv(project.get_file('sample_submission.csv'))\n",
    "df_submit.head()"
   ]
  },
  {
   "cell_type": "code",
   "execution_count": 15,
   "metadata": {},
   "outputs": [],
   "source": [
    "del df_submit"
   ]
  },
  {
   "cell_type": "markdown",
   "metadata": {},
   "source": [
    "For each `fullVisitorId` in the test set, we must predict the **natural log** of their total revenue in `PredictedLogRevenue`. The submission file should contain a header and have the following format:\n",
    "\n",
    "```\n",
    "fullVisitorId,PredictedLogRevenue\n",
    "0000000259678714014,0\n",
    "0000049363351866189,0\n",
    "0000053049821714864,0\n",
    "etc.\n",
    "```\n",
    "\n",
    "We are predicting the natural log of the **sum of all transactions per user**. For every user in the test set, the target is:\n",
    "\n",
    "$$ y_{user}=\\sum_{i=1}^{n}transaction_{user_i}$$\n",
    "\n",
    "$$ target_{user}=\\ln(y_{user}+1)$$\n",
    "\n",
    "where $n$ is the number of times a specific customer vistied the GStore. \n",
    "\n",
    "**Why do we choose above metric to gauage the performance?**\n",
    "\n",
    "Since each transaction is a large value, if we use those values directly, then it will not be sensitive to the minor changes! Thus, we  apply natural log to $y_{user}$. The reason why we consider $y_{user}+1$ is because some users may not purchase anything and $y_{user}=0$. Then $\\ln (y_{user})$ will not be well-defined! In contrast, $\\ln (y_{user}+1) = 0$ when $y_{user} = 0$. \n",
    "\n",
    "Note that Kaggle has updated dataset, `train_v2.csv` and `test_v2.csv`, and the training dataset does NOT contain data for December 1st 2018 to January 31st 2019. You must identify the unique fullVisitorIds in the provided test_v2.csv and make predictions for them for those unseen months."
   ]
  },
  {
   "cell_type": "code",
   "execution_count": 11,
   "metadata": {},
   "outputs": [
    {
     "data": {
      "text/plain": [
       "'{\"continent\": \"Asia\", \"subContinent\": \"Western Asia\", \"country\": \"Turkey\", \"region\": \"Izmir\", \"metro\": \"(not set)\", \"city\": \"Izmir\", \"cityId\": \"not available in demo dataset\", \"networkDomain\": \"ttnet.com.tr\", \"latitude\": \"not available in demo dataset\", \"longitude\": \"not available in demo dataset\", \"networkLocation\": \"not available in demo dataset\"}'"
      ]
     },
     "execution_count": 11,
     "metadata": {},
     "output_type": "execute_result"
    }
   ],
   "source": [
    "df_train.loc[0,'geoNetwork']"
   ]
  },
  {
   "cell_type": "code",
   "execution_count": 12,
   "metadata": {},
   "outputs": [
    {
     "data": {
      "text/plain": [
       "'{\"browser\": \"Chrome\", \"browserVersion\": \"not available in demo dataset\", \"browserSize\": \"not available in demo dataset\", \"operatingSystem\": \"Android\", \"operatingSystemVersion\": \"not available in demo dataset\", \"isMobile\": true, \"mobileDeviceBranding\": \"not available in demo dataset\", \"mobileDeviceModel\": \"not available in demo dataset\", \"mobileInputSelector\": \"not available in demo dataset\", \"mobileDeviceInfo\": \"not available in demo dataset\", \"mobileDeviceMarketingName\": \"not available in demo dataset\", \"flashVersion\": \"not available in demo dataset\", \"language\": \"not available in demo dataset\", \"screenColors\": \"not available in demo dataset\", \"screenResolution\": \"not available in demo dataset\", \"deviceCategory\": \"tablet\"}'"
      ]
     },
     "execution_count": 12,
     "metadata": {},
     "output_type": "execute_result"
    }
   ],
   "source": [
    "df_train.loc[10,'device']"
   ]
  },
  {
   "cell_type": "code",
   "execution_count": 13,
   "metadata": {},
   "outputs": [
    {
     "data": {
      "text/plain": [
       "'{\"browser\": \"Firefox\", \"browserVersion\": \"not available in demo dataset\", \"browserSize\": \"not available in demo dataset\", \"operatingSystem\": \"Macintosh\", \"operatingSystemVersion\": \"not available in demo dataset\", \"isMobile\": false, \"mobileDeviceBranding\": \"not available in demo dataset\", \"mobileDeviceModel\": \"not available in demo dataset\", \"mobileInputSelector\": \"not available in demo dataset\", \"mobileDeviceInfo\": \"not available in demo dataset\", \"mobileDeviceMarketingName\": \"not available in demo dataset\", \"flashVersion\": \"not available in demo dataset\", \"language\": \"not available in demo dataset\", \"screenColors\": \"not available in demo dataset\", \"screenResolution\": \"not available in demo dataset\", \"deviceCategory\": \"desktop\"}'"
      ]
     },
     "execution_count": 13,
     "metadata": {},
     "output_type": "execute_result"
    }
   ],
   "source": [
    "df_train.loc[1,'device']"
   ]
  },
  {
   "cell_type": "code",
   "execution_count": 14,
   "metadata": {},
   "outputs": [
    {
     "data": {
      "text/plain": [
       "'{\"browser\": \"Chrome\", \"browserVersion\": \"not available in demo dataset\", \"browserSize\": \"not available in demo dataset\", \"operatingSystem\": \"Android\", \"operatingSystemVersion\": \"not available in demo dataset\", \"isMobile\": true, \"mobileDeviceBranding\": \"not available in demo dataset\", \"mobileDeviceModel\": \"not available in demo dataset\", \"mobileInputSelector\": \"not available in demo dataset\", \"mobileDeviceInfo\": \"not available in demo dataset\", \"mobileDeviceMarketingName\": \"not available in demo dataset\", \"flashVersion\": \"not available in demo dataset\", \"language\": \"not available in demo dataset\", \"screenColors\": \"not available in demo dataset\", \"screenResolution\": \"not available in demo dataset\", \"deviceCategory\": \"mobile\"}'"
      ]
     },
     "execution_count": 14,
     "metadata": {},
     "output_type": "execute_result"
    }
   ],
   "source": [
    "df_train.loc[21,'device']"
   ]
  },
  {
   "cell_type": "markdown",
   "metadata": {},
   "source": [
    "Note that `deviceCategory` and `isMobile` are related actually. If `deviceCategory` is mobile or tablet, then `isMobile` is true. If `deviceCategory` is desktop, then `isMobile` is false. We will examine these two features later to see whether it's necessary to consider `deviceCategory` or not."
   ]
  },
  {
   "cell_type": "code",
   "execution_count": 15,
   "metadata": {},
   "outputs": [
    {
     "data": {
      "text/plain": [
       "'{\"browser\": \"Safari\", \"browserVersion\": \"not available in demo dataset\", \"browserSize\": \"not available in demo dataset\", \"operatingSystem\": \"iOS\", \"operatingSystemVersion\": \"not available in demo dataset\", \"isMobile\": true, \"mobileDeviceBranding\": \"not available in demo dataset\", \"mobileDeviceModel\": \"not available in demo dataset\", \"mobileInputSelector\": \"not available in demo dataset\", \"mobileDeviceInfo\": \"not available in demo dataset\", \"mobileDeviceMarketingName\": \"not available in demo dataset\", \"flashVersion\": \"not available in demo dataset\", \"language\": \"not available in demo dataset\", \"screenColors\": \"not available in demo dataset\", \"screenResolution\": \"not available in demo dataset\", \"deviceCategory\": \"mobile\"}'"
      ]
     },
     "execution_count": 15,
     "metadata": {},
     "output_type": "execute_result"
    }
   ],
   "source": [
    "df_train.loc[101,'device']"
   ]
  },
  {
   "cell_type": "code",
   "execution_count": 16,
   "metadata": {},
   "outputs": [
    {
     "data": {
      "text/plain": [
       "'{\"visits\": \"1\", \"hits\": \"1\", \"pageviews\": \"1\", \"bounces\": \"1\", \"newVisits\": \"1\"}'"
      ]
     },
     "execution_count": 16,
     "metadata": {},
     "output_type": "execute_result"
    }
   ],
   "source": [
    "df_train.loc[80,'totals']"
   ]
  },
  {
   "cell_type": "code",
   "execution_count": 17,
   "metadata": {},
   "outputs": [
    {
     "data": {
      "text/plain": [
       "'{\"campaign\": \"AW - Dynamic Search Ads Whole Site\", \"source\": \"google\", \"medium\": \"cpc\", \"keyword\": \"6qEhsCssdK0z36ri\", \"adwordsClickInfo\": {\"page\": \"1\", \"slot\": \"Top\", \"criteriaParameters\": \"not available in demo dataset\", \"gclId\": \"Cj0KEQjwxqS-BRDRgPLp0q2t0IUBEiQAgfMXRBVDYwnFawcmsrhs02pjO7FXPLhzHyvJFv53h1H4QJ8aAhtw8P8HAQ\", \"adNetworkType\": \"Google Search\", \"isVideoAd\": false}}'"
      ]
     },
     "execution_count": 17,
     "metadata": {},
     "output_type": "execute_result"
    }
   ],
   "source": [
    "df_train.loc[102,'trafficSource']"
   ]
  },
  {
   "cell_type": "markdown",
   "metadata": {},
   "source": [
    "In **device, geoNetwork, totals, trafficSource** fields, they are semi-structured JSON data.\n",
    "\n",
    "- **device**: **browser**, browserVersion, browserSize, operatingSystem, operatingSystemVersion, **isMobile**, mobileDeviceBranding, mobileDeviceModel, mobileInputSelector, mobileDeviceInfo, mobileDeviceMarketingName, flashVersion, language, screenColors, screenResolution, deviceCategory\n",
    "- **totals**: visits, hits, pageviews, newVisits, bounces\n",
    "- **geoNetwork**: continent, subContinent, country, region, metro, city, cityId, networkDomain, latitude, longitude, networkLocation\n",
    "- **trafficSource**: campaign, source, medium, keyword, adwordsClickInfo, referralPath\n"
   ]
  },
  {
   "cell_type": "code",
   "execution_count": 18,
   "metadata": {},
   "outputs": [
    {
     "data": {
      "text/html": [
       "<div>\n",
       "<style scoped>\n",
       "    .dataframe tbody tr th:only-of-type {\n",
       "        vertical-align: middle;\n",
       "    }\n",
       "\n",
       "    .dataframe tbody tr th {\n",
       "        vertical-align: top;\n",
       "    }\n",
       "\n",
       "    .dataframe thead th {\n",
       "        text-align: right;\n",
       "    }\n",
       "</style>\n",
       "<table border=\"1\" class=\"dataframe\">\n",
       "  <thead>\n",
       "    <tr style=\"text-align: right;\">\n",
       "      <th></th>\n",
       "      <th>channelGrouping</th>\n",
       "      <th>date</th>\n",
       "      <th>device</th>\n",
       "      <th>fullVisitorId</th>\n",
       "      <th>geoNetwork</th>\n",
       "      <th>sessionId</th>\n",
       "      <th>socialEngagementType</th>\n",
       "      <th>totals</th>\n",
       "      <th>trafficSource</th>\n",
       "      <th>visitId</th>\n",
       "      <th>visitNumber</th>\n",
       "      <th>visitStartTime</th>\n",
       "      <th>revenue</th>\n",
       "    </tr>\n",
       "  </thead>\n",
       "  <tbody>\n",
       "    <tr>\n",
       "      <th>0</th>\n",
       "      <td>Organic Search</td>\n",
       "      <td>20160902</td>\n",
       "      <td>{\"browser\": \"Chrome\", \"browserVersion\": \"not a...</td>\n",
       "      <td>1131660440785968503</td>\n",
       "      <td>{\"continent\": \"Asia\", \"subContinent\": \"Western...</td>\n",
       "      <td>1131660440785968503_1472830385</td>\n",
       "      <td>Not Socially Engaged</td>\n",
       "      <td>{\"visits\": \"1\", \"hits\": \"1\", \"pageviews\": \"1\",...</td>\n",
       "      <td>{\"campaign\": \"(not set)\", \"source\": \"google\", ...</td>\n",
       "      <td>1472830385</td>\n",
       "      <td>1</td>\n",
       "      <td>1472830385</td>\n",
       "      <td>NaN</td>\n",
       "    </tr>\n",
       "    <tr>\n",
       "      <th>1</th>\n",
       "      <td>Organic Search</td>\n",
       "      <td>20160902</td>\n",
       "      <td>{\"browser\": \"Firefox\", \"browserVersion\": \"not ...</td>\n",
       "      <td>377306020877927890</td>\n",
       "      <td>{\"continent\": \"Oceania\", \"subContinent\": \"Aust...</td>\n",
       "      <td>377306020877927890_1472880147</td>\n",
       "      <td>Not Socially Engaged</td>\n",
       "      <td>{\"visits\": \"1\", \"hits\": \"1\", \"pageviews\": \"1\",...</td>\n",
       "      <td>{\"campaign\": \"(not set)\", \"source\": \"google\", ...</td>\n",
       "      <td>1472880147</td>\n",
       "      <td>1</td>\n",
       "      <td>1472880147</td>\n",
       "      <td>NaN</td>\n",
       "    </tr>\n",
       "    <tr>\n",
       "      <th>2</th>\n",
       "      <td>Organic Search</td>\n",
       "      <td>20160902</td>\n",
       "      <td>{\"browser\": \"Chrome\", \"browserVersion\": \"not a...</td>\n",
       "      <td>3895546263509774583</td>\n",
       "      <td>{\"continent\": \"Europe\", \"subContinent\": \"South...</td>\n",
       "      <td>3895546263509774583_1472865386</td>\n",
       "      <td>Not Socially Engaged</td>\n",
       "      <td>{\"visits\": \"1\", \"hits\": \"1\", \"pageviews\": \"1\",...</td>\n",
       "      <td>{\"campaign\": \"(not set)\", \"source\": \"google\", ...</td>\n",
       "      <td>1472865386</td>\n",
       "      <td>1</td>\n",
       "      <td>1472865386</td>\n",
       "      <td>NaN</td>\n",
       "    </tr>\n",
       "    <tr>\n",
       "      <th>3</th>\n",
       "      <td>Organic Search</td>\n",
       "      <td>20160902</td>\n",
       "      <td>{\"browser\": \"UC Browser\", \"browserVersion\": \"n...</td>\n",
       "      <td>4763447161404445595</td>\n",
       "      <td>{\"continent\": \"Asia\", \"subContinent\": \"Southea...</td>\n",
       "      <td>4763447161404445595_1472881213</td>\n",
       "      <td>Not Socially Engaged</td>\n",
       "      <td>{\"visits\": \"1\", \"hits\": \"1\", \"pageviews\": \"1\",...</td>\n",
       "      <td>{\"campaign\": \"(not set)\", \"source\": \"google\", ...</td>\n",
       "      <td>1472881213</td>\n",
       "      <td>1</td>\n",
       "      <td>1472881213</td>\n",
       "      <td>NaN</td>\n",
       "    </tr>\n",
       "    <tr>\n",
       "      <th>4</th>\n",
       "      <td>Organic Search</td>\n",
       "      <td>20160902</td>\n",
       "      <td>{\"browser\": \"Chrome\", \"browserVersion\": \"not a...</td>\n",
       "      <td>27294437909732085</td>\n",
       "      <td>{\"continent\": \"Europe\", \"subContinent\": \"North...</td>\n",
       "      <td>27294437909732085_1472822600</td>\n",
       "      <td>Not Socially Engaged</td>\n",
       "      <td>{\"visits\": \"1\", \"hits\": \"1\", \"pageviews\": \"1\",...</td>\n",
       "      <td>{\"campaign\": \"(not set)\", \"source\": \"google\", ...</td>\n",
       "      <td>1472822600</td>\n",
       "      <td>2</td>\n",
       "      <td>1472822600</td>\n",
       "      <td>NaN</td>\n",
       "    </tr>\n",
       "  </tbody>\n",
       "</table>\n",
       "</div>"
      ],
      "text/plain": [
       "  channelGrouping      date  \\\n",
       "0  Organic Search  20160902   \n",
       "1  Organic Search  20160902   \n",
       "2  Organic Search  20160902   \n",
       "3  Organic Search  20160902   \n",
       "4  Organic Search  20160902   \n",
       "\n",
       "                                              device        fullVisitorId  \\\n",
       "0  {\"browser\": \"Chrome\", \"browserVersion\": \"not a...  1131660440785968503   \n",
       "1  {\"browser\": \"Firefox\", \"browserVersion\": \"not ...   377306020877927890   \n",
       "2  {\"browser\": \"Chrome\", \"browserVersion\": \"not a...  3895546263509774583   \n",
       "3  {\"browser\": \"UC Browser\", \"browserVersion\": \"n...  4763447161404445595   \n",
       "4  {\"browser\": \"Chrome\", \"browserVersion\": \"not a...    27294437909732085   \n",
       "\n",
       "                                          geoNetwork  \\\n",
       "0  {\"continent\": \"Asia\", \"subContinent\": \"Western...   \n",
       "1  {\"continent\": \"Oceania\", \"subContinent\": \"Aust...   \n",
       "2  {\"continent\": \"Europe\", \"subContinent\": \"South...   \n",
       "3  {\"continent\": \"Asia\", \"subContinent\": \"Southea...   \n",
       "4  {\"continent\": \"Europe\", \"subContinent\": \"North...   \n",
       "\n",
       "                        sessionId  socialEngagementType  \\\n",
       "0  1131660440785968503_1472830385  Not Socially Engaged   \n",
       "1   377306020877927890_1472880147  Not Socially Engaged   \n",
       "2  3895546263509774583_1472865386  Not Socially Engaged   \n",
       "3  4763447161404445595_1472881213  Not Socially Engaged   \n",
       "4    27294437909732085_1472822600  Not Socially Engaged   \n",
       "\n",
       "                                              totals  \\\n",
       "0  {\"visits\": \"1\", \"hits\": \"1\", \"pageviews\": \"1\",...   \n",
       "1  {\"visits\": \"1\", \"hits\": \"1\", \"pageviews\": \"1\",...   \n",
       "2  {\"visits\": \"1\", \"hits\": \"1\", \"pageviews\": \"1\",...   \n",
       "3  {\"visits\": \"1\", \"hits\": \"1\", \"pageviews\": \"1\",...   \n",
       "4  {\"visits\": \"1\", \"hits\": \"1\", \"pageviews\": \"1\",...   \n",
       "\n",
       "                                       trafficSource     visitId  visitNumber  \\\n",
       "0  {\"campaign\": \"(not set)\", \"source\": \"google\", ...  1472830385            1   \n",
       "1  {\"campaign\": \"(not set)\", \"source\": \"google\", ...  1472880147            1   \n",
       "2  {\"campaign\": \"(not set)\", \"source\": \"google\", ...  1472865386            1   \n",
       "3  {\"campaign\": \"(not set)\", \"source\": \"google\", ...  1472881213            1   \n",
       "4  {\"campaign\": \"(not set)\", \"source\": \"google\", ...  1472822600            2   \n",
       "\n",
       "   visitStartTime revenue  \n",
       "0      1472830385     NaN  \n",
       "1      1472880147     NaN  \n",
       "2      1472865386     NaN  \n",
       "3      1472881213     NaN  \n",
       "4      1472822600     NaN  "
      ]
     },
     "execution_count": 18,
     "metadata": {},
     "output_type": "execute_result"
    }
   ],
   "source": [
    "# Extract revenue from transactionRevenue from totals field\n",
    "field_name = 'totals' \n",
    "extract_field = 'transactionRevenue'\n",
    "new_field_name = 'revenue'\n",
    "\n",
    "json_read(df_train, field_name, extract_field, new_field_name).head()"
   ]
  },
  {
   "cell_type": "code",
   "execution_count": 19,
   "metadata": {},
   "outputs": [
    {
     "name": "stdout",
     "output_type": "stream",
     "text": [
      "Memory usage is 1.774808064 Gb\n"
     ]
    }
   ],
   "source": [
    "# Estimate total memory usage\n",
    "usage = df_train.memory_usage(deep=True).sum() * 1e-6\n",
    "print('Memory usage is {} Gb'.format(usage/1000))"
   ]
  },
  {
   "cell_type": "code",
   "execution_count": 20,
   "metadata": {},
   "outputs": [
    {
     "data": {
      "text/plain": [
       "892138"
      ]
     },
     "execution_count": 20,
     "metadata": {},
     "output_type": "execute_result"
    }
   ],
   "source": [
    "# Check missing values in revenue field\n",
    "df_train['revenue'].isnull().sum()"
   ]
  },
  {
   "cell_type": "markdown",
   "metadata": {},
   "source": [
    "There are 892138 missing values out of 903653. That means that **we only have 11515 non-missing values in `revenue` field**. This is highly **unbalanced dataset**. We have to keep this in mind when we build model to do further analysis. We denote these missing values by 0 since they may be events that customers visit gstore without purchasing any products."
   ]
  },
  {
   "cell_type": "code",
   "execution_count": 21,
   "metadata": {},
   "outputs": [
    {
     "data": {
      "text/html": [
       "<div>\n",
       "<style scoped>\n",
       "    .dataframe tbody tr th:only-of-type {\n",
       "        vertical-align: middle;\n",
       "    }\n",
       "\n",
       "    .dataframe tbody tr th {\n",
       "        vertical-align: top;\n",
       "    }\n",
       "\n",
       "    .dataframe thead th {\n",
       "        text-align: right;\n",
       "    }\n",
       "</style>\n",
       "<table border=\"1\" class=\"dataframe\">\n",
       "  <thead>\n",
       "    <tr style=\"text-align: right;\">\n",
       "      <th></th>\n",
       "      <th>channelGrouping</th>\n",
       "      <th>date</th>\n",
       "      <th>device</th>\n",
       "      <th>fullVisitorId</th>\n",
       "      <th>geoNetwork</th>\n",
       "      <th>sessionId</th>\n",
       "      <th>socialEngagementType</th>\n",
       "      <th>totals</th>\n",
       "      <th>trafficSource</th>\n",
       "      <th>visitId</th>\n",
       "      <th>visitNumber</th>\n",
       "      <th>visitStartTime</th>\n",
       "      <th>revenue</th>\n",
       "    </tr>\n",
       "  </thead>\n",
       "  <tbody>\n",
       "    <tr>\n",
       "      <th>0</th>\n",
       "      <td>Organic Search</td>\n",
       "      <td>20160902</td>\n",
       "      <td>{\"browser\": \"Chrome\", \"browserVersion\": \"not a...</td>\n",
       "      <td>1131660440785968503</td>\n",
       "      <td>{\"continent\": \"Asia\", \"subContinent\": \"Western...</td>\n",
       "      <td>1131660440785968503_1472830385</td>\n",
       "      <td>Not Socially Engaged</td>\n",
       "      <td>{\"visits\": \"1\", \"hits\": \"1\", \"pageviews\": \"1\",...</td>\n",
       "      <td>{\"campaign\": \"(not set)\", \"source\": \"google\", ...</td>\n",
       "      <td>1472830385</td>\n",
       "      <td>1</td>\n",
       "      <td>1472830385</td>\n",
       "      <td>0</td>\n",
       "    </tr>\n",
       "    <tr>\n",
       "      <th>1</th>\n",
       "      <td>Organic Search</td>\n",
       "      <td>20160902</td>\n",
       "      <td>{\"browser\": \"Firefox\", \"browserVersion\": \"not ...</td>\n",
       "      <td>377306020877927890</td>\n",
       "      <td>{\"continent\": \"Oceania\", \"subContinent\": \"Aust...</td>\n",
       "      <td>377306020877927890_1472880147</td>\n",
       "      <td>Not Socially Engaged</td>\n",
       "      <td>{\"visits\": \"1\", \"hits\": \"1\", \"pageviews\": \"1\",...</td>\n",
       "      <td>{\"campaign\": \"(not set)\", \"source\": \"google\", ...</td>\n",
       "      <td>1472880147</td>\n",
       "      <td>1</td>\n",
       "      <td>1472880147</td>\n",
       "      <td>0</td>\n",
       "    </tr>\n",
       "    <tr>\n",
       "      <th>2</th>\n",
       "      <td>Organic Search</td>\n",
       "      <td>20160902</td>\n",
       "      <td>{\"browser\": \"Chrome\", \"browserVersion\": \"not a...</td>\n",
       "      <td>3895546263509774583</td>\n",
       "      <td>{\"continent\": \"Europe\", \"subContinent\": \"South...</td>\n",
       "      <td>3895546263509774583_1472865386</td>\n",
       "      <td>Not Socially Engaged</td>\n",
       "      <td>{\"visits\": \"1\", \"hits\": \"1\", \"pageviews\": \"1\",...</td>\n",
       "      <td>{\"campaign\": \"(not set)\", \"source\": \"google\", ...</td>\n",
       "      <td>1472865386</td>\n",
       "      <td>1</td>\n",
       "      <td>1472865386</td>\n",
       "      <td>0</td>\n",
       "    </tr>\n",
       "    <tr>\n",
       "      <th>3</th>\n",
       "      <td>Organic Search</td>\n",
       "      <td>20160902</td>\n",
       "      <td>{\"browser\": \"UC Browser\", \"browserVersion\": \"n...</td>\n",
       "      <td>4763447161404445595</td>\n",
       "      <td>{\"continent\": \"Asia\", \"subContinent\": \"Southea...</td>\n",
       "      <td>4763447161404445595_1472881213</td>\n",
       "      <td>Not Socially Engaged</td>\n",
       "      <td>{\"visits\": \"1\", \"hits\": \"1\", \"pageviews\": \"1\",...</td>\n",
       "      <td>{\"campaign\": \"(not set)\", \"source\": \"google\", ...</td>\n",
       "      <td>1472881213</td>\n",
       "      <td>1</td>\n",
       "      <td>1472881213</td>\n",
       "      <td>0</td>\n",
       "    </tr>\n",
       "    <tr>\n",
       "      <th>4</th>\n",
       "      <td>Organic Search</td>\n",
       "      <td>20160902</td>\n",
       "      <td>{\"browser\": \"Chrome\", \"browserVersion\": \"not a...</td>\n",
       "      <td>27294437909732085</td>\n",
       "      <td>{\"continent\": \"Europe\", \"subContinent\": \"North...</td>\n",
       "      <td>27294437909732085_1472822600</td>\n",
       "      <td>Not Socially Engaged</td>\n",
       "      <td>{\"visits\": \"1\", \"hits\": \"1\", \"pageviews\": \"1\",...</td>\n",
       "      <td>{\"campaign\": \"(not set)\", \"source\": \"google\", ...</td>\n",
       "      <td>1472822600</td>\n",
       "      <td>2</td>\n",
       "      <td>1472822600</td>\n",
       "      <td>0</td>\n",
       "    </tr>\n",
       "    <tr>\n",
       "      <th>5</th>\n",
       "      <td>Organic Search</td>\n",
       "      <td>20160902</td>\n",
       "      <td>{\"browser\": \"Chrome\", \"browserVersion\": \"not a...</td>\n",
       "      <td>2938943183656635653</td>\n",
       "      <td>{\"continent\": \"Europe\", \"subContinent\": \"South...</td>\n",
       "      <td>2938943183656635653_1472807194</td>\n",
       "      <td>Not Socially Engaged</td>\n",
       "      <td>{\"visits\": \"1\", \"hits\": \"1\", \"pageviews\": \"1\",...</td>\n",
       "      <td>{\"campaign\": \"(not set)\", \"source\": \"google\", ...</td>\n",
       "      <td>1472807194</td>\n",
       "      <td>1</td>\n",
       "      <td>1472807194</td>\n",
       "      <td>0</td>\n",
       "    </tr>\n",
       "    <tr>\n",
       "      <th>6</th>\n",
       "      <td>Organic Search</td>\n",
       "      <td>20160902</td>\n",
       "      <td>{\"browser\": \"Chrome\", \"browserVersion\": \"not a...</td>\n",
       "      <td>1905672039242460897</td>\n",
       "      <td>{\"continent\": \"Asia\", \"subContinent\": \"Souther...</td>\n",
       "      <td>1905672039242460897_1472817241</td>\n",
       "      <td>Not Socially Engaged</td>\n",
       "      <td>{\"visits\": \"1\", \"hits\": \"1\", \"pageviews\": \"1\",...</td>\n",
       "      <td>{\"campaign\": \"(not set)\", \"source\": \"google\", ...</td>\n",
       "      <td>1472817241</td>\n",
       "      <td>1</td>\n",
       "      <td>1472817241</td>\n",
       "      <td>0</td>\n",
       "    </tr>\n",
       "  </tbody>\n",
       "</table>\n",
       "</div>"
      ],
      "text/plain": [
       "  channelGrouping      date  \\\n",
       "0  Organic Search  20160902   \n",
       "1  Organic Search  20160902   \n",
       "2  Organic Search  20160902   \n",
       "3  Organic Search  20160902   \n",
       "4  Organic Search  20160902   \n",
       "5  Organic Search  20160902   \n",
       "6  Organic Search  20160902   \n",
       "\n",
       "                                              device        fullVisitorId  \\\n",
       "0  {\"browser\": \"Chrome\", \"browserVersion\": \"not a...  1131660440785968503   \n",
       "1  {\"browser\": \"Firefox\", \"browserVersion\": \"not ...   377306020877927890   \n",
       "2  {\"browser\": \"Chrome\", \"browserVersion\": \"not a...  3895546263509774583   \n",
       "3  {\"browser\": \"UC Browser\", \"browserVersion\": \"n...  4763447161404445595   \n",
       "4  {\"browser\": \"Chrome\", \"browserVersion\": \"not a...    27294437909732085   \n",
       "5  {\"browser\": \"Chrome\", \"browserVersion\": \"not a...  2938943183656635653   \n",
       "6  {\"browser\": \"Chrome\", \"browserVersion\": \"not a...  1905672039242460897   \n",
       "\n",
       "                                          geoNetwork  \\\n",
       "0  {\"continent\": \"Asia\", \"subContinent\": \"Western...   \n",
       "1  {\"continent\": \"Oceania\", \"subContinent\": \"Aust...   \n",
       "2  {\"continent\": \"Europe\", \"subContinent\": \"South...   \n",
       "3  {\"continent\": \"Asia\", \"subContinent\": \"Southea...   \n",
       "4  {\"continent\": \"Europe\", \"subContinent\": \"North...   \n",
       "5  {\"continent\": \"Europe\", \"subContinent\": \"South...   \n",
       "6  {\"continent\": \"Asia\", \"subContinent\": \"Souther...   \n",
       "\n",
       "                        sessionId  socialEngagementType  \\\n",
       "0  1131660440785968503_1472830385  Not Socially Engaged   \n",
       "1   377306020877927890_1472880147  Not Socially Engaged   \n",
       "2  3895546263509774583_1472865386  Not Socially Engaged   \n",
       "3  4763447161404445595_1472881213  Not Socially Engaged   \n",
       "4    27294437909732085_1472822600  Not Socially Engaged   \n",
       "5  2938943183656635653_1472807194  Not Socially Engaged   \n",
       "6  1905672039242460897_1472817241  Not Socially Engaged   \n",
       "\n",
       "                                              totals  \\\n",
       "0  {\"visits\": \"1\", \"hits\": \"1\", \"pageviews\": \"1\",...   \n",
       "1  {\"visits\": \"1\", \"hits\": \"1\", \"pageviews\": \"1\",...   \n",
       "2  {\"visits\": \"1\", \"hits\": \"1\", \"pageviews\": \"1\",...   \n",
       "3  {\"visits\": \"1\", \"hits\": \"1\", \"pageviews\": \"1\",...   \n",
       "4  {\"visits\": \"1\", \"hits\": \"1\", \"pageviews\": \"1\",...   \n",
       "5  {\"visits\": \"1\", \"hits\": \"1\", \"pageviews\": \"1\",...   \n",
       "6  {\"visits\": \"1\", \"hits\": \"1\", \"pageviews\": \"1\",...   \n",
       "\n",
       "                                       trafficSource     visitId  visitNumber  \\\n",
       "0  {\"campaign\": \"(not set)\", \"source\": \"google\", ...  1472830385            1   \n",
       "1  {\"campaign\": \"(not set)\", \"source\": \"google\", ...  1472880147            1   \n",
       "2  {\"campaign\": \"(not set)\", \"source\": \"google\", ...  1472865386            1   \n",
       "3  {\"campaign\": \"(not set)\", \"source\": \"google\", ...  1472881213            1   \n",
       "4  {\"campaign\": \"(not set)\", \"source\": \"google\", ...  1472822600            2   \n",
       "5  {\"campaign\": \"(not set)\", \"source\": \"google\", ...  1472807194            1   \n",
       "6  {\"campaign\": \"(not set)\", \"source\": \"google\", ...  1472817241            1   \n",
       "\n",
       "   visitStartTime revenue  \n",
       "0      1472830385       0  \n",
       "1      1472880147       0  \n",
       "2      1472865386       0  \n",
       "3      1472881213       0  \n",
       "4      1472822600       0  \n",
       "5      1472807194       0  \n",
       "6      1472817241       0  "
      ]
     },
     "execution_count": 21,
     "metadata": {},
     "output_type": "execute_result"
    }
   ],
   "source": [
    "# Fill in missing data with zeros\n",
    "df_train['revenue'] = df_train['revenue'].fillna(0)\n",
    "df_train.head(7)"
   ]
  },
  {
   "cell_type": "code",
   "execution_count": 22,
   "metadata": {},
   "outputs": [
    {
     "data": {
      "text/plain": [
       "channelGrouping         object\n",
       "date                     int64\n",
       "device                  object\n",
       "fullVisitorId           object\n",
       "geoNetwork              object\n",
       "sessionId               object\n",
       "socialEngagementType    object\n",
       "totals                  object\n",
       "trafficSource           object\n",
       "visitId                  int64\n",
       "visitNumber              int64\n",
       "visitStartTime           int64\n",
       "revenue                  int64\n",
       "dtype: object"
      ]
     },
     "execution_count": 22,
     "metadata": {},
     "output_type": "execute_result"
    }
   ],
   "source": [
    "df_train['revenue'] = df_train['revenue'].astype('int64')\n",
    "df_train.dtypes"
   ]
  },
  {
   "cell_type": "markdown",
   "metadata": {},
   "source": [
    "In order to determine what factors affect whether customers purchase things or not when they visit gstore, we set 0 when revenue is 0 (not purchasing) and 1 when revenue is not 0 (purchasing) as shown in column `Buy`."
   ]
  },
  {
   "cell_type": "code",
   "execution_count": 23,
   "metadata": {},
   "outputs": [
    {
     "data": {
      "text/html": [
       "<div>\n",
       "<style scoped>\n",
       "    .dataframe tbody tr th:only-of-type {\n",
       "        vertical-align: middle;\n",
       "    }\n",
       "\n",
       "    .dataframe tbody tr th {\n",
       "        vertical-align: top;\n",
       "    }\n",
       "\n",
       "    .dataframe thead th {\n",
       "        text-align: right;\n",
       "    }\n",
       "</style>\n",
       "<table border=\"1\" class=\"dataframe\">\n",
       "  <thead>\n",
       "    <tr style=\"text-align: right;\">\n",
       "      <th></th>\n",
       "      <th>channelGrouping</th>\n",
       "      <th>date</th>\n",
       "      <th>device</th>\n",
       "      <th>fullVisitorId</th>\n",
       "      <th>geoNetwork</th>\n",
       "      <th>sessionId</th>\n",
       "      <th>socialEngagementType</th>\n",
       "      <th>totals</th>\n",
       "      <th>trafficSource</th>\n",
       "      <th>visitId</th>\n",
       "      <th>visitNumber</th>\n",
       "      <th>visitStartTime</th>\n",
       "      <th>revenue</th>\n",
       "      <th>Buy</th>\n",
       "    </tr>\n",
       "  </thead>\n",
       "  <tbody>\n",
       "    <tr>\n",
       "      <th>0</th>\n",
       "      <td>Organic Search</td>\n",
       "      <td>20160902</td>\n",
       "      <td>{\"browser\": \"Chrome\", \"browserVersion\": \"not a...</td>\n",
       "      <td>1131660440785968503</td>\n",
       "      <td>{\"continent\": \"Asia\", \"subContinent\": \"Western...</td>\n",
       "      <td>1131660440785968503_1472830385</td>\n",
       "      <td>Not Socially Engaged</td>\n",
       "      <td>{\"visits\": \"1\", \"hits\": \"1\", \"pageviews\": \"1\",...</td>\n",
       "      <td>{\"campaign\": \"(not set)\", \"source\": \"google\", ...</td>\n",
       "      <td>1472830385</td>\n",
       "      <td>1</td>\n",
       "      <td>1472830385</td>\n",
       "      <td>0</td>\n",
       "      <td>0</td>\n",
       "    </tr>\n",
       "    <tr>\n",
       "      <th>1</th>\n",
       "      <td>Organic Search</td>\n",
       "      <td>20160902</td>\n",
       "      <td>{\"browser\": \"Firefox\", \"browserVersion\": \"not ...</td>\n",
       "      <td>377306020877927890</td>\n",
       "      <td>{\"continent\": \"Oceania\", \"subContinent\": \"Aust...</td>\n",
       "      <td>377306020877927890_1472880147</td>\n",
       "      <td>Not Socially Engaged</td>\n",
       "      <td>{\"visits\": \"1\", \"hits\": \"1\", \"pageviews\": \"1\",...</td>\n",
       "      <td>{\"campaign\": \"(not set)\", \"source\": \"google\", ...</td>\n",
       "      <td>1472880147</td>\n",
       "      <td>1</td>\n",
       "      <td>1472880147</td>\n",
       "      <td>0</td>\n",
       "      <td>0</td>\n",
       "    </tr>\n",
       "    <tr>\n",
       "      <th>2</th>\n",
       "      <td>Organic Search</td>\n",
       "      <td>20160902</td>\n",
       "      <td>{\"browser\": \"Chrome\", \"browserVersion\": \"not a...</td>\n",
       "      <td>3895546263509774583</td>\n",
       "      <td>{\"continent\": \"Europe\", \"subContinent\": \"South...</td>\n",
       "      <td>3895546263509774583_1472865386</td>\n",
       "      <td>Not Socially Engaged</td>\n",
       "      <td>{\"visits\": \"1\", \"hits\": \"1\", \"pageviews\": \"1\",...</td>\n",
       "      <td>{\"campaign\": \"(not set)\", \"source\": \"google\", ...</td>\n",
       "      <td>1472865386</td>\n",
       "      <td>1</td>\n",
       "      <td>1472865386</td>\n",
       "      <td>0</td>\n",
       "      <td>0</td>\n",
       "    </tr>\n",
       "    <tr>\n",
       "      <th>3</th>\n",
       "      <td>Organic Search</td>\n",
       "      <td>20160902</td>\n",
       "      <td>{\"browser\": \"UC Browser\", \"browserVersion\": \"n...</td>\n",
       "      <td>4763447161404445595</td>\n",
       "      <td>{\"continent\": \"Asia\", \"subContinent\": \"Southea...</td>\n",
       "      <td>4763447161404445595_1472881213</td>\n",
       "      <td>Not Socially Engaged</td>\n",
       "      <td>{\"visits\": \"1\", \"hits\": \"1\", \"pageviews\": \"1\",...</td>\n",
       "      <td>{\"campaign\": \"(not set)\", \"source\": \"google\", ...</td>\n",
       "      <td>1472881213</td>\n",
       "      <td>1</td>\n",
       "      <td>1472881213</td>\n",
       "      <td>0</td>\n",
       "      <td>0</td>\n",
       "    </tr>\n",
       "    <tr>\n",
       "      <th>4</th>\n",
       "      <td>Organic Search</td>\n",
       "      <td>20160902</td>\n",
       "      <td>{\"browser\": \"Chrome\", \"browserVersion\": \"not a...</td>\n",
       "      <td>27294437909732085</td>\n",
       "      <td>{\"continent\": \"Europe\", \"subContinent\": \"North...</td>\n",
       "      <td>27294437909732085_1472822600</td>\n",
       "      <td>Not Socially Engaged</td>\n",
       "      <td>{\"visits\": \"1\", \"hits\": \"1\", \"pageviews\": \"1\",...</td>\n",
       "      <td>{\"campaign\": \"(not set)\", \"source\": \"google\", ...</td>\n",
       "      <td>1472822600</td>\n",
       "      <td>2</td>\n",
       "      <td>1472822600</td>\n",
       "      <td>0</td>\n",
       "      <td>0</td>\n",
       "    </tr>\n",
       "  </tbody>\n",
       "</table>\n",
       "</div>"
      ],
      "text/plain": [
       "  channelGrouping      date  \\\n",
       "0  Organic Search  20160902   \n",
       "1  Organic Search  20160902   \n",
       "2  Organic Search  20160902   \n",
       "3  Organic Search  20160902   \n",
       "4  Organic Search  20160902   \n",
       "\n",
       "                                              device        fullVisitorId  \\\n",
       "0  {\"browser\": \"Chrome\", \"browserVersion\": \"not a...  1131660440785968503   \n",
       "1  {\"browser\": \"Firefox\", \"browserVersion\": \"not ...   377306020877927890   \n",
       "2  {\"browser\": \"Chrome\", \"browserVersion\": \"not a...  3895546263509774583   \n",
       "3  {\"browser\": \"UC Browser\", \"browserVersion\": \"n...  4763447161404445595   \n",
       "4  {\"browser\": \"Chrome\", \"browserVersion\": \"not a...    27294437909732085   \n",
       "\n",
       "                                          geoNetwork  \\\n",
       "0  {\"continent\": \"Asia\", \"subContinent\": \"Western...   \n",
       "1  {\"continent\": \"Oceania\", \"subContinent\": \"Aust...   \n",
       "2  {\"continent\": \"Europe\", \"subContinent\": \"South...   \n",
       "3  {\"continent\": \"Asia\", \"subContinent\": \"Southea...   \n",
       "4  {\"continent\": \"Europe\", \"subContinent\": \"North...   \n",
       "\n",
       "                        sessionId  socialEngagementType  \\\n",
       "0  1131660440785968503_1472830385  Not Socially Engaged   \n",
       "1   377306020877927890_1472880147  Not Socially Engaged   \n",
       "2  3895546263509774583_1472865386  Not Socially Engaged   \n",
       "3  4763447161404445595_1472881213  Not Socially Engaged   \n",
       "4    27294437909732085_1472822600  Not Socially Engaged   \n",
       "\n",
       "                                              totals  \\\n",
       "0  {\"visits\": \"1\", \"hits\": \"1\", \"pageviews\": \"1\",...   \n",
       "1  {\"visits\": \"1\", \"hits\": \"1\", \"pageviews\": \"1\",...   \n",
       "2  {\"visits\": \"1\", \"hits\": \"1\", \"pageviews\": \"1\",...   \n",
       "3  {\"visits\": \"1\", \"hits\": \"1\", \"pageviews\": \"1\",...   \n",
       "4  {\"visits\": \"1\", \"hits\": \"1\", \"pageviews\": \"1\",...   \n",
       "\n",
       "                                       trafficSource     visitId  visitNumber  \\\n",
       "0  {\"campaign\": \"(not set)\", \"source\": \"google\", ...  1472830385            1   \n",
       "1  {\"campaign\": \"(not set)\", \"source\": \"google\", ...  1472880147            1   \n",
       "2  {\"campaign\": \"(not set)\", \"source\": \"google\", ...  1472865386            1   \n",
       "3  {\"campaign\": \"(not set)\", \"source\": \"google\", ...  1472881213            1   \n",
       "4  {\"campaign\": \"(not set)\", \"source\": \"google\", ...  1472822600            2   \n",
       "\n",
       "   visitStartTime  revenue  Buy  \n",
       "0      1472830385        0    0  \n",
       "1      1472880147        0    0  \n",
       "2      1472865386        0    0  \n",
       "3      1472881213        0    0  \n",
       "4      1472822600        0    0  "
      ]
     },
     "execution_count": 23,
     "metadata": {},
     "output_type": "execute_result"
    }
   ],
   "source": [
    "df_train['Buy'] = df_train['revenue'].apply(lambda x: 1 if x != 0 else 0)\n",
    "df_train.head()"
   ]
  },
  {
   "cell_type": "code",
   "execution_count": 24,
   "metadata": {},
   "outputs": [
    {
     "name": "stdout",
     "output_type": "stream",
     "text": [
      "Memory usage is 1.759966864 Gb\n"
     ]
    }
   ],
   "source": [
    "# Estimate total memory usage\n",
    "usage = df_train.memory_usage(deep=True).sum() * 1e-6\n",
    "print('Memory usage is {} Gb'.format(usage/1000))"
   ]
  },
  {
   "cell_type": "markdown",
   "metadata": {},
   "source": [
    "# 2. Data Explore, Clean Data and Feature Engineering\n",
    "\n",
    "## 2.1 channelGrouping feature"
   ]
  },
  {
   "cell_type": "code",
   "execution_count": 25,
   "metadata": {},
   "outputs": [
    {
     "data": {
      "text/plain": [
       "<matplotlib.axes._subplots.AxesSubplot at 0x7f3fa4a6b908>"
      ]
     },
     "execution_count": 25,
     "metadata": {},
     "output_type": "execute_result"
    },
    {
     "data": {
      "image/png": "[encoded data removed]",
      "text/plain": [
       "<matplotlib.figure.Figure at 0x7f3fa4a6d550>"
      ]
     },
     "metadata": {},
     "output_type": "display_data"
    }
   ],
   "source": [
    "df_train.channelGrouping.value_counts().plot(kind=\"bar\",title=\"channelGrouping distribution\",figsize=(8,8),rot=25,colormap='Paired')"
   ]
  },
  {
   "cell_type": "markdown",
   "metadata": {},
   "source": [
    "From above figure, we can see that most of customers used `Organic Search` channel to come to gstore, and `Social` channel is the second one. But does it mean there are more customers purchasing goods in gstore from `Organic Search` channel? Let's find out below.\n",
    "\n",
    "### channelGrouping vs. revenue"
   ]
  },
  {
   "cell_type": "code",
   "execution_count": 26,
   "metadata": {},
   "outputs": [
    {
     "data": {
      "text/html": [
       "<div>\n",
       "<style scoped>\n",
       "    .dataframe tbody tr th:only-of-type {\n",
       "        vertical-align: middle;\n",
       "    }\n",
       "\n",
       "    .dataframe tbody tr th {\n",
       "        vertical-align: top;\n",
       "    }\n",
       "\n",
       "    .dataframe thead th {\n",
       "        text-align: right;\n",
       "    }\n",
       "</style>\n",
       "<table border=\"1\" class=\"dataframe\">\n",
       "  <thead>\n",
       "    <tr style=\"text-align: right;\">\n",
       "      <th></th>\n",
       "      <th>max</th>\n",
       "      <th>std</th>\n",
       "      <th>min</th>\n",
       "      <th>mean</th>\n",
       "      <th>median</th>\n",
       "    </tr>\n",
       "    <tr>\n",
       "      <th>channelGrouping</th>\n",
       "      <th></th>\n",
       "      <th></th>\n",
       "      <th></th>\n",
       "      <th></th>\n",
       "      <th></th>\n",
       "    </tr>\n",
       "  </thead>\n",
       "  <tbody>\n",
       "    <tr>\n",
       "      <th>(Other)</th>\n",
       "      <td>9990000</td>\n",
       "      <td>9.119581e+05</td>\n",
       "      <td>0</td>\n",
       "      <td>8.325000e+04</td>\n",
       "      <td>0</td>\n",
       "    </tr>\n",
       "    <tr>\n",
       "      <th>Affiliates</th>\n",
       "      <td>233850000</td>\n",
       "      <td>2.594414e+06</td>\n",
       "      <td>0</td>\n",
       "      <td>3.641895e+04</td>\n",
       "      <td>0</td>\n",
       "    </tr>\n",
       "    <tr>\n",
       "      <th>Direct</th>\n",
       "      <td>17855500000</td>\n",
       "      <td>8.642141e+07</td>\n",
       "      <td>0</td>\n",
       "      <td>3.040290e+06</td>\n",
       "      <td>0</td>\n",
       "    </tr>\n",
       "    <tr>\n",
       "      <th>Display</th>\n",
       "      <td>23129500000</td>\n",
       "      <td>3.437883e+08</td>\n",
       "      <td>0</td>\n",
       "      <td>1.250997e+07</td>\n",
       "      <td>0</td>\n",
       "    </tr>\n",
       "    <tr>\n",
       "      <th>Organic Search</th>\n",
       "      <td>6248750000</td>\n",
       "      <td>2.340972e+07</td>\n",
       "      <td>0</td>\n",
       "      <td>8.553823e+05</td>\n",
       "      <td>0</td>\n",
       "    </tr>\n",
       "    <tr>\n",
       "      <th>Paid Search</th>\n",
       "      <td>1523180000</td>\n",
       "      <td>2.575310e+07</td>\n",
       "      <td>0</td>\n",
       "      <td>1.719928e+06</td>\n",
       "      <td>0</td>\n",
       "    </tr>\n",
       "    <tr>\n",
       "      <th>Referral</th>\n",
       "      <td>8248800000</td>\n",
       "      <td>6.756077e+07</td>\n",
       "      <td>0</td>\n",
       "      <td>6.213681e+06</td>\n",
       "      <td>0</td>\n",
       "    </tr>\n",
       "    <tr>\n",
       "      <th>Social</th>\n",
       "      <td>227980000</td>\n",
       "      <td>1.322326e+06</td>\n",
       "      <td>0</td>\n",
       "      <td>2.174335e+04</td>\n",
       "      <td>0</td>\n",
       "    </tr>\n",
       "  </tbody>\n",
       "</table>\n",
       "</div>"
      ],
      "text/plain": [
       "                         max           std  min          mean  median\n",
       "channelGrouping                                                      \n",
       "(Other)              9990000  9.119581e+05    0  8.325000e+04       0\n",
       "Affiliates         233850000  2.594414e+06    0  3.641895e+04       0\n",
       "Direct           17855500000  8.642141e+07    0  3.040290e+06       0\n",
       "Display          23129500000  3.437883e+08    0  1.250997e+07       0\n",
       "Organic Search    6248750000  2.340972e+07    0  8.553823e+05       0\n",
       "Paid Search       1523180000  2.575310e+07    0  1.719928e+06       0\n",
       "Referral          8248800000  6.756077e+07    0  6.213681e+06       0\n",
       "Social             227980000  1.322326e+06    0  2.174335e+04       0"
      ]
     },
     "execution_count": 26,
     "metadata": {},
     "output_type": "execute_result"
    }
   ],
   "source": [
    "df_channel = df_train[['channelGrouping','revenue', 'Buy']]\n",
    "(df_channel.set_index('channelGrouping').groupby(level=0)['revenue'].agg({'mean': np.average, 'median':np.median, 'std':np.std, \n",
    "                                                                          'max': np.max, 'min': np.min}) )"
   ]
  },
  {
   "cell_type": "markdown",
   "metadata": {},
   "source": [
    "According to mean and median of revenue for each channelGrouping, it is clear that in each channelGrouping, there are many customers visiting gstore without purchasing! **The distribution of data in each channel is highly left-skewed**."
   ]
  },
  {
   "cell_type": "code",
   "execution_count": 27,
   "metadata": {},
   "outputs": [
    {
     "data": {
      "text/plain": [
       "<matplotlib.axes._subplots.AxesSubplot at 0x7f3fa6de5748>"
      ]
     },
     "execution_count": 27,
     "metadata": {},
     "output_type": "execute_result"
    },
    {
     "data": {
      "image/png": "[encoded data removed]",
      "text/plain": [
       "<matplotlib.figure.Figure at 0x7f3fa4a6ada0>"
      ]
     },
     "metadata": {},
     "output_type": "display_data"
    }
   ],
   "source": [
    "# Visualize the data by drawing boxplot grouped by a categorical variable:\n",
    "sns.boxplot(x='revenue', y='channelGrouping', data=df_channel)"
   ]
  },
  {
   "cell_type": "markdown",
   "metadata": {},
   "source": [
    "In order to study the relation between channelGrouping and revenue, we'd better to study `revenue = 0` and `revenue != 0` separately, or data with `revenue=0` will worse the model prediction later. **Therefore, we can classify whether customers buy goods or not when they visit gstore. For those who don't buy goods in gstore, of course the revecue those customers contribute is 0. In contrast, for those who purchase goods, we predict the revenue each customer contribute by using linear regression model.**"
   ]
  },
  {
   "cell_type": "markdown",
   "metadata": {},
   "source": [
    "### Are those customers used specific channel most possible to buy goods in gstore?"
   ]
  },
  {
   "cell_type": "code",
   "execution_count": 28,
   "metadata": {},
   "outputs": [
    {
     "data": {
      "text/html": [
       "<div>\n",
       "<style scoped>\n",
       "    .dataframe tbody tr th:only-of-type {\n",
       "        vertical-align: middle;\n",
       "    }\n",
       "\n",
       "    .dataframe tbody tr th {\n",
       "        vertical-align: top;\n",
       "    }\n",
       "\n",
       "    .dataframe thead th {\n",
       "        text-align: right;\n",
       "    }\n",
       "</style>\n",
       "<table border=\"1\" class=\"dataframe\">\n",
       "  <thead>\n",
       "    <tr style=\"text-align: right;\">\n",
       "      <th></th>\n",
       "      <th></th>\n",
       "      <th>Count</th>\n",
       "      <th>Relative Frequency</th>\n",
       "    </tr>\n",
       "    <tr>\n",
       "      <th>channelGrouping</th>\n",
       "      <th>Buy</th>\n",
       "      <th></th>\n",
       "      <th></th>\n",
       "    </tr>\n",
       "  </thead>\n",
       "  <tbody>\n",
       "    <tr>\n",
       "      <th rowspan=\"2\" valign=\"top\">(Other)</th>\n",
       "      <th>0</th>\n",
       "      <td>119</td>\n",
       "      <td>99.166667</td>\n",
       "    </tr>\n",
       "    <tr>\n",
       "      <th>1</th>\n",
       "      <td>1</td>\n",
       "      <td>0.833333</td>\n",
       "    </tr>\n",
       "    <tr>\n",
       "      <th rowspan=\"2\" valign=\"top\">Affiliates</th>\n",
       "      <th>0</th>\n",
       "      <td>16394</td>\n",
       "      <td>99.945132</td>\n",
       "    </tr>\n",
       "    <tr>\n",
       "      <th>1</th>\n",
       "      <td>9</td>\n",
       "      <td>0.054868</td>\n",
       "    </tr>\n",
       "    <tr>\n",
       "      <th rowspan=\"2\" valign=\"top\">Direct</th>\n",
       "      <th>0</th>\n",
       "      <td>140984</td>\n",
       "      <td>98.572288</td>\n",
       "    </tr>\n",
       "    <tr>\n",
       "      <th>1</th>\n",
       "      <td>2042</td>\n",
       "      <td>1.427712</td>\n",
       "    </tr>\n",
       "    <tr>\n",
       "      <th rowspan=\"2\" valign=\"top\">Display</th>\n",
       "      <th>0</th>\n",
       "      <td>6120</td>\n",
       "      <td>97.732354</td>\n",
       "    </tr>\n",
       "    <tr>\n",
       "      <th>1</th>\n",
       "      <td>142</td>\n",
       "      <td>2.267646</td>\n",
       "    </tr>\n",
       "    <tr>\n",
       "      <th rowspan=\"2\" valign=\"top\">Organic Search</th>\n",
       "      <th>0</th>\n",
       "      <td>378123</td>\n",
       "      <td>99.098965</td>\n",
       "    </tr>\n",
       "    <tr>\n",
       "      <th>1</th>\n",
       "      <td>3438</td>\n",
       "      <td>0.901035</td>\n",
       "    </tr>\n",
       "    <tr>\n",
       "      <th rowspan=\"2\" valign=\"top\">Paid Search</th>\n",
       "      <th>0</th>\n",
       "      <td>24858</td>\n",
       "      <td>98.152097</td>\n",
       "    </tr>\n",
       "    <tr>\n",
       "      <th>1</th>\n",
       "      <td>468</td>\n",
       "      <td>1.847903</td>\n",
       "    </tr>\n",
       "    <tr>\n",
       "      <th rowspan=\"2\" valign=\"top\">Referral</th>\n",
       "      <th>0</th>\n",
       "      <td>99527</td>\n",
       "      <td>94.934089</td>\n",
       "    </tr>\n",
       "    <tr>\n",
       "      <th>1</th>\n",
       "      <td>5311</td>\n",
       "      <td>5.065911</td>\n",
       "    </tr>\n",
       "    <tr>\n",
       "      <th rowspan=\"2\" valign=\"top\">Social</th>\n",
       "      <th>0</th>\n",
       "      <td>226013</td>\n",
       "      <td>99.954006</td>\n",
       "    </tr>\n",
       "    <tr>\n",
       "      <th>1</th>\n",
       "      <td>104</td>\n",
       "      <td>0.045994</td>\n",
       "    </tr>\n",
       "  </tbody>\n",
       "</table>\n",
       "</div>"
      ],
      "text/plain": [
       "                      Count  Relative Frequency\n",
       "channelGrouping Buy                            \n",
       "(Other)         0       119           99.166667\n",
       "                1         1            0.833333\n",
       "Affiliates      0     16394           99.945132\n",
       "                1         9            0.054868\n",
       "Direct          0    140984           98.572288\n",
       "                1      2042            1.427712\n",
       "Display         0      6120           97.732354\n",
       "                1       142            2.267646\n",
       "Organic Search  0    378123           99.098965\n",
       "                1      3438            0.901035\n",
       "Paid Search     0     24858           98.152097\n",
       "                1       468            1.847903\n",
       "Referral        0     99527           94.934089\n",
       "                1      5311            5.065911\n",
       "Social          0    226013           99.954006\n",
       "                1       104            0.045994"
      ]
     },
     "execution_count": 28,
     "metadata": {},
     "output_type": "execute_result"
    }
   ],
   "source": [
    "Channel_Buy = (df_channel.groupby(['channelGrouping', 'Buy'])['revenue'].agg({'Count':'count'}))\n",
    "Channel_Buy['Relative Frequency'] = Channel_Buy.groupby(level=0).apply(lambda x: 100*x/float(x.sum()))\n",
    "Channel_Buy"
   ]
  },
  {
   "cell_type": "markdown",
   "metadata": {},
   "source": [
    "From above results, we can conclude that **customers from Referral channel are most possible to buy goods in gstore per visit**. Hence, when we build classification model, we may take `channelGrouping` feature into account."
   ]
  },
  {
   "cell_type": "markdown",
   "metadata": {},
   "source": [
    "### Did customers who purchased goods in gstore from specific channel buy more?\n",
    "\n",
    "In order to answer this question, we show boxplot for categorical variable (channelGrouping) vs. numerical variable (revenue)."
   ]
  },
  {
   "cell_type": "code",
   "execution_count": 29,
   "metadata": {},
   "outputs": [
    {
     "data": {
      "text/plain": [
       "<matplotlib.axes._subplots.AxesSubplot at 0x7f3f85d09a58>"
      ]
     },
     "execution_count": 29,
     "metadata": {},
     "output_type": "execute_result"
    },
    {
     "data": {
      "image/png": "[encoded data removed]",
      "text/plain": [
       "<matplotlib.figure.Figure at 0x7f3fa49dacf8>"
      ]
     },
     "metadata": {},
     "output_type": "display_data"
    }
   ],
   "source": [
    "# boxplot for categorical variable (channelGrouping) vs. numerical variable (revenue)\n",
    "df_channel_Buy = df_channel[df_channel['Buy'] == 1]\n",
    "sns.boxplot(x='revenue', y='channelGrouping', data=df_channel_Buy)"
   ]
  },
  {
   "cell_type": "markdown",
   "metadata": {},
   "source": [
    "From above figure, we cannot see the relation between channelGrouping and revenue due to large range of revenue in each channel. Thus, we do log transformation for revenue in the following."
   ]
  },
  {
   "cell_type": "code",
   "execution_count": 30,
   "metadata": {},
   "outputs": [
    {
     "data": {
      "text/plain": [
       "<matplotlib.axes._subplots.AxesSubplot at 0x7f3f85d09470>"
      ]
     },
     "execution_count": 30,
     "metadata": {},
     "output_type": "execute_result"
    },
    {
     "data": {
      "image/png": "[encoded data removed]",
      "text/plain": [
       "<matplotlib.figure.Figure at 0x7f3f964a8a58>"
      ]
     },
     "metadata": {},
     "output_type": "display_data"
    }
   ],
   "source": [
    "# Transform revenue by log function\n",
    "df_channel_Buy['log(revenue)'] = df_channel_Buy['revenue'].apply(np.log)\n",
    "sns.boxplot(x='log(revenue)', y='channelGrouping', data=df_channel_Buy)"
   ]
  },
  {
   "cell_type": "markdown",
   "metadata": {},
   "source": [
    "From above figure, we can see that **`revenue` has very weak relationship with `channelGrouping`** since median in each channel is close to each other. Hence, we may not include `channelGrouping` into our model to predict revenue."
   ]
  },
  {
   "cell_type": "code",
   "execution_count": 31,
   "metadata": {},
   "outputs": [],
   "source": [
    "# Delete useless dataframe\n",
    "del df_channel_Buy, Channel_Buy, df_channel"
   ]
  },
  {
   "cell_type": "markdown",
   "metadata": {},
   "source": [
    "## 2.2 date feature\n",
    "\n",
    "There are two variables related to time and can be used in time dependent analyzes, or Time Series. Now we study the relation between date feature and counts of customers purchasing.\n",
    "\n",
    "\n",
    "**1) Hypothesis Generation**\n",
    "\n",
    "a. There will be more customers purchasing goods during the holiday season, say Nov. and Dec.\n",
    "- Explanation - Purchasing rate will be higher during the holiday season.\n",
    "\n",
    "b. There will be more customers purchasing goods during the weekend.\n",
    "- Explanation - People need to work on weekdays so they may not have time to visit GStore.\n",
    "\n",
    "c. There will be higher transaction per visit during the holiday season, say Nov. and Dec.\n",
    "- Explanation - People will buy more goods when Thanksgiving, Christmas, and New Year coming."
   ]
  },
  {
   "cell_type": "markdown",
   "metadata": {},
   "source": [
    "**2) Feature Extraction**\n",
    "\n",
    "We will extract further info from the `date`. We have seen earlier that the data type of `date` is int64. So first of all we have to change the data type to datetime format otherwise we can not extract features from it."
   ]
  },
  {
   "cell_type": "code",
   "execution_count": 32,
   "metadata": {},
   "outputs": [],
   "source": [
    "df_train['date'] = pd.to_datetime(df_train['date'],format=\"%Y%m%d\") "
   ]
  },
  {
   "cell_type": "code",
   "execution_count": 33,
   "metadata": {},
   "outputs": [
    {
     "data": {
      "text/plain": [
       "0   2016-09-02\n",
       "1   2016-09-02\n",
       "2   2016-09-02\n",
       "3   2016-09-02\n",
       "4   2016-09-02\n",
       "Name: date, dtype: datetime64[ns]"
      ]
     },
     "execution_count": 33,
     "metadata": {},
     "output_type": "execute_result"
    }
   ],
   "source": [
    "df_train.head()['date']"
   ]
  },
  {
   "cell_type": "markdown",
   "metadata": {},
   "source": [
    " Let's extract the year, month, day from the `date` to validate our hypothesis."
   ]
  },
  {
   "cell_type": "code",
   "execution_count": 34,
   "metadata": {},
   "outputs": [],
   "source": [
    "df_time = df_train[['date', 'revenue', 'Buy']]\n",
    "df_time['year'] = pd.DatetimeIndex(df_time['date']).year\n",
    "df_time['month'] = pd.DatetimeIndex(df_time['date']).month\n",
    "df_time['day'] = pd.DatetimeIndex(df_time['date']).day"
   ]
  },
  {
   "cell_type": "code",
   "execution_count": 35,
   "metadata": {},
   "outputs": [
    {
     "data": {
      "text/html": [
       "<div>\n",
       "<style scoped>\n",
       "    .dataframe tbody tr th:only-of-type {\n",
       "        vertical-align: middle;\n",
       "    }\n",
       "\n",
       "    .dataframe tbody tr th {\n",
       "        vertical-align: top;\n",
       "    }\n",
       "\n",
       "    .dataframe thead th {\n",
       "        text-align: right;\n",
       "    }\n",
       "</style>\n",
       "<table border=\"1\" class=\"dataframe\">\n",
       "  <thead>\n",
       "    <tr style=\"text-align: right;\">\n",
       "      <th></th>\n",
       "      <th>date</th>\n",
       "      <th>revenue</th>\n",
       "      <th>Buy</th>\n",
       "      <th>year</th>\n",
       "      <th>month</th>\n",
       "      <th>day</th>\n",
       "    </tr>\n",
       "  </thead>\n",
       "  <tbody>\n",
       "    <tr>\n",
       "      <th>0</th>\n",
       "      <td>2016-09-02</td>\n",
       "      <td>0</td>\n",
       "      <td>0</td>\n",
       "      <td>2016</td>\n",
       "      <td>9</td>\n",
       "      <td>2</td>\n",
       "    </tr>\n",
       "    <tr>\n",
       "      <th>1</th>\n",
       "      <td>2016-09-02</td>\n",
       "      <td>0</td>\n",
       "      <td>0</td>\n",
       "      <td>2016</td>\n",
       "      <td>9</td>\n",
       "      <td>2</td>\n",
       "    </tr>\n",
       "    <tr>\n",
       "      <th>2</th>\n",
       "      <td>2016-09-02</td>\n",
       "      <td>0</td>\n",
       "      <td>0</td>\n",
       "      <td>2016</td>\n",
       "      <td>9</td>\n",
       "      <td>2</td>\n",
       "    </tr>\n",
       "    <tr>\n",
       "      <th>3</th>\n",
       "      <td>2016-09-02</td>\n",
       "      <td>0</td>\n",
       "      <td>0</td>\n",
       "      <td>2016</td>\n",
       "      <td>9</td>\n",
       "      <td>2</td>\n",
       "    </tr>\n",
       "    <tr>\n",
       "      <th>4</th>\n",
       "      <td>2016-09-02</td>\n",
       "      <td>0</td>\n",
       "      <td>0</td>\n",
       "      <td>2016</td>\n",
       "      <td>9</td>\n",
       "      <td>2</td>\n",
       "    </tr>\n",
       "  </tbody>\n",
       "</table>\n",
       "</div>"
      ],
      "text/plain": [
       "        date  revenue  Buy  year  month  day\n",
       "0 2016-09-02        0    0  2016      9    2\n",
       "1 2016-09-02        0    0  2016      9    2\n",
       "2 2016-09-02        0    0  2016      9    2\n",
       "3 2016-09-02        0    0  2016      9    2\n",
       "4 2016-09-02        0    0  2016      9    2"
      ]
     },
     "execution_count": 35,
     "metadata": {},
     "output_type": "execute_result"
    }
   ],
   "source": [
    "df_time.head()"
   ]
  },
  {
   "cell_type": "markdown",
   "metadata": {},
   "source": [
    "We made a hypothesis that customers will purchase more goods on weekday and weekend as well. So, let's make a weekend variable to visualize the impact of weekend on purchasing rate.\n",
    "\n",
    " - We will first extract the day of week from `date` and then based on the values we will assign whether the day is a weekend or not.\n",
    "\n",
    " - Values of 5 and 6 represents that the days are weekend.\n",
    "\n"
   ]
  },
  {
   "cell_type": "code",
   "execution_count": 36,
   "metadata": {},
   "outputs": [],
   "source": [
    "df_time['DayOfWeek']=df_time['date'].dt.dayofweek\n",
    "temp = df_time['date']"
   ]
  },
  {
   "cell_type": "markdown",
   "metadata": {},
   "source": [
    "Let’s assign 1 if the day of week is a weekend and 0 if the day of week in not a weekend."
   ]
  },
  {
   "cell_type": "code",
   "execution_count": 37,
   "metadata": {},
   "outputs": [],
   "source": [
    "def applyer(row):\n",
    "    if row.dayofweek == 5 or row.dayofweek == 6:\n",
    "        return 1\n",
    "    else:\n",
    "        return 0\n",
    "\n",
    "temp2 = df_time['date'].apply(applyer)\n",
    "df_time['weekend']=temp2"
   ]
  },
  {
   "cell_type": "markdown",
   "metadata": {},
   "source": [
    "Let's look at the time series."
   ]
  },
  {
   "cell_type": "code",
   "execution_count": 38,
   "metadata": {},
   "outputs": [
    {
     "data": {
      "text/html": [
       "<div>\n",
       "<style scoped>\n",
       "    .dataframe tbody tr th:only-of-type {\n",
       "        vertical-align: middle;\n",
       "    }\n",
       "\n",
       "    .dataframe tbody tr th {\n",
       "        vertical-align: top;\n",
       "    }\n",
       "\n",
       "    .dataframe thead th {\n",
       "        text-align: right;\n",
       "    }\n",
       "</style>\n",
       "<table border=\"1\" class=\"dataframe\">\n",
       "  <thead>\n",
       "    <tr style=\"text-align: right;\">\n",
       "      <th></th>\n",
       "      <th>date</th>\n",
       "      <th>revenue</th>\n",
       "      <th>Buy</th>\n",
       "      <th>year</th>\n",
       "      <th>month</th>\n",
       "      <th>day</th>\n",
       "      <th>DayOfWeek</th>\n",
       "      <th>weekend</th>\n",
       "    </tr>\n",
       "    <tr>\n",
       "      <th>date</th>\n",
       "      <th></th>\n",
       "      <th></th>\n",
       "      <th></th>\n",
       "      <th></th>\n",
       "      <th></th>\n",
       "      <th></th>\n",
       "      <th></th>\n",
       "      <th></th>\n",
       "    </tr>\n",
       "  </thead>\n",
       "  <tbody>\n",
       "    <tr>\n",
       "      <th>2016-09-02</th>\n",
       "      <td>2016-09-02</td>\n",
       "      <td>0</td>\n",
       "      <td>0</td>\n",
       "      <td>2016</td>\n",
       "      <td>9</td>\n",
       "      <td>2</td>\n",
       "      <td>4</td>\n",
       "      <td>0</td>\n",
       "    </tr>\n",
       "    <tr>\n",
       "      <th>2016-09-02</th>\n",
       "      <td>2016-09-02</td>\n",
       "      <td>0</td>\n",
       "      <td>0</td>\n",
       "      <td>2016</td>\n",
       "      <td>9</td>\n",
       "      <td>2</td>\n",
       "      <td>4</td>\n",
       "      <td>0</td>\n",
       "    </tr>\n",
       "    <tr>\n",
       "      <th>2016-09-02</th>\n",
       "      <td>2016-09-02</td>\n",
       "      <td>0</td>\n",
       "      <td>0</td>\n",
       "      <td>2016</td>\n",
       "      <td>9</td>\n",
       "      <td>2</td>\n",
       "      <td>4</td>\n",
       "      <td>0</td>\n",
       "    </tr>\n",
       "    <tr>\n",
       "      <th>2016-09-02</th>\n",
       "      <td>2016-09-02</td>\n",
       "      <td>0</td>\n",
       "      <td>0</td>\n",
       "      <td>2016</td>\n",
       "      <td>9</td>\n",
       "      <td>2</td>\n",
       "      <td>4</td>\n",
       "      <td>0</td>\n",
       "    </tr>\n",
       "    <tr>\n",
       "      <th>2016-09-02</th>\n",
       "      <td>2016-09-02</td>\n",
       "      <td>0</td>\n",
       "      <td>0</td>\n",
       "      <td>2016</td>\n",
       "      <td>9</td>\n",
       "      <td>2</td>\n",
       "      <td>4</td>\n",
       "      <td>0</td>\n",
       "    </tr>\n",
       "  </tbody>\n",
       "</table>\n",
       "</div>"
      ],
      "text/plain": [
       "                 date  revenue  Buy  year  month  day  DayOfWeek  weekend\n",
       "date                                                                     \n",
       "2016-09-02 2016-09-02        0    0  2016      9    2          4        0\n",
       "2016-09-02 2016-09-02        0    0  2016      9    2          4        0\n",
       "2016-09-02 2016-09-02        0    0  2016      9    2          4        0\n",
       "2016-09-02 2016-09-02        0    0  2016      9    2          4        0\n",
       "2016-09-02 2016-09-02        0    0  2016      9    2          4        0"
      ]
     },
     "execution_count": 38,
     "metadata": {},
     "output_type": "execute_result"
    }
   ],
   "source": [
    "df_time.index = df_time['date'] # indexing the Datetime to get the time period on the x-axis.\n",
    "df_time.head()"
   ]
  },
  {
   "cell_type": "code",
   "execution_count": 39,
   "metadata": {},
   "outputs": [
    {
     "data": {
      "text/html": [
       "<div>\n",
       "<style scoped>\n",
       "    .dataframe tbody tr th:only-of-type {\n",
       "        vertical-align: middle;\n",
       "    }\n",
       "\n",
       "    .dataframe tbody tr th {\n",
       "        vertical-align: top;\n",
       "    }\n",
       "\n",
       "    .dataframe thead th {\n",
       "        text-align: right;\n",
       "    }\n",
       "</style>\n",
       "<table border=\"1\" class=\"dataframe\">\n",
       "  <thead>\n",
       "    <tr style=\"text-align: right;\">\n",
       "      <th></th>\n",
       "      <th>date</th>\n",
       "      <th>revenue</th>\n",
       "      <th>Buy</th>\n",
       "      <th>year</th>\n",
       "      <th>month</th>\n",
       "      <th>day</th>\n",
       "      <th>DayOfWeek</th>\n",
       "      <th>weekend</th>\n",
       "    </tr>\n",
       "    <tr>\n",
       "      <th>date</th>\n",
       "      <th></th>\n",
       "      <th></th>\n",
       "      <th></th>\n",
       "      <th></th>\n",
       "      <th></th>\n",
       "      <th></th>\n",
       "      <th></th>\n",
       "      <th></th>\n",
       "    </tr>\n",
       "  </thead>\n",
       "  <tbody>\n",
       "    <tr>\n",
       "      <th>2016-09-02</th>\n",
       "      <td>2016-09-02</td>\n",
       "      <td>37860000</td>\n",
       "      <td>1</td>\n",
       "      <td>2016</td>\n",
       "      <td>9</td>\n",
       "      <td>2</td>\n",
       "      <td>4</td>\n",
       "      <td>0</td>\n",
       "    </tr>\n",
       "    <tr>\n",
       "      <th>2016-09-02</th>\n",
       "      <td>2016-09-02</td>\n",
       "      <td>306670000</td>\n",
       "      <td>1</td>\n",
       "      <td>2016</td>\n",
       "      <td>9</td>\n",
       "      <td>2</td>\n",
       "      <td>4</td>\n",
       "      <td>0</td>\n",
       "    </tr>\n",
       "    <tr>\n",
       "      <th>2016-09-02</th>\n",
       "      <td>2016-09-02</td>\n",
       "      <td>68030000</td>\n",
       "      <td>1</td>\n",
       "      <td>2016</td>\n",
       "      <td>9</td>\n",
       "      <td>2</td>\n",
       "      <td>4</td>\n",
       "      <td>0</td>\n",
       "    </tr>\n",
       "    <tr>\n",
       "      <th>2016-09-02</th>\n",
       "      <td>2016-09-02</td>\n",
       "      <td>26250000</td>\n",
       "      <td>1</td>\n",
       "      <td>2016</td>\n",
       "      <td>9</td>\n",
       "      <td>2</td>\n",
       "      <td>4</td>\n",
       "      <td>0</td>\n",
       "    </tr>\n",
       "    <tr>\n",
       "      <th>2016-09-02</th>\n",
       "      <td>2016-09-02</td>\n",
       "      <td>574150000</td>\n",
       "      <td>1</td>\n",
       "      <td>2016</td>\n",
       "      <td>9</td>\n",
       "      <td>2</td>\n",
       "      <td>4</td>\n",
       "      <td>0</td>\n",
       "    </tr>\n",
       "  </tbody>\n",
       "</table>\n",
       "</div>"
      ],
      "text/plain": [
       "                 date    revenue  Buy  year  month  day  DayOfWeek  weekend\n",
       "date                                                                       \n",
       "2016-09-02 2016-09-02   37860000    1  2016      9    2          4        0\n",
       "2016-09-02 2016-09-02  306670000    1  2016      9    2          4        0\n",
       "2016-09-02 2016-09-02   68030000    1  2016      9    2          4        0\n",
       "2016-09-02 2016-09-02   26250000    1  2016      9    2          4        0\n",
       "2016-09-02 2016-09-02  574150000    1  2016      9    2          4        0"
      ]
     },
     "execution_count": 39,
     "metadata": {},
     "output_type": "execute_result"
    }
   ],
   "source": [
    "df_time_buy = df_time[df_time['Buy'] == 1]\n",
    "df_time_buy.head()"
   ]
  },
  {
   "cell_type": "markdown",
   "metadata": {},
   "source": [
    "**3) Exploratory Analysis**\n",
    "\n",
    "Our first hypothesis was purchasing rate will be higher in holiday season."
   ]
  },
  {
   "cell_type": "code",
   "execution_count": 40,
   "metadata": {},
   "outputs": [
    {
     "data": {
      "text/plain": [
       "Text(0,0.5,'Visit Count')"
      ]
     },
     "execution_count": 40,
     "metadata": {},
     "output_type": "execute_result"
    },
    {
     "data": {
      "image/png": "[encoded data removed]",
      "text/plain": [
       "<matplotlib.figure.Figure at 0x7f3fa4812390>"
      ]
     },
     "metadata": {},
     "output_type": "display_data"
    }
   ],
   "source": [
    "# using an html hex string for color\n",
    "color = '#0099ff'\n",
    "df_time.groupby(['year','month']).size().plot.bar(rot = 55, color=color)\n",
    "plt.ylabel('Visit Count')"
   ]
  },
  {
   "cell_type": "markdown",
   "metadata": {},
   "source": [
    "As we can see in above figure, **there are more customers visiting GStore in Oct., Nov., and Dec. due to holiday season**. In particular, there are the most customers visiting GStore in Nov. It is reasonable since people normally look for gifts before Christmas, and there may more deductions in Nov. like Black Friday. But does it also implies higher purchasing rate in that period? Let's examine that in the following."
   ]
  },
  {
   "cell_type": "code",
   "execution_count": 41,
   "metadata": {},
   "outputs": [
    {
     "data": {
      "text/plain": [
       "Text(0,0.5,'Purchasing Rate')"
      ]
     },
     "execution_count": 41,
     "metadata": {},
     "output_type": "execute_result"
    },
    {
     "data": {
      "image/png": "[encoded data removed]",
      "text/plain": [
       "<matplotlib.figure.Figure at 0x7f3f92eb5198>"
      ]
     },
     "metadata": {},
     "output_type": "display_data"
    }
   ],
   "source": [
    "df_time.groupby(['year','month'])['Buy'].mean().plot.bar(color=color)\n",
    "plt.ylabel('Purchasing Rate')"
   ]
  },
  {
   "cell_type": "markdown",
   "metadata": {},
   "source": [
    "As we can see in above figure, **there's no clear relation between time and purchasing rate so we won't include the month to determine whether customers will buy goods in GStore or not**."
   ]
  },
  {
   "cell_type": "markdown",
   "metadata": {},
   "source": [
    "Next, we examine our second hypothesis, there will be more customers purchasing goods during the weekend."
   ]
  },
  {
   "cell_type": "code",
   "execution_count": 42,
   "metadata": {},
   "outputs": [
    {
     "data": {
      "text/plain": [
       "Text(0,0.5,'Purchasing Rate')"
      ]
     },
     "execution_count": 42,
     "metadata": {},
     "output_type": "execute_result"
    },
    {
     "data": {
      "image/png": "[encoded data removed]",
      "text/plain": [
       "<matplotlib.figure.Figure at 0x7f3fa47b1ac8>"
      ]
     },
     "metadata": {},
     "output_type": "display_data"
    }
   ],
   "source": [
    "df_time.groupby('weekend')['Buy'].mean().plot.bar(color=color)\n",
    "plt.ylabel('Purchasing Rate')"
   ]
  },
  {
   "cell_type": "markdown",
   "metadata": {},
   "source": [
    "In above figure, 0 denotes the weekday and 1 denotes the weekend. It is clear that our second hypothesis is not right. From the figure, we can see that **there are higher purchasing rate in weekdays**. Probably, that is because when people work or people go to office on weekdays, they have more chances to access the electric devices to visit the Google Merchandise Store."
   ]
  },
  {
   "cell_type": "markdown",
   "metadata": {},
   "source": [
    "In the end, we examine whether there will be higher transaction per visit during the holiday season, say Nov. and Dec. in the following:"
   ]
  },
  {
   "cell_type": "code",
   "execution_count": 43,
   "metadata": {},
   "outputs": [
    {
     "data": {
      "text/plain": [
       "[<matplotlib.lines.Line2D at 0x7f3fa479db38>]"
      ]
     },
     "execution_count": 43,
     "metadata": {},
     "output_type": "execute_result"
    },
    {
     "data": {
      "image/png": "[encoded data removed]",
      "text/plain": [
       "<matplotlib.figure.Figure at 0x7f3fa47ae748>"
      ]
     },
     "metadata": {},
     "output_type": "display_data"
    }
   ],
   "source": [
    "daily_transaction_per_visit_df = df_time_buy[['date','revenue']].groupby(by=['date'],axis=0).mean()\n",
    "fig, axes = plt.subplots(figsize=(20,10))\n",
    "axes.set_title(\"Daily Transaction per Visit\")\n",
    "axes.set_ylabel(\"Transaction per Visit\")\n",
    "axes.set_xlabel(\"date\")\n",
    "axes.plot(daily_transaction_per_visit_df[\"revenue\"])"
   ]
  },
  {
   "cell_type": "markdown",
   "metadata": {},
   "source": [
    "From above result, we can see that the transaction per visit do not peak at Nov. and Dec. so our last hypothesis is wrong. **Note that since we will predict the transaction per visit if customer buy goods in the store, we will classify whether customer will purchase or not per visit first. Then predict the transaction value per visit for those who will purchase products in the store so we DO NOT include the transaction  value per visit, or 0, for those who will not purchase into model training.** As we have seen earlier, there are many zero transaction value per visit in the training dataset so if we include them into modle construction, then they will worse the accuracy of prediction. "
   ]
  },
  {
   "cell_type": "code",
   "execution_count": 44,
   "metadata": {},
   "outputs": [],
   "source": [
    "# Clean dataframe\n",
    "del daily_transaction_per_visit_df, df_time_buy, df_time"
   ]
  },
  {
   "cell_type": "markdown",
   "metadata": {},
   "source": [
    "## 2.3 device feature\n",
    "\n",
    "The field, `device`, is stored in json format. It is necessary to extract its fields and analyze them. Using `json_read` function to deserializing json values."
   ]
  },
  {
   "cell_type": "code",
   "execution_count": 45,
   "metadata": {},
   "outputs": [
    {
     "data": {
      "text/plain": [
       "'{\"browser\": \"Chrome\", \"browserVersion\": \"not available in demo dataset\", \"browserSize\": \"not available in demo dataset\", \"operatingSystem\": \"Android\", \"operatingSystemVersion\": \"not available in demo dataset\", \"isMobile\": true, \"mobileDeviceBranding\": \"not available in demo dataset\", \"mobileDeviceModel\": \"not available in demo dataset\", \"mobileInputSelector\": \"not available in demo dataset\", \"mobileDeviceInfo\": \"not available in demo dataset\", \"mobileDeviceMarketingName\": \"not available in demo dataset\", \"flashVersion\": \"not available in demo dataset\", \"language\": \"not available in demo dataset\", \"screenColors\": \"not available in demo dataset\", \"screenResolution\": \"not available in demo dataset\", \"deviceCategory\": \"tablet\"}'"
      ]
     },
     "execution_count": 45,
     "metadata": {},
     "output_type": "execute_result"
    }
   ],
   "source": [
    "df_train.iloc[10,2]"
   ]
  },
  {
   "cell_type": "markdown",
   "metadata": {},
   "source": [
    "There are many keys in device attribute with values \"not available in demo dataset\" so we should ignore these features. \n",
    "\n",
    "### What device do customers frequently use to visit the store?\n",
    "\n",
    "In order to answer this question, we consider `deviceCategory` in the following. Note that `isMobile` and `deviceCategory` are related. In what follows, we also examine whther using `deviceCategory` can gain more insight, or one can use `isMobile` instead."
   ]
  },
  {
   "cell_type": "code",
   "execution_count": 46,
   "metadata": {},
   "outputs": [],
   "source": [
    "df_device = df_train[['device', 'revenue', 'Buy']]"
   ]
  },
  {
   "cell_type": "code",
   "execution_count": 47,
   "metadata": {
    "scrolled": true
   },
   "outputs": [
    {
     "data": {
      "text/html": [
       "<div>\n",
       "<style scoped>\n",
       "    .dataframe tbody tr th:only-of-type {\n",
       "        vertical-align: middle;\n",
       "    }\n",
       "\n",
       "    .dataframe tbody tr th {\n",
       "        vertical-align: top;\n",
       "    }\n",
       "\n",
       "    .dataframe thead th {\n",
       "        text-align: right;\n",
       "    }\n",
       "</style>\n",
       "<table border=\"1\" class=\"dataframe\">\n",
       "  <thead>\n",
       "    <tr style=\"text-align: right;\">\n",
       "      <th></th>\n",
       "      <th>device</th>\n",
       "      <th>revenue</th>\n",
       "      <th>Buy</th>\n",
       "      <th>DeviceCategory</th>\n",
       "    </tr>\n",
       "  </thead>\n",
       "  <tbody>\n",
       "    <tr>\n",
       "      <th>0</th>\n",
       "      <td>{\"browser\": \"Chrome\", \"browserVersion\": \"not a...</td>\n",
       "      <td>0</td>\n",
       "      <td>0</td>\n",
       "      <td>desktop</td>\n",
       "    </tr>\n",
       "    <tr>\n",
       "      <th>1</th>\n",
       "      <td>{\"browser\": \"Firefox\", \"browserVersion\": \"not ...</td>\n",
       "      <td>0</td>\n",
       "      <td>0</td>\n",
       "      <td>desktop</td>\n",
       "    </tr>\n",
       "    <tr>\n",
       "      <th>2</th>\n",
       "      <td>{\"browser\": \"Chrome\", \"browserVersion\": \"not a...</td>\n",
       "      <td>0</td>\n",
       "      <td>0</td>\n",
       "      <td>desktop</td>\n",
       "    </tr>\n",
       "    <tr>\n",
       "      <th>3</th>\n",
       "      <td>{\"browser\": \"UC Browser\", \"browserVersion\": \"n...</td>\n",
       "      <td>0</td>\n",
       "      <td>0</td>\n",
       "      <td>desktop</td>\n",
       "    </tr>\n",
       "    <tr>\n",
       "      <th>4</th>\n",
       "      <td>{\"browser\": \"Chrome\", \"browserVersion\": \"not a...</td>\n",
       "      <td>0</td>\n",
       "      <td>0</td>\n",
       "      <td>mobile</td>\n",
       "    </tr>\n",
       "  </tbody>\n",
       "</table>\n",
       "</div>"
      ],
      "text/plain": [
       "                                              device  revenue  Buy  \\\n",
       "0  {\"browser\": \"Chrome\", \"browserVersion\": \"not a...        0    0   \n",
       "1  {\"browser\": \"Firefox\", \"browserVersion\": \"not ...        0    0   \n",
       "2  {\"browser\": \"Chrome\", \"browserVersion\": \"not a...        0    0   \n",
       "3  {\"browser\": \"UC Browser\", \"browserVersion\": \"n...        0    0   \n",
       "4  {\"browser\": \"Chrome\", \"browserVersion\": \"not a...        0    0   \n",
       "\n",
       "  DeviceCategory  \n",
       "0        desktop  \n",
       "1        desktop  \n",
       "2        desktop  \n",
       "3        desktop  \n",
       "4         mobile  "
      ]
     },
     "execution_count": 47,
     "metadata": {},
     "output_type": "execute_result"
    }
   ],
   "source": [
    "# Extract deviceCategory from device field\n",
    "field_name = 'device' \n",
    "extract_field = 'deviceCategory'\n",
    "new_field_name = 'DeviceCategory'\n",
    "\n",
    "json_read(df_device, field_name, extract_field, new_field_name).head()"
   ]
  },
  {
   "cell_type": "code",
   "execution_count": 48,
   "metadata": {},
   "outputs": [
    {
     "data": {
      "text/plain": [
       "0"
      ]
     },
     "execution_count": 48,
     "metadata": {},
     "output_type": "execute_result"
    }
   ],
   "source": [
    "# Check whether there's missing values in DeviceCategory column\n",
    "pd.isna(df_device['DeviceCategory']).sum()"
   ]
  },
  {
   "cell_type": "code",
   "execution_count": 49,
   "metadata": {},
   "outputs": [
    {
     "data": {
      "text/plain": [
       "Text(0,0.5,'Visit Count')"
      ]
     },
     "execution_count": 49,
     "metadata": {},
     "output_type": "execute_result"
    },
    {
     "data": {
      "image/png": "[encoded data removed]",
      "text/plain": [
       "<matplotlib.figure.Figure at 0x7f3fa47902b0>"
      ]
     },
     "metadata": {},
     "output_type": "display_data"
    }
   ],
   "source": [
    "# using an html hex string for color\n",
    "color = '#0099ff'\n",
    "df_device.groupby(['DeviceCategory']).size().plot.bar(rot = 0, color=color)\n",
    "plt.ylabel('Visit Count')"
   ]
  },
  {
   "cell_type": "markdown",
   "metadata": {},
   "source": [
    "As we can see in the above bar plot, **most of customers visit the store via desktop device**. Also, visit counts for tablet is very small compared to mobile and desktop, and tablet and mobile can be regarded as mobile devices. Hence, we can group mobile and tablet features together, and we can classify the device is mobile device or not. This is nothing but `isMobile` in `device` attribute. Let's extract `isMobile` from `device` in the following:"
   ]
  },
  {
   "cell_type": "code",
   "execution_count": 50,
   "metadata": {
    "scrolled": true
   },
   "outputs": [
    {
     "data": {
      "text/html": [
       "<div>\n",
       "<style scoped>\n",
       "    .dataframe tbody tr th:only-of-type {\n",
       "        vertical-align: middle;\n",
       "    }\n",
       "\n",
       "    .dataframe tbody tr th {\n",
       "        vertical-align: top;\n",
       "    }\n",
       "\n",
       "    .dataframe thead th {\n",
       "        text-align: right;\n",
       "    }\n",
       "</style>\n",
       "<table border=\"1\" class=\"dataframe\">\n",
       "  <thead>\n",
       "    <tr style=\"text-align: right;\">\n",
       "      <th></th>\n",
       "      <th>device</th>\n",
       "      <th>revenue</th>\n",
       "      <th>Buy</th>\n",
       "      <th>DeviceCategory</th>\n",
       "      <th>IsMobile</th>\n",
       "    </tr>\n",
       "  </thead>\n",
       "  <tbody>\n",
       "    <tr>\n",
       "      <th>0</th>\n",
       "      <td>{\"browser\": \"Chrome\", \"browserVersion\": \"not a...</td>\n",
       "      <td>0</td>\n",
       "      <td>0</td>\n",
       "      <td>desktop</td>\n",
       "      <td>False</td>\n",
       "    </tr>\n",
       "    <tr>\n",
       "      <th>1</th>\n",
       "      <td>{\"browser\": \"Firefox\", \"browserVersion\": \"not ...</td>\n",
       "      <td>0</td>\n",
       "      <td>0</td>\n",
       "      <td>desktop</td>\n",
       "      <td>False</td>\n",
       "    </tr>\n",
       "    <tr>\n",
       "      <th>2</th>\n",
       "      <td>{\"browser\": \"Chrome\", \"browserVersion\": \"not a...</td>\n",
       "      <td>0</td>\n",
       "      <td>0</td>\n",
       "      <td>desktop</td>\n",
       "      <td>False</td>\n",
       "    </tr>\n",
       "    <tr>\n",
       "      <th>3</th>\n",
       "      <td>{\"browser\": \"UC Browser\", \"browserVersion\": \"n...</td>\n",
       "      <td>0</td>\n",
       "      <td>0</td>\n",
       "      <td>desktop</td>\n",
       "      <td>False</td>\n",
       "    </tr>\n",
       "    <tr>\n",
       "      <th>4</th>\n",
       "      <td>{\"browser\": \"Chrome\", \"browserVersion\": \"not a...</td>\n",
       "      <td>0</td>\n",
       "      <td>0</td>\n",
       "      <td>mobile</td>\n",
       "      <td>True</td>\n",
       "    </tr>\n",
       "  </tbody>\n",
       "</table>\n",
       "</div>"
      ],
      "text/plain": [
       "                                              device  revenue  Buy  \\\n",
       "0  {\"browser\": \"Chrome\", \"browserVersion\": \"not a...        0    0   \n",
       "1  {\"browser\": \"Firefox\", \"browserVersion\": \"not ...        0    0   \n",
       "2  {\"browser\": \"Chrome\", \"browserVersion\": \"not a...        0    0   \n",
       "3  {\"browser\": \"UC Browser\", \"browserVersion\": \"n...        0    0   \n",
       "4  {\"browser\": \"Chrome\", \"browserVersion\": \"not a...        0    0   \n",
       "\n",
       "  DeviceCategory  IsMobile  \n",
       "0        desktop     False  \n",
       "1        desktop     False  \n",
       "2        desktop     False  \n",
       "3        desktop     False  \n",
       "4         mobile      True  "
      ]
     },
     "execution_count": 50,
     "metadata": {},
     "output_type": "execute_result"
    }
   ],
   "source": [
    "# Extract deviceCategory from device field\n",
    "field_name = 'device' \n",
    "extract_field = 'isMobile'\n",
    "new_field_name = 'IsMobile'\n",
    "\n",
    "json_read(df_device, field_name, extract_field, new_field_name).head()"
   ]
  },
  {
   "cell_type": "markdown",
   "metadata": {},
   "source": [
    "From above table, we can see that `IsMobile` is False if  `DeviceCategory` is \"desktop\". In contrast, `IsMobile` is True if  `DeviceCategory` is \"mobile\" or \"tablet\"."
   ]
  },
  {
   "cell_type": "code",
   "execution_count": 51,
   "metadata": {},
   "outputs": [
    {
     "name": "stdout",
     "output_type": "stream",
     "text": [
      "Memory usage is 0.7886659559999999 Gb\n"
     ]
    }
   ],
   "source": [
    "# Estimate total memory usage\n",
    "usage = df_device.memory_usage(deep=True).sum() * 1e-6\n",
    "print('Memory usage is {} Gb'.format(usage/1000))"
   ]
  },
  {
   "cell_type": "code",
   "execution_count": 52,
   "metadata": {},
   "outputs": [
    {
     "data": {
      "text/plain": [
       "dtype('bool')"
      ]
     },
     "execution_count": 52,
     "metadata": {},
     "output_type": "execute_result"
    }
   ],
   "source": [
    "# Check data type in IsMobile\n",
    "df_device['IsMobile'].dtypes"
   ]
  },
  {
   "cell_type": "markdown",
   "metadata": {},
   "source": [
    "### Is IsMobile related to purchasing rate?"
   ]
  },
  {
   "cell_type": "code",
   "execution_count": 53,
   "metadata": {},
   "outputs": [
    {
     "data": {
      "text/plain": [
       "Text(0,0.5,'Purchasing Rate')"
      ]
     },
     "execution_count": 53,
     "metadata": {},
     "output_type": "execute_result"
    },
    {
     "data": {
      "image/png": "[encoded data removed]",
      "text/plain": [
       "<matplotlib.figure.Figure at 0x7f3fa47559b0>"
      ]
     },
     "metadata": {},
     "output_type": "display_data"
    }
   ],
   "source": [
    "df_device.groupby('IsMobile')['Buy'].mean().plot.bar(color=color, rot = 0)\n",
    "plt.ylabel('Purchasing Rate')"
   ]
  },
  {
   "cell_type": "markdown",
   "metadata": {},
   "source": [
    "From above result, we can see that customers using desktop are more willing to purchase in store. Thus, **when we build classifier to determine whether customer will purchase or not when visiting the store, we need to include `IsMobile` feature.** "
   ]
  },
  {
   "cell_type": "markdown",
   "metadata": {},
   "source": [
    "### Is IsMobile related to revenue per visit?"
   ]
  },
  {
   "cell_type": "code",
   "execution_count": 54,
   "metadata": {},
   "outputs": [
    {
     "data": {
      "text/html": [
       "<div>\n",
       "<style scoped>\n",
       "    .dataframe tbody tr th:only-of-type {\n",
       "        vertical-align: middle;\n",
       "    }\n",
       "\n",
       "    .dataframe tbody tr th {\n",
       "        vertical-align: top;\n",
       "    }\n",
       "\n",
       "    .dataframe thead th {\n",
       "        text-align: right;\n",
       "    }\n",
       "</style>\n",
       "<table border=\"1\" class=\"dataframe\">\n",
       "  <thead>\n",
       "    <tr style=\"text-align: right;\">\n",
       "      <th></th>\n",
       "      <th>device</th>\n",
       "      <th>revenue</th>\n",
       "      <th>Buy</th>\n",
       "      <th>DeviceCategory</th>\n",
       "      <th>IsMobile</th>\n",
       "    </tr>\n",
       "  </thead>\n",
       "  <tbody>\n",
       "    <tr>\n",
       "      <th>752</th>\n",
       "      <td>{\"browser\": \"Chrome\", \"browserVersion\": \"not a...</td>\n",
       "      <td>37860000</td>\n",
       "      <td>1</td>\n",
       "      <td>desktop</td>\n",
       "      <td>False</td>\n",
       "    </tr>\n",
       "    <tr>\n",
       "      <th>753</th>\n",
       "      <td>{\"browser\": \"Chrome\", \"browserVersion\": \"not a...</td>\n",
       "      <td>306670000</td>\n",
       "      <td>1</td>\n",
       "      <td>desktop</td>\n",
       "      <td>False</td>\n",
       "    </tr>\n",
       "    <tr>\n",
       "      <th>799</th>\n",
       "      <td>{\"browser\": \"Chrome\", \"browserVersion\": \"not a...</td>\n",
       "      <td>68030000</td>\n",
       "      <td>1</td>\n",
       "      <td>desktop</td>\n",
       "      <td>False</td>\n",
       "    </tr>\n",
       "    <tr>\n",
       "      <th>802</th>\n",
       "      <td>{\"browser\": \"Chrome\", \"browserVersion\": \"not a...</td>\n",
       "      <td>26250000</td>\n",
       "      <td>1</td>\n",
       "      <td>desktop</td>\n",
       "      <td>False</td>\n",
       "    </tr>\n",
       "    <tr>\n",
       "      <th>859</th>\n",
       "      <td>{\"browser\": \"Chrome\", \"browserVersion\": \"not a...</td>\n",
       "      <td>574150000</td>\n",
       "      <td>1</td>\n",
       "      <td>desktop</td>\n",
       "      <td>False</td>\n",
       "    </tr>\n",
       "  </tbody>\n",
       "</table>\n",
       "</div>"
      ],
      "text/plain": [
       "                                                device    revenue  Buy  \\\n",
       "752  {\"browser\": \"Chrome\", \"browserVersion\": \"not a...   37860000    1   \n",
       "753  {\"browser\": \"Chrome\", \"browserVersion\": \"not a...  306670000    1   \n",
       "799  {\"browser\": \"Chrome\", \"browserVersion\": \"not a...   68030000    1   \n",
       "802  {\"browser\": \"Chrome\", \"browserVersion\": \"not a...   26250000    1   \n",
       "859  {\"browser\": \"Chrome\", \"browserVersion\": \"not a...  574150000    1   \n",
       "\n",
       "    DeviceCategory  IsMobile  \n",
       "752        desktop     False  \n",
       "753        desktop     False  \n",
       "799        desktop     False  \n",
       "802        desktop     False  \n",
       "859        desktop     False  "
      ]
     },
     "execution_count": 54,
     "metadata": {},
     "output_type": "execute_result"
    }
   ],
   "source": [
    "df_device_Buy = df_device[df_device['Buy']==1]\n",
    "df_device_Buy.head()"
   ]
  },
  {
   "cell_type": "code",
   "execution_count": 55,
   "metadata": {},
   "outputs": [],
   "source": [
    "# Transform revenue by log function\n",
    "df_device_Buy['log(revenue)'] = df_device_Buy['revenue'].apply(np.log)"
   ]
  },
  {
   "cell_type": "code",
   "execution_count": 56,
   "metadata": {},
   "outputs": [
    {
     "data": {
      "text/plain": [
       "<matplotlib.axes._subplots.AxesSubplot at 0x7f3fa47a8a20>"
      ]
     },
     "execution_count": 56,
     "metadata": {},
     "output_type": "execute_result"
    },
    {
     "data": {
      "image/png": "[encoded data removed]",
      "text/plain": [
       "<matplotlib.figure.Figure at 0x7f3fa4798cf8>"
      ]
     },
     "metadata": {},
     "output_type": "display_data"
    }
   ],
   "source": [
    "sns.boxplot(x='IsMobile', y='log(revenue)', data=df_device_Buy)"
   ]
  },
  {
   "cell_type": "markdown",
   "metadata": {},
   "source": [
    "As we can see in the above box plot, the medians for mobile device and non-mobile device are very close to each other. This implies that revenue per visit is not correlated to `IsMobile` feature. Thus, **we won't include `IsMobile` feature into our model to predict revenue per visit.**"
   ]
  },
  {
   "cell_type": "code",
   "execution_count": 57,
   "metadata": {},
   "outputs": [],
   "source": [
    "del df_device_Buy, df_device"
   ]
  },
  {
   "cell_type": "markdown",
   "metadata": {},
   "source": [
    "## 2.4 geoNetwork\n",
    "\n",
    "The field, `geoNetwork`, is stored in json format. It is necessary to extract its fields and analyze them. Using json_read function to deserializing json values."
   ]
  },
  {
   "cell_type": "code",
   "execution_count": 58,
   "metadata": {},
   "outputs": [
    {
     "data": {
      "text/plain": [
       "'{\"continent\": \"Europe\", \"subContinent\": \"Western Europe\", \"country\": \"Germany\", \"region\": \"(not set)\", \"metro\": \"(not set)\", \"city\": \"(not set)\", \"cityId\": \"not available in demo dataset\", \"networkDomain\": \"live-servers.net\", \"latitude\": \"not available in demo dataset\", \"longitude\": \"not available in demo dataset\", \"networkLocation\": \"not available in demo dataset\"}'"
      ]
     },
     "execution_count": 58,
     "metadata": {},
     "output_type": "execute_result"
    }
   ],
   "source": [
    "df_train.loc[21,'geoNetwork']"
   ]
  },
  {
   "cell_type": "code",
   "execution_count": 59,
   "metadata": {},
   "outputs": [
    {
     "data": {
      "text/html": [
       "<div>\n",
       "<style scoped>\n",
       "    .dataframe tbody tr th:only-of-type {\n",
       "        vertical-align: middle;\n",
       "    }\n",
       "\n",
       "    .dataframe tbody tr th {\n",
       "        vertical-align: top;\n",
       "    }\n",
       "\n",
       "    .dataframe thead th {\n",
       "        text-align: right;\n",
       "    }\n",
       "</style>\n",
       "<table border=\"1\" class=\"dataframe\">\n",
       "  <thead>\n",
       "    <tr style=\"text-align: right;\">\n",
       "      <th></th>\n",
       "      <th>geoNetwork</th>\n",
       "      <th>revenue</th>\n",
       "      <th>Buy</th>\n",
       "    </tr>\n",
       "  </thead>\n",
       "  <tbody>\n",
       "    <tr>\n",
       "      <th>0</th>\n",
       "      <td>{\"continent\": \"Asia\", \"subContinent\": \"Western...</td>\n",
       "      <td>0</td>\n",
       "      <td>0</td>\n",
       "    </tr>\n",
       "    <tr>\n",
       "      <th>1</th>\n",
       "      <td>{\"continent\": \"Oceania\", \"subContinent\": \"Aust...</td>\n",
       "      <td>0</td>\n",
       "      <td>0</td>\n",
       "    </tr>\n",
       "    <tr>\n",
       "      <th>2</th>\n",
       "      <td>{\"continent\": \"Europe\", \"subContinent\": \"South...</td>\n",
       "      <td>0</td>\n",
       "      <td>0</td>\n",
       "    </tr>\n",
       "    <tr>\n",
       "      <th>3</th>\n",
       "      <td>{\"continent\": \"Asia\", \"subContinent\": \"Southea...</td>\n",
       "      <td>0</td>\n",
       "      <td>0</td>\n",
       "    </tr>\n",
       "    <tr>\n",
       "      <th>4</th>\n",
       "      <td>{\"continent\": \"Europe\", \"subContinent\": \"North...</td>\n",
       "      <td>0</td>\n",
       "      <td>0</td>\n",
       "    </tr>\n",
       "  </tbody>\n",
       "</table>\n",
       "</div>"
      ],
      "text/plain": [
       "                                          geoNetwork  revenue  Buy\n",
       "0  {\"continent\": \"Asia\", \"subContinent\": \"Western...        0    0\n",
       "1  {\"continent\": \"Oceania\", \"subContinent\": \"Aust...        0    0\n",
       "2  {\"continent\": \"Europe\", \"subContinent\": \"South...        0    0\n",
       "3  {\"continent\": \"Asia\", \"subContinent\": \"Southea...        0    0\n",
       "4  {\"continent\": \"Europe\", \"subContinent\": \"North...        0    0"
      ]
     },
     "execution_count": 59,
     "metadata": {},
     "output_type": "execute_result"
    }
   ],
   "source": [
    "df_geo = df_train[['geoNetwork', 'revenue', 'Buy']]\n",
    "df_geo.head()"
   ]
  },
  {
   "cell_type": "code",
   "execution_count": 60,
   "metadata": {},
   "outputs": [
    {
     "name": "stdout",
     "output_type": "stream",
     "text": [
      "Memory usage is 0.43120559699999994 Gb\n"
     ]
    }
   ],
   "source": [
    "# Estimate total memory usage\n",
    "usage = df_geo.memory_usage(deep=True).sum() * 1e-6\n",
    "print('Memory usage is {} Gb'.format(usage/1000))"
   ]
  },
  {
   "cell_type": "markdown",
   "metadata": {},
   "source": [
    "### Which continent has the most visitors to GStore?"
   ]
  },
  {
   "cell_type": "code",
   "execution_count": 61,
   "metadata": {
    "scrolled": true
   },
   "outputs": [
    {
     "data": {
      "text/html": [
       "<div>\n",
       "<style scoped>\n",
       "    .dataframe tbody tr th:only-of-type {\n",
       "        vertical-align: middle;\n",
       "    }\n",
       "\n",
       "    .dataframe tbody tr th {\n",
       "        vertical-align: top;\n",
       "    }\n",
       "\n",
       "    .dataframe thead th {\n",
       "        text-align: right;\n",
       "    }\n",
       "</style>\n",
       "<table border=\"1\" class=\"dataframe\">\n",
       "  <thead>\n",
       "    <tr style=\"text-align: right;\">\n",
       "      <th></th>\n",
       "      <th>geoNetwork</th>\n",
       "      <th>revenue</th>\n",
       "      <th>Buy</th>\n",
       "      <th>continent</th>\n",
       "    </tr>\n",
       "  </thead>\n",
       "  <tbody>\n",
       "    <tr>\n",
       "      <th>0</th>\n",
       "      <td>{\"continent\": \"Asia\", \"subContinent\": \"Western...</td>\n",
       "      <td>0</td>\n",
       "      <td>0</td>\n",
       "      <td>Asia</td>\n",
       "    </tr>\n",
       "    <tr>\n",
       "      <th>1</th>\n",
       "      <td>{\"continent\": \"Oceania\", \"subContinent\": \"Aust...</td>\n",
       "      <td>0</td>\n",
       "      <td>0</td>\n",
       "      <td>Oceania</td>\n",
       "    </tr>\n",
       "    <tr>\n",
       "      <th>2</th>\n",
       "      <td>{\"continent\": \"Europe\", \"subContinent\": \"South...</td>\n",
       "      <td>0</td>\n",
       "      <td>0</td>\n",
       "      <td>Europe</td>\n",
       "    </tr>\n",
       "    <tr>\n",
       "      <th>3</th>\n",
       "      <td>{\"continent\": \"Asia\", \"subContinent\": \"Southea...</td>\n",
       "      <td>0</td>\n",
       "      <td>0</td>\n",
       "      <td>Asia</td>\n",
       "    </tr>\n",
       "    <tr>\n",
       "      <th>4</th>\n",
       "      <td>{\"continent\": \"Europe\", \"subContinent\": \"North...</td>\n",
       "      <td>0</td>\n",
       "      <td>0</td>\n",
       "      <td>Europe</td>\n",
       "    </tr>\n",
       "  </tbody>\n",
       "</table>\n",
       "</div>"
      ],
      "text/plain": [
       "                                          geoNetwork  revenue  Buy continent\n",
       "0  {\"continent\": \"Asia\", \"subContinent\": \"Western...        0    0      Asia\n",
       "1  {\"continent\": \"Oceania\", \"subContinent\": \"Aust...        0    0   Oceania\n",
       "2  {\"continent\": \"Europe\", \"subContinent\": \"South...        0    0    Europe\n",
       "3  {\"continent\": \"Asia\", \"subContinent\": \"Southea...        0    0      Asia\n",
       "4  {\"continent\": \"Europe\", \"subContinent\": \"North...        0    0    Europe"
      ]
     },
     "execution_count": 61,
     "metadata": {},
     "output_type": "execute_result"
    }
   ],
   "source": [
    "# Extract continent from geoNetwork field\n",
    "field_name = 'geoNetwork' \n",
    "extract_field = 'continent'\n",
    "new_field_name = 'continent'\n",
    "\n",
    "json_read(df_geo, field_name, extract_field, new_field_name).head()"
   ]
  },
  {
   "cell_type": "code",
   "execution_count": 62,
   "metadata": {},
   "outputs": [
    {
     "data": {
      "text/plain": [
       "Text(0,0.5,'visit counts')"
      ]
     },
     "execution_count": 62,
     "metadata": {},
     "output_type": "execute_result"
    },
    {
     "data": {
      "image/png": "[encoded data removed]",
      "text/plain": [
       "<matplotlib.figure.Figure at 0x7f3f96949320>"
      ]
     },
     "metadata": {},
     "output_type": "display_data"
    }
   ],
   "source": [
    "df_geo.groupby('continent').size().plot.bar(color=color, rot = 0)\n",
    "plt.ylabel('visit counts')"
   ]
  },
  {
   "cell_type": "markdown",
   "metadata": {},
   "source": [
    "From above bar plot, we can see that most of customers are from Americas. Then the second most is from Asia. And visit counts from Europe is close to Asia. Hence, we can conclude that most of customers are from these three continents, Americas, Asia, and Europe."
   ]
  },
  {
   "cell_type": "markdown",
   "metadata": {},
   "source": [
    "### Which continent has the highest purchasing rate?"
   ]
  },
  {
   "cell_type": "code",
   "execution_count": 63,
   "metadata": {},
   "outputs": [
    {
     "data": {
      "text/plain": [
       "Text(0,0.5,'Purchasing Rate')"
      ]
     },
     "execution_count": 63,
     "metadata": {},
     "output_type": "execute_result"
    },
    {
     "data": {
      "image/png": "[encoded data removed]",
      "text/plain": [
       "<matplotlib.figure.Figure at 0x7f3f968ab128>"
      ]
     },
     "metadata": {},
     "output_type": "display_data"
    }
   ],
   "source": [
    "df_geo.groupby('continent')['Buy'].mean().plot.bar(color=color, rot = 0)\n",
    "plt.ylabel('Purchasing Rate')"
   ]
  },
  {
   "cell_type": "markdown",
   "metadata": {},
   "source": [
    "From above bar plot, we can see that the highest purchasing rate is in Americas. **This impliest that customers from Americas have higher possibility to buy things in GStore.** Thus, we can include this feature in our classifier."
   ]
  },
  {
   "cell_type": "code",
   "execution_count": 64,
   "metadata": {
    "scrolled": true
   },
   "outputs": [
    {
     "data": {
      "text/html": [
       "<div>\n",
       "<style scoped>\n",
       "    .dataframe tbody tr th:only-of-type {\n",
       "        vertical-align: middle;\n",
       "    }\n",
       "\n",
       "    .dataframe tbody tr th {\n",
       "        vertical-align: top;\n",
       "    }\n",
       "\n",
       "    .dataframe thead th {\n",
       "        text-align: right;\n",
       "    }\n",
       "</style>\n",
       "<table border=\"1\" class=\"dataframe\">\n",
       "  <thead>\n",
       "    <tr style=\"text-align: right;\">\n",
       "      <th></th>\n",
       "      <th>geoNetwork</th>\n",
       "      <th>revenue</th>\n",
       "      <th>Buy</th>\n",
       "      <th>continent</th>\n",
       "      <th>country</th>\n",
       "    </tr>\n",
       "  </thead>\n",
       "  <tbody>\n",
       "    <tr>\n",
       "      <th>0</th>\n",
       "      <td>{\"continent\": \"Asia\", \"subContinent\": \"Western...</td>\n",
       "      <td>0</td>\n",
       "      <td>0</td>\n",
       "      <td>Asia</td>\n",
       "      <td>Turkey</td>\n",
       "    </tr>\n",
       "    <tr>\n",
       "      <th>1</th>\n",
       "      <td>{\"continent\": \"Oceania\", \"subContinent\": \"Aust...</td>\n",
       "      <td>0</td>\n",
       "      <td>0</td>\n",
       "      <td>Oceania</td>\n",
       "      <td>Australia</td>\n",
       "    </tr>\n",
       "    <tr>\n",
       "      <th>2</th>\n",
       "      <td>{\"continent\": \"Europe\", \"subContinent\": \"South...</td>\n",
       "      <td>0</td>\n",
       "      <td>0</td>\n",
       "      <td>Europe</td>\n",
       "      <td>Spain</td>\n",
       "    </tr>\n",
       "    <tr>\n",
       "      <th>3</th>\n",
       "      <td>{\"continent\": \"Asia\", \"subContinent\": \"Southea...</td>\n",
       "      <td>0</td>\n",
       "      <td>0</td>\n",
       "      <td>Asia</td>\n",
       "      <td>Indonesia</td>\n",
       "    </tr>\n",
       "    <tr>\n",
       "      <th>4</th>\n",
       "      <td>{\"continent\": \"Europe\", \"subContinent\": \"North...</td>\n",
       "      <td>0</td>\n",
       "      <td>0</td>\n",
       "      <td>Europe</td>\n",
       "      <td>United Kingdom</td>\n",
       "    </tr>\n",
       "  </tbody>\n",
       "</table>\n",
       "</div>"
      ],
      "text/plain": [
       "                                          geoNetwork  revenue  Buy continent  \\\n",
       "0  {\"continent\": \"Asia\", \"subContinent\": \"Western...        0    0      Asia   \n",
       "1  {\"continent\": \"Oceania\", \"subContinent\": \"Aust...        0    0   Oceania   \n",
       "2  {\"continent\": \"Europe\", \"subContinent\": \"South...        0    0    Europe   \n",
       "3  {\"continent\": \"Asia\", \"subContinent\": \"Southea...        0    0      Asia   \n",
       "4  {\"continent\": \"Europe\", \"subContinent\": \"North...        0    0    Europe   \n",
       "\n",
       "          country  \n",
       "0          Turkey  \n",
       "1       Australia  \n",
       "2           Spain  \n",
       "3       Indonesia  \n",
       "4  United Kingdom  "
      ]
     },
     "execution_count": 64,
     "metadata": {},
     "output_type": "execute_result"
    }
   ],
   "source": [
    "# Extract country from geoNetwork field\n",
    "field_name = 'geoNetwork' \n",
    "extract_field = 'country'\n",
    "new_field_name = 'country'\n",
    "\n",
    "json_read(df_geo, field_name, extract_field, new_field_name).head()"
   ]
  },
  {
   "cell_type": "markdown",
   "metadata": {},
   "source": [
    "### Which country in Americas has the highest purchasing rate?"
   ]
  },
  {
   "cell_type": "code",
   "execution_count": 65,
   "metadata": {},
   "outputs": [
    {
     "data": {
      "text/plain": [
       "country\n",
       "Anguilla         1.000000\n",
       "St. Lucia        0.083333\n",
       "Guadeloupe       0.034483\n",
       "Curaçao          0.033333\n",
       "United States    0.030029\n",
       "Venezuela        0.029550\n",
       "Puerto Rico      0.015027\n",
       "Canada           0.007345\n",
       "Nicaragua        0.007194\n",
       "Panama           0.004202\n",
       "Name: Buy, dtype: float64"
      ]
     },
     "execution_count": 65,
     "metadata": {},
     "output_type": "execute_result"
    }
   ],
   "source": [
    "df_americas = df_geo[df_geo['continent'] == 'Americas'] \n",
    "df_americas.groupby('country')['Buy'].mean().sort_values(ascending=False).head(10)"
   ]
  },
  {
   "cell_type": "markdown",
   "metadata": {},
   "source": [
    "Visitors from Anguilla in Americas are the most probable to purchase goods in Gstore. But is it reasonable? Let's take a look at how many visits are from Anguilla below."
   ]
  },
  {
   "cell_type": "code",
   "execution_count": 66,
   "metadata": {},
   "outputs": [
    {
     "data": {
      "text/plain": [
       "1"
      ]
     },
     "execution_count": 66,
     "metadata": {},
     "output_type": "execute_result"
    }
   ],
   "source": [
    "# How many visitors are from Anguilla?\n",
    "len(df_americas[df_americas['country']=='Anguilla'])"
   ]
  },
  {
   "cell_type": "markdown",
   "metadata": {},
   "source": [
    "It is clear that we do not have enough data from this country so we cannot conclude that visitors from Anguilla in Americas are the most probable to purchase goods in Gstore. Let's examine other countries, St. Lucia, Guadeloupe, Curaçao, and United States, with high purchasing rate in the following:"
   ]
  },
  {
   "cell_type": "code",
   "execution_count": 67,
   "metadata": {},
   "outputs": [
    {
     "data": {
      "text/plain": [
       "country\n",
       "United States         364744\n",
       "Canada                 25869\n",
       "Brazil                 19783\n",
       "Mexico                 13225\n",
       "Peru                    5546\n",
       "Argentina               5037\n",
       "Colombia                4880\n",
       "Venezuela               2132\n",
       "Chile                   1950\n",
       "Ecuador                 1251\n",
       "Dominican Republic       934\n",
       "Puerto Rico              732\n",
       "Uruguay                  627\n",
       "Guatemala                581\n",
       "Costa Rica               554\n",
       "Panama                   476\n",
       "El Salvador              393\n",
       "Bolivia                  318\n",
       "Honduras                 188\n",
       "Trinidad & Tobago        164\n",
       "Jamaica                  153\n",
       "Nicaragua                139\n",
       "Paraguay                 132\n",
       "Martinique                61\n",
       "Barbados                  55\n",
       "dtype: int64"
      ]
     },
     "execution_count": 67,
     "metadata": {},
     "output_type": "execute_result"
    }
   ],
   "source": [
    "df_americas.groupby('country').size().sort_values(ascending=False).head(25)"
   ]
  },
  {
   "cell_type": "markdown",
   "metadata": {},
   "source": [
    "As we can see in above results, there are less than 55 visits in St. Lucia, Guadeloupe, Curaçao so we cannot conclude whether customers from these countries are more willing to buy in GStore. In contrast, **United States has the highest visits and higher purchasing rate.** This is an important feature we can consider!"
   ]
  },
  {
   "cell_type": "markdown",
   "metadata": {},
   "source": [
    "### Is continent related to revenue?"
   ]
  },
  {
   "cell_type": "code",
   "execution_count": 68,
   "metadata": {},
   "outputs": [
    {
     "data": {
      "text/html": [
       "<div>\n",
       "<style scoped>\n",
       "    .dataframe tbody tr th:only-of-type {\n",
       "        vertical-align: middle;\n",
       "    }\n",
       "\n",
       "    .dataframe tbody tr th {\n",
       "        vertical-align: top;\n",
       "    }\n",
       "\n",
       "    .dataframe thead th {\n",
       "        text-align: right;\n",
       "    }\n",
       "</style>\n",
       "<table border=\"1\" class=\"dataframe\">\n",
       "  <thead>\n",
       "    <tr style=\"text-align: right;\">\n",
       "      <th></th>\n",
       "      <th>geoNetwork</th>\n",
       "      <th>revenue</th>\n",
       "      <th>Buy</th>\n",
       "      <th>continent</th>\n",
       "      <th>country</th>\n",
       "    </tr>\n",
       "  </thead>\n",
       "  <tbody>\n",
       "    <tr>\n",
       "      <th>752</th>\n",
       "      <td>{\"continent\": \"Americas\", \"subContinent\": \"Nor...</td>\n",
       "      <td>37860000</td>\n",
       "      <td>1</td>\n",
       "      <td>Americas</td>\n",
       "      <td>United States</td>\n",
       "    </tr>\n",
       "    <tr>\n",
       "      <th>753</th>\n",
       "      <td>{\"continent\": \"Americas\", \"subContinent\": \"Nor...</td>\n",
       "      <td>306670000</td>\n",
       "      <td>1</td>\n",
       "      <td>Americas</td>\n",
       "      <td>United States</td>\n",
       "    </tr>\n",
       "    <tr>\n",
       "      <th>799</th>\n",
       "      <td>{\"continent\": \"Americas\", \"subContinent\": \"Nor...</td>\n",
       "      <td>68030000</td>\n",
       "      <td>1</td>\n",
       "      <td>Americas</td>\n",
       "      <td>United States</td>\n",
       "    </tr>\n",
       "    <tr>\n",
       "      <th>802</th>\n",
       "      <td>{\"continent\": \"Americas\", \"subContinent\": \"Nor...</td>\n",
       "      <td>26250000</td>\n",
       "      <td>1</td>\n",
       "      <td>Americas</td>\n",
       "      <td>United States</td>\n",
       "    </tr>\n",
       "    <tr>\n",
       "      <th>859</th>\n",
       "      <td>{\"continent\": \"Americas\", \"subContinent\": \"Nor...</td>\n",
       "      <td>574150000</td>\n",
       "      <td>1</td>\n",
       "      <td>Americas</td>\n",
       "      <td>United States</td>\n",
       "    </tr>\n",
       "  </tbody>\n",
       "</table>\n",
       "</div>"
      ],
      "text/plain": [
       "                                            geoNetwork    revenue  Buy  \\\n",
       "752  {\"continent\": \"Americas\", \"subContinent\": \"Nor...   37860000    1   \n",
       "753  {\"continent\": \"Americas\", \"subContinent\": \"Nor...  306670000    1   \n",
       "799  {\"continent\": \"Americas\", \"subContinent\": \"Nor...   68030000    1   \n",
       "802  {\"continent\": \"Americas\", \"subContinent\": \"Nor...   26250000    1   \n",
       "859  {\"continent\": \"Americas\", \"subContinent\": \"Nor...  574150000    1   \n",
       "\n",
       "    continent        country  \n",
       "752  Americas  United States  \n",
       "753  Americas  United States  \n",
       "799  Americas  United States  \n",
       "802  Americas  United States  \n",
       "859  Americas  United States  "
      ]
     },
     "execution_count": 68,
     "metadata": {},
     "output_type": "execute_result"
    }
   ],
   "source": [
    "df_geo_Buy = df_geo[df_geo['Buy']==1]\n",
    "df_geo_Buy.head()"
   ]
  },
  {
   "cell_type": "code",
   "execution_count": 69,
   "metadata": {},
   "outputs": [],
   "source": [
    "# Transform revenue by log function\n",
    "df_geo_Buy['log(revenue)'] = df_geo_Buy['revenue'].apply(np.log)"
   ]
  },
  {
   "cell_type": "code",
   "execution_count": 70,
   "metadata": {},
   "outputs": [
    {
     "data": {
      "text/plain": [
       "<matplotlib.axes._subplots.AxesSubplot at 0x7f3f968d0be0>"
      ]
     },
     "execution_count": 70,
     "metadata": {},
     "output_type": "execute_result"
    },
    {
     "data": {
      "image/png": "[encoded data removed]",
      "text/plain": [
       "<matplotlib.figure.Figure at 0x7f3f96862470>"
      ]
     },
     "metadata": {},
     "output_type": "display_data"
    }
   ],
   "source": [
    "sns.boxplot(x='continent', y='log(revenue)', data=df_geo_Buy)"
   ]
  },
  {
   "cell_type": "markdown",
   "metadata": {},
   "source": [
    "As we can see in above box plot, the median of `log(revenue)` for each continent is close, except for Africa. But the distribution of `log(revenue)` for Africa is highly right-skewed. Let's take a look at how many visits with purchasing in Africa in the following:"
   ]
  },
  {
   "cell_type": "code",
   "execution_count": 71,
   "metadata": {},
   "outputs": [
    {
     "data": {
      "text/plain": [
       "8"
      ]
     },
     "execution_count": 71,
     "metadata": {},
     "output_type": "execute_result"
    }
   ],
   "source": [
    "len(df_geo_Buy[df_geo_Buy['continent']== 'Africa'])"
   ]
  },
  {
   "cell_type": "markdown",
   "metadata": {},
   "source": [
    "The samples in Africa are very less so the results cannot really show that customers from Africa contribute higher revenues compared with customers from other continents. Therefore, when we predict revenues, we will not include `continent` feature."
   ]
  },
  {
   "cell_type": "code",
   "execution_count": 72,
   "metadata": {},
   "outputs": [],
   "source": [
    "del df_americas, df_geo, df_geo_Buy"
   ]
  },
  {
   "cell_type": "markdown",
   "metadata": {},
   "source": [
    "## 2.5 social Engagement Type\n",
    "\n",
    "In this section, we study the relation between purchasing rate and `socialEngagementType`. Then we study whether `revenue` is related to `socialEngagementType`."
   ]
  },
  {
   "cell_type": "markdown",
   "metadata": {},
   "source": [
    "### Which social Engagement Type has more visits?"
   ]
  },
  {
   "cell_type": "code",
   "execution_count": 73,
   "metadata": {},
   "outputs": [
    {
     "data": {
      "text/plain": [
       "Text(0,0.5,'Visits')"
      ]
     },
     "execution_count": 73,
     "metadata": {},
     "output_type": "execute_result"
    },
    {
     "data": {
      "image/png": "[encoded data removed]",
      "text/plain": [
       "<matplotlib.figure.Figure at 0x7f3fa479d2b0>"
      ]
     },
     "metadata": {},
     "output_type": "display_data"
    }
   ],
   "source": [
    "# using an html hex string for color\n",
    "color = '#0099ff'\n",
    "df_train.groupby(['socialEngagementType']).size().plot.bar(rot = 0, color=color)\n",
    "plt.ylabel('Visits')"
   ]
  },
  {
   "cell_type": "code",
   "execution_count": 74,
   "metadata": {},
   "outputs": [
    {
     "data": {
      "text/plain": [
       "903653"
      ]
     },
     "execution_count": 74,
     "metadata": {},
     "output_type": "execute_result"
    }
   ],
   "source": [
    "df_train['socialEngagementType'].count()"
   ]
  },
  {
   "cell_type": "markdown",
   "metadata": {},
   "source": [
    "In this feature, samples in training set are all in the same category so it is not useful to include this feature into our model."
   ]
  },
  {
   "cell_type": "markdown",
   "metadata": {},
   "source": [
    "## 2.6 Traffic Source"
   ]
  },
  {
   "cell_type": "code",
   "execution_count": 75,
   "metadata": {},
   "outputs": [
    {
     "data": {
      "text/plain": [
       "'{\"referralPath\": \"/od/Things-To-Do-in-Silicon-Valley/fl/How-To-Visit-the-Googleplex-the-Google-Head-Office-in-Mountain-View.htm\", \"campaign\": \"(not set)\", \"source\": \"siliconvalley.about.com\", \"medium\": \"referral\", \"adwordsClickInfo\": {\"criteriaParameters\": \"not available in demo dataset\"}}'"
      ]
     },
     "execution_count": 75,
     "metadata": {},
     "output_type": "execute_result"
    }
   ],
   "source": [
    "df_train.loc[101,'trafficSource']"
   ]
  },
  {
   "cell_type": "code",
   "execution_count": 76,
   "metadata": {},
   "outputs": [
    {
     "data": {
      "text/plain": [
       "'{\"campaign\": \"AW - Dynamic Search Ads Whole Site\", \"source\": \"google\", \"medium\": \"cpc\", \"keyword\": \"6qEhsCssdK0z36ri\", \"adwordsClickInfo\": {\"page\": \"1\", \"slot\": \"Top\", \"criteriaParameters\": \"not available in demo dataset\", \"gclId\": \"Cj0KEQjwxqS-BRDRgPLp0q2t0IUBEiQAgfMXRBVDYwnFawcmsrhs02pjO7FXPLhzHyvJFv53h1H4QJ8aAhtw8P8HAQ\", \"adNetworkType\": \"Google Search\", \"isVideoAd\": false}}'"
      ]
     },
     "execution_count": 76,
     "metadata": {},
     "output_type": "execute_result"
    }
   ],
   "source": [
    "df_train.loc[102,'trafficSource']"
   ]
  },
  {
   "cell_type": "code",
   "execution_count": 77,
   "metadata": {},
   "outputs": [
    {
     "data": {
      "text/plain": [
       "'{\"campaign\": \"(not set)\", \"source\": \"google\", \"medium\": \"organic\", \"keyword\": \"(not provided)\", \"adwordsClickInfo\": {\"criteriaParameters\": \"not available in demo dataset\"}}'"
      ]
     },
     "execution_count": 77,
     "metadata": {},
     "output_type": "execute_result"
    }
   ],
   "source": [
    "df_train.loc[103,'trafficSource']"
   ]
  },
  {
   "cell_type": "markdown",
   "metadata": {},
   "source": [
    "In above three instances, except for those not available info, the most useful feature is `medium` but it's already extracted in `channelGrouping`."
   ]
  },
  {
   "cell_type": "markdown",
   "metadata": {},
   "source": [
    "## 2.7 totals\n",
    "\n",
    "Except for `transactionRevenue`, there are other useful features stored in json format in `totals` field like `visits`, `hits`, and `pageviews`."
   ]
  },
  {
   "cell_type": "code",
   "execution_count": 78,
   "metadata": {},
   "outputs": [
    {
     "data": {
      "text/plain": [
       "'{\"visits\": \"1\", \"hits\": \"1\", \"pageviews\": \"1\", \"bounces\": \"1\", \"newVisits\": \"1\"}'"
      ]
     },
     "execution_count": 78,
     "metadata": {},
     "output_type": "execute_result"
    }
   ],
   "source": [
    "df_train.loc[80,'totals']"
   ]
  },
  {
   "cell_type": "code",
   "execution_count": 79,
   "metadata": {},
   "outputs": [
    {
     "data": {
      "text/plain": [
       "'{\"visits\": \"1\", \"hits\": \"34\", \"pageviews\": \"23\", \"newVisits\": \"1\"}'"
      ]
     },
     "execution_count": 79,
     "metadata": {},
     "output_type": "execute_result"
    }
   ],
   "source": [
    "df_train.loc[1001,'totals']"
   ]
  },
  {
   "cell_type": "code",
   "execution_count": 80,
   "metadata": {},
   "outputs": [
    {
     "data": {
      "text/plain": [
       "'{\"visits\": \"1\", \"hits\": \"2\", \"pageviews\": \"2\", \"newVisits\": \"1\"}'"
      ]
     },
     "execution_count": 80,
     "metadata": {},
     "output_type": "execute_result"
    }
   ],
   "source": [
    "df_train.loc[302,'totals']"
   ]
  },
  {
   "cell_type": "code",
   "execution_count": 81,
   "metadata": {},
   "outputs": [
    {
     "data": {
      "text/html": [
       "<div>\n",
       "<style scoped>\n",
       "    .dataframe tbody tr th:only-of-type {\n",
       "        vertical-align: middle;\n",
       "    }\n",
       "\n",
       "    .dataframe tbody tr th {\n",
       "        vertical-align: top;\n",
       "    }\n",
       "\n",
       "    .dataframe thead th {\n",
       "        text-align: right;\n",
       "    }\n",
       "</style>\n",
       "<table border=\"1\" class=\"dataframe\">\n",
       "  <thead>\n",
       "    <tr style=\"text-align: right;\">\n",
       "      <th></th>\n",
       "      <th>totals</th>\n",
       "      <th>revenue</th>\n",
       "      <th>Buy</th>\n",
       "    </tr>\n",
       "  </thead>\n",
       "  <tbody>\n",
       "    <tr>\n",
       "      <th>0</th>\n",
       "      <td>{\"visits\": \"1\", \"hits\": \"1\", \"pageviews\": \"1\",...</td>\n",
       "      <td>0</td>\n",
       "      <td>0</td>\n",
       "    </tr>\n",
       "    <tr>\n",
       "      <th>1</th>\n",
       "      <td>{\"visits\": \"1\", \"hits\": \"1\", \"pageviews\": \"1\",...</td>\n",
       "      <td>0</td>\n",
       "      <td>0</td>\n",
       "    </tr>\n",
       "    <tr>\n",
       "      <th>2</th>\n",
       "      <td>{\"visits\": \"1\", \"hits\": \"1\", \"pageviews\": \"1\",...</td>\n",
       "      <td>0</td>\n",
       "      <td>0</td>\n",
       "    </tr>\n",
       "    <tr>\n",
       "      <th>3</th>\n",
       "      <td>{\"visits\": \"1\", \"hits\": \"1\", \"pageviews\": \"1\",...</td>\n",
       "      <td>0</td>\n",
       "      <td>0</td>\n",
       "    </tr>\n",
       "    <tr>\n",
       "      <th>4</th>\n",
       "      <td>{\"visits\": \"1\", \"hits\": \"1\", \"pageviews\": \"1\",...</td>\n",
       "      <td>0</td>\n",
       "      <td>0</td>\n",
       "    </tr>\n",
       "  </tbody>\n",
       "</table>\n",
       "</div>"
      ],
      "text/plain": [
       "                                              totals  revenue  Buy\n",
       "0  {\"visits\": \"1\", \"hits\": \"1\", \"pageviews\": \"1\",...        0    0\n",
       "1  {\"visits\": \"1\", \"hits\": \"1\", \"pageviews\": \"1\",...        0    0\n",
       "2  {\"visits\": \"1\", \"hits\": \"1\", \"pageviews\": \"1\",...        0    0\n",
       "3  {\"visits\": \"1\", \"hits\": \"1\", \"pageviews\": \"1\",...        0    0\n",
       "4  {\"visits\": \"1\", \"hits\": \"1\", \"pageviews\": \"1\",...        0    0"
      ]
     },
     "execution_count": 81,
     "metadata": {},
     "output_type": "execute_result"
    }
   ],
   "source": [
    "df_totals = df_train[['totals', 'revenue', 'Buy']]\n",
    "df_totals.head()"
   ]
  },
  {
   "cell_type": "code",
   "execution_count": 82,
   "metadata": {},
   "outputs": [
    {
     "name": "stdout",
     "output_type": "stream",
     "text": [
      "<class 'pandas.core.frame.DataFrame'>\n",
      "RangeIndex: 903653 entries, 0 to 903652\n",
      "Data columns (total 3 columns):\n",
      "totals     903653 non-null object\n",
      "revenue    903653 non-null int64\n",
      "Buy        903653 non-null int64\n",
      "dtypes: int64(2), object(1)\n",
      "memory usage: 122.1 MB\n"
     ]
    }
   ],
   "source": [
    "# View momory usage including objects\n",
    "df_totals.info(memory_usage='deep')"
   ]
  },
  {
   "cell_type": "markdown",
   "metadata": {},
   "source": [
    "### visits feature in totals"
   ]
  },
  {
   "cell_type": "code",
   "execution_count": 83,
   "metadata": {},
   "outputs": [
    {
     "data": {
      "text/html": [
       "<div>\n",
       "<style scoped>\n",
       "    .dataframe tbody tr th:only-of-type {\n",
       "        vertical-align: middle;\n",
       "    }\n",
       "\n",
       "    .dataframe tbody tr th {\n",
       "        vertical-align: top;\n",
       "    }\n",
       "\n",
       "    .dataframe thead th {\n",
       "        text-align: right;\n",
       "    }\n",
       "</style>\n",
       "<table border=\"1\" class=\"dataframe\">\n",
       "  <thead>\n",
       "    <tr style=\"text-align: right;\">\n",
       "      <th></th>\n",
       "      <th>totals</th>\n",
       "      <th>revenue</th>\n",
       "      <th>Buy</th>\n",
       "      <th>visits</th>\n",
       "    </tr>\n",
       "  </thead>\n",
       "  <tbody>\n",
       "    <tr>\n",
       "      <th>0</th>\n",
       "      <td>{\"visits\": \"1\", \"hits\": \"1\", \"pageviews\": \"1\",...</td>\n",
       "      <td>0</td>\n",
       "      <td>0</td>\n",
       "      <td>1</td>\n",
       "    </tr>\n",
       "    <tr>\n",
       "      <th>1</th>\n",
       "      <td>{\"visits\": \"1\", \"hits\": \"1\", \"pageviews\": \"1\",...</td>\n",
       "      <td>0</td>\n",
       "      <td>0</td>\n",
       "      <td>1</td>\n",
       "    </tr>\n",
       "    <tr>\n",
       "      <th>2</th>\n",
       "      <td>{\"visits\": \"1\", \"hits\": \"1\", \"pageviews\": \"1\",...</td>\n",
       "      <td>0</td>\n",
       "      <td>0</td>\n",
       "      <td>1</td>\n",
       "    </tr>\n",
       "    <tr>\n",
       "      <th>3</th>\n",
       "      <td>{\"visits\": \"1\", \"hits\": \"1\", \"pageviews\": \"1\",...</td>\n",
       "      <td>0</td>\n",
       "      <td>0</td>\n",
       "      <td>1</td>\n",
       "    </tr>\n",
       "    <tr>\n",
       "      <th>4</th>\n",
       "      <td>{\"visits\": \"1\", \"hits\": \"1\", \"pageviews\": \"1\",...</td>\n",
       "      <td>0</td>\n",
       "      <td>0</td>\n",
       "      <td>1</td>\n",
       "    </tr>\n",
       "  </tbody>\n",
       "</table>\n",
       "</div>"
      ],
      "text/plain": [
       "                                              totals  revenue  Buy visits\n",
       "0  {\"visits\": \"1\", \"hits\": \"1\", \"pageviews\": \"1\",...        0    0      1\n",
       "1  {\"visits\": \"1\", \"hits\": \"1\", \"pageviews\": \"1\",...        0    0      1\n",
       "2  {\"visits\": \"1\", \"hits\": \"1\", \"pageviews\": \"1\",...        0    0      1\n",
       "3  {\"visits\": \"1\", \"hits\": \"1\", \"pageviews\": \"1\",...        0    0      1\n",
       "4  {\"visits\": \"1\", \"hits\": \"1\", \"pageviews\": \"1\",...        0    0      1"
      ]
     },
     "execution_count": 83,
     "metadata": {},
     "output_type": "execute_result"
    }
   ],
   "source": [
    "# Extract visits from totals field\n",
    "field_name = 'totals' \n",
    "extract_field = 'visits'\n",
    "new_field_name = 'visits'\n",
    "\n",
    "json_read(df_totals, field_name, extract_field, new_field_name).head()"
   ]
  },
  {
   "cell_type": "code",
   "execution_count": 84,
   "metadata": {},
   "outputs": [
    {
     "data": {
      "text/plain": [
       "visits\n",
       "1    903653\n",
       "dtype: int64"
      ]
     },
     "execution_count": 84,
     "metadata": {},
     "output_type": "execute_result"
    }
   ],
   "source": [
    "df_totals.groupby('visits').size()"
   ]
  },
  {
   "cell_type": "markdown",
   "metadata": {},
   "source": [
    "From above result, the values in visits attribute are all 1 so this feature cannot offer any insight we need. But **it implies that in this data set, each instance is related to distinct customer visiting GStore**. "
   ]
  },
  {
   "cell_type": "code",
   "execution_count": 85,
   "metadata": {},
   "outputs": [
    {
     "data": {
      "text/html": [
       "<div>\n",
       "<style scoped>\n",
       "    .dataframe tbody tr th:only-of-type {\n",
       "        vertical-align: middle;\n",
       "    }\n",
       "\n",
       "    .dataframe tbody tr th {\n",
       "        vertical-align: top;\n",
       "    }\n",
       "\n",
       "    .dataframe thead th {\n",
       "        text-align: right;\n",
       "    }\n",
       "</style>\n",
       "<table border=\"1\" class=\"dataframe\">\n",
       "  <thead>\n",
       "    <tr style=\"text-align: right;\">\n",
       "      <th></th>\n",
       "      <th>totals</th>\n",
       "      <th>revenue</th>\n",
       "      <th>Buy</th>\n",
       "    </tr>\n",
       "  </thead>\n",
       "  <tbody>\n",
       "    <tr>\n",
       "      <th>0</th>\n",
       "      <td>{\"visits\": \"1\", \"hits\": \"1\", \"pageviews\": \"1\",...</td>\n",
       "      <td>0</td>\n",
       "      <td>0</td>\n",
       "    </tr>\n",
       "    <tr>\n",
       "      <th>1</th>\n",
       "      <td>{\"visits\": \"1\", \"hits\": \"1\", \"pageviews\": \"1\",...</td>\n",
       "      <td>0</td>\n",
       "      <td>0</td>\n",
       "    </tr>\n",
       "    <tr>\n",
       "      <th>2</th>\n",
       "      <td>{\"visits\": \"1\", \"hits\": \"1\", \"pageviews\": \"1\",...</td>\n",
       "      <td>0</td>\n",
       "      <td>0</td>\n",
       "    </tr>\n",
       "    <tr>\n",
       "      <th>3</th>\n",
       "      <td>{\"visits\": \"1\", \"hits\": \"1\", \"pageviews\": \"1\",...</td>\n",
       "      <td>0</td>\n",
       "      <td>0</td>\n",
       "    </tr>\n",
       "    <tr>\n",
       "      <th>4</th>\n",
       "      <td>{\"visits\": \"1\", \"hits\": \"1\", \"pageviews\": \"1\",...</td>\n",
       "      <td>0</td>\n",
       "      <td>0</td>\n",
       "    </tr>\n",
       "  </tbody>\n",
       "</table>\n",
       "</div>"
      ],
      "text/plain": [
       "                                              totals  revenue  Buy\n",
       "0  {\"visits\": \"1\", \"hits\": \"1\", \"pageviews\": \"1\",...        0    0\n",
       "1  {\"visits\": \"1\", \"hits\": \"1\", \"pageviews\": \"1\",...        0    0\n",
       "2  {\"visits\": \"1\", \"hits\": \"1\", \"pageviews\": \"1\",...        0    0\n",
       "3  {\"visits\": \"1\", \"hits\": \"1\", \"pageviews\": \"1\",...        0    0\n",
       "4  {\"visits\": \"1\", \"hits\": \"1\", \"pageviews\": \"1\",...        0    0"
      ]
     },
     "execution_count": 85,
     "metadata": {},
     "output_type": "execute_result"
    }
   ],
   "source": [
    "# Drop unuseful feature to release memory\n",
    "df_totals.drop(columns='visits', inplace=True)\n",
    "df_totals.head()"
   ]
  },
  {
   "cell_type": "markdown",
   "metadata": {},
   "source": [
    "### hits and pageviews features in totals"
   ]
  },
  {
   "cell_type": "code",
   "execution_count": 86,
   "metadata": {},
   "outputs": [
    {
     "data": {
      "text/html": [
       "<div>\n",
       "<style scoped>\n",
       "    .dataframe tbody tr th:only-of-type {\n",
       "        vertical-align: middle;\n",
       "    }\n",
       "\n",
       "    .dataframe tbody tr th {\n",
       "        vertical-align: top;\n",
       "    }\n",
       "\n",
       "    .dataframe thead th {\n",
       "        text-align: right;\n",
       "    }\n",
       "</style>\n",
       "<table border=\"1\" class=\"dataframe\">\n",
       "  <thead>\n",
       "    <tr style=\"text-align: right;\">\n",
       "      <th></th>\n",
       "      <th>totals</th>\n",
       "      <th>revenue</th>\n",
       "      <th>Buy</th>\n",
       "      <th>hits</th>\n",
       "    </tr>\n",
       "  </thead>\n",
       "  <tbody>\n",
       "    <tr>\n",
       "      <th>0</th>\n",
       "      <td>{\"visits\": \"1\", \"hits\": \"1\", \"pageviews\": \"1\",...</td>\n",
       "      <td>0</td>\n",
       "      <td>0</td>\n",
       "      <td>1</td>\n",
       "    </tr>\n",
       "    <tr>\n",
       "      <th>1</th>\n",
       "      <td>{\"visits\": \"1\", \"hits\": \"1\", \"pageviews\": \"1\",...</td>\n",
       "      <td>0</td>\n",
       "      <td>0</td>\n",
       "      <td>1</td>\n",
       "    </tr>\n",
       "    <tr>\n",
       "      <th>2</th>\n",
       "      <td>{\"visits\": \"1\", \"hits\": \"1\", \"pageviews\": \"1\",...</td>\n",
       "      <td>0</td>\n",
       "      <td>0</td>\n",
       "      <td>1</td>\n",
       "    </tr>\n",
       "    <tr>\n",
       "      <th>3</th>\n",
       "      <td>{\"visits\": \"1\", \"hits\": \"1\", \"pageviews\": \"1\",...</td>\n",
       "      <td>0</td>\n",
       "      <td>0</td>\n",
       "      <td>1</td>\n",
       "    </tr>\n",
       "    <tr>\n",
       "      <th>4</th>\n",
       "      <td>{\"visits\": \"1\", \"hits\": \"1\", \"pageviews\": \"1\",...</td>\n",
       "      <td>0</td>\n",
       "      <td>0</td>\n",
       "      <td>1</td>\n",
       "    </tr>\n",
       "  </tbody>\n",
       "</table>\n",
       "</div>"
      ],
      "text/plain": [
       "                                              totals  revenue  Buy hits\n",
       "0  {\"visits\": \"1\", \"hits\": \"1\", \"pageviews\": \"1\",...        0    0    1\n",
       "1  {\"visits\": \"1\", \"hits\": \"1\", \"pageviews\": \"1\",...        0    0    1\n",
       "2  {\"visits\": \"1\", \"hits\": \"1\", \"pageviews\": \"1\",...        0    0    1\n",
       "3  {\"visits\": \"1\", \"hits\": \"1\", \"pageviews\": \"1\",...        0    0    1\n",
       "4  {\"visits\": \"1\", \"hits\": \"1\", \"pageviews\": \"1\",...        0    0    1"
      ]
     },
     "execution_count": 86,
     "metadata": {},
     "output_type": "execute_result"
    }
   ],
   "source": [
    "# Extract hits from totals field\n",
    "field_name = 'totals' \n",
    "extract_field = 'hits'\n",
    "new_field_name = 'hits'\n",
    "\n",
    "json_read(df_totals, field_name, extract_field, new_field_name).head()"
   ]
  },
  {
   "cell_type": "code",
   "execution_count": 87,
   "metadata": {},
   "outputs": [
    {
     "data": {
      "text/plain": [
       "hits\n",
       "1      446754\n",
       "10      10640\n",
       "100        39\n",
       "101        35\n",
       "102        27\n",
       "dtype: int64"
      ]
     },
     "execution_count": 87,
     "metadata": {},
     "output_type": "execute_result"
    }
   ],
   "source": [
    "df_totals.groupby('hits').size().head()"
   ]
  },
  {
   "cell_type": "code",
   "execution_count": 91,
   "metadata": {},
   "outputs": [
    {
     "data": {
      "text/html": [
       "<div>\n",
       "<style scoped>\n",
       "    .dataframe tbody tr th:only-of-type {\n",
       "        vertical-align: middle;\n",
       "    }\n",
       "\n",
       "    .dataframe tbody tr th {\n",
       "        vertical-align: top;\n",
       "    }\n",
       "\n",
       "    .dataframe thead th {\n",
       "        text-align: right;\n",
       "    }\n",
       "</style>\n",
       "<table border=\"1\" class=\"dataframe\">\n",
       "  <thead>\n",
       "    <tr style=\"text-align: right;\">\n",
       "      <th></th>\n",
       "      <th>totals</th>\n",
       "      <th>revenue</th>\n",
       "      <th>Buy</th>\n",
       "      <th>hits</th>\n",
       "      <th>pageviews</th>\n",
       "    </tr>\n",
       "  </thead>\n",
       "  <tbody>\n",
       "    <tr>\n",
       "      <th>0</th>\n",
       "      <td>{\"visits\": \"1\", \"hits\": \"1\", \"pageviews\": \"1\",...</td>\n",
       "      <td>0</td>\n",
       "      <td>0</td>\n",
       "      <td>1</td>\n",
       "      <td>1</td>\n",
       "    </tr>\n",
       "    <tr>\n",
       "      <th>1</th>\n",
       "      <td>{\"visits\": \"1\", \"hits\": \"1\", \"pageviews\": \"1\",...</td>\n",
       "      <td>0</td>\n",
       "      <td>0</td>\n",
       "      <td>1</td>\n",
       "      <td>1</td>\n",
       "    </tr>\n",
       "    <tr>\n",
       "      <th>2</th>\n",
       "      <td>{\"visits\": \"1\", \"hits\": \"1\", \"pageviews\": \"1\",...</td>\n",
       "      <td>0</td>\n",
       "      <td>0</td>\n",
       "      <td>1</td>\n",
       "      <td>1</td>\n",
       "    </tr>\n",
       "    <tr>\n",
       "      <th>3</th>\n",
       "      <td>{\"visits\": \"1\", \"hits\": \"1\", \"pageviews\": \"1\",...</td>\n",
       "      <td>0</td>\n",
       "      <td>0</td>\n",
       "      <td>1</td>\n",
       "      <td>1</td>\n",
       "    </tr>\n",
       "    <tr>\n",
       "      <th>4</th>\n",
       "      <td>{\"visits\": \"1\", \"hits\": \"1\", \"pageviews\": \"1\",...</td>\n",
       "      <td>0</td>\n",
       "      <td>0</td>\n",
       "      <td>1</td>\n",
       "      <td>1</td>\n",
       "    </tr>\n",
       "  </tbody>\n",
       "</table>\n",
       "</div>"
      ],
      "text/plain": [
       "                                              totals  revenue  Buy hits  \\\n",
       "0  {\"visits\": \"1\", \"hits\": \"1\", \"pageviews\": \"1\",...        0    0    1   \n",
       "1  {\"visits\": \"1\", \"hits\": \"1\", \"pageviews\": \"1\",...        0    0    1   \n",
       "2  {\"visits\": \"1\", \"hits\": \"1\", \"pageviews\": \"1\",...        0    0    1   \n",
       "3  {\"visits\": \"1\", \"hits\": \"1\", \"pageviews\": \"1\",...        0    0    1   \n",
       "4  {\"visits\": \"1\", \"hits\": \"1\", \"pageviews\": \"1\",...        0    0    1   \n",
       "\n",
       "  pageviews  \n",
       "0         1  \n",
       "1         1  \n",
       "2         1  \n",
       "3         1  \n",
       "4         1  "
      ]
     },
     "execution_count": 91,
     "metadata": {},
     "output_type": "execute_result"
    }
   ],
   "source": [
    "# Extract pageviews from totals field\n",
    "field_name = 'totals' \n",
    "extract_field = 'pageviews'\n",
    "new_field_name = 'pageviews'\n",
    "\n",
    "json_read(df_totals, field_name, extract_field, new_field_name).head()"
   ]
  },
  {
   "cell_type": "code",
   "execution_count": 93,
   "metadata": {},
   "outputs": [
    {
     "data": {
      "text/plain": [
       "100"
      ]
     },
     "execution_count": 93,
     "metadata": {},
     "output_type": "execute_result"
    }
   ],
   "source": [
    "# Check whether there are missing values\n",
    "df_totals['pageviews'].isna().sum()"
   ]
  },
  {
   "cell_type": "markdown",
   "metadata": {},
   "source": [
    "There are 100 missing values."
   ]
  },
  {
   "cell_type": "code",
   "execution_count": 98,
   "metadata": {},
   "outputs": [],
   "source": [
    "df_totals['pageviews'].fillna(value=0, inplace=True)"
   ]
  },
  {
   "cell_type": "code",
   "execution_count": 99,
   "metadata": {},
   "outputs": [
    {
     "data": {
      "text/plain": [
       "pageviews\n",
       "0         100\n",
       "1      452522\n",
       "10      10104\n",
       "100         9\n",
       "101         9\n",
       "dtype: int64"
      ]
     },
     "execution_count": 99,
     "metadata": {},
     "output_type": "execute_result"
    }
   ],
   "source": [
    "df_totals.groupby('pageviews').size().head()"
   ]
  },
  {
   "cell_type": "code",
   "execution_count": 101,
   "metadata": {},
   "outputs": [
    {
     "data": {
      "text/html": [
       "<div>\n",
       "<style scoped>\n",
       "    .dataframe tbody tr th:only-of-type {\n",
       "        vertical-align: middle;\n",
       "    }\n",
       "\n",
       "    .dataframe tbody tr th {\n",
       "        vertical-align: top;\n",
       "    }\n",
       "\n",
       "    .dataframe thead th {\n",
       "        text-align: right;\n",
       "    }\n",
       "</style>\n",
       "<table border=\"1\" class=\"dataframe\">\n",
       "  <thead>\n",
       "    <tr style=\"text-align: right;\">\n",
       "      <th></th>\n",
       "      <th>totals</th>\n",
       "      <th>revenue</th>\n",
       "      <th>Buy</th>\n",
       "      <th>hits</th>\n",
       "      <th>pageviews</th>\n",
       "    </tr>\n",
       "  </thead>\n",
       "  <tbody>\n",
       "    <tr>\n",
       "      <th>837579</th>\n",
       "      <td>{\"visits\": \"1\", \"hits\": \"1\"}</td>\n",
       "      <td>0</td>\n",
       "      <td>0</td>\n",
       "      <td>1</td>\n",
       "      <td>0</td>\n",
       "    </tr>\n",
       "    <tr>\n",
       "      <th>837584</th>\n",
       "      <td>{\"visits\": \"1\", \"hits\": \"1\"}</td>\n",
       "      <td>0</td>\n",
       "      <td>0</td>\n",
       "      <td>1</td>\n",
       "      <td>0</td>\n",
       "    </tr>\n",
       "    <tr>\n",
       "      <th>837592</th>\n",
       "      <td>{\"visits\": \"1\", \"hits\": \"1\"}</td>\n",
       "      <td>0</td>\n",
       "      <td>0</td>\n",
       "      <td>1</td>\n",
       "      <td>0</td>\n",
       "    </tr>\n",
       "    <tr>\n",
       "      <th>839268</th>\n",
       "      <td>{\"visits\": \"1\", \"hits\": \"1\"}</td>\n",
       "      <td>0</td>\n",
       "      <td>0</td>\n",
       "      <td>1</td>\n",
       "      <td>0</td>\n",
       "    </tr>\n",
       "    <tr>\n",
       "      <th>853896</th>\n",
       "      <td>{\"visits\": \"1\", \"hits\": \"1\"}</td>\n",
       "      <td>0</td>\n",
       "      <td>0</td>\n",
       "      <td>1</td>\n",
       "      <td>0</td>\n",
       "    </tr>\n",
       "    <tr>\n",
       "      <th>855111</th>\n",
       "      <td>{\"visits\": \"1\", \"hits\": \"1\"}</td>\n",
       "      <td>0</td>\n",
       "      <td>0</td>\n",
       "      <td>1</td>\n",
       "      <td>0</td>\n",
       "    </tr>\n",
       "    <tr>\n",
       "      <th>856964</th>\n",
       "      <td>{\"visits\": \"1\", \"hits\": \"1\"}</td>\n",
       "      <td>0</td>\n",
       "      <td>0</td>\n",
       "      <td>1</td>\n",
       "      <td>0</td>\n",
       "    </tr>\n",
       "    <tr>\n",
       "      <th>882173</th>\n",
       "      <td>{\"visits\": \"1\", \"hits\": \"2\"}</td>\n",
       "      <td>0</td>\n",
       "      <td>0</td>\n",
       "      <td>2</td>\n",
       "      <td>0</td>\n",
       "    </tr>\n",
       "    <tr>\n",
       "      <th>884133</th>\n",
       "      <td>{\"visits\": \"1\", \"hits\": \"1\"}</td>\n",
       "      <td>0</td>\n",
       "      <td>0</td>\n",
       "      <td>1</td>\n",
       "      <td>0</td>\n",
       "    </tr>\n",
       "    <tr>\n",
       "      <th>888421</th>\n",
       "      <td>{\"visits\": \"1\", \"hits\": \"1\"}</td>\n",
       "      <td>0</td>\n",
       "      <td>0</td>\n",
       "      <td>1</td>\n",
       "      <td>0</td>\n",
       "    </tr>\n",
       "  </tbody>\n",
       "</table>\n",
       "</div>"
      ],
      "text/plain": [
       "                              totals  revenue  Buy hits pageviews\n",
       "837579  {\"visits\": \"1\", \"hits\": \"1\"}        0    0    1         0\n",
       "837584  {\"visits\": \"1\", \"hits\": \"1\"}        0    0    1         0\n",
       "837592  {\"visits\": \"1\", \"hits\": \"1\"}        0    0    1         0\n",
       "839268  {\"visits\": \"1\", \"hits\": \"1\"}        0    0    1         0\n",
       "853896  {\"visits\": \"1\", \"hits\": \"1\"}        0    0    1         0\n",
       "855111  {\"visits\": \"1\", \"hits\": \"1\"}        0    0    1         0\n",
       "856964  {\"visits\": \"1\", \"hits\": \"1\"}        0    0    1         0\n",
       "882173  {\"visits\": \"1\", \"hits\": \"2\"}        0    0    2         0\n",
       "884133  {\"visits\": \"1\", \"hits\": \"1\"}        0    0    1         0\n",
       "888421  {\"visits\": \"1\", \"hits\": \"1\"}        0    0    1         0"
      ]
     },
     "execution_count": 101,
     "metadata": {},
     "output_type": "execute_result"
    }
   ],
   "source": [
    "# Take a look at those samples with pageviews=0\n",
    "df_totals[df_totals['pageviews']==0].tail(10)"
   ]
  },
  {
   "cell_type": "code",
   "execution_count": 102,
   "metadata": {},
   "outputs": [
    {
     "data": {
      "text/plain": [
       "totals       object\n",
       "revenue       int64\n",
       "Buy           int64\n",
       "hits         object\n",
       "pageviews    object\n",
       "dtype: object"
      ]
     },
     "execution_count": 102,
     "metadata": {},
     "output_type": "execute_result"
    }
   ],
   "source": [
    "# Check data types for values in each column\n",
    "df_totals.dtypes"
   ]
  },
  {
   "cell_type": "code",
   "execution_count": 103,
   "metadata": {},
   "outputs": [
    {
     "data": {
      "text/plain": [
       "totals       object\n",
       "revenue       int64\n",
       "Buy           int64\n",
       "hits          int64\n",
       "pageviews     int64\n",
       "dtype: object"
      ]
     },
     "execution_count": 103,
     "metadata": {},
     "output_type": "execute_result"
    }
   ],
   "source": [
    "# Convert desired columns to numeric type\n",
    "df_totals[['hits', 'pageviews']] = df_totals[['hits', 'pageviews']].apply(pd.to_numeric) \n",
    "df_totals.dtypes"
   ]
  },
  {
   "cell_type": "markdown",
   "metadata": {},
   "source": [
    "### Take a look at correlations between revenue, Buy, hits, and pageviews"
   ]
  },
  {
   "cell_type": "code",
   "execution_count": 104,
   "metadata": {},
   "outputs": [
    {
     "data": {
      "text/plain": [
       "<matplotlib.axes._subplots.AxesSubplot at 0x7f3f958245c0>"
      ]
     },
     "execution_count": 104,
     "metadata": {},
     "output_type": "execute_result"
    },
    {
     "data": {
      "image/png": "[encoded data removed]",
      "text/plain": [
       "<matplotlib.figure.Figure at 0x7f3f965fbfd0>"
      ]
     },
     "metadata": {},
     "output_type": "display_data"
    }
   ],
   "source": [
    "temp_df = df_totals[['hits','pageviews', 'Buy','revenue']]\n",
    "\n",
    "# Calculate correlations\n",
    "corr = temp_df.corr()\n",
    "\n",
    "# Heatmap\n",
    "sns.heatmap(corr)"
   ]
  },
  {
   "cell_type": "markdown",
   "metadata": {},
   "source": [
    "From above heatmap, we can see that `hits` and `pageviews` have very weak relation to `revenue`.  **Thus, we can include `hits` and `pageviews` features in our classifier.**"
   ]
  },
  {
   "cell_type": "code",
   "execution_count": 105,
   "metadata": {},
   "outputs": [],
   "source": [
    "# Delete temporary dataframe\n",
    "del temp_df, df_totals"
   ]
  },
  {
   "cell_type": "markdown",
   "metadata": {},
   "source": [
    "# 3. Prepare training data \n",
    "\n",
    "According to the data exploration in previous section, we now prepare training data by including only necessary features for model training."
   ]
  },
  {
   "cell_type": "code",
   "execution_count": 6,
   "metadata": {},
   "outputs": [
    {
     "data": {
      "text/html": [
       "<div>\n",
       "<style scoped>\n",
       "    .dataframe tbody tr th:only-of-type {\n",
       "        vertical-align: middle;\n",
       "    }\n",
       "\n",
       "    .dataframe tbody tr th {\n",
       "        vertical-align: top;\n",
       "    }\n",
       "\n",
       "    .dataframe thead th {\n",
       "        text-align: right;\n",
       "    }\n",
       "</style>\n",
       "<table border=\"1\" class=\"dataframe\">\n",
       "  <thead>\n",
       "    <tr style=\"text-align: right;\">\n",
       "      <th></th>\n",
       "      <th>channelGrouping</th>\n",
       "      <th>date</th>\n",
       "      <th>device</th>\n",
       "      <th>fullVisitorId</th>\n",
       "      <th>geoNetwork</th>\n",
       "      <th>sessionId</th>\n",
       "      <th>socialEngagementType</th>\n",
       "      <th>totals</th>\n",
       "      <th>trafficSource</th>\n",
       "      <th>visitId</th>\n",
       "      <th>visitNumber</th>\n",
       "      <th>visitStartTime</th>\n",
       "    </tr>\n",
       "  </thead>\n",
       "  <tbody>\n",
       "    <tr>\n",
       "      <th>0</th>\n",
       "      <td>Organic Search</td>\n",
       "      <td>20160902</td>\n",
       "      <td>{\"browser\": \"Chrome\", \"browserVersion\": \"not a...</td>\n",
       "      <td>1131660440785968503</td>\n",
       "      <td>{\"continent\": \"Asia\", \"subContinent\": \"Western...</td>\n",
       "      <td>1131660440785968503_1472830385</td>\n",
       "      <td>Not Socially Engaged</td>\n",
       "      <td>{\"visits\": \"1\", \"hits\": \"1\", \"pageviews\": \"1\",...</td>\n",
       "      <td>{\"campaign\": \"(not set)\", \"source\": \"google\", ...</td>\n",
       "      <td>1472830385</td>\n",
       "      <td>1</td>\n",
       "      <td>1472830385</td>\n",
       "    </tr>\n",
       "    <tr>\n",
       "      <th>1</th>\n",
       "      <td>Organic Search</td>\n",
       "      <td>20160902</td>\n",
       "      <td>{\"browser\": \"Firefox\", \"browserVersion\": \"not ...</td>\n",
       "      <td>377306020877927890</td>\n",
       "      <td>{\"continent\": \"Oceania\", \"subContinent\": \"Aust...</td>\n",
       "      <td>377306020877927890_1472880147</td>\n",
       "      <td>Not Socially Engaged</td>\n",
       "      <td>{\"visits\": \"1\", \"hits\": \"1\", \"pageviews\": \"1\",...</td>\n",
       "      <td>{\"campaign\": \"(not set)\", \"source\": \"google\", ...</td>\n",
       "      <td>1472880147</td>\n",
       "      <td>1</td>\n",
       "      <td>1472880147</td>\n",
       "    </tr>\n",
       "    <tr>\n",
       "      <th>2</th>\n",
       "      <td>Organic Search</td>\n",
       "      <td>20160902</td>\n",
       "      <td>{\"browser\": \"Chrome\", \"browserVersion\": \"not a...</td>\n",
       "      <td>3895546263509774583</td>\n",
       "      <td>{\"continent\": \"Europe\", \"subContinent\": \"South...</td>\n",
       "      <td>3895546263509774583_1472865386</td>\n",
       "      <td>Not Socially Engaged</td>\n",
       "      <td>{\"visits\": \"1\", \"hits\": \"1\", \"pageviews\": \"1\",...</td>\n",
       "      <td>{\"campaign\": \"(not set)\", \"source\": \"google\", ...</td>\n",
       "      <td>1472865386</td>\n",
       "      <td>1</td>\n",
       "      <td>1472865386</td>\n",
       "    </tr>\n",
       "    <tr>\n",
       "      <th>3</th>\n",
       "      <td>Organic Search</td>\n",
       "      <td>20160902</td>\n",
       "      <td>{\"browser\": \"UC Browser\", \"browserVersion\": \"n...</td>\n",
       "      <td>4763447161404445595</td>\n",
       "      <td>{\"continent\": \"Asia\", \"subContinent\": \"Southea...</td>\n",
       "      <td>4763447161404445595_1472881213</td>\n",
       "      <td>Not Socially Engaged</td>\n",
       "      <td>{\"visits\": \"1\", \"hits\": \"1\", \"pageviews\": \"1\",...</td>\n",
       "      <td>{\"campaign\": \"(not set)\", \"source\": \"google\", ...</td>\n",
       "      <td>1472881213</td>\n",
       "      <td>1</td>\n",
       "      <td>1472881213</td>\n",
       "    </tr>\n",
       "    <tr>\n",
       "      <th>4</th>\n",
       "      <td>Organic Search</td>\n",
       "      <td>20160902</td>\n",
       "      <td>{\"browser\": \"Chrome\", \"browserVersion\": \"not a...</td>\n",
       "      <td>27294437909732085</td>\n",
       "      <td>{\"continent\": \"Europe\", \"subContinent\": \"North...</td>\n",
       "      <td>27294437909732085_1472822600</td>\n",
       "      <td>Not Socially Engaged</td>\n",
       "      <td>{\"visits\": \"1\", \"hits\": \"1\", \"pageviews\": \"1\",...</td>\n",
       "      <td>{\"campaign\": \"(not set)\", \"source\": \"google\", ...</td>\n",
       "      <td>1472822600</td>\n",
       "      <td>2</td>\n",
       "      <td>1472822600</td>\n",
       "    </tr>\n",
       "  </tbody>\n",
       "</table>\n",
       "</div>"
      ],
      "text/plain": [
       "  channelGrouping      date  \\\n",
       "0  Organic Search  20160902   \n",
       "1  Organic Search  20160902   \n",
       "2  Organic Search  20160902   \n",
       "3  Organic Search  20160902   \n",
       "4  Organic Search  20160902   \n",
       "\n",
       "                                              device        fullVisitorId  \\\n",
       "0  {\"browser\": \"Chrome\", \"browserVersion\": \"not a...  1131660440785968503   \n",
       "1  {\"browser\": \"Firefox\", \"browserVersion\": \"not ...   377306020877927890   \n",
       "2  {\"browser\": \"Chrome\", \"browserVersion\": \"not a...  3895546263509774583   \n",
       "3  {\"browser\": \"UC Browser\", \"browserVersion\": \"n...  4763447161404445595   \n",
       "4  {\"browser\": \"Chrome\", \"browserVersion\": \"not a...    27294437909732085   \n",
       "\n",
       "                                          geoNetwork  \\\n",
       "0  {\"continent\": \"Asia\", \"subContinent\": \"Western...   \n",
       "1  {\"continent\": \"Oceania\", \"subContinent\": \"Aust...   \n",
       "2  {\"continent\": \"Europe\", \"subContinent\": \"South...   \n",
       "3  {\"continent\": \"Asia\", \"subContinent\": \"Southea...   \n",
       "4  {\"continent\": \"Europe\", \"subContinent\": \"North...   \n",
       "\n",
       "                        sessionId  socialEngagementType  \\\n",
       "0  1131660440785968503_1472830385  Not Socially Engaged   \n",
       "1   377306020877927890_1472880147  Not Socially Engaged   \n",
       "2  3895546263509774583_1472865386  Not Socially Engaged   \n",
       "3  4763447161404445595_1472881213  Not Socially Engaged   \n",
       "4    27294437909732085_1472822600  Not Socially Engaged   \n",
       "\n",
       "                                              totals  \\\n",
       "0  {\"visits\": \"1\", \"hits\": \"1\", \"pageviews\": \"1\",...   \n",
       "1  {\"visits\": \"1\", \"hits\": \"1\", \"pageviews\": \"1\",...   \n",
       "2  {\"visits\": \"1\", \"hits\": \"1\", \"pageviews\": \"1\",...   \n",
       "3  {\"visits\": \"1\", \"hits\": \"1\", \"pageviews\": \"1\",...   \n",
       "4  {\"visits\": \"1\", \"hits\": \"1\", \"pageviews\": \"1\",...   \n",
       "\n",
       "                                       trafficSource     visitId  visitNumber  \\\n",
       "0  {\"campaign\": \"(not set)\", \"source\": \"google\", ...  1472830385            1   \n",
       "1  {\"campaign\": \"(not set)\", \"source\": \"google\", ...  1472880147            1   \n",
       "2  {\"campaign\": \"(not set)\", \"source\": \"google\", ...  1472865386            1   \n",
       "3  {\"campaign\": \"(not set)\", \"source\": \"google\", ...  1472881213            1   \n",
       "4  {\"campaign\": \"(not set)\", \"source\": \"google\", ...  1472822600            2   \n",
       "\n",
       "   visitStartTime  \n",
       "0      1472830385  \n",
       "1      1472880147  \n",
       "2      1472865386  \n",
       "3      1472881213  \n",
       "4      1472822600  "
      ]
     },
     "execution_count": 6,
     "metadata": {},
     "output_type": "execute_result"
    }
   ],
   "source": [
    "df_train = pd.read_csv(project.get_file('train.csv'))\n",
    "df_train.head()"
   ]
  },
  {
   "cell_type": "code",
   "execution_count": 7,
   "metadata": {},
   "outputs": [
    {
     "name": "stdout",
     "output_type": "stream",
     "text": [
      "<class 'pandas.core.frame.DataFrame'>\n",
      "RangeIndex: 903653 entries, 0 to 903652\n",
      "Data columns (total 12 columns):\n",
      "channelGrouping         903653 non-null object\n",
      "date                    903653 non-null int64\n",
      "device                  903653 non-null object\n",
      "fullVisitorId           903653 non-null object\n",
      "geoNetwork              903653 non-null object\n",
      "sessionId               903653 non-null object\n",
      "socialEngagementType    903653 non-null object\n",
      "totals                  903653 non-null object\n",
      "trafficSource           903653 non-null object\n",
      "visitId                 903653 non-null int64\n",
      "visitNumber             903653 non-null int64\n",
      "visitStartTime          903653 non-null int64\n",
      "dtypes: int64(4), object(8)\n",
      "memory usage: 1.6 GB\n"
     ]
    }
   ],
   "source": [
    "# View momory usage including objects\n",
    "df_train.info(memory_usage='deep')"
   ]
  },
  {
   "cell_type": "code",
   "execution_count": 8,
   "metadata": {},
   "outputs": [
    {
     "data": {
      "text/html": [
       "<div>\n",
       "<style scoped>\n",
       "    .dataframe tbody tr th:only-of-type {\n",
       "        vertical-align: middle;\n",
       "    }\n",
       "\n",
       "    .dataframe tbody tr th {\n",
       "        vertical-align: top;\n",
       "    }\n",
       "\n",
       "    .dataframe thead th {\n",
       "        text-align: right;\n",
       "    }\n",
       "</style>\n",
       "<table border=\"1\" class=\"dataframe\">\n",
       "  <thead>\n",
       "    <tr style=\"text-align: right;\">\n",
       "      <th></th>\n",
       "      <th>channelGrouping</th>\n",
       "      <th>date</th>\n",
       "      <th>device</th>\n",
       "      <th>fullVisitorId</th>\n",
       "      <th>geoNetwork</th>\n",
       "      <th>totals</th>\n",
       "    </tr>\n",
       "  </thead>\n",
       "  <tbody>\n",
       "    <tr>\n",
       "      <th>0</th>\n",
       "      <td>Organic Search</td>\n",
       "      <td>20160902</td>\n",
       "      <td>{\"browser\": \"Chrome\", \"browserVersion\": \"not a...</td>\n",
       "      <td>1131660440785968503</td>\n",
       "      <td>{\"continent\": \"Asia\", \"subContinent\": \"Western...</td>\n",
       "      <td>{\"visits\": \"1\", \"hits\": \"1\", \"pageviews\": \"1\",...</td>\n",
       "    </tr>\n",
       "    <tr>\n",
       "      <th>1</th>\n",
       "      <td>Organic Search</td>\n",
       "      <td>20160902</td>\n",
       "      <td>{\"browser\": \"Firefox\", \"browserVersion\": \"not ...</td>\n",
       "      <td>377306020877927890</td>\n",
       "      <td>{\"continent\": \"Oceania\", \"subContinent\": \"Aust...</td>\n",
       "      <td>{\"visits\": \"1\", \"hits\": \"1\", \"pageviews\": \"1\",...</td>\n",
       "    </tr>\n",
       "    <tr>\n",
       "      <th>2</th>\n",
       "      <td>Organic Search</td>\n",
       "      <td>20160902</td>\n",
       "      <td>{\"browser\": \"Chrome\", \"browserVersion\": \"not a...</td>\n",
       "      <td>3895546263509774583</td>\n",
       "      <td>{\"continent\": \"Europe\", \"subContinent\": \"South...</td>\n",
       "      <td>{\"visits\": \"1\", \"hits\": \"1\", \"pageviews\": \"1\",...</td>\n",
       "    </tr>\n",
       "    <tr>\n",
       "      <th>3</th>\n",
       "      <td>Organic Search</td>\n",
       "      <td>20160902</td>\n",
       "      <td>{\"browser\": \"UC Browser\", \"browserVersion\": \"n...</td>\n",
       "      <td>4763447161404445595</td>\n",
       "      <td>{\"continent\": \"Asia\", \"subContinent\": \"Southea...</td>\n",
       "      <td>{\"visits\": \"1\", \"hits\": \"1\", \"pageviews\": \"1\",...</td>\n",
       "    </tr>\n",
       "    <tr>\n",
       "      <th>4</th>\n",
       "      <td>Organic Search</td>\n",
       "      <td>20160902</td>\n",
       "      <td>{\"browser\": \"Chrome\", \"browserVersion\": \"not a...</td>\n",
       "      <td>27294437909732085</td>\n",
       "      <td>{\"continent\": \"Europe\", \"subContinent\": \"North...</td>\n",
       "      <td>{\"visits\": \"1\", \"hits\": \"1\", \"pageviews\": \"1\",...</td>\n",
       "    </tr>\n",
       "  </tbody>\n",
       "</table>\n",
       "</div>"
      ],
      "text/plain": [
       "  channelGrouping      date  \\\n",
       "0  Organic Search  20160902   \n",
       "1  Organic Search  20160902   \n",
       "2  Organic Search  20160902   \n",
       "3  Organic Search  20160902   \n",
       "4  Organic Search  20160902   \n",
       "\n",
       "                                              device        fullVisitorId  \\\n",
       "0  {\"browser\": \"Chrome\", \"browserVersion\": \"not a...  1131660440785968503   \n",
       "1  {\"browser\": \"Firefox\", \"browserVersion\": \"not ...   377306020877927890   \n",
       "2  {\"browser\": \"Chrome\", \"browserVersion\": \"not a...  3895546263509774583   \n",
       "3  {\"browser\": \"UC Browser\", \"browserVersion\": \"n...  4763447161404445595   \n",
       "4  {\"browser\": \"Chrome\", \"browserVersion\": \"not a...    27294437909732085   \n",
       "\n",
       "                                          geoNetwork  \\\n",
       "0  {\"continent\": \"Asia\", \"subContinent\": \"Western...   \n",
       "1  {\"continent\": \"Oceania\", \"subContinent\": \"Aust...   \n",
       "2  {\"continent\": \"Europe\", \"subContinent\": \"South...   \n",
       "3  {\"continent\": \"Asia\", \"subContinent\": \"Southea...   \n",
       "4  {\"continent\": \"Europe\", \"subContinent\": \"North...   \n",
       "\n",
       "                                              totals  \n",
       "0  {\"visits\": \"1\", \"hits\": \"1\", \"pageviews\": \"1\",...  \n",
       "1  {\"visits\": \"1\", \"hits\": \"1\", \"pageviews\": \"1\",...  \n",
       "2  {\"visits\": \"1\", \"hits\": \"1\", \"pageviews\": \"1\",...  \n",
       "3  {\"visits\": \"1\", \"hits\": \"1\", \"pageviews\": \"1\",...  \n",
       "4  {\"visits\": \"1\", \"hits\": \"1\", \"pageviews\": \"1\",...  "
      ]
     },
     "execution_count": 8,
     "metadata": {},
     "output_type": "execute_result"
    }
   ],
   "source": [
    "# Drop unused features\n",
    "unused = ['sessionId', 'socialEngagementType', 'trafficSource', 'visitId', 'visitNumber', 'visitStartTime']\n",
    "df_train.drop(columns=unused, inplace=True)\n",
    "df_train.head()"
   ]
  },
  {
   "cell_type": "code",
   "execution_count": 9,
   "metadata": {},
   "outputs": [
    {
     "name": "stdout",
     "output_type": "stream",
     "text": [
      "<class 'pandas.core.frame.DataFrame'>\n",
      "RangeIndex: 903653 entries, 0 to 903652\n",
      "Data columns (total 6 columns):\n",
      "channelGrouping    903653 non-null object\n",
      "date               903653 non-null int64\n",
      "device             903653 non-null object\n",
      "fullVisitorId      903653 non-null object\n",
      "geoNetwork         903653 non-null object\n",
      "totals             903653 non-null object\n",
      "dtypes: int64(1), object(5)\n",
      "memory usage: 1.3 GB\n"
     ]
    }
   ],
   "source": [
    "# View momory usage including objects\n",
    "df_train.info(memory_usage='deep')"
   ]
  },
  {
   "cell_type": "code",
   "execution_count": 10,
   "metadata": {},
   "outputs": [
    {
     "data": {
      "text/html": [
       "<div>\n",
       "<style scoped>\n",
       "    .dataframe tbody tr th:only-of-type {\n",
       "        vertical-align: middle;\n",
       "    }\n",
       "\n",
       "    .dataframe tbody tr th {\n",
       "        vertical-align: top;\n",
       "    }\n",
       "\n",
       "    .dataframe thead th {\n",
       "        text-align: right;\n",
       "    }\n",
       "</style>\n",
       "<table border=\"1\" class=\"dataframe\">\n",
       "  <thead>\n",
       "    <tr style=\"text-align: right;\">\n",
       "      <th></th>\n",
       "      <th>channelGrouping</th>\n",
       "      <th>date</th>\n",
       "      <th>device</th>\n",
       "      <th>fullVisitorId</th>\n",
       "      <th>geoNetwork</th>\n",
       "      <th>totals</th>\n",
       "      <th>continent</th>\n",
       "    </tr>\n",
       "  </thead>\n",
       "  <tbody>\n",
       "    <tr>\n",
       "      <th>0</th>\n",
       "      <td>Organic Search</td>\n",
       "      <td>20160902</td>\n",
       "      <td>{\"browser\": \"Chrome\", \"browserVersion\": \"not a...</td>\n",
       "      <td>1131660440785968503</td>\n",
       "      <td>{\"continent\": \"Asia\", \"subContinent\": \"Western...</td>\n",
       "      <td>{\"visits\": \"1\", \"hits\": \"1\", \"pageviews\": \"1\",...</td>\n",
       "      <td>Asia</td>\n",
       "    </tr>\n",
       "    <tr>\n",
       "      <th>1</th>\n",
       "      <td>Organic Search</td>\n",
       "      <td>20160902</td>\n",
       "      <td>{\"browser\": \"Firefox\", \"browserVersion\": \"not ...</td>\n",
       "      <td>377306020877927890</td>\n",
       "      <td>{\"continent\": \"Oceania\", \"subContinent\": \"Aust...</td>\n",
       "      <td>{\"visits\": \"1\", \"hits\": \"1\", \"pageviews\": \"1\",...</td>\n",
       "      <td>Oceania</td>\n",
       "    </tr>\n",
       "    <tr>\n",
       "      <th>2</th>\n",
       "      <td>Organic Search</td>\n",
       "      <td>20160902</td>\n",
       "      <td>{\"browser\": \"Chrome\", \"browserVersion\": \"not a...</td>\n",
       "      <td>3895546263509774583</td>\n",
       "      <td>{\"continent\": \"Europe\", \"subContinent\": \"South...</td>\n",
       "      <td>{\"visits\": \"1\", \"hits\": \"1\", \"pageviews\": \"1\",...</td>\n",
       "      <td>Europe</td>\n",
       "    </tr>\n",
       "    <tr>\n",
       "      <th>3</th>\n",
       "      <td>Organic Search</td>\n",
       "      <td>20160902</td>\n",
       "      <td>{\"browser\": \"UC Browser\", \"browserVersion\": \"n...</td>\n",
       "      <td>4763447161404445595</td>\n",
       "      <td>{\"continent\": \"Asia\", \"subContinent\": \"Southea...</td>\n",
       "      <td>{\"visits\": \"1\", \"hits\": \"1\", \"pageviews\": \"1\",...</td>\n",
       "      <td>Asia</td>\n",
       "    </tr>\n",
       "    <tr>\n",
       "      <th>4</th>\n",
       "      <td>Organic Search</td>\n",
       "      <td>20160902</td>\n",
       "      <td>{\"browser\": \"Chrome\", \"browserVersion\": \"not a...</td>\n",
       "      <td>27294437909732085</td>\n",
       "      <td>{\"continent\": \"Europe\", \"subContinent\": \"North...</td>\n",
       "      <td>{\"visits\": \"1\", \"hits\": \"1\", \"pageviews\": \"1\",...</td>\n",
       "      <td>Europe</td>\n",
       "    </tr>\n",
       "  </tbody>\n",
       "</table>\n",
       "</div>"
      ],
      "text/plain": [
       "  channelGrouping      date  \\\n",
       "0  Organic Search  20160902   \n",
       "1  Organic Search  20160902   \n",
       "2  Organic Search  20160902   \n",
       "3  Organic Search  20160902   \n",
       "4  Organic Search  20160902   \n",
       "\n",
       "                                              device        fullVisitorId  \\\n",
       "0  {\"browser\": \"Chrome\", \"browserVersion\": \"not a...  1131660440785968503   \n",
       "1  {\"browser\": \"Firefox\", \"browserVersion\": \"not ...   377306020877927890   \n",
       "2  {\"browser\": \"Chrome\", \"browserVersion\": \"not a...  3895546263509774583   \n",
       "3  {\"browser\": \"UC Browser\", \"browserVersion\": \"n...  4763447161404445595   \n",
       "4  {\"browser\": \"Chrome\", \"browserVersion\": \"not a...    27294437909732085   \n",
       "\n",
       "                                          geoNetwork  \\\n",
       "0  {\"continent\": \"Asia\", \"subContinent\": \"Western...   \n",
       "1  {\"continent\": \"Oceania\", \"subContinent\": \"Aust...   \n",
       "2  {\"continent\": \"Europe\", \"subContinent\": \"South...   \n",
       "3  {\"continent\": \"Asia\", \"subContinent\": \"Southea...   \n",
       "4  {\"continent\": \"Europe\", \"subContinent\": \"North...   \n",
       "\n",
       "                                              totals continent  \n",
       "0  {\"visits\": \"1\", \"hits\": \"1\", \"pageviews\": \"1\",...      Asia  \n",
       "1  {\"visits\": \"1\", \"hits\": \"1\", \"pageviews\": \"1\",...   Oceania  \n",
       "2  {\"visits\": \"1\", \"hits\": \"1\", \"pageviews\": \"1\",...    Europe  \n",
       "3  {\"visits\": \"1\", \"hits\": \"1\", \"pageviews\": \"1\",...      Asia  \n",
       "4  {\"visits\": \"1\", \"hits\": \"1\", \"pageviews\": \"1\",...    Europe  "
      ]
     },
     "execution_count": 10,
     "metadata": {},
     "output_type": "execute_result"
    }
   ],
   "source": [
    "# Extract continent from geoNetwork field\n",
    "json_read(df_train, field_name='geoNetwork' , extract_field='continent', new_field_name='continent').head()"
   ]
  },
  {
   "cell_type": "code",
   "execution_count": 11,
   "metadata": {},
   "outputs": [
    {
     "data": {
      "text/html": [
       "<div>\n",
       "<style scoped>\n",
       "    .dataframe tbody tr th:only-of-type {\n",
       "        vertical-align: middle;\n",
       "    }\n",
       "\n",
       "    .dataframe tbody tr th {\n",
       "        vertical-align: top;\n",
       "    }\n",
       "\n",
       "    .dataframe thead th {\n",
       "        text-align: right;\n",
       "    }\n",
       "</style>\n",
       "<table border=\"1\" class=\"dataframe\">\n",
       "  <thead>\n",
       "    <tr style=\"text-align: right;\">\n",
       "      <th></th>\n",
       "      <th>channelGrouping</th>\n",
       "      <th>date</th>\n",
       "      <th>device</th>\n",
       "      <th>fullVisitorId</th>\n",
       "      <th>geoNetwork</th>\n",
       "      <th>totals</th>\n",
       "      <th>continent</th>\n",
       "      <th>country</th>\n",
       "    </tr>\n",
       "  </thead>\n",
       "  <tbody>\n",
       "    <tr>\n",
       "      <th>0</th>\n",
       "      <td>Organic Search</td>\n",
       "      <td>20160902</td>\n",
       "      <td>{\"browser\": \"Chrome\", \"browserVersion\": \"not a...</td>\n",
       "      <td>1131660440785968503</td>\n",
       "      <td>{\"continent\": \"Asia\", \"subContinent\": \"Western...</td>\n",
       "      <td>{\"visits\": \"1\", \"hits\": \"1\", \"pageviews\": \"1\",...</td>\n",
       "      <td>Asia</td>\n",
       "      <td>Turkey</td>\n",
       "    </tr>\n",
       "    <tr>\n",
       "      <th>1</th>\n",
       "      <td>Organic Search</td>\n",
       "      <td>20160902</td>\n",
       "      <td>{\"browser\": \"Firefox\", \"browserVersion\": \"not ...</td>\n",
       "      <td>377306020877927890</td>\n",
       "      <td>{\"continent\": \"Oceania\", \"subContinent\": \"Aust...</td>\n",
       "      <td>{\"visits\": \"1\", \"hits\": \"1\", \"pageviews\": \"1\",...</td>\n",
       "      <td>Oceania</td>\n",
       "      <td>Australia</td>\n",
       "    </tr>\n",
       "    <tr>\n",
       "      <th>2</th>\n",
       "      <td>Organic Search</td>\n",
       "      <td>20160902</td>\n",
       "      <td>{\"browser\": \"Chrome\", \"browserVersion\": \"not a...</td>\n",
       "      <td>3895546263509774583</td>\n",
       "      <td>{\"continent\": \"Europe\", \"subContinent\": \"South...</td>\n",
       "      <td>{\"visits\": \"1\", \"hits\": \"1\", \"pageviews\": \"1\",...</td>\n",
       "      <td>Europe</td>\n",
       "      <td>Spain</td>\n",
       "    </tr>\n",
       "    <tr>\n",
       "      <th>3</th>\n",
       "      <td>Organic Search</td>\n",
       "      <td>20160902</td>\n",
       "      <td>{\"browser\": \"UC Browser\", \"browserVersion\": \"n...</td>\n",
       "      <td>4763447161404445595</td>\n",
       "      <td>{\"continent\": \"Asia\", \"subContinent\": \"Southea...</td>\n",
       "      <td>{\"visits\": \"1\", \"hits\": \"1\", \"pageviews\": \"1\",...</td>\n",
       "      <td>Asia</td>\n",
       "      <td>Indonesia</td>\n",
       "    </tr>\n",
       "    <tr>\n",
       "      <th>4</th>\n",
       "      <td>Organic Search</td>\n",
       "      <td>20160902</td>\n",
       "      <td>{\"browser\": \"Chrome\", \"browserVersion\": \"not a...</td>\n",
       "      <td>27294437909732085</td>\n",
       "      <td>{\"continent\": \"Europe\", \"subContinent\": \"North...</td>\n",
       "      <td>{\"visits\": \"1\", \"hits\": \"1\", \"pageviews\": \"1\",...</td>\n",
       "      <td>Europe</td>\n",
       "      <td>United Kingdom</td>\n",
       "    </tr>\n",
       "  </tbody>\n",
       "</table>\n",
       "</div>"
      ],
      "text/plain": [
       "  channelGrouping      date  \\\n",
       "0  Organic Search  20160902   \n",
       "1  Organic Search  20160902   \n",
       "2  Organic Search  20160902   \n",
       "3  Organic Search  20160902   \n",
       "4  Organic Search  20160902   \n",
       "\n",
       "                                              device        fullVisitorId  \\\n",
       "0  {\"browser\": \"Chrome\", \"browserVersion\": \"not a...  1131660440785968503   \n",
       "1  {\"browser\": \"Firefox\", \"browserVersion\": \"not ...   377306020877927890   \n",
       "2  {\"browser\": \"Chrome\", \"browserVersion\": \"not a...  3895546263509774583   \n",
       "3  {\"browser\": \"UC Browser\", \"browserVersion\": \"n...  4763447161404445595   \n",
       "4  {\"browser\": \"Chrome\", \"browserVersion\": \"not a...    27294437909732085   \n",
       "\n",
       "                                          geoNetwork  \\\n",
       "0  {\"continent\": \"Asia\", \"subContinent\": \"Western...   \n",
       "1  {\"continent\": \"Oceania\", \"subContinent\": \"Aust...   \n",
       "2  {\"continent\": \"Europe\", \"subContinent\": \"South...   \n",
       "3  {\"continent\": \"Asia\", \"subContinent\": \"Southea...   \n",
       "4  {\"continent\": \"Europe\", \"subContinent\": \"North...   \n",
       "\n",
       "                                              totals continent         country  \n",
       "0  {\"visits\": \"1\", \"hits\": \"1\", \"pageviews\": \"1\",...      Asia          Turkey  \n",
       "1  {\"visits\": \"1\", \"hits\": \"1\", \"pageviews\": \"1\",...   Oceania       Australia  \n",
       "2  {\"visits\": \"1\", \"hits\": \"1\", \"pageviews\": \"1\",...    Europe           Spain  \n",
       "3  {\"visits\": \"1\", \"hits\": \"1\", \"pageviews\": \"1\",...      Asia       Indonesia  \n",
       "4  {\"visits\": \"1\", \"hits\": \"1\", \"pageviews\": \"1\",...    Europe  United Kingdom  "
      ]
     },
     "execution_count": 11,
     "metadata": {},
     "output_type": "execute_result"
    }
   ],
   "source": [
    "# Extract country from geoNetwork field\n",
    "json_read(df_train, field_name='geoNetwork' , extract_field='country', new_field_name='country').head()"
   ]
  },
  {
   "cell_type": "code",
   "execution_count": 12,
   "metadata": {},
   "outputs": [
    {
     "name": "stdout",
     "output_type": "stream",
     "text": [
      "<class 'pandas.core.frame.DataFrame'>\n",
      "RangeIndex: 903653 entries, 0 to 903652\n",
      "Data columns (total 8 columns):\n",
      "channelGrouping    903653 non-null object\n",
      "date               903653 non-null int64\n",
      "device             903653 non-null object\n",
      "fullVisitorId      903653 non-null object\n",
      "geoNetwork         903653 non-null object\n",
      "totals             903653 non-null object\n",
      "continent          903653 non-null object\n",
      "country            903653 non-null object\n",
      "dtypes: int64(1), object(7)\n",
      "memory usage: 1.4 GB\n"
     ]
    }
   ],
   "source": [
    "# View momory usage including objects\n",
    "df_train.info(memory_usage='deep')"
   ]
  },
  {
   "cell_type": "code",
   "execution_count": 13,
   "metadata": {},
   "outputs": [],
   "source": [
    "# After extracting necessary features from geoNtework, we drop this attribute\n",
    "df_train.drop(columns='geoNetwork', inplace=True)"
   ]
  },
  {
   "cell_type": "code",
   "execution_count": 14,
   "metadata": {},
   "outputs": [
    {
     "data": {
      "text/html": [
       "<div>\n",
       "<style scoped>\n",
       "    .dataframe tbody tr th:only-of-type {\n",
       "        vertical-align: middle;\n",
       "    }\n",
       "\n",
       "    .dataframe tbody tr th {\n",
       "        vertical-align: top;\n",
       "    }\n",
       "\n",
       "    .dataframe thead th {\n",
       "        text-align: right;\n",
       "    }\n",
       "</style>\n",
       "<table border=\"1\" class=\"dataframe\">\n",
       "  <thead>\n",
       "    <tr style=\"text-align: right;\">\n",
       "      <th></th>\n",
       "      <th>channelGrouping</th>\n",
       "      <th>date</th>\n",
       "      <th>device</th>\n",
       "      <th>fullVisitorId</th>\n",
       "      <th>totals</th>\n",
       "      <th>continent</th>\n",
       "      <th>country</th>\n",
       "    </tr>\n",
       "  </thead>\n",
       "  <tbody>\n",
       "    <tr>\n",
       "      <th>0</th>\n",
       "      <td>Organic Search</td>\n",
       "      <td>20160902</td>\n",
       "      <td>{\"browser\": \"Chrome\", \"browserVersion\": \"not a...</td>\n",
       "      <td>1131660440785968503</td>\n",
       "      <td>{\"visits\": \"1\", \"hits\": \"1\", \"pageviews\": \"1\",...</td>\n",
       "      <td>Asia</td>\n",
       "      <td>Turkey</td>\n",
       "    </tr>\n",
       "    <tr>\n",
       "      <th>1</th>\n",
       "      <td>Organic Search</td>\n",
       "      <td>20160902</td>\n",
       "      <td>{\"browser\": \"Firefox\", \"browserVersion\": \"not ...</td>\n",
       "      <td>377306020877927890</td>\n",
       "      <td>{\"visits\": \"1\", \"hits\": \"1\", \"pageviews\": \"1\",...</td>\n",
       "      <td>Oceania</td>\n",
       "      <td>Australia</td>\n",
       "    </tr>\n",
       "    <tr>\n",
       "      <th>2</th>\n",
       "      <td>Organic Search</td>\n",
       "      <td>20160902</td>\n",
       "      <td>{\"browser\": \"Chrome\", \"browserVersion\": \"not a...</td>\n",
       "      <td>3895546263509774583</td>\n",
       "      <td>{\"visits\": \"1\", \"hits\": \"1\", \"pageviews\": \"1\",...</td>\n",
       "      <td>Europe</td>\n",
       "      <td>Spain</td>\n",
       "    </tr>\n",
       "    <tr>\n",
       "      <th>3</th>\n",
       "      <td>Organic Search</td>\n",
       "      <td>20160902</td>\n",
       "      <td>{\"browser\": \"UC Browser\", \"browserVersion\": \"n...</td>\n",
       "      <td>4763447161404445595</td>\n",
       "      <td>{\"visits\": \"1\", \"hits\": \"1\", \"pageviews\": \"1\",...</td>\n",
       "      <td>Asia</td>\n",
       "      <td>Indonesia</td>\n",
       "    </tr>\n",
       "    <tr>\n",
       "      <th>4</th>\n",
       "      <td>Organic Search</td>\n",
       "      <td>20160902</td>\n",
       "      <td>{\"browser\": \"Chrome\", \"browserVersion\": \"not a...</td>\n",
       "      <td>27294437909732085</td>\n",
       "      <td>{\"visits\": \"1\", \"hits\": \"1\", \"pageviews\": \"1\",...</td>\n",
       "      <td>Europe</td>\n",
       "      <td>United Kingdom</td>\n",
       "    </tr>\n",
       "  </tbody>\n",
       "</table>\n",
       "</div>"
      ],
      "text/plain": [
       "  channelGrouping      date  \\\n",
       "0  Organic Search  20160902   \n",
       "1  Organic Search  20160902   \n",
       "2  Organic Search  20160902   \n",
       "3  Organic Search  20160902   \n",
       "4  Organic Search  20160902   \n",
       "\n",
       "                                              device        fullVisitorId  \\\n",
       "0  {\"browser\": \"Chrome\", \"browserVersion\": \"not a...  1131660440785968503   \n",
       "1  {\"browser\": \"Firefox\", \"browserVersion\": \"not ...   377306020877927890   \n",
       "2  {\"browser\": \"Chrome\", \"browserVersion\": \"not a...  3895546263509774583   \n",
       "3  {\"browser\": \"UC Browser\", \"browserVersion\": \"n...  4763447161404445595   \n",
       "4  {\"browser\": \"Chrome\", \"browserVersion\": \"not a...    27294437909732085   \n",
       "\n",
       "                                              totals continent         country  \n",
       "0  {\"visits\": \"1\", \"hits\": \"1\", \"pageviews\": \"1\",...      Asia          Turkey  \n",
       "1  {\"visits\": \"1\", \"hits\": \"1\", \"pageviews\": \"1\",...   Oceania       Australia  \n",
       "2  {\"visits\": \"1\", \"hits\": \"1\", \"pageviews\": \"1\",...    Europe           Spain  \n",
       "3  {\"visits\": \"1\", \"hits\": \"1\", \"pageviews\": \"1\",...      Asia       Indonesia  \n",
       "4  {\"visits\": \"1\", \"hits\": \"1\", \"pageviews\": \"1\",...    Europe  United Kingdom  "
      ]
     },
     "execution_count": 14,
     "metadata": {},
     "output_type": "execute_result"
    }
   ],
   "source": [
    "df_train.head()"
   ]
  },
  {
   "cell_type": "code",
   "execution_count": 15,
   "metadata": {},
   "outputs": [
    {
     "name": "stdout",
     "output_type": "stream",
     "text": [
      "<class 'pandas.core.frame.DataFrame'>\n",
      "RangeIndex: 903653 entries, 0 to 903652\n",
      "Data columns (total 7 columns):\n",
      "channelGrouping    903653 non-null object\n",
      "date               903653 non-null int64\n",
      "device             903653 non-null object\n",
      "fullVisitorId      903653 non-null object\n",
      "totals             903653 non-null object\n",
      "continent          903653 non-null object\n",
      "country            903653 non-null object\n",
      "dtypes: int64(1), object(6)\n",
      "memory usage: 1010.9 MB\n"
     ]
    }
   ],
   "source": [
    "# View momory usage including objects\n",
    "df_train.info(memory_usage='deep')"
   ]
  },
  {
   "cell_type": "code",
   "execution_count": 16,
   "metadata": {},
   "outputs": [
    {
     "data": {
      "text/html": [
       "<div>\n",
       "<style scoped>\n",
       "    .dataframe tbody tr th:only-of-type {\n",
       "        vertical-align: middle;\n",
       "    }\n",
       "\n",
       "    .dataframe tbody tr th {\n",
       "        vertical-align: top;\n",
       "    }\n",
       "\n",
       "    .dataframe thead th {\n",
       "        text-align: right;\n",
       "    }\n",
       "</style>\n",
       "<table border=\"1\" class=\"dataframe\">\n",
       "  <thead>\n",
       "    <tr style=\"text-align: right;\">\n",
       "      <th></th>\n",
       "      <th>channelGrouping</th>\n",
       "      <th>date</th>\n",
       "      <th>device</th>\n",
       "      <th>fullVisitorId</th>\n",
       "      <th>totals</th>\n",
       "      <th>continent</th>\n",
       "      <th>country</th>\n",
       "      <th>hits</th>\n",
       "    </tr>\n",
       "  </thead>\n",
       "  <tbody>\n",
       "    <tr>\n",
       "      <th>0</th>\n",
       "      <td>Organic Search</td>\n",
       "      <td>20160902</td>\n",
       "      <td>{\"browser\": \"Chrome\", \"browserVersion\": \"not a...</td>\n",
       "      <td>1131660440785968503</td>\n",
       "      <td>{\"visits\": \"1\", \"hits\": \"1\", \"pageviews\": \"1\",...</td>\n",
       "      <td>Asia</td>\n",
       "      <td>Turkey</td>\n",
       "      <td>1</td>\n",
       "    </tr>\n",
       "    <tr>\n",
       "      <th>1</th>\n",
       "      <td>Organic Search</td>\n",
       "      <td>20160902</td>\n",
       "      <td>{\"browser\": \"Firefox\", \"browserVersion\": \"not ...</td>\n",
       "      <td>377306020877927890</td>\n",
       "      <td>{\"visits\": \"1\", \"hits\": \"1\", \"pageviews\": \"1\",...</td>\n",
       "      <td>Oceania</td>\n",
       "      <td>Australia</td>\n",
       "      <td>1</td>\n",
       "    </tr>\n",
       "    <tr>\n",
       "      <th>2</th>\n",
       "      <td>Organic Search</td>\n",
       "      <td>20160902</td>\n",
       "      <td>{\"browser\": \"Chrome\", \"browserVersion\": \"not a...</td>\n",
       "      <td>3895546263509774583</td>\n",
       "      <td>{\"visits\": \"1\", \"hits\": \"1\", \"pageviews\": \"1\",...</td>\n",
       "      <td>Europe</td>\n",
       "      <td>Spain</td>\n",
       "      <td>1</td>\n",
       "    </tr>\n",
       "    <tr>\n",
       "      <th>3</th>\n",
       "      <td>Organic Search</td>\n",
       "      <td>20160902</td>\n",
       "      <td>{\"browser\": \"UC Browser\", \"browserVersion\": \"n...</td>\n",
       "      <td>4763447161404445595</td>\n",
       "      <td>{\"visits\": \"1\", \"hits\": \"1\", \"pageviews\": \"1\",...</td>\n",
       "      <td>Asia</td>\n",
       "      <td>Indonesia</td>\n",
       "      <td>1</td>\n",
       "    </tr>\n",
       "    <tr>\n",
       "      <th>4</th>\n",
       "      <td>Organic Search</td>\n",
       "      <td>20160902</td>\n",
       "      <td>{\"browser\": \"Chrome\", \"browserVersion\": \"not a...</td>\n",
       "      <td>27294437909732085</td>\n",
       "      <td>{\"visits\": \"1\", \"hits\": \"1\", \"pageviews\": \"1\",...</td>\n",
       "      <td>Europe</td>\n",
       "      <td>United Kingdom</td>\n",
       "      <td>1</td>\n",
       "    </tr>\n",
       "  </tbody>\n",
       "</table>\n",
       "</div>"
      ],
      "text/plain": [
       "  channelGrouping      date  \\\n",
       "0  Organic Search  20160902   \n",
       "1  Organic Search  20160902   \n",
       "2  Organic Search  20160902   \n",
       "3  Organic Search  20160902   \n",
       "4  Organic Search  20160902   \n",
       "\n",
       "                                              device        fullVisitorId  \\\n",
       "0  {\"browser\": \"Chrome\", \"browserVersion\": \"not a...  1131660440785968503   \n",
       "1  {\"browser\": \"Firefox\", \"browserVersion\": \"not ...   377306020877927890   \n",
       "2  {\"browser\": \"Chrome\", \"browserVersion\": \"not a...  3895546263509774583   \n",
       "3  {\"browser\": \"UC Browser\", \"browserVersion\": \"n...  4763447161404445595   \n",
       "4  {\"browser\": \"Chrome\", \"browserVersion\": \"not a...    27294437909732085   \n",
       "\n",
       "                                              totals continent  \\\n",
       "0  {\"visits\": \"1\", \"hits\": \"1\", \"pageviews\": \"1\",...      Asia   \n",
       "1  {\"visits\": \"1\", \"hits\": \"1\", \"pageviews\": \"1\",...   Oceania   \n",
       "2  {\"visits\": \"1\", \"hits\": \"1\", \"pageviews\": \"1\",...    Europe   \n",
       "3  {\"visits\": \"1\", \"hits\": \"1\", \"pageviews\": \"1\",...      Asia   \n",
       "4  {\"visits\": \"1\", \"hits\": \"1\", \"pageviews\": \"1\",...    Europe   \n",
       "\n",
       "          country hits  \n",
       "0          Turkey    1  \n",
       "1       Australia    1  \n",
       "2           Spain    1  \n",
       "3       Indonesia    1  \n",
       "4  United Kingdom    1  "
      ]
     },
     "execution_count": 16,
     "metadata": {},
     "output_type": "execute_result"
    }
   ],
   "source": [
    "# Extract hits from totals field\n",
    "json_read(df_train, field_name='totals' , extract_field='hits', new_field_name='hits').head()"
   ]
  },
  {
   "cell_type": "code",
   "execution_count": 17,
   "metadata": {},
   "outputs": [
    {
     "data": {
      "text/html": [
       "<div>\n",
       "<style scoped>\n",
       "    .dataframe tbody tr th:only-of-type {\n",
       "        vertical-align: middle;\n",
       "    }\n",
       "\n",
       "    .dataframe tbody tr th {\n",
       "        vertical-align: top;\n",
       "    }\n",
       "\n",
       "    .dataframe thead th {\n",
       "        text-align: right;\n",
       "    }\n",
       "</style>\n",
       "<table border=\"1\" class=\"dataframe\">\n",
       "  <thead>\n",
       "    <tr style=\"text-align: right;\">\n",
       "      <th></th>\n",
       "      <th>channelGrouping</th>\n",
       "      <th>date</th>\n",
       "      <th>device</th>\n",
       "      <th>fullVisitorId</th>\n",
       "      <th>totals</th>\n",
       "      <th>continent</th>\n",
       "      <th>country</th>\n",
       "      <th>hits</th>\n",
       "      <th>pageviews</th>\n",
       "    </tr>\n",
       "  </thead>\n",
       "  <tbody>\n",
       "    <tr>\n",
       "      <th>0</th>\n",
       "      <td>Organic Search</td>\n",
       "      <td>20160902</td>\n",
       "      <td>{\"browser\": \"Chrome\", \"browserVersion\": \"not a...</td>\n",
       "      <td>1131660440785968503</td>\n",
       "      <td>{\"visits\": \"1\", \"hits\": \"1\", \"pageviews\": \"1\",...</td>\n",
       "      <td>Asia</td>\n",
       "      <td>Turkey</td>\n",
       "      <td>1</td>\n",
       "      <td>1</td>\n",
       "    </tr>\n",
       "    <tr>\n",
       "      <th>1</th>\n",
       "      <td>Organic Search</td>\n",
       "      <td>20160902</td>\n",
       "      <td>{\"browser\": \"Firefox\", \"browserVersion\": \"not ...</td>\n",
       "      <td>377306020877927890</td>\n",
       "      <td>{\"visits\": \"1\", \"hits\": \"1\", \"pageviews\": \"1\",...</td>\n",
       "      <td>Oceania</td>\n",
       "      <td>Australia</td>\n",
       "      <td>1</td>\n",
       "      <td>1</td>\n",
       "    </tr>\n",
       "    <tr>\n",
       "      <th>2</th>\n",
       "      <td>Organic Search</td>\n",
       "      <td>20160902</td>\n",
       "      <td>{\"browser\": \"Chrome\", \"browserVersion\": \"not a...</td>\n",
       "      <td>3895546263509774583</td>\n",
       "      <td>{\"visits\": \"1\", \"hits\": \"1\", \"pageviews\": \"1\",...</td>\n",
       "      <td>Europe</td>\n",
       "      <td>Spain</td>\n",
       "      <td>1</td>\n",
       "      <td>1</td>\n",
       "    </tr>\n",
       "    <tr>\n",
       "      <th>3</th>\n",
       "      <td>Organic Search</td>\n",
       "      <td>20160902</td>\n",
       "      <td>{\"browser\": \"UC Browser\", \"browserVersion\": \"n...</td>\n",
       "      <td>4763447161404445595</td>\n",
       "      <td>{\"visits\": \"1\", \"hits\": \"1\", \"pageviews\": \"1\",...</td>\n",
       "      <td>Asia</td>\n",
       "      <td>Indonesia</td>\n",
       "      <td>1</td>\n",
       "      <td>1</td>\n",
       "    </tr>\n",
       "    <tr>\n",
       "      <th>4</th>\n",
       "      <td>Organic Search</td>\n",
       "      <td>20160902</td>\n",
       "      <td>{\"browser\": \"Chrome\", \"browserVersion\": \"not a...</td>\n",
       "      <td>27294437909732085</td>\n",
       "      <td>{\"visits\": \"1\", \"hits\": \"1\", \"pageviews\": \"1\",...</td>\n",
       "      <td>Europe</td>\n",
       "      <td>United Kingdom</td>\n",
       "      <td>1</td>\n",
       "      <td>1</td>\n",
       "    </tr>\n",
       "  </tbody>\n",
       "</table>\n",
       "</div>"
      ],
      "text/plain": [
       "  channelGrouping      date  \\\n",
       "0  Organic Search  20160902   \n",
       "1  Organic Search  20160902   \n",
       "2  Organic Search  20160902   \n",
       "3  Organic Search  20160902   \n",
       "4  Organic Search  20160902   \n",
       "\n",
       "                                              device        fullVisitorId  \\\n",
       "0  {\"browser\": \"Chrome\", \"browserVersion\": \"not a...  1131660440785968503   \n",
       "1  {\"browser\": \"Firefox\", \"browserVersion\": \"not ...   377306020877927890   \n",
       "2  {\"browser\": \"Chrome\", \"browserVersion\": \"not a...  3895546263509774583   \n",
       "3  {\"browser\": \"UC Browser\", \"browserVersion\": \"n...  4763447161404445595   \n",
       "4  {\"browser\": \"Chrome\", \"browserVersion\": \"not a...    27294437909732085   \n",
       "\n",
       "                                              totals continent  \\\n",
       "0  {\"visits\": \"1\", \"hits\": \"1\", \"pageviews\": \"1\",...      Asia   \n",
       "1  {\"visits\": \"1\", \"hits\": \"1\", \"pageviews\": \"1\",...   Oceania   \n",
       "2  {\"visits\": \"1\", \"hits\": \"1\", \"pageviews\": \"1\",...    Europe   \n",
       "3  {\"visits\": \"1\", \"hits\": \"1\", \"pageviews\": \"1\",...      Asia   \n",
       "4  {\"visits\": \"1\", \"hits\": \"1\", \"pageviews\": \"1\",...    Europe   \n",
       "\n",
       "          country hits pageviews  \n",
       "0          Turkey    1         1  \n",
       "1       Australia    1         1  \n",
       "2           Spain    1         1  \n",
       "3       Indonesia    1         1  \n",
       "4  United Kingdom    1         1  "
      ]
     },
     "execution_count": 17,
     "metadata": {},
     "output_type": "execute_result"
    }
   ],
   "source": [
    "# Extract pageviews from totals field\n",
    "json_read(df_train, field_name='totals' , extract_field='pageviews', new_field_name='pageviews').head()"
   ]
  },
  {
   "cell_type": "code",
   "execution_count": 18,
   "metadata": {},
   "outputs": [],
   "source": [
    "df_train['pageviews'].fillna(value=0, inplace=True)"
   ]
  },
  {
   "cell_type": "code",
   "execution_count": 19,
   "metadata": {},
   "outputs": [],
   "source": [
    "# Convert desired columns to numeric type\n",
    "df_train[['hits', 'pageviews']] = df_train[['hits', 'pageviews']].apply(pd.to_numeric) "
   ]
  },
  {
   "cell_type": "code",
   "execution_count": 20,
   "metadata": {},
   "outputs": [
    {
     "name": "stdout",
     "output_type": "stream",
     "text": [
      "<class 'pandas.core.frame.DataFrame'>\n",
      "RangeIndex: 903653 entries, 0 to 903652\n",
      "Data columns (total 9 columns):\n",
      "channelGrouping    903653 non-null object\n",
      "date               903653 non-null int64\n",
      "device             903653 non-null object\n",
      "fullVisitorId      903653 non-null object\n",
      "totals             903653 non-null object\n",
      "continent          903653 non-null object\n",
      "country            903653 non-null object\n",
      "hits               903653 non-null int64\n",
      "pageviews          903653 non-null int64\n",
      "dtypes: int64(3), object(6)\n",
      "memory usage: 1.0 GB\n"
     ]
    }
   ],
   "source": [
    "# View momory usage including objects\n",
    "df_train.info(memory_usage='deep')"
   ]
  },
  {
   "cell_type": "code",
   "execution_count": 21,
   "metadata": {},
   "outputs": [
    {
     "data": {
      "text/html": [
       "<div>\n",
       "<style scoped>\n",
       "    .dataframe tbody tr th:only-of-type {\n",
       "        vertical-align: middle;\n",
       "    }\n",
       "\n",
       "    .dataframe tbody tr th {\n",
       "        vertical-align: top;\n",
       "    }\n",
       "\n",
       "    .dataframe thead th {\n",
       "        text-align: right;\n",
       "    }\n",
       "</style>\n",
       "<table border=\"1\" class=\"dataframe\">\n",
       "  <thead>\n",
       "    <tr style=\"text-align: right;\">\n",
       "      <th></th>\n",
       "      <th>channelGrouping</th>\n",
       "      <th>date</th>\n",
       "      <th>device</th>\n",
       "      <th>fullVisitorId</th>\n",
       "      <th>totals</th>\n",
       "      <th>continent</th>\n",
       "      <th>country</th>\n",
       "      <th>hits</th>\n",
       "      <th>pageviews</th>\n",
       "      <th>revenue</th>\n",
       "    </tr>\n",
       "  </thead>\n",
       "  <tbody>\n",
       "    <tr>\n",
       "      <th>0</th>\n",
       "      <td>Organic Search</td>\n",
       "      <td>20160902</td>\n",
       "      <td>{\"browser\": \"Chrome\", \"browserVersion\": \"not a...</td>\n",
       "      <td>1131660440785968503</td>\n",
       "      <td>{\"visits\": \"1\", \"hits\": \"1\", \"pageviews\": \"1\",...</td>\n",
       "      <td>Asia</td>\n",
       "      <td>Turkey</td>\n",
       "      <td>1</td>\n",
       "      <td>1</td>\n",
       "      <td>NaN</td>\n",
       "    </tr>\n",
       "    <tr>\n",
       "      <th>1</th>\n",
       "      <td>Organic Search</td>\n",
       "      <td>20160902</td>\n",
       "      <td>{\"browser\": \"Firefox\", \"browserVersion\": \"not ...</td>\n",
       "      <td>377306020877927890</td>\n",
       "      <td>{\"visits\": \"1\", \"hits\": \"1\", \"pageviews\": \"1\",...</td>\n",
       "      <td>Oceania</td>\n",
       "      <td>Australia</td>\n",
       "      <td>1</td>\n",
       "      <td>1</td>\n",
       "      <td>NaN</td>\n",
       "    </tr>\n",
       "    <tr>\n",
       "      <th>2</th>\n",
       "      <td>Organic Search</td>\n",
       "      <td>20160902</td>\n",
       "      <td>{\"browser\": \"Chrome\", \"browserVersion\": \"not a...</td>\n",
       "      <td>3895546263509774583</td>\n",
       "      <td>{\"visits\": \"1\", \"hits\": \"1\", \"pageviews\": \"1\",...</td>\n",
       "      <td>Europe</td>\n",
       "      <td>Spain</td>\n",
       "      <td>1</td>\n",
       "      <td>1</td>\n",
       "      <td>NaN</td>\n",
       "    </tr>\n",
       "    <tr>\n",
       "      <th>3</th>\n",
       "      <td>Organic Search</td>\n",
       "      <td>20160902</td>\n",
       "      <td>{\"browser\": \"UC Browser\", \"browserVersion\": \"n...</td>\n",
       "      <td>4763447161404445595</td>\n",
       "      <td>{\"visits\": \"1\", \"hits\": \"1\", \"pageviews\": \"1\",...</td>\n",
       "      <td>Asia</td>\n",
       "      <td>Indonesia</td>\n",
       "      <td>1</td>\n",
       "      <td>1</td>\n",
       "      <td>NaN</td>\n",
       "    </tr>\n",
       "    <tr>\n",
       "      <th>4</th>\n",
       "      <td>Organic Search</td>\n",
       "      <td>20160902</td>\n",
       "      <td>{\"browser\": \"Chrome\", \"browserVersion\": \"not a...</td>\n",
       "      <td>27294437909732085</td>\n",
       "      <td>{\"visits\": \"1\", \"hits\": \"1\", \"pageviews\": \"1\",...</td>\n",
       "      <td>Europe</td>\n",
       "      <td>United Kingdom</td>\n",
       "      <td>1</td>\n",
       "      <td>1</td>\n",
       "      <td>NaN</td>\n",
       "    </tr>\n",
       "  </tbody>\n",
       "</table>\n",
       "</div>"
      ],
      "text/plain": [
       "  channelGrouping      date  \\\n",
       "0  Organic Search  20160902   \n",
       "1  Organic Search  20160902   \n",
       "2  Organic Search  20160902   \n",
       "3  Organic Search  20160902   \n",
       "4  Organic Search  20160902   \n",
       "\n",
       "                                              device        fullVisitorId  \\\n",
       "0  {\"browser\": \"Chrome\", \"browserVersion\": \"not a...  1131660440785968503   \n",
       "1  {\"browser\": \"Firefox\", \"browserVersion\": \"not ...   377306020877927890   \n",
       "2  {\"browser\": \"Chrome\", \"browserVersion\": \"not a...  3895546263509774583   \n",
       "3  {\"browser\": \"UC Browser\", \"browserVersion\": \"n...  4763447161404445595   \n",
       "4  {\"browser\": \"Chrome\", \"browserVersion\": \"not a...    27294437909732085   \n",
       "\n",
       "                                              totals continent  \\\n",
       "0  {\"visits\": \"1\", \"hits\": \"1\", \"pageviews\": \"1\",...      Asia   \n",
       "1  {\"visits\": \"1\", \"hits\": \"1\", \"pageviews\": \"1\",...   Oceania   \n",
       "2  {\"visits\": \"1\", \"hits\": \"1\", \"pageviews\": \"1\",...    Europe   \n",
       "3  {\"visits\": \"1\", \"hits\": \"1\", \"pageviews\": \"1\",...      Asia   \n",
       "4  {\"visits\": \"1\", \"hits\": \"1\", \"pageviews\": \"1\",...    Europe   \n",
       "\n",
       "          country  hits  pageviews revenue  \n",
       "0          Turkey     1          1     NaN  \n",
       "1       Australia     1          1     NaN  \n",
       "2           Spain     1          1     NaN  \n",
       "3       Indonesia     1          1     NaN  \n",
       "4  United Kingdom     1          1     NaN  "
      ]
     },
     "execution_count": 21,
     "metadata": {},
     "output_type": "execute_result"
    }
   ],
   "source": [
    "# Extract revenue from transactionRevenue from totals field\n",
    "json_read(df_train, field_name='totals' , extract_field='transactionRevenue', new_field_name='revenue').head()"
   ]
  },
  {
   "cell_type": "code",
   "execution_count": 22,
   "metadata": {},
   "outputs": [
    {
     "data": {
      "text/html": [
       "<div>\n",
       "<style scoped>\n",
       "    .dataframe tbody tr th:only-of-type {\n",
       "        vertical-align: middle;\n",
       "    }\n",
       "\n",
       "    .dataframe tbody tr th {\n",
       "        vertical-align: top;\n",
       "    }\n",
       "\n",
       "    .dataframe thead th {\n",
       "        text-align: right;\n",
       "    }\n",
       "</style>\n",
       "<table border=\"1\" class=\"dataframe\">\n",
       "  <thead>\n",
       "    <tr style=\"text-align: right;\">\n",
       "      <th></th>\n",
       "      <th>channelGrouping</th>\n",
       "      <th>date</th>\n",
       "      <th>device</th>\n",
       "      <th>fullVisitorId</th>\n",
       "      <th>totals</th>\n",
       "      <th>continent</th>\n",
       "      <th>country</th>\n",
       "      <th>hits</th>\n",
       "      <th>pageviews</th>\n",
       "      <th>revenue</th>\n",
       "    </tr>\n",
       "  </thead>\n",
       "  <tbody>\n",
       "    <tr>\n",
       "      <th>0</th>\n",
       "      <td>Organic Search</td>\n",
       "      <td>20160902</td>\n",
       "      <td>{\"browser\": \"Chrome\", \"browserVersion\": \"not a...</td>\n",
       "      <td>1131660440785968503</td>\n",
       "      <td>{\"visits\": \"1\", \"hits\": \"1\", \"pageviews\": \"1\",...</td>\n",
       "      <td>Asia</td>\n",
       "      <td>Turkey</td>\n",
       "      <td>1</td>\n",
       "      <td>1</td>\n",
       "      <td>0</td>\n",
       "    </tr>\n",
       "    <tr>\n",
       "      <th>1</th>\n",
       "      <td>Organic Search</td>\n",
       "      <td>20160902</td>\n",
       "      <td>{\"browser\": \"Firefox\", \"browserVersion\": \"not ...</td>\n",
       "      <td>377306020877927890</td>\n",
       "      <td>{\"visits\": \"1\", \"hits\": \"1\", \"pageviews\": \"1\",...</td>\n",
       "      <td>Oceania</td>\n",
       "      <td>Australia</td>\n",
       "      <td>1</td>\n",
       "      <td>1</td>\n",
       "      <td>0</td>\n",
       "    </tr>\n",
       "    <tr>\n",
       "      <th>2</th>\n",
       "      <td>Organic Search</td>\n",
       "      <td>20160902</td>\n",
       "      <td>{\"browser\": \"Chrome\", \"browserVersion\": \"not a...</td>\n",
       "      <td>3895546263509774583</td>\n",
       "      <td>{\"visits\": \"1\", \"hits\": \"1\", \"pageviews\": \"1\",...</td>\n",
       "      <td>Europe</td>\n",
       "      <td>Spain</td>\n",
       "      <td>1</td>\n",
       "      <td>1</td>\n",
       "      <td>0</td>\n",
       "    </tr>\n",
       "    <tr>\n",
       "      <th>3</th>\n",
       "      <td>Organic Search</td>\n",
       "      <td>20160902</td>\n",
       "      <td>{\"browser\": \"UC Browser\", \"browserVersion\": \"n...</td>\n",
       "      <td>4763447161404445595</td>\n",
       "      <td>{\"visits\": \"1\", \"hits\": \"1\", \"pageviews\": \"1\",...</td>\n",
       "      <td>Asia</td>\n",
       "      <td>Indonesia</td>\n",
       "      <td>1</td>\n",
       "      <td>1</td>\n",
       "      <td>0</td>\n",
       "    </tr>\n",
       "    <tr>\n",
       "      <th>4</th>\n",
       "      <td>Organic Search</td>\n",
       "      <td>20160902</td>\n",
       "      <td>{\"browser\": \"Chrome\", \"browserVersion\": \"not a...</td>\n",
       "      <td>27294437909732085</td>\n",
       "      <td>{\"visits\": \"1\", \"hits\": \"1\", \"pageviews\": \"1\",...</td>\n",
       "      <td>Europe</td>\n",
       "      <td>United Kingdom</td>\n",
       "      <td>1</td>\n",
       "      <td>1</td>\n",
       "      <td>0</td>\n",
       "    </tr>\n",
       "    <tr>\n",
       "      <th>5</th>\n",
       "      <td>Organic Search</td>\n",
       "      <td>20160902</td>\n",
       "      <td>{\"browser\": \"Chrome\", \"browserVersion\": \"not a...</td>\n",
       "      <td>2938943183656635653</td>\n",
       "      <td>{\"visits\": \"1\", \"hits\": \"1\", \"pageviews\": \"1\",...</td>\n",
       "      <td>Europe</td>\n",
       "      <td>Italy</td>\n",
       "      <td>1</td>\n",
       "      <td>1</td>\n",
       "      <td>0</td>\n",
       "    </tr>\n",
       "    <tr>\n",
       "      <th>6</th>\n",
       "      <td>Organic Search</td>\n",
       "      <td>20160902</td>\n",
       "      <td>{\"browser\": \"Chrome\", \"browserVersion\": \"not a...</td>\n",
       "      <td>1905672039242460897</td>\n",
       "      <td>{\"visits\": \"1\", \"hits\": \"1\", \"pageviews\": \"1\",...</td>\n",
       "      <td>Asia</td>\n",
       "      <td>Pakistan</td>\n",
       "      <td>1</td>\n",
       "      <td>1</td>\n",
       "      <td>0</td>\n",
       "    </tr>\n",
       "  </tbody>\n",
       "</table>\n",
       "</div>"
      ],
      "text/plain": [
       "  channelGrouping      date  \\\n",
       "0  Organic Search  20160902   \n",
       "1  Organic Search  20160902   \n",
       "2  Organic Search  20160902   \n",
       "3  Organic Search  20160902   \n",
       "4  Organic Search  20160902   \n",
       "5  Organic Search  20160902   \n",
       "6  Organic Search  20160902   \n",
       "\n",
       "                                              device        fullVisitorId  \\\n",
       "0  {\"browser\": \"Chrome\", \"browserVersion\": \"not a...  1131660440785968503   \n",
       "1  {\"browser\": \"Firefox\", \"browserVersion\": \"not ...   377306020877927890   \n",
       "2  {\"browser\": \"Chrome\", \"browserVersion\": \"not a...  3895546263509774583   \n",
       "3  {\"browser\": \"UC Browser\", \"browserVersion\": \"n...  4763447161404445595   \n",
       "4  {\"browser\": \"Chrome\", \"browserVersion\": \"not a...    27294437909732085   \n",
       "5  {\"browser\": \"Chrome\", \"browserVersion\": \"not a...  2938943183656635653   \n",
       "6  {\"browser\": \"Chrome\", \"browserVersion\": \"not a...  1905672039242460897   \n",
       "\n",
       "                                              totals continent  \\\n",
       "0  {\"visits\": \"1\", \"hits\": \"1\", \"pageviews\": \"1\",...      Asia   \n",
       "1  {\"visits\": \"1\", \"hits\": \"1\", \"pageviews\": \"1\",...   Oceania   \n",
       "2  {\"visits\": \"1\", \"hits\": \"1\", \"pageviews\": \"1\",...    Europe   \n",
       "3  {\"visits\": \"1\", \"hits\": \"1\", \"pageviews\": \"1\",...      Asia   \n",
       "4  {\"visits\": \"1\", \"hits\": \"1\", \"pageviews\": \"1\",...    Europe   \n",
       "5  {\"visits\": \"1\", \"hits\": \"1\", \"pageviews\": \"1\",...    Europe   \n",
       "6  {\"visits\": \"1\", \"hits\": \"1\", \"pageviews\": \"1\",...      Asia   \n",
       "\n",
       "          country  hits  pageviews revenue  \n",
       "0          Turkey     1          1       0  \n",
       "1       Australia     1          1       0  \n",
       "2           Spain     1          1       0  \n",
       "3       Indonesia     1          1       0  \n",
       "4  United Kingdom     1          1       0  \n",
       "5           Italy     1          1       0  \n",
       "6        Pakistan     1          1       0  "
      ]
     },
     "execution_count": 22,
     "metadata": {},
     "output_type": "execute_result"
    }
   ],
   "source": [
    "# Fill in missing data with zeros\n",
    "df_train['revenue'] = df_train['revenue'].fillna(0)\n",
    "df_train.head(7)"
   ]
  },
  {
   "cell_type": "code",
   "execution_count": 23,
   "metadata": {},
   "outputs": [
    {
     "data": {
      "text/plain": [
       "channelGrouping    object\n",
       "date                int64\n",
       "device             object\n",
       "fullVisitorId      object\n",
       "totals             object\n",
       "continent          object\n",
       "country            object\n",
       "hits                int64\n",
       "pageviews           int64\n",
       "revenue             int64\n",
       "dtype: object"
      ]
     },
     "execution_count": 23,
     "metadata": {},
     "output_type": "execute_result"
    }
   ],
   "source": [
    "df_train['revenue'] = df_train['revenue'].astype('int64')\n",
    "df_train.dtypes"
   ]
  },
  {
   "cell_type": "code",
   "execution_count": 24,
   "metadata": {},
   "outputs": [],
   "source": [
    "# After extracting necessary features from totals, we drop this attribute\n",
    "df_train.drop(columns='totals', inplace=True)"
   ]
  },
  {
   "cell_type": "code",
   "execution_count": 25,
   "metadata": {},
   "outputs": [
    {
     "data": {
      "text/html": [
       "<div>\n",
       "<style scoped>\n",
       "    .dataframe tbody tr th:only-of-type {\n",
       "        vertical-align: middle;\n",
       "    }\n",
       "\n",
       "    .dataframe tbody tr th {\n",
       "        vertical-align: top;\n",
       "    }\n",
       "\n",
       "    .dataframe thead th {\n",
       "        text-align: right;\n",
       "    }\n",
       "</style>\n",
       "<table border=\"1\" class=\"dataframe\">\n",
       "  <thead>\n",
       "    <tr style=\"text-align: right;\">\n",
       "      <th></th>\n",
       "      <th>channelGrouping</th>\n",
       "      <th>date</th>\n",
       "      <th>device</th>\n",
       "      <th>fullVisitorId</th>\n",
       "      <th>continent</th>\n",
       "      <th>country</th>\n",
       "      <th>hits</th>\n",
       "      <th>pageviews</th>\n",
       "      <th>revenue</th>\n",
       "    </tr>\n",
       "  </thead>\n",
       "  <tbody>\n",
       "    <tr>\n",
       "      <th>0</th>\n",
       "      <td>Organic Search</td>\n",
       "      <td>20160902</td>\n",
       "      <td>{\"browser\": \"Chrome\", \"browserVersion\": \"not a...</td>\n",
       "      <td>1131660440785968503</td>\n",
       "      <td>Asia</td>\n",
       "      <td>Turkey</td>\n",
       "      <td>1</td>\n",
       "      <td>1</td>\n",
       "      <td>0</td>\n",
       "    </tr>\n",
       "    <tr>\n",
       "      <th>1</th>\n",
       "      <td>Organic Search</td>\n",
       "      <td>20160902</td>\n",
       "      <td>{\"browser\": \"Firefox\", \"browserVersion\": \"not ...</td>\n",
       "      <td>377306020877927890</td>\n",
       "      <td>Oceania</td>\n",
       "      <td>Australia</td>\n",
       "      <td>1</td>\n",
       "      <td>1</td>\n",
       "      <td>0</td>\n",
       "    </tr>\n",
       "    <tr>\n",
       "      <th>2</th>\n",
       "      <td>Organic Search</td>\n",
       "      <td>20160902</td>\n",
       "      <td>{\"browser\": \"Chrome\", \"browserVersion\": \"not a...</td>\n",
       "      <td>3895546263509774583</td>\n",
       "      <td>Europe</td>\n",
       "      <td>Spain</td>\n",
       "      <td>1</td>\n",
       "      <td>1</td>\n",
       "      <td>0</td>\n",
       "    </tr>\n",
       "    <tr>\n",
       "      <th>3</th>\n",
       "      <td>Organic Search</td>\n",
       "      <td>20160902</td>\n",
       "      <td>{\"browser\": \"UC Browser\", \"browserVersion\": \"n...</td>\n",
       "      <td>4763447161404445595</td>\n",
       "      <td>Asia</td>\n",
       "      <td>Indonesia</td>\n",
       "      <td>1</td>\n",
       "      <td>1</td>\n",
       "      <td>0</td>\n",
       "    </tr>\n",
       "    <tr>\n",
       "      <th>4</th>\n",
       "      <td>Organic Search</td>\n",
       "      <td>20160902</td>\n",
       "      <td>{\"browser\": \"Chrome\", \"browserVersion\": \"not a...</td>\n",
       "      <td>27294437909732085</td>\n",
       "      <td>Europe</td>\n",
       "      <td>United Kingdom</td>\n",
       "      <td>1</td>\n",
       "      <td>1</td>\n",
       "      <td>0</td>\n",
       "    </tr>\n",
       "  </tbody>\n",
       "</table>\n",
       "</div>"
      ],
      "text/plain": [
       "  channelGrouping      date  \\\n",
       "0  Organic Search  20160902   \n",
       "1  Organic Search  20160902   \n",
       "2  Organic Search  20160902   \n",
       "3  Organic Search  20160902   \n",
       "4  Organic Search  20160902   \n",
       "\n",
       "                                              device        fullVisitorId  \\\n",
       "0  {\"browser\": \"Chrome\", \"browserVersion\": \"not a...  1131660440785968503   \n",
       "1  {\"browser\": \"Firefox\", \"browserVersion\": \"not ...   377306020877927890   \n",
       "2  {\"browser\": \"Chrome\", \"browserVersion\": \"not a...  3895546263509774583   \n",
       "3  {\"browser\": \"UC Browser\", \"browserVersion\": \"n...  4763447161404445595   \n",
       "4  {\"browser\": \"Chrome\", \"browserVersion\": \"not a...    27294437909732085   \n",
       "\n",
       "  continent         country  hits  pageviews  revenue  \n",
       "0      Asia          Turkey     1          1        0  \n",
       "1   Oceania       Australia     1          1        0  \n",
       "2    Europe           Spain     1          1        0  \n",
       "3      Asia       Indonesia     1          1        0  \n",
       "4    Europe  United Kingdom     1          1        0  "
      ]
     },
     "execution_count": 25,
     "metadata": {},
     "output_type": "execute_result"
    }
   ],
   "source": [
    "df_train.head()"
   ]
  },
  {
   "cell_type": "code",
   "execution_count": 26,
   "metadata": {},
   "outputs": [
    {
     "name": "stdout",
     "output_type": "stream",
     "text": [
      "<class 'pandas.core.frame.DataFrame'>\n",
      "RangeIndex: 903653 entries, 0 to 903652\n",
      "Data columns (total 9 columns):\n",
      "channelGrouping    903653 non-null object\n",
      "date               903653 non-null int64\n",
      "device             903653 non-null object\n",
      "fullVisitorId      903653 non-null object\n",
      "continent          903653 non-null object\n",
      "country            903653 non-null object\n",
      "hits               903653 non-null int64\n",
      "pageviews          903653 non-null int64\n",
      "revenue            903653 non-null int64\n",
      "dtypes: int64(4), object(5)\n",
      "memory usage: 923.3 MB\n"
     ]
    }
   ],
   "source": [
    "# View momory usage including objects\n",
    "df_train.info(memory_usage='deep')"
   ]
  },
  {
   "cell_type": "code",
   "execution_count": 27,
   "metadata": {},
   "outputs": [
    {
     "data": {
      "text/html": [
       "<div>\n",
       "<style scoped>\n",
       "    .dataframe tbody tr th:only-of-type {\n",
       "        vertical-align: middle;\n",
       "    }\n",
       "\n",
       "    .dataframe tbody tr th {\n",
       "        vertical-align: top;\n",
       "    }\n",
       "\n",
       "    .dataframe thead th {\n",
       "        text-align: right;\n",
       "    }\n",
       "</style>\n",
       "<table border=\"1\" class=\"dataframe\">\n",
       "  <thead>\n",
       "    <tr style=\"text-align: right;\">\n",
       "      <th></th>\n",
       "      <th>channelGrouping</th>\n",
       "      <th>date</th>\n",
       "      <th>device</th>\n",
       "      <th>fullVisitorId</th>\n",
       "      <th>continent</th>\n",
       "      <th>country</th>\n",
       "      <th>hits</th>\n",
       "      <th>pageviews</th>\n",
       "      <th>revenue</th>\n",
       "      <th>Buy</th>\n",
       "    </tr>\n",
       "  </thead>\n",
       "  <tbody>\n",
       "    <tr>\n",
       "      <th>0</th>\n",
       "      <td>Organic Search</td>\n",
       "      <td>20160902</td>\n",
       "      <td>{\"browser\": \"Chrome\", \"browserVersion\": \"not a...</td>\n",
       "      <td>1131660440785968503</td>\n",
       "      <td>Asia</td>\n",
       "      <td>Turkey</td>\n",
       "      <td>1</td>\n",
       "      <td>1</td>\n",
       "      <td>0</td>\n",
       "      <td>0</td>\n",
       "    </tr>\n",
       "    <tr>\n",
       "      <th>1</th>\n",
       "      <td>Organic Search</td>\n",
       "      <td>20160902</td>\n",
       "      <td>{\"browser\": \"Firefox\", \"browserVersion\": \"not ...</td>\n",
       "      <td>377306020877927890</td>\n",
       "      <td>Oceania</td>\n",
       "      <td>Australia</td>\n",
       "      <td>1</td>\n",
       "      <td>1</td>\n",
       "      <td>0</td>\n",
       "      <td>0</td>\n",
       "    </tr>\n",
       "    <tr>\n",
       "      <th>2</th>\n",
       "      <td>Organic Search</td>\n",
       "      <td>20160902</td>\n",
       "      <td>{\"browser\": \"Chrome\", \"browserVersion\": \"not a...</td>\n",
       "      <td>3895546263509774583</td>\n",
       "      <td>Europe</td>\n",
       "      <td>Spain</td>\n",
       "      <td>1</td>\n",
       "      <td>1</td>\n",
       "      <td>0</td>\n",
       "      <td>0</td>\n",
       "    </tr>\n",
       "    <tr>\n",
       "      <th>3</th>\n",
       "      <td>Organic Search</td>\n",
       "      <td>20160902</td>\n",
       "      <td>{\"browser\": \"UC Browser\", \"browserVersion\": \"n...</td>\n",
       "      <td>4763447161404445595</td>\n",
       "      <td>Asia</td>\n",
       "      <td>Indonesia</td>\n",
       "      <td>1</td>\n",
       "      <td>1</td>\n",
       "      <td>0</td>\n",
       "      <td>0</td>\n",
       "    </tr>\n",
       "    <tr>\n",
       "      <th>4</th>\n",
       "      <td>Organic Search</td>\n",
       "      <td>20160902</td>\n",
       "      <td>{\"browser\": \"Chrome\", \"browserVersion\": \"not a...</td>\n",
       "      <td>27294437909732085</td>\n",
       "      <td>Europe</td>\n",
       "      <td>United Kingdom</td>\n",
       "      <td>1</td>\n",
       "      <td>1</td>\n",
       "      <td>0</td>\n",
       "      <td>0</td>\n",
       "    </tr>\n",
       "  </tbody>\n",
       "</table>\n",
       "</div>"
      ],
      "text/plain": [
       "  channelGrouping      date  \\\n",
       "0  Organic Search  20160902   \n",
       "1  Organic Search  20160902   \n",
       "2  Organic Search  20160902   \n",
       "3  Organic Search  20160902   \n",
       "4  Organic Search  20160902   \n",
       "\n",
       "                                              device        fullVisitorId  \\\n",
       "0  {\"browser\": \"Chrome\", \"browserVersion\": \"not a...  1131660440785968503   \n",
       "1  {\"browser\": \"Firefox\", \"browserVersion\": \"not ...   377306020877927890   \n",
       "2  {\"browser\": \"Chrome\", \"browserVersion\": \"not a...  3895546263509774583   \n",
       "3  {\"browser\": \"UC Browser\", \"browserVersion\": \"n...  4763447161404445595   \n",
       "4  {\"browser\": \"Chrome\", \"browserVersion\": \"not a...    27294437909732085   \n",
       "\n",
       "  continent         country  hits  pageviews  revenue  Buy  \n",
       "0      Asia          Turkey     1          1        0    0  \n",
       "1   Oceania       Australia     1          1        0    0  \n",
       "2    Europe           Spain     1          1        0    0  \n",
       "3      Asia       Indonesia     1          1        0    0  \n",
       "4    Europe  United Kingdom     1          1        0    0  "
      ]
     },
     "execution_count": 27,
     "metadata": {},
     "output_type": "execute_result"
    }
   ],
   "source": [
    "# Create new field, Buy. (1: purchase; 0: not purchase)\n",
    "df_train['Buy'] = df_train['revenue'].apply(lambda x: 1 if x != 0 else 0)\n",
    "df_train.head()"
   ]
  },
  {
   "cell_type": "code",
   "execution_count": 28,
   "metadata": {},
   "outputs": [
    {
     "name": "stdout",
     "output_type": "stream",
     "text": [
      "<class 'pandas.core.frame.DataFrame'>\n",
      "RangeIndex: 903653 entries, 0 to 903652\n",
      "Data columns (total 10 columns):\n",
      "channelGrouping    903653 non-null object\n",
      "date               903653 non-null int64\n",
      "device             903653 non-null object\n",
      "fullVisitorId      903653 non-null object\n",
      "continent          903653 non-null object\n",
      "country            903653 non-null object\n",
      "hits               903653 non-null int64\n",
      "pageviews          903653 non-null int64\n",
      "revenue            903653 non-null int64\n",
      "Buy                903653 non-null int64\n",
      "dtypes: int64(5), object(5)\n",
      "memory usage: 930.2 MB\n"
     ]
    }
   ],
   "source": [
    "# View momory usage including objects\n",
    "df_train.info(memory_usage='deep')"
   ]
  },
  {
   "cell_type": "code",
   "execution_count": 29,
   "metadata": {},
   "outputs": [
    {
     "data": {
      "text/html": [
       "<div>\n",
       "<style scoped>\n",
       "    .dataframe tbody tr th:only-of-type {\n",
       "        vertical-align: middle;\n",
       "    }\n",
       "\n",
       "    .dataframe tbody tr th {\n",
       "        vertical-align: top;\n",
       "    }\n",
       "\n",
       "    .dataframe thead th {\n",
       "        text-align: right;\n",
       "    }\n",
       "</style>\n",
       "<table border=\"1\" class=\"dataframe\">\n",
       "  <thead>\n",
       "    <tr style=\"text-align: right;\">\n",
       "      <th></th>\n",
       "      <th>channelGrouping</th>\n",
       "      <th>date</th>\n",
       "      <th>device</th>\n",
       "      <th>fullVisitorId</th>\n",
       "      <th>continent</th>\n",
       "      <th>country</th>\n",
       "      <th>hits</th>\n",
       "      <th>pageviews</th>\n",
       "      <th>revenue</th>\n",
       "      <th>Buy</th>\n",
       "      <th>isMobile</th>\n",
       "    </tr>\n",
       "  </thead>\n",
       "  <tbody>\n",
       "    <tr>\n",
       "      <th>0</th>\n",
       "      <td>Organic Search</td>\n",
       "      <td>20160902</td>\n",
       "      <td>{\"browser\": \"Chrome\", \"browserVersion\": \"not a...</td>\n",
       "      <td>1131660440785968503</td>\n",
       "      <td>Asia</td>\n",
       "      <td>Turkey</td>\n",
       "      <td>1</td>\n",
       "      <td>1</td>\n",
       "      <td>0</td>\n",
       "      <td>0</td>\n",
       "      <td>False</td>\n",
       "    </tr>\n",
       "    <tr>\n",
       "      <th>1</th>\n",
       "      <td>Organic Search</td>\n",
       "      <td>20160902</td>\n",
       "      <td>{\"browser\": \"Firefox\", \"browserVersion\": \"not ...</td>\n",
       "      <td>377306020877927890</td>\n",
       "      <td>Oceania</td>\n",
       "      <td>Australia</td>\n",
       "      <td>1</td>\n",
       "      <td>1</td>\n",
       "      <td>0</td>\n",
       "      <td>0</td>\n",
       "      <td>False</td>\n",
       "    </tr>\n",
       "    <tr>\n",
       "      <th>2</th>\n",
       "      <td>Organic Search</td>\n",
       "      <td>20160902</td>\n",
       "      <td>{\"browser\": \"Chrome\", \"browserVersion\": \"not a...</td>\n",
       "      <td>3895546263509774583</td>\n",
       "      <td>Europe</td>\n",
       "      <td>Spain</td>\n",
       "      <td>1</td>\n",
       "      <td>1</td>\n",
       "      <td>0</td>\n",
       "      <td>0</td>\n",
       "      <td>False</td>\n",
       "    </tr>\n",
       "    <tr>\n",
       "      <th>3</th>\n",
       "      <td>Organic Search</td>\n",
       "      <td>20160902</td>\n",
       "      <td>{\"browser\": \"UC Browser\", \"browserVersion\": \"n...</td>\n",
       "      <td>4763447161404445595</td>\n",
       "      <td>Asia</td>\n",
       "      <td>Indonesia</td>\n",
       "      <td>1</td>\n",
       "      <td>1</td>\n",
       "      <td>0</td>\n",
       "      <td>0</td>\n",
       "      <td>False</td>\n",
       "    </tr>\n",
       "    <tr>\n",
       "      <th>4</th>\n",
       "      <td>Organic Search</td>\n",
       "      <td>20160902</td>\n",
       "      <td>{\"browser\": \"Chrome\", \"browserVersion\": \"not a...</td>\n",
       "      <td>27294437909732085</td>\n",
       "      <td>Europe</td>\n",
       "      <td>United Kingdom</td>\n",
       "      <td>1</td>\n",
       "      <td>1</td>\n",
       "      <td>0</td>\n",
       "      <td>0</td>\n",
       "      <td>True</td>\n",
       "    </tr>\n",
       "  </tbody>\n",
       "</table>\n",
       "</div>"
      ],
      "text/plain": [
       "  channelGrouping      date  \\\n",
       "0  Organic Search  20160902   \n",
       "1  Organic Search  20160902   \n",
       "2  Organic Search  20160902   \n",
       "3  Organic Search  20160902   \n",
       "4  Organic Search  20160902   \n",
       "\n",
       "                                              device        fullVisitorId  \\\n",
       "0  {\"browser\": \"Chrome\", \"browserVersion\": \"not a...  1131660440785968503   \n",
       "1  {\"browser\": \"Firefox\", \"browserVersion\": \"not ...   377306020877927890   \n",
       "2  {\"browser\": \"Chrome\", \"browserVersion\": \"not a...  3895546263509774583   \n",
       "3  {\"browser\": \"UC Browser\", \"browserVersion\": \"n...  4763447161404445595   \n",
       "4  {\"browser\": \"Chrome\", \"browserVersion\": \"not a...    27294437909732085   \n",
       "\n",
       "  continent         country  hits  pageviews  revenue  Buy  isMobile  \n",
       "0      Asia          Turkey     1          1        0    0     False  \n",
       "1   Oceania       Australia     1          1        0    0     False  \n",
       "2    Europe           Spain     1          1        0    0     False  \n",
       "3      Asia       Indonesia     1          1        0    0     False  \n",
       "4    Europe  United Kingdom     1          1        0    0      True  "
      ]
     },
     "execution_count": 29,
     "metadata": {},
     "output_type": "execute_result"
    }
   ],
   "source": [
    "# Extract isMobile from device field\n",
    "json_read(df_train, field_name='device' , extract_field='isMobile', new_field_name='isMobile').head()"
   ]
  },
  {
   "cell_type": "code",
   "execution_count": 30,
   "metadata": {},
   "outputs": [],
   "source": [
    "# After extracting necessary features from totals, we drop this attribute\n",
    "df_train.drop(columns='device', inplace=True)"
   ]
  },
  {
   "cell_type": "code",
   "execution_count": 31,
   "metadata": {},
   "outputs": [
    {
     "name": "stdout",
     "output_type": "stream",
     "text": [
      "<class 'pandas.core.frame.DataFrame'>\n",
      "RangeIndex: 903653 entries, 0 to 903652\n",
      "Data columns (total 10 columns):\n",
      "channelGrouping    903653 non-null object\n",
      "date               903653 non-null int64\n",
      "fullVisitorId      903653 non-null object\n",
      "continent          903653 non-null object\n",
      "country            903653 non-null object\n",
      "hits               903653 non-null int64\n",
      "pageviews          903653 non-null int64\n",
      "revenue            903653 non-null int64\n",
      "Buy                903653 non-null int64\n",
      "isMobile           903653 non-null bool\n",
      "dtypes: bool(1), int64(5), object(4)\n",
      "memory usage: 248.5 MB\n"
     ]
    }
   ],
   "source": [
    "# View momory usage including objects\n",
    "df_train.info(memory_usage='deep')"
   ]
  },
  {
   "cell_type": "code",
   "execution_count": 32,
   "metadata": {},
   "outputs": [],
   "source": [
    "# Convert isMobile columns to 1 for True and 0 for False\n",
    "df_train['isMobile'] *= 1 "
   ]
  },
  {
   "cell_type": "code",
   "execution_count": 33,
   "metadata": {},
   "outputs": [
    {
     "data": {
      "text/html": [
       "<div>\n",
       "<style scoped>\n",
       "    .dataframe tbody tr th:only-of-type {\n",
       "        vertical-align: middle;\n",
       "    }\n",
       "\n",
       "    .dataframe tbody tr th {\n",
       "        vertical-align: top;\n",
       "    }\n",
       "\n",
       "    .dataframe thead th {\n",
       "        text-align: right;\n",
       "    }\n",
       "</style>\n",
       "<table border=\"1\" class=\"dataframe\">\n",
       "  <thead>\n",
       "    <tr style=\"text-align: right;\">\n",
       "      <th></th>\n",
       "      <th>channelGrouping</th>\n",
       "      <th>date</th>\n",
       "      <th>fullVisitorId</th>\n",
       "      <th>continent</th>\n",
       "      <th>country</th>\n",
       "      <th>hits</th>\n",
       "      <th>pageviews</th>\n",
       "      <th>revenue</th>\n",
       "      <th>Buy</th>\n",
       "      <th>isMobile</th>\n",
       "    </tr>\n",
       "  </thead>\n",
       "  <tbody>\n",
       "    <tr>\n",
       "      <th>0</th>\n",
       "      <td>Organic Search</td>\n",
       "      <td>20160902</td>\n",
       "      <td>1131660440785968503</td>\n",
       "      <td>Asia</td>\n",
       "      <td>Turkey</td>\n",
       "      <td>1</td>\n",
       "      <td>1</td>\n",
       "      <td>0</td>\n",
       "      <td>0</td>\n",
       "      <td>0</td>\n",
       "    </tr>\n",
       "    <tr>\n",
       "      <th>1</th>\n",
       "      <td>Organic Search</td>\n",
       "      <td>20160902</td>\n",
       "      <td>377306020877927890</td>\n",
       "      <td>Oceania</td>\n",
       "      <td>Australia</td>\n",
       "      <td>1</td>\n",
       "      <td>1</td>\n",
       "      <td>0</td>\n",
       "      <td>0</td>\n",
       "      <td>0</td>\n",
       "    </tr>\n",
       "    <tr>\n",
       "      <th>2</th>\n",
       "      <td>Organic Search</td>\n",
       "      <td>20160902</td>\n",
       "      <td>3895546263509774583</td>\n",
       "      <td>Europe</td>\n",
       "      <td>Spain</td>\n",
       "      <td>1</td>\n",
       "      <td>1</td>\n",
       "      <td>0</td>\n",
       "      <td>0</td>\n",
       "      <td>0</td>\n",
       "    </tr>\n",
       "    <tr>\n",
       "      <th>3</th>\n",
       "      <td>Organic Search</td>\n",
       "      <td>20160902</td>\n",
       "      <td>4763447161404445595</td>\n",
       "      <td>Asia</td>\n",
       "      <td>Indonesia</td>\n",
       "      <td>1</td>\n",
       "      <td>1</td>\n",
       "      <td>0</td>\n",
       "      <td>0</td>\n",
       "      <td>0</td>\n",
       "    </tr>\n",
       "    <tr>\n",
       "      <th>4</th>\n",
       "      <td>Organic Search</td>\n",
       "      <td>20160902</td>\n",
       "      <td>27294437909732085</td>\n",
       "      <td>Europe</td>\n",
       "      <td>United Kingdom</td>\n",
       "      <td>1</td>\n",
       "      <td>1</td>\n",
       "      <td>0</td>\n",
       "      <td>0</td>\n",
       "      <td>1</td>\n",
       "    </tr>\n",
       "  </tbody>\n",
       "</table>\n",
       "</div>"
      ],
      "text/plain": [
       "  channelGrouping      date        fullVisitorId continent         country  \\\n",
       "0  Organic Search  20160902  1131660440785968503      Asia          Turkey   \n",
       "1  Organic Search  20160902   377306020877927890   Oceania       Australia   \n",
       "2  Organic Search  20160902  3895546263509774583    Europe           Spain   \n",
       "3  Organic Search  20160902  4763447161404445595      Asia       Indonesia   \n",
       "4  Organic Search  20160902    27294437909732085    Europe  United Kingdom   \n",
       "\n",
       "   hits  pageviews  revenue  Buy  isMobile  \n",
       "0     1          1        0    0         0  \n",
       "1     1          1        0    0         0  \n",
       "2     1          1        0    0         0  \n",
       "3     1          1        0    0         0  \n",
       "4     1          1        0    0         1  "
      ]
     },
     "execution_count": 33,
     "metadata": {},
     "output_type": "execute_result"
    }
   ],
   "source": [
    "df_train.head()"
   ]
  },
  {
   "cell_type": "code",
   "execution_count": 34,
   "metadata": {},
   "outputs": [
    {
     "name": "stdout",
     "output_type": "stream",
     "text": [
      "<class 'pandas.core.frame.DataFrame'>\n",
      "RangeIndex: 903653 entries, 0 to 903652\n",
      "Data columns (total 10 columns):\n",
      "channelGrouping    903653 non-null object\n",
      "date               903653 non-null int64\n",
      "fullVisitorId      903653 non-null object\n",
      "continent          903653 non-null object\n",
      "country            903653 non-null object\n",
      "hits               903653 non-null int64\n",
      "pageviews          903653 non-null int64\n",
      "revenue            903653 non-null int64\n",
      "Buy                903653 non-null int64\n",
      "isMobile           903653 non-null int64\n",
      "dtypes: int64(6), object(4)\n",
      "memory usage: 254.5 MB\n"
     ]
    }
   ],
   "source": [
    "# View momory usage including objects\n",
    "df_train.info(memory_usage='deep')"
   ]
  },
  {
   "cell_type": "code",
   "execution_count": 35,
   "metadata": {},
   "outputs": [],
   "source": [
    "# Conver date to datetime\n",
    "df_train['date'] = pd.to_datetime(df_train['date'],format=\"%Y%m%d\") "
   ]
  },
  {
   "cell_type": "code",
   "execution_count": 36,
   "metadata": {},
   "outputs": [
    {
     "data": {
      "text/html": [
       "<div>\n",
       "<style scoped>\n",
       "    .dataframe tbody tr th:only-of-type {\n",
       "        vertical-align: middle;\n",
       "    }\n",
       "\n",
       "    .dataframe tbody tr th {\n",
       "        vertical-align: top;\n",
       "    }\n",
       "\n",
       "    .dataframe thead th {\n",
       "        text-align: right;\n",
       "    }\n",
       "</style>\n",
       "<table border=\"1\" class=\"dataframe\">\n",
       "  <thead>\n",
       "    <tr style=\"text-align: right;\">\n",
       "      <th></th>\n",
       "      <th>channelGrouping</th>\n",
       "      <th>date</th>\n",
       "      <th>fullVisitorId</th>\n",
       "      <th>continent</th>\n",
       "      <th>country</th>\n",
       "      <th>hits</th>\n",
       "      <th>pageviews</th>\n",
       "      <th>revenue</th>\n",
       "      <th>Buy</th>\n",
       "      <th>isMobile</th>\n",
       "      <th>DayOfWeek</th>\n",
       "    </tr>\n",
       "  </thead>\n",
       "  <tbody>\n",
       "    <tr>\n",
       "      <th>0</th>\n",
       "      <td>Organic Search</td>\n",
       "      <td>2016-09-02</td>\n",
       "      <td>1131660440785968503</td>\n",
       "      <td>Asia</td>\n",
       "      <td>Turkey</td>\n",
       "      <td>1</td>\n",
       "      <td>1</td>\n",
       "      <td>0</td>\n",
       "      <td>0</td>\n",
       "      <td>0</td>\n",
       "      <td>4</td>\n",
       "    </tr>\n",
       "    <tr>\n",
       "      <th>1</th>\n",
       "      <td>Organic Search</td>\n",
       "      <td>2016-09-02</td>\n",
       "      <td>377306020877927890</td>\n",
       "      <td>Oceania</td>\n",
       "      <td>Australia</td>\n",
       "      <td>1</td>\n",
       "      <td>1</td>\n",
       "      <td>0</td>\n",
       "      <td>0</td>\n",
       "      <td>0</td>\n",
       "      <td>4</td>\n",
       "    </tr>\n",
       "    <tr>\n",
       "      <th>2</th>\n",
       "      <td>Organic Search</td>\n",
       "      <td>2016-09-02</td>\n",
       "      <td>3895546263509774583</td>\n",
       "      <td>Europe</td>\n",
       "      <td>Spain</td>\n",
       "      <td>1</td>\n",
       "      <td>1</td>\n",
       "      <td>0</td>\n",
       "      <td>0</td>\n",
       "      <td>0</td>\n",
       "      <td>4</td>\n",
       "    </tr>\n",
       "    <tr>\n",
       "      <th>3</th>\n",
       "      <td>Organic Search</td>\n",
       "      <td>2016-09-02</td>\n",
       "      <td>4763447161404445595</td>\n",
       "      <td>Asia</td>\n",
       "      <td>Indonesia</td>\n",
       "      <td>1</td>\n",
       "      <td>1</td>\n",
       "      <td>0</td>\n",
       "      <td>0</td>\n",
       "      <td>0</td>\n",
       "      <td>4</td>\n",
       "    </tr>\n",
       "    <tr>\n",
       "      <th>4</th>\n",
       "      <td>Organic Search</td>\n",
       "      <td>2016-09-02</td>\n",
       "      <td>27294437909732085</td>\n",
       "      <td>Europe</td>\n",
       "      <td>United Kingdom</td>\n",
       "      <td>1</td>\n",
       "      <td>1</td>\n",
       "      <td>0</td>\n",
       "      <td>0</td>\n",
       "      <td>1</td>\n",
       "      <td>4</td>\n",
       "    </tr>\n",
       "  </tbody>\n",
       "</table>\n",
       "</div>"
      ],
      "text/plain": [
       "  channelGrouping       date        fullVisitorId continent         country  \\\n",
       "0  Organic Search 2016-09-02  1131660440785968503      Asia          Turkey   \n",
       "1  Organic Search 2016-09-02   377306020877927890   Oceania       Australia   \n",
       "2  Organic Search 2016-09-02  3895546263509774583    Europe           Spain   \n",
       "3  Organic Search 2016-09-02  4763447161404445595      Asia       Indonesia   \n",
       "4  Organic Search 2016-09-02    27294437909732085    Europe  United Kingdom   \n",
       "\n",
       "   hits  pageviews  revenue  Buy  isMobile  DayOfWeek  \n",
       "0     1          1        0    0         0          4  \n",
       "1     1          1        0    0         0          4  \n",
       "2     1          1        0    0         0          4  \n",
       "3     1          1        0    0         0          4  \n",
       "4     1          1        0    0         1          4  "
      ]
     },
     "execution_count": 36,
     "metadata": {},
     "output_type": "execute_result"
    }
   ],
   "source": [
    "df_train['DayOfWeek']=df_train['date'].dt.dayofweek\n",
    "df_train.head()"
   ]
  },
  {
   "cell_type": "code",
   "execution_count": 37,
   "metadata": {},
   "outputs": [
    {
     "data": {
      "text/html": [
       "<div>\n",
       "<style scoped>\n",
       "    .dataframe tbody tr th:only-of-type {\n",
       "        vertical-align: middle;\n",
       "    }\n",
       "\n",
       "    .dataframe tbody tr th {\n",
       "        vertical-align: top;\n",
       "    }\n",
       "\n",
       "    .dataframe thead th {\n",
       "        text-align: right;\n",
       "    }\n",
       "</style>\n",
       "<table border=\"1\" class=\"dataframe\">\n",
       "  <thead>\n",
       "    <tr style=\"text-align: right;\">\n",
       "      <th></th>\n",
       "      <th>channelGrouping</th>\n",
       "      <th>date</th>\n",
       "      <th>fullVisitorId</th>\n",
       "      <th>continent</th>\n",
       "      <th>country</th>\n",
       "      <th>hits</th>\n",
       "      <th>pageviews</th>\n",
       "      <th>revenue</th>\n",
       "      <th>Buy</th>\n",
       "      <th>isMobile</th>\n",
       "      <th>DayOfWeek</th>\n",
       "      <th>weekend</th>\n",
       "    </tr>\n",
       "  </thead>\n",
       "  <tbody>\n",
       "    <tr>\n",
       "      <th>25404</th>\n",
       "      <td>Direct</td>\n",
       "      <td>2016-11-12</td>\n",
       "      <td>5245891205207604055</td>\n",
       "      <td>Europe</td>\n",
       "      <td>Romania</td>\n",
       "      <td>1</td>\n",
       "      <td>1</td>\n",
       "      <td>0</td>\n",
       "      <td>0</td>\n",
       "      <td>1</td>\n",
       "      <td>5</td>\n",
       "      <td>1</td>\n",
       "    </tr>\n",
       "    <tr>\n",
       "      <th>25405</th>\n",
       "      <td>Organic Search</td>\n",
       "      <td>2016-11-12</td>\n",
       "      <td>1638515902684994325</td>\n",
       "      <td>Asia</td>\n",
       "      <td>India</td>\n",
       "      <td>1</td>\n",
       "      <td>1</td>\n",
       "      <td>0</td>\n",
       "      <td>0</td>\n",
       "      <td>1</td>\n",
       "      <td>5</td>\n",
       "      <td>1</td>\n",
       "    </tr>\n",
       "    <tr>\n",
       "      <th>25406</th>\n",
       "      <td>Organic Search</td>\n",
       "      <td>2016-11-12</td>\n",
       "      <td>5770311911020252790</td>\n",
       "      <td>Asia</td>\n",
       "      <td>Vietnam</td>\n",
       "      <td>1</td>\n",
       "      <td>1</td>\n",
       "      <td>0</td>\n",
       "      <td>0</td>\n",
       "      <td>1</td>\n",
       "      <td>5</td>\n",
       "      <td>1</td>\n",
       "    </tr>\n",
       "    <tr>\n",
       "      <th>25407</th>\n",
       "      <td>Referral</td>\n",
       "      <td>2016-11-12</td>\n",
       "      <td>515167195873020324</td>\n",
       "      <td>Americas</td>\n",
       "      <td>United States</td>\n",
       "      <td>1</td>\n",
       "      <td>1</td>\n",
       "      <td>0</td>\n",
       "      <td>0</td>\n",
       "      <td>0</td>\n",
       "      <td>5</td>\n",
       "      <td>1</td>\n",
       "    </tr>\n",
       "    <tr>\n",
       "      <th>25408</th>\n",
       "      <td>Organic Search</td>\n",
       "      <td>2016-11-12</td>\n",
       "      <td>054389682218530460</td>\n",
       "      <td>Europe</td>\n",
       "      <td>United Kingdom</td>\n",
       "      <td>1</td>\n",
       "      <td>1</td>\n",
       "      <td>0</td>\n",
       "      <td>0</td>\n",
       "      <td>0</td>\n",
       "      <td>5</td>\n",
       "      <td>1</td>\n",
       "    </tr>\n",
       "  </tbody>\n",
       "</table>\n",
       "</div>"
      ],
      "text/plain": [
       "      channelGrouping       date        fullVisitorId continent  \\\n",
       "25404          Direct 2016-11-12  5245891205207604055    Europe   \n",
       "25405  Organic Search 2016-11-12  1638515902684994325      Asia   \n",
       "25406  Organic Search 2016-11-12  5770311911020252790      Asia   \n",
       "25407        Referral 2016-11-12   515167195873020324  Americas   \n",
       "25408  Organic Search 2016-11-12   054389682218530460    Europe   \n",
       "\n",
       "              country  hits  pageviews  revenue  Buy  isMobile  DayOfWeek  \\\n",
       "25404         Romania     1          1        0    0         1          5   \n",
       "25405           India     1          1        0    0         1          5   \n",
       "25406         Vietnam     1          1        0    0         1          5   \n",
       "25407   United States     1          1        0    0         0          5   \n",
       "25408  United Kingdom     1          1        0    0         0          5   \n",
       "\n",
       "       weekend  \n",
       "25404        1  \n",
       "25405        1  \n",
       "25406        1  \n",
       "25407        1  \n",
       "25408        1  "
      ]
     },
     "execution_count": 37,
     "metadata": {},
     "output_type": "execute_result"
    }
   ],
   "source": [
    "df_train['weekend'] = df_train['DayOfWeek'].apply(lambda x: 1 if x == 5 or x == 6 else 0)\n",
    "# Check\n",
    "df_train[df_train['DayOfWeek']==5].head()"
   ]
  },
  {
   "cell_type": "code",
   "execution_count": 38,
   "metadata": {},
   "outputs": [],
   "source": [
    "# After converting day of week to weekend or not, we drop this attribute\n",
    "df_train.drop(columns='DayOfWeek', inplace=True)"
   ]
  },
  {
   "cell_type": "code",
   "execution_count": 39,
   "metadata": {},
   "outputs": [
    {
     "name": "stdout",
     "output_type": "stream",
     "text": [
      "<class 'pandas.core.frame.DataFrame'>\n",
      "RangeIndex: 903653 entries, 0 to 903652\n",
      "Data columns (total 11 columns):\n",
      "channelGrouping    903653 non-null object\n",
      "date               903653 non-null datetime64[ns]\n",
      "fullVisitorId      903653 non-null object\n",
      "continent          903653 non-null object\n",
      "country            903653 non-null object\n",
      "hits               903653 non-null int64\n",
      "pageviews          903653 non-null int64\n",
      "revenue            903653 non-null int64\n",
      "Buy                903653 non-null int64\n",
      "isMobile           903653 non-null int64\n",
      "weekend            903653 non-null int64\n",
      "dtypes: datetime64[ns](1), int64(6), object(4)\n",
      "memory usage: 261.4 MB\n"
     ]
    }
   ],
   "source": [
    "# View momory usage including objects\n",
    "df_train.info(memory_usage='deep')"
   ]
  },
  {
   "cell_type": "code",
   "execution_count": 40,
   "metadata": {},
   "outputs": [
    {
     "data": {
      "text/html": [
       "<div>\n",
       "<style scoped>\n",
       "    .dataframe tbody tr th:only-of-type {\n",
       "        vertical-align: middle;\n",
       "    }\n",
       "\n",
       "    .dataframe tbody tr th {\n",
       "        vertical-align: top;\n",
       "    }\n",
       "\n",
       "    .dataframe thead th {\n",
       "        text-align: right;\n",
       "    }\n",
       "</style>\n",
       "<table border=\"1\" class=\"dataframe\">\n",
       "  <thead>\n",
       "    <tr style=\"text-align: right;\">\n",
       "      <th></th>\n",
       "      <th>channelGrouping</th>\n",
       "      <th>date</th>\n",
       "      <th>fullVisitorId</th>\n",
       "      <th>continent</th>\n",
       "      <th>country</th>\n",
       "      <th>hits</th>\n",
       "      <th>pageviews</th>\n",
       "      <th>revenue</th>\n",
       "      <th>Buy</th>\n",
       "      <th>isMobile</th>\n",
       "      <th>weekend</th>\n",
       "      <th>Referral</th>\n",
       "    </tr>\n",
       "  </thead>\n",
       "  <tbody>\n",
       "    <tr>\n",
       "      <th>28</th>\n",
       "      <td>Referral</td>\n",
       "      <td>2016-09-02</td>\n",
       "      <td>4339756682310369249</td>\n",
       "      <td>Asia</td>\n",
       "      <td>India</td>\n",
       "      <td>1</td>\n",
       "      <td>1</td>\n",
       "      <td>0</td>\n",
       "      <td>0</td>\n",
       "      <td>1</td>\n",
       "      <td>0</td>\n",
       "      <td>1</td>\n",
       "    </tr>\n",
       "    <tr>\n",
       "      <th>56</th>\n",
       "      <td>Referral</td>\n",
       "      <td>2016-09-02</td>\n",
       "      <td>9272032681239045735</td>\n",
       "      <td>Asia</td>\n",
       "      <td>India</td>\n",
       "      <td>1</td>\n",
       "      <td>1</td>\n",
       "      <td>0</td>\n",
       "      <td>0</td>\n",
       "      <td>1</td>\n",
       "      <td>0</td>\n",
       "      <td>1</td>\n",
       "    </tr>\n",
       "    <tr>\n",
       "      <th>67</th>\n",
       "      <td>Referral</td>\n",
       "      <td>2016-09-02</td>\n",
       "      <td>3746051970600816343</td>\n",
       "      <td>Americas</td>\n",
       "      <td>United States</td>\n",
       "      <td>1</td>\n",
       "      <td>1</td>\n",
       "      <td>0</td>\n",
       "      <td>0</td>\n",
       "      <td>0</td>\n",
       "      <td>0</td>\n",
       "      <td>1</td>\n",
       "    </tr>\n",
       "    <tr>\n",
       "      <th>96</th>\n",
       "      <td>Referral</td>\n",
       "      <td>2016-09-02</td>\n",
       "      <td>2486407044795377188</td>\n",
       "      <td>Americas</td>\n",
       "      <td>United States</td>\n",
       "      <td>1</td>\n",
       "      <td>1</td>\n",
       "      <td>0</td>\n",
       "      <td>0</td>\n",
       "      <td>0</td>\n",
       "      <td>0</td>\n",
       "      <td>1</td>\n",
       "    </tr>\n",
       "    <tr>\n",
       "      <th>101</th>\n",
       "      <td>Referral</td>\n",
       "      <td>2016-09-02</td>\n",
       "      <td>4283381413149200106</td>\n",
       "      <td>Oceania</td>\n",
       "      <td>Australia</td>\n",
       "      <td>1</td>\n",
       "      <td>1</td>\n",
       "      <td>0</td>\n",
       "      <td>0</td>\n",
       "      <td>1</td>\n",
       "      <td>0</td>\n",
       "      <td>1</td>\n",
       "    </tr>\n",
       "  </tbody>\n",
       "</table>\n",
       "</div>"
      ],
      "text/plain": [
       "    channelGrouping       date        fullVisitorId continent        country  \\\n",
       "28         Referral 2016-09-02  4339756682310369249      Asia          India   \n",
       "56         Referral 2016-09-02  9272032681239045735      Asia          India   \n",
       "67         Referral 2016-09-02  3746051970600816343  Americas  United States   \n",
       "96         Referral 2016-09-02  2486407044795377188  Americas  United States   \n",
       "101        Referral 2016-09-02  4283381413149200106   Oceania      Australia   \n",
       "\n",
       "     hits  pageviews  revenue  Buy  isMobile  weekend  Referral  \n",
       "28      1          1        0    0         1        0         1  \n",
       "56      1          1        0    0         1        0         1  \n",
       "67      1          1        0    0         0        0         1  \n",
       "96      1          1        0    0         0        0         1  \n",
       "101     1          1        0    0         1        0         1  "
      ]
     },
     "execution_count": 40,
     "metadata": {},
     "output_type": "execute_result"
    }
   ],
   "source": [
    "df_train['Referral'] = df_train['channelGrouping'].apply(lambda x: 1 if x == 'Referral' else 0)\n",
    "df_train[df_train['channelGrouping']=='Referral'].head()"
   ]
  },
  {
   "cell_type": "code",
   "execution_count": 41,
   "metadata": {},
   "outputs": [],
   "source": [
    "# After converting channelGrouping to Referral or not, we drop this attribute\n",
    "df_train.drop(columns='channelGrouping', inplace=True)"
   ]
  },
  {
   "cell_type": "code",
   "execution_count": 42,
   "metadata": {},
   "outputs": [
    {
     "data": {
      "text/html": [
       "<div>\n",
       "<style scoped>\n",
       "    .dataframe tbody tr th:only-of-type {\n",
       "        vertical-align: middle;\n",
       "    }\n",
       "\n",
       "    .dataframe tbody tr th {\n",
       "        vertical-align: top;\n",
       "    }\n",
       "\n",
       "    .dataframe thead th {\n",
       "        text-align: right;\n",
       "    }\n",
       "</style>\n",
       "<table border=\"1\" class=\"dataframe\">\n",
       "  <thead>\n",
       "    <tr style=\"text-align: right;\">\n",
       "      <th></th>\n",
       "      <th>date</th>\n",
       "      <th>fullVisitorId</th>\n",
       "      <th>continent</th>\n",
       "      <th>country</th>\n",
       "      <th>hits</th>\n",
       "      <th>pageviews</th>\n",
       "      <th>revenue</th>\n",
       "      <th>Buy</th>\n",
       "      <th>isMobile</th>\n",
       "      <th>weekend</th>\n",
       "      <th>Referral</th>\n",
       "    </tr>\n",
       "  </thead>\n",
       "  <tbody>\n",
       "    <tr>\n",
       "      <th>0</th>\n",
       "      <td>2016-09-02</td>\n",
       "      <td>1131660440785968503</td>\n",
       "      <td>Asia</td>\n",
       "      <td>Turkey</td>\n",
       "      <td>1</td>\n",
       "      <td>1</td>\n",
       "      <td>0</td>\n",
       "      <td>0</td>\n",
       "      <td>0</td>\n",
       "      <td>0</td>\n",
       "      <td>0</td>\n",
       "    </tr>\n",
       "    <tr>\n",
       "      <th>1</th>\n",
       "      <td>2016-09-02</td>\n",
       "      <td>377306020877927890</td>\n",
       "      <td>Oceania</td>\n",
       "      <td>Australia</td>\n",
       "      <td>1</td>\n",
       "      <td>1</td>\n",
       "      <td>0</td>\n",
       "      <td>0</td>\n",
       "      <td>0</td>\n",
       "      <td>0</td>\n",
       "      <td>0</td>\n",
       "    </tr>\n",
       "    <tr>\n",
       "      <th>2</th>\n",
       "      <td>2016-09-02</td>\n",
       "      <td>3895546263509774583</td>\n",
       "      <td>Europe</td>\n",
       "      <td>Spain</td>\n",
       "      <td>1</td>\n",
       "      <td>1</td>\n",
       "      <td>0</td>\n",
       "      <td>0</td>\n",
       "      <td>0</td>\n",
       "      <td>0</td>\n",
       "      <td>0</td>\n",
       "    </tr>\n",
       "    <tr>\n",
       "      <th>3</th>\n",
       "      <td>2016-09-02</td>\n",
       "      <td>4763447161404445595</td>\n",
       "      <td>Asia</td>\n",
       "      <td>Indonesia</td>\n",
       "      <td>1</td>\n",
       "      <td>1</td>\n",
       "      <td>0</td>\n",
       "      <td>0</td>\n",
       "      <td>0</td>\n",
       "      <td>0</td>\n",
       "      <td>0</td>\n",
       "    </tr>\n",
       "    <tr>\n",
       "      <th>4</th>\n",
       "      <td>2016-09-02</td>\n",
       "      <td>27294437909732085</td>\n",
       "      <td>Europe</td>\n",
       "      <td>United Kingdom</td>\n",
       "      <td>1</td>\n",
       "      <td>1</td>\n",
       "      <td>0</td>\n",
       "      <td>0</td>\n",
       "      <td>1</td>\n",
       "      <td>0</td>\n",
       "      <td>0</td>\n",
       "    </tr>\n",
       "  </tbody>\n",
       "</table>\n",
       "</div>"
      ],
      "text/plain": [
       "        date        fullVisitorId continent         country  hits  pageviews  \\\n",
       "0 2016-09-02  1131660440785968503      Asia          Turkey     1          1   \n",
       "1 2016-09-02   377306020877927890   Oceania       Australia     1          1   \n",
       "2 2016-09-02  3895546263509774583    Europe           Spain     1          1   \n",
       "3 2016-09-02  4763447161404445595      Asia       Indonesia     1          1   \n",
       "4 2016-09-02    27294437909732085    Europe  United Kingdom     1          1   \n",
       "\n",
       "   revenue  Buy  isMobile  weekend  Referral  \n",
       "0        0    0         0        0         0  \n",
       "1        0    0         0        0         0  \n",
       "2        0    0         0        0         0  \n",
       "3        0    0         0        0         0  \n",
       "4        0    0         1        0         0  "
      ]
     },
     "execution_count": 42,
     "metadata": {},
     "output_type": "execute_result"
    }
   ],
   "source": [
    "df_train.head()"
   ]
  },
  {
   "cell_type": "code",
   "execution_count": 43,
   "metadata": {},
   "outputs": [
    {
     "data": {
      "text/html": [
       "<div>\n",
       "<style scoped>\n",
       "    .dataframe tbody tr th:only-of-type {\n",
       "        vertical-align: middle;\n",
       "    }\n",
       "\n",
       "    .dataframe tbody tr th {\n",
       "        vertical-align: top;\n",
       "    }\n",
       "\n",
       "    .dataframe thead th {\n",
       "        text-align: right;\n",
       "    }\n",
       "</style>\n",
       "<table border=\"1\" class=\"dataframe\">\n",
       "  <thead>\n",
       "    <tr style=\"text-align: right;\">\n",
       "      <th></th>\n",
       "      <th>date</th>\n",
       "      <th>fullVisitorId</th>\n",
       "      <th>continent</th>\n",
       "      <th>country</th>\n",
       "      <th>hits</th>\n",
       "      <th>pageviews</th>\n",
       "      <th>revenue</th>\n",
       "      <th>Buy</th>\n",
       "      <th>isMobile</th>\n",
       "      <th>weekend</th>\n",
       "      <th>Referral</th>\n",
       "      <th>Americas</th>\n",
       "      <th>US</th>\n",
       "    </tr>\n",
       "  </thead>\n",
       "  <tbody>\n",
       "    <tr>\n",
       "      <th>67</th>\n",
       "      <td>2016-09-02</td>\n",
       "      <td>3746051970600816343</td>\n",
       "      <td>Americas</td>\n",
       "      <td>United States</td>\n",
       "      <td>1</td>\n",
       "      <td>1</td>\n",
       "      <td>0</td>\n",
       "      <td>0</td>\n",
       "      <td>0</td>\n",
       "      <td>0</td>\n",
       "      <td>1</td>\n",
       "      <td>1</td>\n",
       "      <td>1</td>\n",
       "    </tr>\n",
       "    <tr>\n",
       "      <th>96</th>\n",
       "      <td>2016-09-02</td>\n",
       "      <td>2486407044795377188</td>\n",
       "      <td>Americas</td>\n",
       "      <td>United States</td>\n",
       "      <td>1</td>\n",
       "      <td>1</td>\n",
       "      <td>0</td>\n",
       "      <td>0</td>\n",
       "      <td>0</td>\n",
       "      <td>0</td>\n",
       "      <td>1</td>\n",
       "      <td>1</td>\n",
       "      <td>1</td>\n",
       "    </tr>\n",
       "    <tr>\n",
       "      <th>102</th>\n",
       "      <td>2016-09-02</td>\n",
       "      <td>2870162892603227525</td>\n",
       "      <td>Americas</td>\n",
       "      <td>United States</td>\n",
       "      <td>1</td>\n",
       "      <td>1</td>\n",
       "      <td>0</td>\n",
       "      <td>0</td>\n",
       "      <td>1</td>\n",
       "      <td>0</td>\n",
       "      <td>0</td>\n",
       "      <td>1</td>\n",
       "      <td>1</td>\n",
       "    </tr>\n",
       "    <tr>\n",
       "      <th>106</th>\n",
       "      <td>2016-09-02</td>\n",
       "      <td>1467563877243766337</td>\n",
       "      <td>Americas</td>\n",
       "      <td>United States</td>\n",
       "      <td>1</td>\n",
       "      <td>1</td>\n",
       "      <td>0</td>\n",
       "      <td>0</td>\n",
       "      <td>1</td>\n",
       "      <td>0</td>\n",
       "      <td>1</td>\n",
       "      <td>1</td>\n",
       "      <td>1</td>\n",
       "    </tr>\n",
       "    <tr>\n",
       "      <th>117</th>\n",
       "      <td>2016-09-02</td>\n",
       "      <td>0504414286758319636</td>\n",
       "      <td>Americas</td>\n",
       "      <td>United States</td>\n",
       "      <td>1</td>\n",
       "      <td>1</td>\n",
       "      <td>0</td>\n",
       "      <td>0</td>\n",
       "      <td>0</td>\n",
       "      <td>0</td>\n",
       "      <td>0</td>\n",
       "      <td>1</td>\n",
       "      <td>1</td>\n",
       "    </tr>\n",
       "  </tbody>\n",
       "</table>\n",
       "</div>"
      ],
      "text/plain": [
       "          date        fullVisitorId continent        country  hits  pageviews  \\\n",
       "67  2016-09-02  3746051970600816343  Americas  United States     1          1   \n",
       "96  2016-09-02  2486407044795377188  Americas  United States     1          1   \n",
       "102 2016-09-02  2870162892603227525  Americas  United States     1          1   \n",
       "106 2016-09-02  1467563877243766337  Americas  United States     1          1   \n",
       "117 2016-09-02  0504414286758319636  Americas  United States     1          1   \n",
       "\n",
       "     revenue  Buy  isMobile  weekend  Referral  Americas  US  \n",
       "67         0    0         0        0         1         1   1  \n",
       "96         0    0         0        0         1         1   1  \n",
       "102        0    0         1        0         0         1   1  \n",
       "106        0    0         1        0         1         1   1  \n",
       "117        0    0         0        0         0         1   1  "
      ]
     },
     "execution_count": 43,
     "metadata": {},
     "output_type": "execute_result"
    }
   ],
   "source": [
    "# feature Americas is whether the continent is Americas or not\n",
    "df_train['Americas'] = df_train['continent'].apply(lambda x: 1 if x == 'Americas' else 0)\n",
    "\n",
    "# feature US is whether the country is United States or not\n",
    "df_train['US'] = df_train['country'].apply(lambda x: 1 if x == 'United States' else 0)\n",
    "df_train[df_train['country']=='United States'].head()"
   ]
  },
  {
   "cell_type": "code",
   "execution_count": 44,
   "metadata": {},
   "outputs": [],
   "source": [
    "# We drop continent and country features   \n",
    "df_train.drop(columns=['continent', 'country'], inplace=True)"
   ]
  },
  {
   "cell_type": "code",
   "execution_count": 45,
   "metadata": {},
   "outputs": [
    {
     "data": {
      "text/html": [
       "<div>\n",
       "<style scoped>\n",
       "    .dataframe tbody tr th:only-of-type {\n",
       "        vertical-align: middle;\n",
       "    }\n",
       "\n",
       "    .dataframe tbody tr th {\n",
       "        vertical-align: top;\n",
       "    }\n",
       "\n",
       "    .dataframe thead th {\n",
       "        text-align: right;\n",
       "    }\n",
       "</style>\n",
       "<table border=\"1\" class=\"dataframe\">\n",
       "  <thead>\n",
       "    <tr style=\"text-align: right;\">\n",
       "      <th></th>\n",
       "      <th>date</th>\n",
       "      <th>fullVisitorId</th>\n",
       "      <th>hits</th>\n",
       "      <th>pageviews</th>\n",
       "      <th>revenue</th>\n",
       "      <th>Buy</th>\n",
       "      <th>isMobile</th>\n",
       "      <th>weekend</th>\n",
       "      <th>Referral</th>\n",
       "      <th>Americas</th>\n",
       "      <th>US</th>\n",
       "    </tr>\n",
       "  </thead>\n",
       "  <tbody>\n",
       "    <tr>\n",
       "      <th>0</th>\n",
       "      <td>2016-09-02</td>\n",
       "      <td>1131660440785968503</td>\n",
       "      <td>1</td>\n",
       "      <td>1</td>\n",
       "      <td>0</td>\n",
       "      <td>0</td>\n",
       "      <td>0</td>\n",
       "      <td>0</td>\n",
       "      <td>0</td>\n",
       "      <td>0</td>\n",
       "      <td>0</td>\n",
       "    </tr>\n",
       "    <tr>\n",
       "      <th>1</th>\n",
       "      <td>2016-09-02</td>\n",
       "      <td>377306020877927890</td>\n",
       "      <td>1</td>\n",
       "      <td>1</td>\n",
       "      <td>0</td>\n",
       "      <td>0</td>\n",
       "      <td>0</td>\n",
       "      <td>0</td>\n",
       "      <td>0</td>\n",
       "      <td>0</td>\n",
       "      <td>0</td>\n",
       "    </tr>\n",
       "    <tr>\n",
       "      <th>2</th>\n",
       "      <td>2016-09-02</td>\n",
       "      <td>3895546263509774583</td>\n",
       "      <td>1</td>\n",
       "      <td>1</td>\n",
       "      <td>0</td>\n",
       "      <td>0</td>\n",
       "      <td>0</td>\n",
       "      <td>0</td>\n",
       "      <td>0</td>\n",
       "      <td>0</td>\n",
       "      <td>0</td>\n",
       "    </tr>\n",
       "    <tr>\n",
       "      <th>3</th>\n",
       "      <td>2016-09-02</td>\n",
       "      <td>4763447161404445595</td>\n",
       "      <td>1</td>\n",
       "      <td>1</td>\n",
       "      <td>0</td>\n",
       "      <td>0</td>\n",
       "      <td>0</td>\n",
       "      <td>0</td>\n",
       "      <td>0</td>\n",
       "      <td>0</td>\n",
       "      <td>0</td>\n",
       "    </tr>\n",
       "    <tr>\n",
       "      <th>4</th>\n",
       "      <td>2016-09-02</td>\n",
       "      <td>27294437909732085</td>\n",
       "      <td>1</td>\n",
       "      <td>1</td>\n",
       "      <td>0</td>\n",
       "      <td>0</td>\n",
       "      <td>1</td>\n",
       "      <td>0</td>\n",
       "      <td>0</td>\n",
       "      <td>0</td>\n",
       "      <td>0</td>\n",
       "    </tr>\n",
       "  </tbody>\n",
       "</table>\n",
       "</div>"
      ],
      "text/plain": [
       "        date        fullVisitorId  hits  pageviews  revenue  Buy  isMobile  \\\n",
       "0 2016-09-02  1131660440785968503     1          1        0    0         0   \n",
       "1 2016-09-02   377306020877927890     1          1        0    0         0   \n",
       "2 2016-09-02  3895546263509774583     1          1        0    0         0   \n",
       "3 2016-09-02  4763447161404445595     1          1        0    0         0   \n",
       "4 2016-09-02    27294437909732085     1          1        0    0         1   \n",
       "\n",
       "   weekend  Referral  Americas  US  \n",
       "0        0         0         0   0  \n",
       "1        0         0         0   0  \n",
       "2        0         0         0   0  \n",
       "3        0         0         0   0  \n",
       "4        0         0         0   0  "
      ]
     },
     "execution_count": 45,
     "metadata": {},
     "output_type": "execute_result"
    }
   ],
   "source": [
    "df_train.head()"
   ]
  },
  {
   "cell_type": "code",
   "execution_count": 46,
   "metadata": {},
   "outputs": [
    {
     "data": {
      "text/plain": [
       "date             0\n",
       "fullVisitorId    0\n",
       "hits             0\n",
       "pageviews        0\n",
       "revenue          0\n",
       "Buy              0\n",
       "isMobile         0\n",
       "weekend          0\n",
       "Referral         0\n",
       "Americas         0\n",
       "US               0\n",
       "dtype: int64"
      ]
     },
     "execution_count": 46,
     "metadata": {},
     "output_type": "execute_result"
    }
   ],
   "source": [
    "# Check whether there's null values\n",
    "df_train.isna().sum()"
   ]
  },
  {
   "cell_type": "code",
   "execution_count": 47,
   "metadata": {},
   "outputs": [
    {
     "data": {
      "text/plain": [
       "{'asset_id': 'c84d2f55-2b84-4ee2-a1ea-4bc7e9780641',\n",
       " 'bucket_name': 'fundamentalsofscalabledatascience-donotdelete-pr-r4ocrm4z0k3qf1',\n",
       " 'file_name': 'work_data.csv',\n",
       " 'message': 'File work_data.csv has been written successfully to the associated OS'}"
      ]
     },
     "execution_count": 47,
     "metadata": {},
     "output_type": "execute_result"
    }
   ],
   "source": [
    "# Save dataframe as csv file to storage\n",
    "project.save_data(data=df_train.to_csv(index=False), file_name='work_data.csv', overwrite=True)"
   ]
  },
  {
   "cell_type": "code",
   "execution_count": null,
   "metadata": {},
   "outputs": [],
   "source": []
  }
 ],
 "metadata": {
  "kernelspec": {
   "display_name": "Python 3",
   "language": "python",
   "name": "python3"
  },
  "language_info": {
   "codemirror_mode": {
    "name": "ipython",
    "version": 3
   },
   "file_extension": ".py",
   "mimetype": "text/x-python",
   "name": "python",
   "nbconvert_exporter": "python",
   "pygments_lexer": "ipython3",
   "version": "3.6.4"
  }
 },
 "nbformat": 4,
 "nbformat_minor": 2
}
