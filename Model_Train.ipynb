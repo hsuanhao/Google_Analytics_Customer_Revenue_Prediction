{
 "cells": [
  {
   "cell_type": "markdown",
   "metadata": {
    "collapsed": true
   },
   "source": [
    "# Google Analytics Customer Revenue Prediction\n",
    "\n",
    "### By Hsuan-Hao Fan\n",
    "\n",
    "We have prepared the data, `work_data.csv`, for model training in `Data_Clean_Explore.ipynb`. Let's load prepared data first, and then split it into two parts: training set and validation set."
   ]
  },
  {
   "cell_type": "code",
   "execution_count": 2,
   "metadata": {},
   "outputs": [
    {
     "name": "stdout",
     "output_type": "stream",
     "text": [
      "numpy: 1.13.3\n",
      "pandas: 0.21.0\n",
      "sklearn: 0.19.1\n",
      "matplotlib: 2.1.0\n",
      "seaborn: 0.8.0\n",
      "statsmodels: 0.8.0\n"
     ]
    }
   ],
   "source": [
    "# numpy\n",
    "import numpy as np\n",
    "print('numpy: {}'.format(np.__version__) )\n",
    "import os\n",
    "# pandas\n",
    "import pandas as pd\n",
    "print('pandas: {}'.format(pd.__version__) )\n",
    "# scikit-learn\n",
    "import sklearn\n",
    "print('sklearn: {}'.format(sklearn.__version__))\n",
    "from sklearn.model_selection import train_test_split\n",
    "#from preprocess import read_data, json_read\n",
    "\n",
    "from datetime import datetime # To access datetime\n",
    "\n",
    "import warnings                # To ignore the warning\n",
    "warnings.filterwarnings(\"ignore\")\n",
    "\n",
    "# To plot pretty figures\n",
    "%matplotlib inline\n",
    "import matplotlib\n",
    "import matplotlib.pyplot as plt\n",
    "import seaborn as sns\n",
    "print('matplotlib: {}'.format(matplotlib.__version__))\n",
    "print('seaborn: {}'.format(sns.__version__))\n",
    "\n",
    "# statsmodels\n",
    "import statsmodels\n",
    "print('statsmodels: {}'.format(statsmodels.__version__))"
   ]
  },
  {
   "cell_type": "markdown",
   "metadata": {},
   "source": [
    "# 1. Load Data"
   ]
  },
  {
   "cell_type": "code",
   "execution_count": 3,
   "metadata": {},
   "outputs": [
    {
     "data": {
      "text/html": [
       "<div>\n",
       "<style scoped>\n",
       "    .dataframe tbody tr th:only-of-type {\n",
       "        vertical-align: middle;\n",
       "    }\n",
       "\n",
       "    .dataframe tbody tr th {\n",
       "        vertical-align: top;\n",
       "    }\n",
       "\n",
       "    .dataframe thead th {\n",
       "        text-align: right;\n",
       "    }\n",
       "</style>\n",
       "<table border=\"1\" class=\"dataframe\">\n",
       "  <thead>\n",
       "    <tr style=\"text-align: right;\">\n",
       "      <th></th>\n",
       "      <th>date</th>\n",
       "      <th>fullVisitorId</th>\n",
       "      <th>hits</th>\n",
       "      <th>pageviews</th>\n",
       "      <th>revenue</th>\n",
       "      <th>Buy</th>\n",
       "      <th>isMobile</th>\n",
       "      <th>weekend</th>\n",
       "      <th>Referral</th>\n",
       "      <th>Americas</th>\n",
       "      <th>US</th>\n",
       "    </tr>\n",
       "  </thead>\n",
       "  <tbody>\n",
       "    <tr>\n",
       "      <th>0</th>\n",
       "      <td>2016-09-02</td>\n",
       "      <td>1131660440785968503</td>\n",
       "      <td>1</td>\n",
       "      <td>1</td>\n",
       "      <td>0</td>\n",
       "      <td>0</td>\n",
       "      <td>0</td>\n",
       "      <td>0</td>\n",
       "      <td>0</td>\n",
       "      <td>0</td>\n",
       "      <td>0</td>\n",
       "    </tr>\n",
       "    <tr>\n",
       "      <th>1</th>\n",
       "      <td>2016-09-02</td>\n",
       "      <td>377306020877927890</td>\n",
       "      <td>1</td>\n",
       "      <td>1</td>\n",
       "      <td>0</td>\n",
       "      <td>0</td>\n",
       "      <td>0</td>\n",
       "      <td>0</td>\n",
       "      <td>0</td>\n",
       "      <td>0</td>\n",
       "      <td>0</td>\n",
       "    </tr>\n",
       "    <tr>\n",
       "      <th>2</th>\n",
       "      <td>2016-09-02</td>\n",
       "      <td>3895546263509774583</td>\n",
       "      <td>1</td>\n",
       "      <td>1</td>\n",
       "      <td>0</td>\n",
       "      <td>0</td>\n",
       "      <td>0</td>\n",
       "      <td>0</td>\n",
       "      <td>0</td>\n",
       "      <td>0</td>\n",
       "      <td>0</td>\n",
       "    </tr>\n",
       "    <tr>\n",
       "      <th>3</th>\n",
       "      <td>2016-09-02</td>\n",
       "      <td>4763447161404445595</td>\n",
       "      <td>1</td>\n",
       "      <td>1</td>\n",
       "      <td>0</td>\n",
       "      <td>0</td>\n",
       "      <td>0</td>\n",
       "      <td>0</td>\n",
       "      <td>0</td>\n",
       "      <td>0</td>\n",
       "      <td>0</td>\n",
       "    </tr>\n",
       "    <tr>\n",
       "      <th>4</th>\n",
       "      <td>2016-09-02</td>\n",
       "      <td>27294437909732085</td>\n",
       "      <td>1</td>\n",
       "      <td>1</td>\n",
       "      <td>0</td>\n",
       "      <td>0</td>\n",
       "      <td>1</td>\n",
       "      <td>0</td>\n",
       "      <td>0</td>\n",
       "      <td>0</td>\n",
       "      <td>0</td>\n",
       "    </tr>\n",
       "  </tbody>\n",
       "</table>\n",
       "</div>"
      ],
      "text/plain": [
       "         date        fullVisitorId  hits  pageviews  revenue  Buy  isMobile  \\\n",
       "0  2016-09-02  1131660440785968503     1          1        0    0         0   \n",
       "1  2016-09-02   377306020877927890     1          1        0    0         0   \n",
       "2  2016-09-02  3895546263509774583     1          1        0    0         0   \n",
       "3  2016-09-02  4763447161404445595     1          1        0    0         0   \n",
       "4  2016-09-02    27294437909732085     1          1        0    0         1   \n",
       "\n",
       "   weekend  Referral  Americas  US  \n",
       "0        0         0         0   0  \n",
       "1        0         0         0   0  \n",
       "2        0         0         0   0  \n",
       "3        0         0         0   0  \n",
       "4        0         0         0   0  "
      ]
     },
     "execution_count": 3,
     "metadata": {},
     "output_type": "execute_result"
    }
   ],
   "source": [
    "df = pd.read_csv(project.get_file('work_data.csv'))\n",
    "df.head()"
   ]
  },
  {
   "cell_type": "markdown",
   "metadata": {},
   "source": [
    "## Data Fields\n",
    "\n",
    "- **date** - The date on which the user visited the Store.\n",
    "- **fullVisitorId**- A unique identifier for each user of the Google Merchandise Store.\n",
    "- **hits** - This row and nested fields are populated for any and all types of hits. Provides a record of all page visits. \n",
    "- **pageviews** - number of pages viewed by customers per visit. \n",
    "- **revenue** - Target values, the transaction revenue per each visit\n",
    "- **Buy** - Whether the customers visit GStore purchase or not ( 0: not purchasing; 1: purchasing)\n",
    "- **IsMobile** - Whether customers use mobile devices to access GStore (0: not using mobile device; 1: using mobile device)\n",
    "- **weekend** - Whether customers visit GStore during the weekend (0: visit in weekdays; 1: visit in weekend)\n",
    "- **Referral** - Whether customers visit the store via Referral channel or not\n",
    "- **Americas** - Whether customers live in Americas continent or not\n",
    "- **US** - Whether customers are from United States in Americas continent."
   ]
  },
  {
   "cell_type": "code",
   "execution_count": 4,
   "metadata": {},
   "outputs": [
    {
     "data": {
      "text/plain": [
       "date             object\n",
       "fullVisitorId    object\n",
       "hits              int64\n",
       "pageviews         int64\n",
       "revenue           int64\n",
       "Buy               int64\n",
       "isMobile          int64\n",
       "weekend           int64\n",
       "Referral          int64\n",
       "Americas          int64\n",
       "US                int64\n",
       "dtype: object"
      ]
     },
     "execution_count": 4,
     "metadata": {},
     "output_type": "execute_result"
    }
   ],
   "source": [
    "# Check data types of field values\n",
    "df.dtypes"
   ]
  },
  {
   "cell_type": "markdown",
   "metadata": {},
   "source": [
    "Note that values in `date` column are in string format so we have to convert it to datetime."
   ]
  },
  {
   "cell_type": "code",
   "execution_count": 5,
   "metadata": {},
   "outputs": [],
   "source": [
    "df['date'] = pd.to_datetime(df['date'])"
   ]
  },
  {
   "cell_type": "code",
   "execution_count": 6,
   "metadata": {},
   "outputs": [
    {
     "name": "stdout",
     "output_type": "stream",
     "text": [
      "The data type of values in date column is datetime64[ns].\n"
     ]
    }
   ],
   "source": [
    "print('The data type of values in date column is {0}.'.format(df['date'].dtypes))"
   ]
  },
  {
   "cell_type": "markdown",
   "metadata": {},
   "source": [
    "# 2. Model Construction\n",
    "\n",
    "We will construct **training model in two steps**. First, **we create a classifier to classify whether customers will buy products or not per visit in GStore**. For those who won't purcase products in store, the transaction revenue is 0 for sure. Hence, our first step is to classify customers whether purchase or not per visit. Then for those who purchase products, **we use statistical models for time series to predict the transaction revenue per visit**. Note that we have examined that the transaction revenue per visit only depends on `date`.  \n",
    "\n",
    "## 2.1 Classification\n",
    "\n",
    "First of all, we classify whether customers visit store will buy products or not so the target value is `Buy` feature. "
   ]
  },
  {
   "cell_type": "code",
   "execution_count": 7,
   "metadata": {},
   "outputs": [
    {
     "data": {
      "text/plain": [
       "0    892138\n",
       "1     11515\n",
       "Name: Buy, dtype: int64"
      ]
     },
     "execution_count": 7,
     "metadata": {},
     "output_type": "execute_result"
    }
   ],
   "source": [
    "df['Buy'].value_counts()"
   ]
  },
  {
   "cell_type": "markdown",
   "metadata": {},
   "source": [
    "As we can see in above classes counts, our **dataset is highly imbalanced**! `Buy`:`Not Buy` $\\approx$ 9:1. Also, it implies that many customers visit GStore without purchasing any products. In order to deal with imbalanced data, we adopt over-sampling from minority class, say `Buy = 1`, so we get a more balanced dataset.\n",
    "\n",
    "### 1. First, we separate observations from each class into different DataFrames."
   ]
  },
  {
   "cell_type": "code",
   "execution_count": 8,
   "metadata": {},
   "outputs": [],
   "source": [
    "# Separate majority and minority classes\n",
    "df_majority = df[df.Buy==0]\n",
    "df_minority = df[df.Buy==1]"
   ]
  },
  {
   "cell_type": "markdown",
   "metadata": {},
   "source": [
    "### 2. Second, we split majority and minority classes into training and validation sets with ratio 80 to 20."
   ]
  },
  {
   "cell_type": "code",
   "execution_count": 9,
   "metadata": {},
   "outputs": [],
   "source": [
    "from sklearn.model_selection import train_test_split"
   ]
  },
  {
   "cell_type": "code",
   "execution_count": 10,
   "metadata": {},
   "outputs": [],
   "source": [
    "# Split the train and the validation set for the fitting\n",
    "df_major_train, df_major_val = train_test_split(df_majority, test_size = 0.25, random_state=50)\n",
    "df_minor_train, df_minor_val = train_test_split(df_minority, test_size = 0.25, random_state=51)"
   ]
  },
  {
   "cell_type": "markdown",
   "metadata": {},
   "source": [
    "### 3. Third, we resample the minority class with replacement, setting the number of samples to match that of the majority class in training set\n",
    "\n",
    "We also down-sample the majority class without replacement to match that of the minority class in validation set."
   ]
  },
  {
   "cell_type": "code",
   "execution_count": 11,
   "metadata": {},
   "outputs": [],
   "source": [
    "n_samples = len(df_major_train)\n",
    "m_samples = len(df_minor_val)"
   ]
  },
  {
   "cell_type": "code",
   "execution_count": 12,
   "metadata": {},
   "outputs": [
    {
     "name": "stdout",
     "output_type": "stream",
     "text": [
      "Number of samples in majority class of training set = 669103\n",
      "Number of samples in minority class of validation set = 2879\n"
     ]
    }
   ],
   "source": [
    "print('Number of samples in majority class of training set = {0}'.format(n_samples))\n",
    "print('Number of samples in minority class of validation set = {0}'.format(m_samples))"
   ]
  },
  {
   "cell_type": "code",
   "execution_count": 13,
   "metadata": {},
   "outputs": [],
   "source": [
    "# Import the resampling module from Scikit-Learn\n",
    "from sklearn.utils import resample"
   ]
  },
  {
   "cell_type": "code",
   "execution_count": 14,
   "metadata": {},
   "outputs": [],
   "source": [
    "# Upsample minority class in training set\n",
    "df_minor_train_upsampled = resample(df_minor_train,\n",
    "                                   replace=True,\n",
    "                                   n_samples=n_samples,\n",
    "                                   random_state=100)      \n",
    "\n",
    "# Down-sample majority class in validation set\n",
    "df_major_val_downsampled = resample(df_major_val,\n",
    "                                   replace=False,\n",
    "                                   n_samples=m_samples,\n",
    "                                   random_state=100)   "
   ]
  },
  {
   "cell_type": "markdown",
   "metadata": {},
   "source": [
    "### 4. Finally, we combine the up-sampled minority class DataFrame with the original majority class DataFrame in training set\n",
    "\n",
    "Similarly, we combine the down-sampled majority class DataFrame with the original minority class DataFrame in validation set."
   ]
  },
  {
   "cell_type": "code",
   "execution_count": 15,
   "metadata": {},
   "outputs": [],
   "source": [
    "# Combine up-sampled minority class and original majority class in training set\n",
    "df_train = pd.concat([df_major_train, df_minor_train_upsampled])\n",
    "del df_major_train, df_minor_train_upsampled"
   ]
  },
  {
   "cell_type": "code",
   "execution_count": 16,
   "metadata": {},
   "outputs": [],
   "source": [
    "# Combine down-sampled majority class with original minor class to obtain validation set\n",
    "df_val = pd.concat([df_major_val_downsampled, df_minor_val])\n",
    "del df_major_val_downsampled, df_minor_val"
   ]
  },
  {
   "cell_type": "code",
   "execution_count": 17,
   "metadata": {},
   "outputs": [
    {
     "data": {
      "text/html": [
       "<div>\n",
       "<style scoped>\n",
       "    .dataframe tbody tr th:only-of-type {\n",
       "        vertical-align: middle;\n",
       "    }\n",
       "\n",
       "    .dataframe tbody tr th {\n",
       "        vertical-align: top;\n",
       "    }\n",
       "\n",
       "    .dataframe thead th {\n",
       "        text-align: right;\n",
       "    }\n",
       "</style>\n",
       "<table border=\"1\" class=\"dataframe\">\n",
       "  <thead>\n",
       "    <tr style=\"text-align: right;\">\n",
       "      <th></th>\n",
       "      <th>date</th>\n",
       "      <th>fullVisitorId</th>\n",
       "      <th>hits</th>\n",
       "      <th>pageviews</th>\n",
       "      <th>revenue</th>\n",
       "      <th>Buy</th>\n",
       "      <th>isMobile</th>\n",
       "      <th>weekend</th>\n",
       "      <th>Referral</th>\n",
       "      <th>Americas</th>\n",
       "      <th>US</th>\n",
       "    </tr>\n",
       "  </thead>\n",
       "  <tbody>\n",
       "    <tr>\n",
       "      <th>255073</th>\n",
       "      <td>2016-08-13</td>\n",
       "      <td>2735533350507336474</td>\n",
       "      <td>1</td>\n",
       "      <td>1</td>\n",
       "      <td>0</td>\n",
       "      <td>0</td>\n",
       "      <td>0</td>\n",
       "      <td>1</td>\n",
       "      <td>0</td>\n",
       "      <td>0</td>\n",
       "      <td>0</td>\n",
       "    </tr>\n",
       "    <tr>\n",
       "      <th>445120</th>\n",
       "      <td>2016-09-03</td>\n",
       "      <td>2575912875979409241</td>\n",
       "      <td>3</td>\n",
       "      <td>2</td>\n",
       "      <td>0</td>\n",
       "      <td>0</td>\n",
       "      <td>0</td>\n",
       "      <td>1</td>\n",
       "      <td>0</td>\n",
       "      <td>0</td>\n",
       "      <td>0</td>\n",
       "    </tr>\n",
       "    <tr>\n",
       "      <th>232459</th>\n",
       "      <td>2016-10-20</td>\n",
       "      <td>2034050009312896310</td>\n",
       "      <td>1</td>\n",
       "      <td>1</td>\n",
       "      <td>0</td>\n",
       "      <td>0</td>\n",
       "      <td>0</td>\n",
       "      <td>0</td>\n",
       "      <td>0</td>\n",
       "      <td>0</td>\n",
       "      <td>0</td>\n",
       "    </tr>\n",
       "    <tr>\n",
       "      <th>135165</th>\n",
       "      <td>2017-01-15</td>\n",
       "      <td>7651656761158865356</td>\n",
       "      <td>1</td>\n",
       "      <td>1</td>\n",
       "      <td>0</td>\n",
       "      <td>0</td>\n",
       "      <td>0</td>\n",
       "      <td>1</td>\n",
       "      <td>1</td>\n",
       "      <td>0</td>\n",
       "      <td>0</td>\n",
       "    </tr>\n",
       "    <tr>\n",
       "      <th>189358</th>\n",
       "      <td>2016-09-01</td>\n",
       "      <td>9129734825372279637</td>\n",
       "      <td>1</td>\n",
       "      <td>1</td>\n",
       "      <td>0</td>\n",
       "      <td>0</td>\n",
       "      <td>1</td>\n",
       "      <td>0</td>\n",
       "      <td>0</td>\n",
       "      <td>1</td>\n",
       "      <td>1</td>\n",
       "    </tr>\n",
       "  </tbody>\n",
       "</table>\n",
       "</div>"
      ],
      "text/plain": [
       "             date        fullVisitorId  hits  pageviews  revenue  Buy  \\\n",
       "255073 2016-08-13  2735533350507336474     1          1        0    0   \n",
       "445120 2016-09-03  2575912875979409241     3          2        0    0   \n",
       "232459 2016-10-20  2034050009312896310     1          1        0    0   \n",
       "135165 2017-01-15  7651656761158865356     1          1        0    0   \n",
       "189358 2016-09-01  9129734825372279637     1          1        0    0   \n",
       "\n",
       "        isMobile  weekend  Referral  Americas  US  \n",
       "255073         0        1         0         0   0  \n",
       "445120         0        1         0         0   0  \n",
       "232459         0        0         0         0   0  \n",
       "135165         0        1         1         0   0  \n",
       "189358         1        0         0         1   1  "
      ]
     },
     "execution_count": 17,
     "metadata": {},
     "output_type": "execute_result"
    }
   ],
   "source": [
    "df_val.head()"
   ]
  },
  {
   "cell_type": "code",
   "execution_count": 18,
   "metadata": {},
   "outputs": [
    {
     "data": {
      "text/plain": [
       "1    2879\n",
       "0    2879\n",
       "Name: Buy, dtype: int64"
      ]
     },
     "execution_count": 18,
     "metadata": {},
     "output_type": "execute_result"
    }
   ],
   "source": [
    "df_val.Buy.value_counts()"
   ]
  },
  {
   "cell_type": "code",
   "execution_count": 19,
   "metadata": {},
   "outputs": [
    {
     "data": {
      "text/plain": [
       "1    669103\n",
       "0    669103\n",
       "Name: Buy, dtype: int64"
      ]
     },
     "execution_count": 19,
     "metadata": {},
     "output_type": "execute_result"
    }
   ],
   "source": [
    "# Display new class counts\n",
    "df_train.Buy.value_counts()"
   ]
  },
  {
   "cell_type": "markdown",
   "metadata": {},
   "source": [
    "### 5. Use Tree-Based Algorithm\n",
    "\n",
    "Decision trees often perform well on imbalanced dataset due to their hierachical structure. Since individual trees are prone to overfitting, here we apply **Random Forest** to fix it."
   ]
  },
  {
   "cell_type": "code",
   "execution_count": 20,
   "metadata": {},
   "outputs": [],
   "source": [
    "# Random Forest\n",
    "from sklearn.ensemble import RandomForestClassifier"
   ]
  },
  {
   "cell_type": "code",
   "execution_count": 21,
   "metadata": {},
   "outputs": [],
   "source": [
    "# Separate input features (X) and target value (y) for training set\n",
    "y_train = df_train.Buy\n",
    "X_train = df_train.drop(['date', 'fullVisitorId', 'Buy',  'revenue'], axis=1)"
   ]
  },
  {
   "cell_type": "code",
   "execution_count": 22,
   "metadata": {},
   "outputs": [
    {
     "data": {
      "text/html": [
       "<div>\n",
       "<style scoped>\n",
       "    .dataframe tbody tr th:only-of-type {\n",
       "        vertical-align: middle;\n",
       "    }\n",
       "\n",
       "    .dataframe tbody tr th {\n",
       "        vertical-align: top;\n",
       "    }\n",
       "\n",
       "    .dataframe thead th {\n",
       "        text-align: right;\n",
       "    }\n",
       "</style>\n",
       "<table border=\"1\" class=\"dataframe\">\n",
       "  <thead>\n",
       "    <tr style=\"text-align: right;\">\n",
       "      <th></th>\n",
       "      <th>hits</th>\n",
       "      <th>pageviews</th>\n",
       "      <th>isMobile</th>\n",
       "      <th>weekend</th>\n",
       "      <th>Referral</th>\n",
       "      <th>Americas</th>\n",
       "      <th>US</th>\n",
       "    </tr>\n",
       "  </thead>\n",
       "  <tbody>\n",
       "    <tr>\n",
       "      <th>19913</th>\n",
       "      <td>1</td>\n",
       "      <td>1</td>\n",
       "      <td>1</td>\n",
       "      <td>0</td>\n",
       "      <td>0</td>\n",
       "      <td>1</td>\n",
       "      <td>1</td>\n",
       "    </tr>\n",
       "    <tr>\n",
       "      <th>15972</th>\n",
       "      <td>1</td>\n",
       "      <td>1</td>\n",
       "      <td>0</td>\n",
       "      <td>0</td>\n",
       "      <td>0</td>\n",
       "      <td>0</td>\n",
       "      <td>0</td>\n",
       "    </tr>\n",
       "    <tr>\n",
       "      <th>300815</th>\n",
       "      <td>20</td>\n",
       "      <td>15</td>\n",
       "      <td>0</td>\n",
       "      <td>0</td>\n",
       "      <td>1</td>\n",
       "      <td>1</td>\n",
       "      <td>1</td>\n",
       "    </tr>\n",
       "    <tr>\n",
       "      <th>887602</th>\n",
       "      <td>6</td>\n",
       "      <td>4</td>\n",
       "      <td>0</td>\n",
       "      <td>0</td>\n",
       "      <td>1</td>\n",
       "      <td>1</td>\n",
       "      <td>1</td>\n",
       "    </tr>\n",
       "    <tr>\n",
       "      <th>691738</th>\n",
       "      <td>1</td>\n",
       "      <td>1</td>\n",
       "      <td>0</td>\n",
       "      <td>0</td>\n",
       "      <td>0</td>\n",
       "      <td>0</td>\n",
       "      <td>0</td>\n",
       "    </tr>\n",
       "  </tbody>\n",
       "</table>\n",
       "</div>"
      ],
      "text/plain": [
       "        hits  pageviews  isMobile  weekend  Referral  Americas  US\n",
       "19913      1          1         1        0         0         1   1\n",
       "15972      1          1         0        0         0         0   0\n",
       "300815    20         15         0        0         1         1   1\n",
       "887602     6          4         0        0         1         1   1\n",
       "691738     1          1         0        0         0         0   0"
      ]
     },
     "execution_count": 22,
     "metadata": {},
     "output_type": "execute_result"
    }
   ],
   "source": [
    "X_train.head()"
   ]
  },
  {
   "cell_type": "code",
   "execution_count": 23,
   "metadata": {},
   "outputs": [],
   "source": [
    "# Separate input features (X) and target value (y) for validation set\n",
    "y_val = df_val.Buy\n",
    "X_val = df_val.drop(['date', 'fullVisitorId', 'Buy',  'revenue'], axis=1)"
   ]
  },
  {
   "cell_type": "code",
   "execution_count": 24,
   "metadata": {},
   "outputs": [
    {
     "data": {
      "text/plain": [
       "RandomForestClassifier(bootstrap=True, class_weight=None, criterion='gini',\n",
       "            max_depth=None, max_features='auto', max_leaf_nodes=None,\n",
       "            min_impurity_decrease=0.0, min_impurity_split=None,\n",
       "            min_samples_leaf=1, min_samples_split=2,\n",
       "            min_weight_fraction_leaf=0.0, n_estimators=10, n_jobs=1,\n",
       "            oob_score=False, random_state=0, verbose=0, warm_start=False)"
      ]
     },
     "execution_count": 24,
     "metadata": {},
     "output_type": "execute_result"
    }
   ],
   "source": [
    "# Train model\n",
    "clf_rf = RandomForestClassifier(random_state=0)\n",
    "clf_rf.fit(X_train, y_train)"
   ]
  },
  {
   "cell_type": "code",
   "execution_count": 25,
   "metadata": {},
   "outputs": [],
   "source": [
    "# Predict on training set\n",
    "pred_y_train = clf_rf.predict(X_train)\n",
    "\n",
    "# Predict on validation set\n",
    "pred_y_val = clf_rf.predict(X_val)"
   ]
  },
  {
   "cell_type": "code",
   "execution_count": 26,
   "metadata": {},
   "outputs": [
    {
     "data": {
      "text/plain": [
       "[('hits', 0.48879725348659375),\n",
       " ('pageviews', 0.32851432098802047),\n",
       " ('isMobile', 0.0086083490947754769),\n",
       " ('weekend', 0.0014296020197403089),\n",
       " ('Referral', 0.0074665077311028977),\n",
       " ('Americas', 0.080567801941834327),\n",
       " ('US', 0.084616164737932709)]"
      ]
     },
     "execution_count": 26,
     "metadata": {},
     "output_type": "execute_result"
    }
   ],
   "source": [
    "# View a list of the features and their importance scores\n",
    "\n",
    "list(zip(X_train, clf_rf.feature_importances_))"
   ]
  },
  {
   "cell_type": "markdown",
   "metadata": {},
   "source": [
    "### 6. Evaluate model\n",
    "\n",
    "We implement **confusion matrix**, **precision, and **recall** metrics. **Note that in order to evaluate performance properly, it is better to make sure that either class in validation set is balanced**. For example, if negative class has much larger number of samples than positive class like what we have now, then FP is probably much larger than FN, or $FP \\gg FN$. That means one will have very small precision value since\n",
    "\n",
    "$$ precision = \\frac{TP}{TP + FP}; \\qquad recall = \\frac{TP}{TP+FN}.$$\n",
    "\n",
    "If we use imbalanced data to evaluate our model, then it will lead to very small precision value. In this situation, it is very hard to judge whether the low precision value is due to model performance or due to imbalanced data. Hence, one should block the later factor to evaluate model properly."
   ]
  },
  {
   "cell_type": "code",
   "execution_count": 27,
   "metadata": {},
   "outputs": [],
   "source": [
    "from sklearn.metrics import confusion_matrix, precision_score, recall_score"
   ]
  },
  {
   "cell_type": "markdown",
   "metadata": {},
   "source": [
    "### Confusion Matrix:"
   ]
  },
  {
   "cell_type": "code",
   "execution_count": 28,
   "metadata": {},
   "outputs": [
    {
     "name": "stdout",
     "output_type": "stream",
     "text": [
      "Confusion matrix for training set is \n",
      " [[636834  32269]\n",
      " [  6769 662334]].\n",
      "Confusion matrix for validation accuracy is \n",
      " [[2732  147]\n",
      " [ 503 2376]].\n"
     ]
    }
   ],
   "source": [
    "print('Confusion matrix for training set is \\n {0}.'.format(confusion_matrix(y_train, pred_y_train)))\n",
    "print('Confusion matrix for validation accuracy is \\n {0}.'.format(confusion_matrix(y_val, pred_y_val)))"
   ]
  },
  {
   "cell_type": "code",
   "execution_count": 29,
   "metadata": {},
   "outputs": [
    {
     "name": "stdout",
     "output_type": "stream",
     "text": [
      "[0 1]\n",
      "[0 1]\n"
     ]
    }
   ],
   "source": [
    "# Is our model still predicting just one class?\n",
    "print( np.unique( pred_y_train ) )\n",
    "print( np.unique( pred_y_val ) )"
   ]
  },
  {
   "cell_type": "markdown",
   "metadata": {},
   "source": [
    "### Precision and Recall:"
   ]
  },
  {
   "cell_type": "code",
   "execution_count": 30,
   "metadata": {},
   "outputs": [
    {
     "name": "stdout",
     "output_type": "stream",
     "text": [
      "Precision for training set is 0.9535432470058436.\n",
      "Precision for validation set is 0.9417360285374554.\n"
     ]
    }
   ],
   "source": [
    "# Calculate precision score\n",
    "print('Precision for training set is {}.'.format(precision_score(y_train, pred_y_train)))\n",
    "print('Precision for validation set is {}.'.format(precision_score(y_val, pred_y_val)))"
   ]
  },
  {
   "cell_type": "code",
   "execution_count": 31,
   "metadata": {},
   "outputs": [
    {
     "name": "stdout",
     "output_type": "stream",
     "text": [
      "Recall for training set is 0.9898834708557577.\n",
      "Recall for validation set is 0.8252865578325808.\n"
     ]
    }
   ],
   "source": [
    "# Calculate recall score\n",
    "print('Recall for training set is {}.'.format(recall_score(y_train, pred_y_train)))\n",
    "print('Recall for validation set is {}.'.format(recall_score(y_val, pred_y_val)))"
   ]
  },
  {
   "cell_type": "markdown",
   "metadata": {},
   "source": [
    "From above results, we can see that the current model is overfitting. From important score, we can see that `weekend`, `Referral`, `isMobile` features are not that important compared to other selected features so let's drop them in our model, and repeat above procedure again."
   ]
  },
  {
   "cell_type": "markdown",
   "metadata": {},
   "source": [
    "### 7. Drop weekend, Referral, and isMobile features"
   ]
  },
  {
   "cell_type": "code",
   "execution_count": 32,
   "metadata": {},
   "outputs": [],
   "source": [
    "# Separate input features (X) and target value (y) for training set\n",
    "y_train_1 = df_train.Buy\n",
    "X_train_1 = df_train.drop(['date', 'fullVisitorId', 'Buy',  'revenue', 'weekend', 'Referral', 'isMobile'], axis=1)"
   ]
  },
  {
   "cell_type": "code",
   "execution_count": 33,
   "metadata": {},
   "outputs": [
    {
     "data": {
      "text/html": [
       "<div>\n",
       "<style scoped>\n",
       "    .dataframe tbody tr th:only-of-type {\n",
       "        vertical-align: middle;\n",
       "    }\n",
       "\n",
       "    .dataframe tbody tr th {\n",
       "        vertical-align: top;\n",
       "    }\n",
       "\n",
       "    .dataframe thead th {\n",
       "        text-align: right;\n",
       "    }\n",
       "</style>\n",
       "<table border=\"1\" class=\"dataframe\">\n",
       "  <thead>\n",
       "    <tr style=\"text-align: right;\">\n",
       "      <th></th>\n",
       "      <th>hits</th>\n",
       "      <th>pageviews</th>\n",
       "      <th>Americas</th>\n",
       "      <th>US</th>\n",
       "    </tr>\n",
       "  </thead>\n",
       "  <tbody>\n",
       "    <tr>\n",
       "      <th>19913</th>\n",
       "      <td>1</td>\n",
       "      <td>1</td>\n",
       "      <td>1</td>\n",
       "      <td>1</td>\n",
       "    </tr>\n",
       "    <tr>\n",
       "      <th>15972</th>\n",
       "      <td>1</td>\n",
       "      <td>1</td>\n",
       "      <td>0</td>\n",
       "      <td>0</td>\n",
       "    </tr>\n",
       "    <tr>\n",
       "      <th>300815</th>\n",
       "      <td>20</td>\n",
       "      <td>15</td>\n",
       "      <td>1</td>\n",
       "      <td>1</td>\n",
       "    </tr>\n",
       "    <tr>\n",
       "      <th>887602</th>\n",
       "      <td>6</td>\n",
       "      <td>4</td>\n",
       "      <td>1</td>\n",
       "      <td>1</td>\n",
       "    </tr>\n",
       "    <tr>\n",
       "      <th>691738</th>\n",
       "      <td>1</td>\n",
       "      <td>1</td>\n",
       "      <td>0</td>\n",
       "      <td>0</td>\n",
       "    </tr>\n",
       "  </tbody>\n",
       "</table>\n",
       "</div>"
      ],
      "text/plain": [
       "        hits  pageviews  Americas  US\n",
       "19913      1          1         1   1\n",
       "15972      1          1         0   0\n",
       "300815    20         15         1   1\n",
       "887602     6          4         1   1\n",
       "691738     1          1         0   0"
      ]
     },
     "execution_count": 33,
     "metadata": {},
     "output_type": "execute_result"
    }
   ],
   "source": [
    "X_train_1.head()"
   ]
  },
  {
   "cell_type": "code",
   "execution_count": 34,
   "metadata": {},
   "outputs": [],
   "source": [
    "# Separate input features (X) and target value (y) for validation set\n",
    "y_val_1 = df_val.Buy\n",
    "X_val_1 = df_val.drop(['date', 'fullVisitorId', 'Buy',  'revenue', 'weekend', 'Referral', 'isMobile'], axis=1)"
   ]
  },
  {
   "cell_type": "code",
   "execution_count": 35,
   "metadata": {},
   "outputs": [
    {
     "data": {
      "text/plain": [
       "RandomForestClassifier(bootstrap=True, class_weight=None, criterion='gini',\n",
       "            max_depth=None, max_features='auto', max_leaf_nodes=None,\n",
       "            min_impurity_decrease=0.0, min_impurity_split=None,\n",
       "            min_samples_leaf=1, min_samples_split=2,\n",
       "            min_weight_fraction_leaf=0.0, n_estimators=10, n_jobs=1,\n",
       "            oob_score=False, random_state=1, verbose=0, warm_start=False)"
      ]
     },
     "execution_count": 35,
     "metadata": {},
     "output_type": "execute_result"
    }
   ],
   "source": [
    "# Train model\n",
    "clf_rf1 = RandomForestClassifier(random_state=1)\n",
    "clf_rf1.fit(X_train_1, y_train_1)"
   ]
  },
  {
   "cell_type": "code",
   "execution_count": 36,
   "metadata": {},
   "outputs": [],
   "source": [
    "# Predict on training set\n",
    "pred_y_train_1 = clf_rf1.predict(X_train_1)\n",
    "\n",
    "# Predict on validation set\n",
    "pred_y_val_1 = clf_rf1.predict(X_val_1)"
   ]
  },
  {
   "cell_type": "code",
   "execution_count": 37,
   "metadata": {},
   "outputs": [
    {
     "data": {
      "text/plain": [
       "[('hits', 0.29291224520563208),\n",
       " ('pageviews', 0.67902630132170649),\n",
       " ('Americas', 0.015532863136854175),\n",
       " ('US', 0.012528590335807286)]"
      ]
     },
     "execution_count": 37,
     "metadata": {},
     "output_type": "execute_result"
    }
   ],
   "source": [
    "# View a list of the features and their importance scores\n",
    "\n",
    "list(zip(X_train_1, clf_rf1.feature_importances_))"
   ]
  },
  {
   "cell_type": "code",
   "execution_count": 38,
   "metadata": {},
   "outputs": [
    {
     "name": "stdout",
     "output_type": "stream",
     "text": [
      "Confusion matrix for training set is \n",
      " [[629933  39170]\n",
      " [  9718 659385]].\n",
      "Confusion matrix for validation accuracy is \n",
      " [[2702  177]\n",
      " [ 260 2619]].\n"
     ]
    }
   ],
   "source": [
    "# Calculate confusion matrix\n",
    "print('Confusion matrix for training set is \\n {0}.'.format(confusion_matrix(y_train_1, pred_y_train_1)))\n",
    "print('Confusion matrix for validation accuracy is \\n {0}.'.format(confusion_matrix(y_val_1, pred_y_val_1)))"
   ]
  },
  {
   "cell_type": "code",
   "execution_count": 39,
   "metadata": {},
   "outputs": [
    {
     "name": "stdout",
     "output_type": "stream",
     "text": [
      "Precision for training set is 0.9439271066701977.\n",
      "Precision for validation set is 0.9366952789699571.\n"
     ]
    }
   ],
   "source": [
    "# Calculate precision score\n",
    "print('Precision for training set is {}.'.format(precision_score(y_train_1, pred_y_train_1)))\n",
    "print('Precision for validation set is {}.'.format(precision_score(y_val_1, pred_y_val_1)))"
   ]
  },
  {
   "cell_type": "code",
   "execution_count": 40,
   "metadata": {},
   "outputs": [
    {
     "name": "stdout",
     "output_type": "stream",
     "text": [
      "Recall for training set is 0.9854760776741398.\n",
      "Recall for validation set is 0.9096908648836401.\n"
     ]
    }
   ],
   "source": [
    "# Calculate recall score\n",
    "print('Recall for training set is {}.'.format(recall_score(y_train_1, pred_y_train_1)))\n",
    "print('Recall for validation set is {}.'.format(recall_score(y_val_1, pred_y_val_1)))"
   ]
  },
  {
   "cell_type": "markdown",
   "metadata": {},
   "source": [
    "As we can see above, we obtained better recall for validation set and less overfitting. "
   ]
  },
  {
   "cell_type": "code",
   "execution_count": 41,
   "metadata": {},
   "outputs": [],
   "source": [
    "# delete temporary DataFrames\n",
    "del X_train, X_val, y_train, y_val"
   ]
  },
  {
   "cell_type": "markdown",
   "metadata": {},
   "source": [
    "\n",
    "## 2.2 Predict Transaction Revenue per Visit\n",
    "\n",
    "After classification, we can predict whether customers will purchase products or not. **For those who will not buy things in GStore, we can set transaction revenue per visit as 0**. For those who purchase products, **we use statistical models for time series to predict the transaction revenue per visit**."
   ]
  },
  {
   "cell_type": "code",
   "execution_count": 42,
   "metadata": {},
   "outputs": [
    {
     "data": {
      "text/html": [
       "<div>\n",
       "<style scoped>\n",
       "    .dataframe tbody tr th:only-of-type {\n",
       "        vertical-align: middle;\n",
       "    }\n",
       "\n",
       "    .dataframe tbody tr th {\n",
       "        vertical-align: top;\n",
       "    }\n",
       "\n",
       "    .dataframe thead th {\n",
       "        text-align: right;\n",
       "    }\n",
       "</style>\n",
       "<table border=\"1\" class=\"dataframe\">\n",
       "  <thead>\n",
       "    <tr style=\"text-align: right;\">\n",
       "      <th></th>\n",
       "      <th>date</th>\n",
       "      <th>fullVisitorId</th>\n",
       "      <th>hits</th>\n",
       "      <th>pageviews</th>\n",
       "      <th>revenue</th>\n",
       "      <th>Buy</th>\n",
       "      <th>isMobile</th>\n",
       "      <th>weekend</th>\n",
       "      <th>Referral</th>\n",
       "      <th>Americas</th>\n",
       "      <th>US</th>\n",
       "    </tr>\n",
       "  </thead>\n",
       "  <tbody>\n",
       "    <tr>\n",
       "      <th>752</th>\n",
       "      <td>2016-09-02</td>\n",
       "      <td>6194193421514403509</td>\n",
       "      <td>11</td>\n",
       "      <td>11</td>\n",
       "      <td>37860000</td>\n",
       "      <td>1</td>\n",
       "      <td>0</td>\n",
       "      <td>0</td>\n",
       "      <td>0</td>\n",
       "      <td>1</td>\n",
       "      <td>1</td>\n",
       "    </tr>\n",
       "    <tr>\n",
       "      <th>753</th>\n",
       "      <td>2016-09-02</td>\n",
       "      <td>5327166854580374902</td>\n",
       "      <td>11</td>\n",
       "      <td>10</td>\n",
       "      <td>306670000</td>\n",
       "      <td>1</td>\n",
       "      <td>0</td>\n",
       "      <td>0</td>\n",
       "      <td>0</td>\n",
       "      <td>1</td>\n",
       "      <td>1</td>\n",
       "    </tr>\n",
       "    <tr>\n",
       "      <th>799</th>\n",
       "      <td>2016-09-02</td>\n",
       "      <td>8885051388942907862</td>\n",
       "      <td>13</td>\n",
       "      <td>11</td>\n",
       "      <td>68030000</td>\n",
       "      <td>1</td>\n",
       "      <td>0</td>\n",
       "      <td>0</td>\n",
       "      <td>1</td>\n",
       "      <td>1</td>\n",
       "      <td>1</td>\n",
       "    </tr>\n",
       "    <tr>\n",
       "      <th>802</th>\n",
       "      <td>2016-09-02</td>\n",
       "      <td>0185467632009737931</td>\n",
       "      <td>13</td>\n",
       "      <td>12</td>\n",
       "      <td>26250000</td>\n",
       "      <td>1</td>\n",
       "      <td>0</td>\n",
       "      <td>0</td>\n",
       "      <td>1</td>\n",
       "      <td>1</td>\n",
       "      <td>1</td>\n",
       "    </tr>\n",
       "    <tr>\n",
       "      <th>859</th>\n",
       "      <td>2016-09-02</td>\n",
       "      <td>3244885836845029978</td>\n",
       "      <td>17</td>\n",
       "      <td>14</td>\n",
       "      <td>574150000</td>\n",
       "      <td>1</td>\n",
       "      <td>0</td>\n",
       "      <td>0</td>\n",
       "      <td>1</td>\n",
       "      <td>1</td>\n",
       "      <td>1</td>\n",
       "    </tr>\n",
       "  </tbody>\n",
       "</table>\n",
       "</div>"
      ],
      "text/plain": [
       "          date        fullVisitorId  hits  pageviews    revenue  Buy  \\\n",
       "752 2016-09-02  6194193421514403509    11         11   37860000    1   \n",
       "753 2016-09-02  5327166854580374902    11         10  306670000    1   \n",
       "799 2016-09-02  8885051388942907862    13         11   68030000    1   \n",
       "802 2016-09-02  0185467632009737931    13         12   26250000    1   \n",
       "859 2016-09-02  3244885836845029978    17         14  574150000    1   \n",
       "\n",
       "     isMobile  weekend  Referral  Americas  US  \n",
       "752         0        0         0         1   1  \n",
       "753         0        0         0         1   1  \n",
       "799         0        0         1         1   1  \n",
       "802         0        0         1         1   1  \n",
       "859         0        0         1         1   1  "
      ]
     },
     "execution_count": 42,
     "metadata": {},
     "output_type": "execute_result"
    }
   ],
   "source": [
    "df_buy = df[df['Buy']==1]\n",
    "df_buy.head()"
   ]
  },
  {
   "cell_type": "code",
   "execution_count": 43,
   "metadata": {},
   "outputs": [
    {
     "data": {
      "text/plain": [
       "date             datetime64[ns]\n",
       "fullVisitorId            object\n",
       "hits                      int64\n",
       "pageviews                 int64\n",
       "revenue                   int64\n",
       "Buy                       int64\n",
       "isMobile                  int64\n",
       "weekend                   int64\n",
       "Referral                  int64\n",
       "Americas                  int64\n",
       "US                        int64\n",
       "dtype: object"
      ]
     },
     "execution_count": 43,
     "metadata": {},
     "output_type": "execute_result"
    }
   ],
   "source": [
    "df_buy.dtypes"
   ]
  },
  {
   "cell_type": "code",
   "execution_count": 44,
   "metadata": {},
   "outputs": [],
   "source": [
    "df_time = df_buy[['date', 'revenue']]"
   ]
  },
  {
   "cell_type": "code",
   "execution_count": 45,
   "metadata": {},
   "outputs": [],
   "source": [
    "del df_buy"
   ]
  },
  {
   "cell_type": "code",
   "execution_count": 46,
   "metadata": {},
   "outputs": [
    {
     "data": {
      "text/html": [
       "<div>\n",
       "<style scoped>\n",
       "    .dataframe tbody tr th:only-of-type {\n",
       "        vertical-align: middle;\n",
       "    }\n",
       "\n",
       "    .dataframe tbody tr th {\n",
       "        vertical-align: top;\n",
       "    }\n",
       "\n",
       "    .dataframe thead th {\n",
       "        text-align: right;\n",
       "    }\n",
       "</style>\n",
       "<table border=\"1\" class=\"dataframe\">\n",
       "  <thead>\n",
       "    <tr style=\"text-align: right;\">\n",
       "      <th></th>\n",
       "      <th>date</th>\n",
       "      <th>revenue</th>\n",
       "    </tr>\n",
       "  </thead>\n",
       "  <tbody>\n",
       "    <tr>\n",
       "      <th>752</th>\n",
       "      <td>2016-09-02</td>\n",
       "      <td>37860000</td>\n",
       "    </tr>\n",
       "    <tr>\n",
       "      <th>753</th>\n",
       "      <td>2016-09-02</td>\n",
       "      <td>306670000</td>\n",
       "    </tr>\n",
       "    <tr>\n",
       "      <th>799</th>\n",
       "      <td>2016-09-02</td>\n",
       "      <td>68030000</td>\n",
       "    </tr>\n",
       "    <tr>\n",
       "      <th>802</th>\n",
       "      <td>2016-09-02</td>\n",
       "      <td>26250000</td>\n",
       "    </tr>\n",
       "    <tr>\n",
       "      <th>859</th>\n",
       "      <td>2016-09-02</td>\n",
       "      <td>574150000</td>\n",
       "    </tr>\n",
       "  </tbody>\n",
       "</table>\n",
       "</div>"
      ],
      "text/plain": [
       "          date    revenue\n",
       "752 2016-09-02   37860000\n",
       "753 2016-09-02  306670000\n",
       "799 2016-09-02   68030000\n",
       "802 2016-09-02   26250000\n",
       "859 2016-09-02  574150000"
      ]
     },
     "execution_count": 46,
     "metadata": {},
     "output_type": "execute_result"
    }
   ],
   "source": [
    "df_time.head()"
   ]
  },
  {
   "cell_type": "code",
   "execution_count": 47,
   "metadata": {},
   "outputs": [
    {
     "data": {
      "text/html": [
       "<div>\n",
       "<style scoped>\n",
       "    .dataframe tbody tr th:only-of-type {\n",
       "        vertical-align: middle;\n",
       "    }\n",
       "\n",
       "    .dataframe tbody tr th {\n",
       "        vertical-align: top;\n",
       "    }\n",
       "\n",
       "    .dataframe thead th {\n",
       "        text-align: right;\n",
       "    }\n",
       "</style>\n",
       "<table border=\"1\" class=\"dataframe\">\n",
       "  <thead>\n",
       "    <tr style=\"text-align: right;\">\n",
       "      <th></th>\n",
       "      <th>revenue</th>\n",
       "    </tr>\n",
       "    <tr>\n",
       "      <th>date</th>\n",
       "      <th></th>\n",
       "    </tr>\n",
       "  </thead>\n",
       "  <tbody>\n",
       "    <tr>\n",
       "      <th>2016-08-01</th>\n",
       "      <td>1.798841e+08</td>\n",
       "    </tr>\n",
       "    <tr>\n",
       "      <th>2016-08-02</th>\n",
       "      <td>8.007000e+07</td>\n",
       "    </tr>\n",
       "    <tr>\n",
       "      <th>2016-08-04</th>\n",
       "      <td>6.958176e+07</td>\n",
       "    </tr>\n",
       "    <tr>\n",
       "      <th>2016-08-05</th>\n",
       "      <td>1.364454e+08</td>\n",
       "    </tr>\n",
       "    <tr>\n",
       "      <th>2016-08-06</th>\n",
       "      <td>1.891040e+08</td>\n",
       "    </tr>\n",
       "  </tbody>\n",
       "</table>\n",
       "</div>"
      ],
      "text/plain": [
       "                 revenue\n",
       "date                    \n",
       "2016-08-01  1.798841e+08\n",
       "2016-08-02  8.007000e+07\n",
       "2016-08-04  6.958176e+07\n",
       "2016-08-05  1.364454e+08\n",
       "2016-08-06  1.891040e+08"
      ]
     },
     "execution_count": 47,
     "metadata": {},
     "output_type": "execute_result"
    }
   ],
   "source": [
    "# Calculate average transaction revenue per visit\n",
    "Time_series = df_time.groupby('date').mean()\n",
    "Time_series.head()"
   ]
  },
  {
   "cell_type": "code",
   "execution_count": 48,
   "metadata": {},
   "outputs": [],
   "source": [
    "del df_time"
   ]
  },
  {
   "cell_type": "code",
   "execution_count": 49,
   "metadata": {
    "scrolled": true
   },
   "outputs": [
    {
     "data": {
      "text/html": [
       "<div>\n",
       "<style scoped>\n",
       "    .dataframe tbody tr th:only-of-type {\n",
       "        vertical-align: middle;\n",
       "    }\n",
       "\n",
       "    .dataframe tbody tr th {\n",
       "        vertical-align: top;\n",
       "    }\n",
       "\n",
       "    .dataframe thead th {\n",
       "        text-align: right;\n",
       "    }\n",
       "</style>\n",
       "<table border=\"1\" class=\"dataframe\">\n",
       "  <thead>\n",
       "    <tr style=\"text-align: right;\">\n",
       "      <th></th>\n",
       "      <th>date</th>\n",
       "      <th>revenue</th>\n",
       "    </tr>\n",
       "  </thead>\n",
       "  <tbody>\n",
       "    <tr>\n",
       "      <th>0</th>\n",
       "      <td>2016-08-01</td>\n",
       "      <td>1.798841e+08</td>\n",
       "    </tr>\n",
       "    <tr>\n",
       "      <th>1</th>\n",
       "      <td>2016-08-02</td>\n",
       "      <td>8.007000e+07</td>\n",
       "    </tr>\n",
       "    <tr>\n",
       "      <th>2</th>\n",
       "      <td>2016-08-04</td>\n",
       "      <td>6.958176e+07</td>\n",
       "    </tr>\n",
       "    <tr>\n",
       "      <th>3</th>\n",
       "      <td>2016-08-05</td>\n",
       "      <td>1.364454e+08</td>\n",
       "    </tr>\n",
       "    <tr>\n",
       "      <th>4</th>\n",
       "      <td>2016-08-06</td>\n",
       "      <td>1.891040e+08</td>\n",
       "    </tr>\n",
       "    <tr>\n",
       "      <th>5</th>\n",
       "      <td>2016-08-07</td>\n",
       "      <td>1.506706e+08</td>\n",
       "    </tr>\n",
       "    <tr>\n",
       "      <th>6</th>\n",
       "      <td>2016-08-08</td>\n",
       "      <td>1.551121e+08</td>\n",
       "    </tr>\n",
       "    <tr>\n",
       "      <th>7</th>\n",
       "      <td>2016-08-09</td>\n",
       "      <td>1.332476e+08</td>\n",
       "    </tr>\n",
       "    <tr>\n",
       "      <th>8</th>\n",
       "      <td>2016-08-10</td>\n",
       "      <td>9.313500e+07</td>\n",
       "    </tr>\n",
       "    <tr>\n",
       "      <th>9</th>\n",
       "      <td>2016-08-11</td>\n",
       "      <td>1.650471e+08</td>\n",
       "    </tr>\n",
       "    <tr>\n",
       "      <th>10</th>\n",
       "      <td>2016-08-12</td>\n",
       "      <td>1.139604e+08</td>\n",
       "    </tr>\n",
       "    <tr>\n",
       "      <th>11</th>\n",
       "      <td>2016-08-13</td>\n",
       "      <td>1.570507e+08</td>\n",
       "    </tr>\n",
       "    <tr>\n",
       "      <th>12</th>\n",
       "      <td>2016-08-14</td>\n",
       "      <td>1.461091e+08</td>\n",
       "    </tr>\n",
       "    <tr>\n",
       "      <th>13</th>\n",
       "      <td>2016-08-15</td>\n",
       "      <td>9.569738e+07</td>\n",
       "    </tr>\n",
       "    <tr>\n",
       "      <th>14</th>\n",
       "      <td>2016-08-16</td>\n",
       "      <td>9.868288e+07</td>\n",
       "    </tr>\n",
       "    <tr>\n",
       "      <th>15</th>\n",
       "      <td>2016-08-17</td>\n",
       "      <td>1.781222e+08</td>\n",
       "    </tr>\n",
       "    <tr>\n",
       "      <th>16</th>\n",
       "      <td>2016-08-18</td>\n",
       "      <td>1.425723e+08</td>\n",
       "    </tr>\n",
       "    <tr>\n",
       "      <th>17</th>\n",
       "      <td>2016-08-19</td>\n",
       "      <td>6.934600e+07</td>\n",
       "    </tr>\n",
       "    <tr>\n",
       "      <th>18</th>\n",
       "      <td>2016-08-20</td>\n",
       "      <td>1.544300e+08</td>\n",
       "    </tr>\n",
       "    <tr>\n",
       "      <th>19</th>\n",
       "      <td>2016-08-21</td>\n",
       "      <td>1.028396e+08</td>\n",
       "    </tr>\n",
       "    <tr>\n",
       "      <th>20</th>\n",
       "      <td>2016-08-22</td>\n",
       "      <td>1.893305e+08</td>\n",
       "    </tr>\n",
       "    <tr>\n",
       "      <th>21</th>\n",
       "      <td>2016-08-23</td>\n",
       "      <td>1.688719e+08</td>\n",
       "    </tr>\n",
       "    <tr>\n",
       "      <th>22</th>\n",
       "      <td>2016-08-24</td>\n",
       "      <td>1.198385e+08</td>\n",
       "    </tr>\n",
       "    <tr>\n",
       "      <th>23</th>\n",
       "      <td>2016-08-25</td>\n",
       "      <td>2.771969e+08</td>\n",
       "    </tr>\n",
       "    <tr>\n",
       "      <th>24</th>\n",
       "      <td>2016-08-26</td>\n",
       "      <td>1.261246e+08</td>\n",
       "    </tr>\n",
       "    <tr>\n",
       "      <th>25</th>\n",
       "      <td>2016-08-27</td>\n",
       "      <td>6.100533e+07</td>\n",
       "    </tr>\n",
       "    <tr>\n",
       "      <th>26</th>\n",
       "      <td>2016-08-28</td>\n",
       "      <td>1.406600e+08</td>\n",
       "    </tr>\n",
       "    <tr>\n",
       "      <th>27</th>\n",
       "      <td>2016-08-29</td>\n",
       "      <td>1.533356e+08</td>\n",
       "    </tr>\n",
       "    <tr>\n",
       "      <th>28</th>\n",
       "      <td>2016-08-30</td>\n",
       "      <td>8.481500e+07</td>\n",
       "    </tr>\n",
       "    <tr>\n",
       "      <th>29</th>\n",
       "      <td>2016-08-31</td>\n",
       "      <td>1.207162e+08</td>\n",
       "    </tr>\n",
       "    <tr>\n",
       "      <th>...</th>\n",
       "      <td>...</td>\n",
       "      <td>...</td>\n",
       "    </tr>\n",
       "    <tr>\n",
       "      <th>335</th>\n",
       "      <td>2017-07-03</td>\n",
       "      <td>9.429308e+07</td>\n",
       "    </tr>\n",
       "    <tr>\n",
       "      <th>336</th>\n",
       "      <td>2017-07-04</td>\n",
       "      <td>5.428286e+07</td>\n",
       "    </tr>\n",
       "    <tr>\n",
       "      <th>337</th>\n",
       "      <td>2017-07-05</td>\n",
       "      <td>1.958380e+08</td>\n",
       "    </tr>\n",
       "    <tr>\n",
       "      <th>338</th>\n",
       "      <td>2017-07-06</td>\n",
       "      <td>1.294617e+08</td>\n",
       "    </tr>\n",
       "    <tr>\n",
       "      <th>339</th>\n",
       "      <td>2017-07-07</td>\n",
       "      <td>1.141847e+08</td>\n",
       "    </tr>\n",
       "    <tr>\n",
       "      <th>340</th>\n",
       "      <td>2017-07-08</td>\n",
       "      <td>3.249714e+07</td>\n",
       "    </tr>\n",
       "    <tr>\n",
       "      <th>341</th>\n",
       "      <td>2017-07-09</td>\n",
       "      <td>3.953158e+07</td>\n",
       "    </tr>\n",
       "    <tr>\n",
       "      <th>342</th>\n",
       "      <td>2017-07-10</td>\n",
       "      <td>1.072289e+08</td>\n",
       "    </tr>\n",
       "    <tr>\n",
       "      <th>343</th>\n",
       "      <td>2017-07-11</td>\n",
       "      <td>1.342410e+08</td>\n",
       "    </tr>\n",
       "    <tr>\n",
       "      <th>344</th>\n",
       "      <td>2017-07-12</td>\n",
       "      <td>6.561125e+07</td>\n",
       "    </tr>\n",
       "    <tr>\n",
       "      <th>345</th>\n",
       "      <td>2017-07-13</td>\n",
       "      <td>9.836419e+07</td>\n",
       "    </tr>\n",
       "    <tr>\n",
       "      <th>346</th>\n",
       "      <td>2017-07-14</td>\n",
       "      <td>9.611000e+07</td>\n",
       "    </tr>\n",
       "    <tr>\n",
       "      <th>347</th>\n",
       "      <td>2017-07-15</td>\n",
       "      <td>4.629500e+07</td>\n",
       "    </tr>\n",
       "    <tr>\n",
       "      <th>348</th>\n",
       "      <td>2017-07-16</td>\n",
       "      <td>6.476741e+07</td>\n",
       "    </tr>\n",
       "    <tr>\n",
       "      <th>349</th>\n",
       "      <td>2017-07-17</td>\n",
       "      <td>9.421980e+07</td>\n",
       "    </tr>\n",
       "    <tr>\n",
       "      <th>350</th>\n",
       "      <td>2017-07-18</td>\n",
       "      <td>3.400592e+08</td>\n",
       "    </tr>\n",
       "    <tr>\n",
       "      <th>351</th>\n",
       "      <td>2017-07-19</td>\n",
       "      <td>1.078268e+08</td>\n",
       "    </tr>\n",
       "    <tr>\n",
       "      <th>352</th>\n",
       "      <td>2017-07-20</td>\n",
       "      <td>1.172175e+08</td>\n",
       "    </tr>\n",
       "    <tr>\n",
       "      <th>353</th>\n",
       "      <td>2017-07-21</td>\n",
       "      <td>8.789951e+07</td>\n",
       "    </tr>\n",
       "    <tr>\n",
       "      <th>354</th>\n",
       "      <td>2017-07-22</td>\n",
       "      <td>1.408824e+08</td>\n",
       "    </tr>\n",
       "    <tr>\n",
       "      <th>355</th>\n",
       "      <td>2017-07-23</td>\n",
       "      <td>1.404325e+08</td>\n",
       "    </tr>\n",
       "    <tr>\n",
       "      <th>356</th>\n",
       "      <td>2017-07-24</td>\n",
       "      <td>1.162005e+08</td>\n",
       "    </tr>\n",
       "    <tr>\n",
       "      <th>357</th>\n",
       "      <td>2017-07-25</td>\n",
       "      <td>1.455758e+08</td>\n",
       "    </tr>\n",
       "    <tr>\n",
       "      <th>358</th>\n",
       "      <td>2017-07-26</td>\n",
       "      <td>1.131817e+08</td>\n",
       "    </tr>\n",
       "    <tr>\n",
       "      <th>359</th>\n",
       "      <td>2017-07-27</td>\n",
       "      <td>8.874245e+07</td>\n",
       "    </tr>\n",
       "    <tr>\n",
       "      <th>360</th>\n",
       "      <td>2017-07-28</td>\n",
       "      <td>1.121295e+08</td>\n",
       "    </tr>\n",
       "    <tr>\n",
       "      <th>361</th>\n",
       "      <td>2017-07-29</td>\n",
       "      <td>5.500053e+07</td>\n",
       "    </tr>\n",
       "    <tr>\n",
       "      <th>362</th>\n",
       "      <td>2017-07-30</td>\n",
       "      <td>1.024618e+08</td>\n",
       "    </tr>\n",
       "    <tr>\n",
       "      <th>363</th>\n",
       "      <td>2017-07-31</td>\n",
       "      <td>1.871384e+08</td>\n",
       "    </tr>\n",
       "    <tr>\n",
       "      <th>364</th>\n",
       "      <td>2017-08-01</td>\n",
       "      <td>1.931381e+08</td>\n",
       "    </tr>\n",
       "  </tbody>\n",
       "</table>\n",
       "<p>365 rows × 2 columns</p>\n",
       "</div>"
      ],
      "text/plain": [
       "          date       revenue\n",
       "0   2016-08-01  1.798841e+08\n",
       "1   2016-08-02  8.007000e+07\n",
       "2   2016-08-04  6.958176e+07\n",
       "3   2016-08-05  1.364454e+08\n",
       "4   2016-08-06  1.891040e+08\n",
       "5   2016-08-07  1.506706e+08\n",
       "6   2016-08-08  1.551121e+08\n",
       "7   2016-08-09  1.332476e+08\n",
       "8   2016-08-10  9.313500e+07\n",
       "9   2016-08-11  1.650471e+08\n",
       "10  2016-08-12  1.139604e+08\n",
       "11  2016-08-13  1.570507e+08\n",
       "12  2016-08-14  1.461091e+08\n",
       "13  2016-08-15  9.569738e+07\n",
       "14  2016-08-16  9.868288e+07\n",
       "15  2016-08-17  1.781222e+08\n",
       "16  2016-08-18  1.425723e+08\n",
       "17  2016-08-19  6.934600e+07\n",
       "18  2016-08-20  1.544300e+08\n",
       "19  2016-08-21  1.028396e+08\n",
       "20  2016-08-22  1.893305e+08\n",
       "21  2016-08-23  1.688719e+08\n",
       "22  2016-08-24  1.198385e+08\n",
       "23  2016-08-25  2.771969e+08\n",
       "24  2016-08-26  1.261246e+08\n",
       "25  2016-08-27  6.100533e+07\n",
       "26  2016-08-28  1.406600e+08\n",
       "27  2016-08-29  1.533356e+08\n",
       "28  2016-08-30  8.481500e+07\n",
       "29  2016-08-31  1.207162e+08\n",
       "..         ...           ...\n",
       "335 2017-07-03  9.429308e+07\n",
       "336 2017-07-04  5.428286e+07\n",
       "337 2017-07-05  1.958380e+08\n",
       "338 2017-07-06  1.294617e+08\n",
       "339 2017-07-07  1.141847e+08\n",
       "340 2017-07-08  3.249714e+07\n",
       "341 2017-07-09  3.953158e+07\n",
       "342 2017-07-10  1.072289e+08\n",
       "343 2017-07-11  1.342410e+08\n",
       "344 2017-07-12  6.561125e+07\n",
       "345 2017-07-13  9.836419e+07\n",
       "346 2017-07-14  9.611000e+07\n",
       "347 2017-07-15  4.629500e+07\n",
       "348 2017-07-16  6.476741e+07\n",
       "349 2017-07-17  9.421980e+07\n",
       "350 2017-07-18  3.400592e+08\n",
       "351 2017-07-19  1.078268e+08\n",
       "352 2017-07-20  1.172175e+08\n",
       "353 2017-07-21  8.789951e+07\n",
       "354 2017-07-22  1.408824e+08\n",
       "355 2017-07-23  1.404325e+08\n",
       "356 2017-07-24  1.162005e+08\n",
       "357 2017-07-25  1.455758e+08\n",
       "358 2017-07-26  1.131817e+08\n",
       "359 2017-07-27  8.874245e+07\n",
       "360 2017-07-28  1.121295e+08\n",
       "361 2017-07-29  5.500053e+07\n",
       "362 2017-07-30  1.024618e+08\n",
       "363 2017-07-31  1.871384e+08\n",
       "364 2017-08-01  1.931381e+08\n",
       "\n",
       "[365 rows x 2 columns]"
      ]
     },
     "execution_count": 49,
     "metadata": {},
     "output_type": "execute_result"
    }
   ],
   "source": [
    "# Reset the index\n",
    "Time_series.reset_index()"
   ]
  },
  {
   "cell_type": "code",
   "execution_count": 50,
   "metadata": {},
   "outputs": [
    {
     "data": {
      "image/png": "[encoded data removed]",
      "text/plain": [
       "<matplotlib.figure.Figure at 0x7f7118f992b0>"
      ]
     },
     "metadata": {},
     "output_type": "display_data"
    }
   ],
   "source": [
    "# Plot the time series\n",
    "Time_series.plot(rot=45)\n",
    "plt.ylabel('transaction revenue per visit')\n",
    "plt.show()"
   ]
  },
  {
   "cell_type": "markdown",
   "metadata": {},
   "source": [
    "### 1. Box-Jenkins Analysis\n",
    "\n",
    "We use Box-Jenkins Analysis to help us construct statistical model for time series.\n",
    "\n",
    "First, let's look at **Autocorrelation Function (ACF)** to help observe linear relationships between lagged values of a time series. "
   ]
  },
  {
   "cell_type": "code",
   "execution_count": 51,
   "metadata": {},
   "outputs": [],
   "source": [
    "from statsmodels.graphics.tsaplots import plot_acf"
   ]
  },
  {
   "cell_type": "code",
   "execution_count": 52,
   "metadata": {},
   "outputs": [
    {
     "data": {
      "image/png": "[encoded data removed]",
      "text/plain": [
       "<matplotlib.figure.Figure at 0x7f70f21d0940>"
      ]
     },
     "metadata": {},
     "output_type": "display_data"
    }
   ],
   "source": [
    "# Plot ACF \n",
    "plot_acf(Time_series['revenue'], lags=40)\n",
    "plt.xlabel('Lag')\n",
    "plt.show()"
   ]
  },
  {
   "cell_type": "markdown",
   "metadata": {},
   "source": [
    "Note that the light blue shaded area is confidence intervals. By default, this is set to a 95% confidence interval. From above ACF plot, there's no slowly decay as lags increase. This implies that there's no trend. \n",
    "\n",
    "Next, we consider **partial autocorrelation function (PACF)**."
   ]
  },
  {
   "cell_type": "code",
   "execution_count": 53,
   "metadata": {},
   "outputs": [
    {
     "data": {
      "image/png": "[encoded data removed]",
      "text/plain": [
       "<matplotlib.figure.Figure at 0x7f70f219d630>"
      ]
     },
     "metadata": {},
     "output_type": "display_data"
    }
   ],
   "source": [
    "from statsmodels.graphics.tsaplots import plot_pacf\n",
    "plot_pacf(Time_series['revenue'], lags=40)\n",
    "plt.xlabel('Lag')\n",
    "plt.show()"
   ]
  },
  {
   "cell_type": "markdown",
   "metadata": {},
   "source": [
    "### Differencing\n",
    "\n",
    "Next, we apply differencing $Y_t = X_t - X_{t-1}$, where $t$ is date, 1 is the seasonal period, and $X$ denotes the original data. This differencing is called a **lag-1 difference**."
   ]
  },
  {
   "cell_type": "code",
   "execution_count": 54,
   "metadata": {},
   "outputs": [
    {
     "data": {
      "image/png": "[encoded data removed]",
      "text/plain": [
       "<matplotlib.figure.Figure at 0x7f70f216f358>"
      ]
     },
     "metadata": {},
     "output_type": "display_data"
    }
   ],
   "source": [
    "diff1 = Time_series.diff(periods=1)\n",
    "diff1.dropna(inplace=True)\n",
    "plt.plot(diff1)\n",
    "plt.xticks([])\n",
    "plt.show()"
   ]
  },
  {
   "cell_type": "markdown",
   "metadata": {},
   "source": [
    "After applying differencing, the time series looks approximately stationary (at least the mean and variance are more-or-less constant)."
   ]
  },
  {
   "cell_type": "code",
   "execution_count": 55,
   "metadata": {},
   "outputs": [
    {
     "data": {
      "image/png": "[encoded data removed]",
      "text/plain": [
       "<matplotlib.figure.Figure at 0x7f70f219db38>"
      ]
     },
     "metadata": {},
     "output_type": "display_data"
    }
   ],
   "source": [
    "# Plot ACF \n",
    "plot_acf(diff1, lags=40)\n",
    "plt.xlabel('Lag')\n",
    "plt.show()"
   ]
  },
  {
   "cell_type": "code",
   "execution_count": 56,
   "metadata": {},
   "outputs": [
    {
     "data": {
      "image/png": "[encoded data removed]",
      "text/plain": [
       "<matplotlib.figure.Figure at 0x7f70f20f10f0>"
      ]
     },
     "metadata": {},
     "output_type": "display_data"
    }
   ],
   "source": [
    "# Plot PACF \n",
    "plot_pacf(diff1, lags=40)\n",
    "plt.xlabel('Lag')\n",
    "plt.show()"
   ]
  },
  {
   "cell_type": "markdown",
   "metadata": {},
   "source": [
    "From above ACF and PACF plots, they indicate the time series $Y_t$ suitable for **Moving Average Time Series Model with 1 moving-average term**, or `MA(1)`:\n",
    "\n",
    "$$ Y_t = \\beta_1 E_{t-1} + E_t$$\n",
    "\n",
    "where $E_t$ is an error term at time instance $t$. In `MA(1)`, the current observation depends only to the error in the previous time instance and the current error.\n",
    "\n",
    "Since $Y_t = X_t - X_{t-1}$, the above equation leads to\n",
    "\n",
    "$$ X_t - X_{t-1} = \\beta_1 E_{t-1} + E_t \\Rightarrow X_t = X_{t-1} + \\beta_1 E_{t-1} + E_t $$\n",
    "\n",
    "Hence, we use **ARMA model (mix AR and MA models)**, where `AR` means **A**uto**r**egressive Time Series Model. That is, we implement `ARMA(a,m)` in `statsmodels` library with $a = 1$ and $m=1$."
   ]
  },
  {
   "cell_type": "markdown",
   "metadata": {},
   "source": [
    "### 2. Splitting the data into training and validation parts\n",
    "\n",
    "We will divide our data in train and vaidation sets, and make a model on the train set and predict on the validation set to check the accuracy of our predictions."
   ]
  },
  {
   "cell_type": "code",
   "execution_count": 57,
   "metadata": {},
   "outputs": [],
   "source": [
    "Train = Time_series.ix['2016-08-04':'2017-04-30']\n",
    "\n",
    "# Select the last 3 months for the validation data\n",
    "Valid = Time_series.ix['2017-05-01':'2017-08-01']"
   ]
  },
  {
   "cell_type": "code",
   "execution_count": 58,
   "metadata": {},
   "outputs": [
    {
     "data": {
      "text/plain": [
       "DatetimeIndex(['2016-08-04', '2016-08-05', '2016-08-06', '2016-08-07',\n",
       "               '2016-08-08', '2016-08-09', '2016-08-10', '2016-08-11',\n",
       "               '2016-08-12', '2016-08-13',\n",
       "               ...\n",
       "               '2017-04-21', '2017-04-22', '2017-04-23', '2017-04-24',\n",
       "               '2017-04-25', '2017-04-26', '2017-04-27', '2017-04-28',\n",
       "               '2017-04-29', '2017-04-30'],\n",
       "              dtype='datetime64[ns]', name='date', length=270, freq=None)"
      ]
     },
     "execution_count": 58,
     "metadata": {},
     "output_type": "execute_result"
    }
   ],
   "source": [
    "Train.index"
   ]
  },
  {
   "cell_type": "code",
   "execution_count": 59,
   "metadata": {},
   "outputs": [
    {
     "data": {
      "text/plain": [
       "DatetimeIndex(['2017-05-01', '2017-05-02', '2017-05-03', '2017-05-04',\n",
       "               '2017-05-05', '2017-05-06', '2017-05-07', '2017-05-08',\n",
       "               '2017-05-09', '2017-05-10', '2017-05-11', '2017-05-12',\n",
       "               '2017-05-13', '2017-05-14', '2017-05-15', '2017-05-16',\n",
       "               '2017-05-17', '2017-05-18', '2017-05-19', '2017-05-20',\n",
       "               '2017-05-21', '2017-05-22', '2017-05-23', '2017-05-24',\n",
       "               '2017-05-25', '2017-05-26', '2017-05-27', '2017-05-28',\n",
       "               '2017-05-29', '2017-05-30', '2017-05-31', '2017-06-01',\n",
       "               '2017-06-02', '2017-06-03', '2017-06-04', '2017-06-05',\n",
       "               '2017-06-06', '2017-06-07', '2017-06-08', '2017-06-09',\n",
       "               '2017-06-10', '2017-06-11', '2017-06-12', '2017-06-13',\n",
       "               '2017-06-14', '2017-06-15', '2017-06-16', '2017-06-17',\n",
       "               '2017-06-18', '2017-06-19', '2017-06-20', '2017-06-21',\n",
       "               '2017-06-22', '2017-06-23', '2017-06-24', '2017-06-25',\n",
       "               '2017-06-26', '2017-06-27', '2017-06-28', '2017-06-29',\n",
       "               '2017-06-30', '2017-07-01', '2017-07-02', '2017-07-03',\n",
       "               '2017-07-04', '2017-07-05', '2017-07-06', '2017-07-07',\n",
       "               '2017-07-08', '2017-07-09', '2017-07-10', '2017-07-11',\n",
       "               '2017-07-12', '2017-07-13', '2017-07-14', '2017-07-15',\n",
       "               '2017-07-16', '2017-07-17', '2017-07-18', '2017-07-19',\n",
       "               '2017-07-20', '2017-07-21', '2017-07-22', '2017-07-23',\n",
       "               '2017-07-24', '2017-07-25', '2017-07-26', '2017-07-27',\n",
       "               '2017-07-28', '2017-07-29', '2017-07-30', '2017-07-31',\n",
       "               '2017-08-01'],\n",
       "              dtype='datetime64[ns]', name='date', freq=None)"
      ]
     },
     "execution_count": 59,
     "metadata": {},
     "output_type": "execute_result"
    }
   ],
   "source": [
    "Valid.index"
   ]
  },
  {
   "cell_type": "code",
   "execution_count": 60,
   "metadata": {},
   "outputs": [
    {
     "data": {
      "text/plain": [
       "revenue    float64\n",
       "dtype: object"
      ]
     },
     "execution_count": 60,
     "metadata": {},
     "output_type": "execute_result"
    }
   ],
   "source": [
    "Train.dtypes"
   ]
  },
  {
   "cell_type": "code",
   "execution_count": 61,
   "metadata": {},
   "outputs": [
    {
     "data": {
      "image/png": "[encoded data removed]",
      "text/plain": [
       "<matplotlib.figure.Figure at 0x7f70f2135278>"
      ]
     },
     "metadata": {},
     "output_type": "display_data"
    }
   ],
   "source": [
    "# Plot transaction revenue per visit vs. date\n",
    "plt.figure(figsize=(15,8))\n",
    "plt.plot(Train.index, Train['revenue'], Valid.index, Valid['revenue'])\n",
    "plt.xlabel(\"Date\")\n",
    "plt.ylabel(\"Transaction Revenue per Visit\")\n",
    "plt.legend(('Train', 'Valid'), loc='best')\n",
    "plt.show()"
   ]
  },
  {
   "cell_type": "markdown",
   "metadata": {},
   "source": [
    "Here, the blue part represents the training data and the orange part represents the validation data. We will predict the transaction revenue per visit for the validation part and then visualize how accurate our predictions are. Finally we will make predictions for the test dataset for those who will purchase products in GStore."
   ]
  },
  {
   "cell_type": "markdown",
   "metadata": {},
   "source": [
    "### 3. Autoregressive Moving Average ARMA(a,m) Model"
   ]
  },
  {
   "cell_type": "code",
   "execution_count": 62,
   "metadata": {},
   "outputs": [],
   "source": [
    "from statsmodels.tsa.arima_model import ARMA"
   ]
  },
  {
   "cell_type": "code",
   "execution_count": 63,
   "metadata": {},
   "outputs": [],
   "source": [
    "# Rescale the values in revenue column\n",
    "Train['revenue'] *= 10**(-8)"
   ]
  },
  {
   "cell_type": "code",
   "execution_count": 64,
   "metadata": {},
   "outputs": [],
   "source": [
    "Valid['revenue'] *= 10**(-8)"
   ]
  },
  {
   "cell_type": "code",
   "execution_count": 65,
   "metadata": {},
   "outputs": [
    {
     "data": {
      "text/html": [
       "<div>\n",
       "<style scoped>\n",
       "    .dataframe tbody tr th:only-of-type {\n",
       "        vertical-align: middle;\n",
       "    }\n",
       "\n",
       "    .dataframe tbody tr th {\n",
       "        vertical-align: top;\n",
       "    }\n",
       "\n",
       "    .dataframe thead th {\n",
       "        text-align: right;\n",
       "    }\n",
       "</style>\n",
       "<table border=\"1\" class=\"dataframe\">\n",
       "  <thead>\n",
       "    <tr style=\"text-align: right;\">\n",
       "      <th></th>\n",
       "      <th>revenue</th>\n",
       "    </tr>\n",
       "    <tr>\n",
       "      <th>date</th>\n",
       "      <th></th>\n",
       "    </tr>\n",
       "  </thead>\n",
       "  <tbody>\n",
       "    <tr>\n",
       "      <th>2016-08-04</th>\n",
       "      <td>0.695818</td>\n",
       "    </tr>\n",
       "    <tr>\n",
       "      <th>2016-08-05</th>\n",
       "      <td>1.364454</td>\n",
       "    </tr>\n",
       "    <tr>\n",
       "      <th>2016-08-06</th>\n",
       "      <td>1.891040</td>\n",
       "    </tr>\n",
       "    <tr>\n",
       "      <th>2016-08-07</th>\n",
       "      <td>1.506706</td>\n",
       "    </tr>\n",
       "    <tr>\n",
       "      <th>2016-08-08</th>\n",
       "      <td>1.551121</td>\n",
       "    </tr>\n",
       "  </tbody>\n",
       "</table>\n",
       "</div>"
      ],
      "text/plain": [
       "             revenue\n",
       "date                \n",
       "2016-08-04  0.695818\n",
       "2016-08-05  1.364454\n",
       "2016-08-06  1.891040\n",
       "2016-08-07  1.506706\n",
       "2016-08-08  1.551121"
      ]
     },
     "execution_count": 65,
     "metadata": {},
     "output_type": "execute_result"
    }
   ],
   "source": [
    "Train.head()"
   ]
  },
  {
   "cell_type": "code",
   "execution_count": 66,
   "metadata": {},
   "outputs": [],
   "source": [
    "# Convert date to timestamps\n",
    "Train.index = pd.to_datetime(Train.index)"
   ]
  },
  {
   "cell_type": "code",
   "execution_count": 67,
   "metadata": {},
   "outputs": [],
   "source": [
    "Valid.index = pd.to_datetime(Valid.index)"
   ]
  },
  {
   "cell_type": "code",
   "execution_count": 68,
   "metadata": {},
   "outputs": [
    {
     "name": "stdout",
     "output_type": "stream",
     "text": [
      "                              ARMA Model Results                              \n",
      "==============================================================================\n",
      "Dep. Variable:                revenue   No. Observations:                  270\n",
      "Model:                     ARMA(1, 1)   Log Likelihood                -320.386\n",
      "Method:                       css-mle   S.D. of innovations              0.793\n",
      "Date:                Fri, 30 Nov 2018   AIC                            648.772\n",
      "Time:                        18:23:40   BIC                            663.166\n",
      "Sample:                    08-04-2016   HQIC                           654.552\n",
      "                         - 04-30-2017                                         \n",
      "=================================================================================\n",
      "                    coef    std err          z      P>|z|      [0.025      0.975]\n",
      "---------------------------------------------------------------------------------\n",
      "const             1.3051      0.053     24.664      0.000       1.201       1.409\n",
      "ar.L1.revenue     0.0822      0.361      0.228      0.820      -0.625       0.790\n",
      "ma.L1.revenue     0.0071      0.358      0.020      0.984      -0.695       0.710\n",
      "                                    Roots                                    \n",
      "=============================================================================\n",
      "                 Real           Imaginary           Modulus         Frequency\n",
      "-----------------------------------------------------------------------------\n",
      "AR.1           12.1714           +0.0000j           12.1714            0.0000\n",
      "MA.1         -140.5501           +0.0000j          140.5501            0.5000\n",
      "-----------------------------------------------------------------------------\n"
     ]
    }
   ],
   "source": [
    "# fit model\n",
    "model = ARMA(Train, order=(1,1))\n",
    "model_fit = model.fit(disp=0)\n",
    "print(model_fit.summary())"
   ]
  },
  {
   "cell_type": "code",
   "execution_count": 69,
   "metadata": {},
   "outputs": [
    {
     "data": {
      "image/png": "[encoded data removed]",
      "text/plain": [
       "<matplotlib.figure.Figure at 0x7f71034c3278>"
      ]
     },
     "metadata": {},
     "output_type": "display_data"
    },
    {
     "data": {
      "image/png": "[encoded data removed]",
      "text/plain": [
       "<matplotlib.figure.Figure at 0x7f70f2123e10>"
      ]
     },
     "metadata": {},
     "output_type": "display_data"
    },
    {
     "name": "stdout",
     "output_type": "stream",
     "text": [
      "                0\n",
      "count  270.000000\n",
      "mean     0.000200\n",
      "std      0.794156\n",
      "min     -1.458306\n",
      "25%     -0.494101\n",
      "50%     -0.122179\n",
      "75%      0.286571\n",
      "max      7.203895\n"
     ]
    }
   ],
   "source": [
    "# plot residual errors\n",
    "residuals = pd.DataFrame(model_fit.resid)\n",
    "residuals.plot()\n",
    "plt.title('ARMA Fit Residual Error Line Plot')\n",
    "plt.show()\n",
    "residuals.plot(kind='kde')\n",
    "plt.title('ARMA Fit Residual Error Density Plot')\n",
    "plt.show()\n",
    "print(residuals.describe())"
   ]
  },
  {
   "cell_type": "markdown",
   "metadata": {},
   "source": [
    "The distribution of the residual errors is displayed at the bottom. The results show that the mean in the residuals is close to zero so there is no bias in the prediction. "
   ]
  },
  {
   "cell_type": "code",
   "execution_count": null,
   "metadata": {},
   "outputs": [],
   "source": []
  },
  {
   "cell_type": "markdown",
   "metadata": {},
   "source": [
    "### Evaluation\n",
    "\n",
    "Now that the model has been fitted to the training data, we are ready to forecast into the future."
   ]
  },
  {
   "cell_type": "code",
   "execution_count": 70,
   "metadata": {},
   "outputs": [
    {
     "data": {
      "text/plain": [
       "DatetimeIndex(['2017-05-01', '2017-05-02', '2017-05-03', '2017-05-04',\n",
       "               '2017-05-05', '2017-05-06', '2017-05-07', '2017-05-08',\n",
       "               '2017-05-09', '2017-05-10', '2017-05-11', '2017-05-12',\n",
       "               '2017-05-13', '2017-05-14', '2017-05-15', '2017-05-16',\n",
       "               '2017-05-17', '2017-05-18', '2017-05-19', '2017-05-20',\n",
       "               '2017-05-21', '2017-05-22', '2017-05-23', '2017-05-24',\n",
       "               '2017-05-25', '2017-05-26', '2017-05-27', '2017-05-28',\n",
       "               '2017-05-29', '2017-05-30', '2017-05-31', '2017-06-01',\n",
       "               '2017-06-02', '2017-06-03', '2017-06-04', '2017-06-05',\n",
       "               '2017-06-06', '2017-06-07', '2017-06-08', '2017-06-09',\n",
       "               '2017-06-10', '2017-06-11', '2017-06-12', '2017-06-13',\n",
       "               '2017-06-14', '2017-06-15', '2017-06-16', '2017-06-17',\n",
       "               '2017-06-18', '2017-06-19', '2017-06-20', '2017-06-21',\n",
       "               '2017-06-22', '2017-06-23', '2017-06-24', '2017-06-25',\n",
       "               '2017-06-26', '2017-06-27', '2017-06-28', '2017-06-29',\n",
       "               '2017-06-30', '2017-07-01', '2017-07-02', '2017-07-03',\n",
       "               '2017-07-04', '2017-07-05', '2017-07-06', '2017-07-07',\n",
       "               '2017-07-08', '2017-07-09', '2017-07-10', '2017-07-11',\n",
       "               '2017-07-12', '2017-07-13', '2017-07-14', '2017-07-15',\n",
       "               '2017-07-16', '2017-07-17', '2017-07-18', '2017-07-19',\n",
       "               '2017-07-20', '2017-07-21', '2017-07-22', '2017-07-23',\n",
       "               '2017-07-24', '2017-07-25', '2017-07-26', '2017-07-27',\n",
       "               '2017-07-28', '2017-07-29', '2017-07-30', '2017-07-31',\n",
       "               '2017-08-01'],\n",
       "              dtype='datetime64[ns]', name='date', freq=None)"
      ]
     },
     "execution_count": 70,
     "metadata": {},
     "output_type": "execute_result"
    }
   ],
   "source": [
    "Valid.index"
   ]
  },
  {
   "cell_type": "code",
   "execution_count": 71,
   "metadata": {
    "scrolled": true
   },
   "outputs": [
    {
     "data": {
      "text/plain": [
       "array([ 1.27361711,  1.30252853,  1.30490389,  1.30509905,  1.30511509,\n",
       "        1.3051164 ,  1.30511651,  1.30511652,  1.30511652,  1.30511652,\n",
       "        1.30511652,  1.30511652,  1.30511652,  1.30511652,  1.30511652,\n",
       "        1.30511652,  1.30511652,  1.30511652,  1.30511652,  1.30511652,\n",
       "        1.30511652,  1.30511652,  1.30511652,  1.30511652,  1.30511652,\n",
       "        1.30511652,  1.30511652,  1.30511652,  1.30511652,  1.30511652,\n",
       "        1.30511652,  1.30511652,  1.30511652,  1.30511652,  1.30511652,\n",
       "        1.30511652,  1.30511652,  1.30511652,  1.30511652,  1.30511652,\n",
       "        1.30511652,  1.30511652,  1.30511652,  1.30511652,  1.30511652,\n",
       "        1.30511652,  1.30511652,  1.30511652,  1.30511652,  1.30511652,\n",
       "        1.30511652,  1.30511652,  1.30511652,  1.30511652,  1.30511652,\n",
       "        1.30511652,  1.30511652,  1.30511652,  1.30511652,  1.30511652,\n",
       "        1.30511652,  1.30511652,  1.30511652,  1.30511652,  1.30511652,\n",
       "        1.30511652,  1.30511652,  1.30511652,  1.30511652,  1.30511652,\n",
       "        1.30511652,  1.30511652,  1.30511652,  1.30511652,  1.30511652,\n",
       "        1.30511652,  1.30511652,  1.30511652,  1.30511652,  1.30511652,\n",
       "        1.30511652,  1.30511652,  1.30511652,  1.30511652,  1.30511652,\n",
       "        1.30511652,  1.30511652,  1.30511652,  1.30511652,  1.30511652,\n",
       "        1.30511652,  1.30511652,  1.30511652,  1.30511652,  1.30511652,\n",
       "        1.30511652,  1.30511652,  1.30511652,  1.30511652,  1.30511652])"
      ]
     },
     "execution_count": 71,
     "metadata": {},
     "output_type": "execute_result"
    }
   ],
   "source": [
    "# prediction for validation set\n",
    "model_fit.forecast(steps=100)[0]"
   ]
  },
  {
   "cell_type": "markdown",
   "metadata": {},
   "source": [
    "**After 6 steps, the predicted values become constant. There must be something wrong about application. Need to figure out how to do prediction correctly!**"
   ]
  },
  {
   "cell_type": "code",
   "execution_count": null,
   "metadata": {},
   "outputs": [],
   "source": []
  }
 ],
 "metadata": {
  "kernelspec": {
   "display_name": "Python 3",
   "language": "python",
   "name": "python3"
  },
  "language_info": {
   "codemirror_mode": {
    "name": "ipython",
    "version": 3
   },
   "file_extension": ".py",
   "mimetype": "text/x-python",
   "name": "python",
   "nbconvert_exporter": "python",
   "pygments_lexer": "ipython3",
   "version": "3.6.4"
  }
 },
 "nbformat": 4,
 "nbformat_minor": 1
}
